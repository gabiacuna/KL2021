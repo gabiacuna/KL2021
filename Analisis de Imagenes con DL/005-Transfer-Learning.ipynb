{
  "nbformat": 4,
  "nbformat_minor": 5,
  "metadata": {
    "kernelspec": {
      "display_name": "Python 3",
      "language": "python",
      "name": "python3"
    },
    "language_info": {
      "codemirror_mode": {
        "name": "ipython",
        "version": 3
      },
      "file_extension": ".py",
      "mimetype": "text/x-python",
      "name": "python",
      "nbconvert_exporter": "python",
      "pygments_lexer": "ipython3",
      "version": "3.7.9"
    },
    "colab": {
      "name": "005-Transfer-Learning.ipynb",
      "provenance": [],
      "include_colab_link": true
    },
    "accelerator": "GPU",
    "widgets": {
      "application/vnd.jupyter.widget-state+json": {
        "6f390a67f581468087c93a6a1fd49770": {
          "model_module": "@jupyter-widgets/controls",
          "model_name": "HBoxModel",
          "state": {
            "_view_name": "HBoxView",
            "_dom_classes": [],
            "_model_name": "HBoxModel",
            "_view_module": "@jupyter-widgets/controls",
            "_model_module_version": "1.5.0",
            "_view_count": null,
            "_view_module_version": "1.5.0",
            "box_style": "",
            "layout": "IPY_MODEL_a94a81e4096549f79524b88a20dcfdba",
            "_model_module": "@jupyter-widgets/controls",
            "children": [
              "IPY_MODEL_5e403cad0ea64b0f81481d51401b5b0a",
              "IPY_MODEL_778044eb314c4023868558e2daafdcac"
            ]
          }
        },
        "a94a81e4096549f79524b88a20dcfdba": {
          "model_module": "@jupyter-widgets/base",
          "model_name": "LayoutModel",
          "state": {
            "_view_name": "LayoutView",
            "grid_template_rows": null,
            "right": null,
            "justify_content": null,
            "_view_module": "@jupyter-widgets/base",
            "overflow": null,
            "_model_module_version": "1.2.0",
            "_view_count": null,
            "flex_flow": null,
            "width": null,
            "min_width": null,
            "border": null,
            "align_items": null,
            "bottom": null,
            "_model_module": "@jupyter-widgets/base",
            "top": null,
            "grid_column": null,
            "overflow_y": null,
            "overflow_x": null,
            "grid_auto_flow": null,
            "grid_area": null,
            "grid_template_columns": null,
            "flex": null,
            "_model_name": "LayoutModel",
            "justify_items": null,
            "grid_row": null,
            "max_height": null,
            "align_content": null,
            "visibility": null,
            "align_self": null,
            "height": null,
            "min_height": null,
            "padding": null,
            "grid_auto_rows": null,
            "grid_gap": null,
            "max_width": null,
            "order": null,
            "_view_module_version": "1.2.0",
            "grid_template_areas": null,
            "object_position": null,
            "object_fit": null,
            "grid_auto_columns": null,
            "margin": null,
            "display": null,
            "left": null
          }
        },
        "5e403cad0ea64b0f81481d51401b5b0a": {
          "model_module": "@jupyter-widgets/controls",
          "model_name": "FloatProgressModel",
          "state": {
            "_view_name": "ProgressView",
            "style": "IPY_MODEL_d787789ae51d4713be7de7455d7b9b8f",
            "_dom_classes": [],
            "description": "100%",
            "_model_name": "FloatProgressModel",
            "bar_style": "success",
            "max": 46830571,
            "_view_module": "@jupyter-widgets/controls",
            "_model_module_version": "1.5.0",
            "value": 46830571,
            "_view_count": null,
            "_view_module_version": "1.5.0",
            "orientation": "horizontal",
            "min": 0,
            "description_tooltip": null,
            "_model_module": "@jupyter-widgets/controls",
            "layout": "IPY_MODEL_4e65d63ea3a042e999db1c15d9394eb6"
          }
        },
        "778044eb314c4023868558e2daafdcac": {
          "model_module": "@jupyter-widgets/controls",
          "model_name": "HTMLModel",
          "state": {
            "_view_name": "HTMLView",
            "style": "IPY_MODEL_30d651efe1d847c5af3c5bdaff4c67d8",
            "_dom_classes": [],
            "description": "",
            "_model_name": "HTMLModel",
            "placeholder": "​",
            "_view_module": "@jupyter-widgets/controls",
            "_model_module_version": "1.5.0",
            "value": " 44.7M/44.7M [12:44&lt;00:00, 61.2kB/s]",
            "_view_count": null,
            "_view_module_version": "1.5.0",
            "description_tooltip": null,
            "_model_module": "@jupyter-widgets/controls",
            "layout": "IPY_MODEL_ae585e96ae5240c6a146b0f55c82bbdc"
          }
        },
        "d787789ae51d4713be7de7455d7b9b8f": {
          "model_module": "@jupyter-widgets/controls",
          "model_name": "ProgressStyleModel",
          "state": {
            "_view_name": "StyleView",
            "_model_name": "ProgressStyleModel",
            "description_width": "initial",
            "_view_module": "@jupyter-widgets/base",
            "_model_module_version": "1.5.0",
            "_view_count": null,
            "_view_module_version": "1.2.0",
            "bar_color": null,
            "_model_module": "@jupyter-widgets/controls"
          }
        },
        "4e65d63ea3a042e999db1c15d9394eb6": {
          "model_module": "@jupyter-widgets/base",
          "model_name": "LayoutModel",
          "state": {
            "_view_name": "LayoutView",
            "grid_template_rows": null,
            "right": null,
            "justify_content": null,
            "_view_module": "@jupyter-widgets/base",
            "overflow": null,
            "_model_module_version": "1.2.0",
            "_view_count": null,
            "flex_flow": null,
            "width": null,
            "min_width": null,
            "border": null,
            "align_items": null,
            "bottom": null,
            "_model_module": "@jupyter-widgets/base",
            "top": null,
            "grid_column": null,
            "overflow_y": null,
            "overflow_x": null,
            "grid_auto_flow": null,
            "grid_area": null,
            "grid_template_columns": null,
            "flex": null,
            "_model_name": "LayoutModel",
            "justify_items": null,
            "grid_row": null,
            "max_height": null,
            "align_content": null,
            "visibility": null,
            "align_self": null,
            "height": null,
            "min_height": null,
            "padding": null,
            "grid_auto_rows": null,
            "grid_gap": null,
            "max_width": null,
            "order": null,
            "_view_module_version": "1.2.0",
            "grid_template_areas": null,
            "object_position": null,
            "object_fit": null,
            "grid_auto_columns": null,
            "margin": null,
            "display": null,
            "left": null
          }
        },
        "30d651efe1d847c5af3c5bdaff4c67d8": {
          "model_module": "@jupyter-widgets/controls",
          "model_name": "DescriptionStyleModel",
          "state": {
            "_view_name": "StyleView",
            "_model_name": "DescriptionStyleModel",
            "description_width": "",
            "_view_module": "@jupyter-widgets/base",
            "_model_module_version": "1.5.0",
            "_view_count": null,
            "_view_module_version": "1.2.0",
            "_model_module": "@jupyter-widgets/controls"
          }
        },
        "ae585e96ae5240c6a146b0f55c82bbdc": {
          "model_module": "@jupyter-widgets/base",
          "model_name": "LayoutModel",
          "state": {
            "_view_name": "LayoutView",
            "grid_template_rows": null,
            "right": null,
            "justify_content": null,
            "_view_module": "@jupyter-widgets/base",
            "overflow": null,
            "_model_module_version": "1.2.0",
            "_view_count": null,
            "flex_flow": null,
            "width": null,
            "min_width": null,
            "border": null,
            "align_items": null,
            "bottom": null,
            "_model_module": "@jupyter-widgets/base",
            "top": null,
            "grid_column": null,
            "overflow_y": null,
            "overflow_x": null,
            "grid_auto_flow": null,
            "grid_area": null,
            "grid_template_columns": null,
            "flex": null,
            "_model_name": "LayoutModel",
            "justify_items": null,
            "grid_row": null,
            "max_height": null,
            "align_content": null,
            "visibility": null,
            "align_self": null,
            "height": null,
            "min_height": null,
            "padding": null,
            "grid_auto_rows": null,
            "grid_gap": null,
            "max_width": null,
            "order": null,
            "_view_module_version": "1.2.0",
            "grid_template_areas": null,
            "object_position": null,
            "object_fit": null,
            "grid_auto_columns": null,
            "margin": null,
            "display": null,
            "left": null
          }
        }
      }
    }
  },
  "cells": [
    {
      "cell_type": "markdown",
      "metadata": {
        "id": "view-in-github",
        "colab_type": "text"
      },
      "source": [
        "<a href=\"https://colab.research.google.com/github/gabiacuna/KL2021/blob/main/Analisis%20de%20Imagenes%20con%20DL/005-Transfer-Learning.ipynb\" target=\"_parent\"><img src=\"https://colab.research.google.com/assets/colab-badge.svg\" alt=\"Open In Colab\"/></a>"
      ]
    },
    {
      "cell_type": "markdown",
      "metadata": {
        "id": "5206f4e6-fa41-4a23-b9b6-7172cd4d0b60"
      },
      "source": [
        "# Transfer learning en Pytorch\n",
        "\n",
        "El concepto de transfer learning es un método donde el modelo que ya fue entrenado para una\n",
        "aplicación es utilizado para otra aplicación. Por ejemplo, uno puede utilizar un modelo ya\n",
        "*pre-entrenado* como punto de partida para desarrollar un modelo para una segunda aplicación.\n",
        "\n",
        "En computer visión, esto es algo común que se utiliza y que ha demostrado una gran ventaja.\n",
        "\n",
        "## Transferir aprendizaje con datos de imágenes\n",
        "\n",
        "Es común realizar el aprendizaje por transferencia con problemas de modelado predictivo que utilizan datos de imagen como entrada.\n",
        "\n",
        "Esta puede ser una tarea de predicción que toma fotografías o datos de video como entrada.\n",
        "\n",
        "Para este tipo de problemas, es común utilizar un modelo de aprendizaje profundo previamente entrenado para una tarea de clasificación de\n",
        "imágenes grande y desafiante, como la competencia de clasificación de fotografías de la clase [ImageNet](https://www.image-net.org/) 1000.\n",
        "\n",
        "<img src=\"https://cv.gluon.ai/_images/imagenet_banner.jpeg\" alt=\"neural_network\" style=\"width: 700px;\" align=\"center\"/>\n",
        "\n",
        "Dentro de \"transfer learning\", se destacan varios modelos. Por ejemplo:\n",
        "- Modelo Oxford VGG\n",
        "- Modelo Microsoft ResNet\n",
        "\n",
        "Una de las razones por las que el \"transfer learning\" es llamativo es porque se puede utilizar\n",
        "cuando uno tiene un **número pequeño o limitado de data**. \n",
        "\n",
        "Si quieren ver más sobre otros modelos que se han hecho públicos y ya están entrenados, se pueden dirigir a [Model Zoo](https://github.com/BVLC/caffe/wiki/Model-Zoo) en Github.\n",
        "\n",
        "### Cómo funciona el transfer learning\n",
        "\n",
        "Uno puede pensar sobre \"transfer learning' como un problema de optimización, en donde se trata de\n",
        "optimizar las **últimas capas** del modelo y reentrenarlas para la aplicación de uno.\n",
        "\n",
        "1. Uno entrena un modelo con una gran cantidad de data.\n",
        "    - Ya tenemos las pesas, y es entrenado con cosas muy variadas.\n",
        "2. Ya que el modelo es entrenado, éste se puede utilizar para crear una aplicación bien general que se puede aplicar a varios problemas.\n",
        "3. Si uno quiere utilizar este modelo para algo especifico, uno entrena solamente la parte final de la red con la data que no tiene.\n",
        "    - Las pesas de ciertas capas no se tocan. \n",
        "\n",
        "La siguiente imagen representa el concept de \"transfer learning\" a más detalle:\n",
        "\n",
        "<img src=\"https://i0.wp.com/neptune.ai/wp-content/uploads/Transfer-learning-idea.jpg?resize=768%2C432&ssl=1\" alt=\"neural_network\" style=\"width: 700px;\" align=\"center\"/>\n",
        "\n",
        "Más específico:\n",
        "\n",
        "<img src=\"https://i0.wp.com/neptune.ai/wp-content/uploads/Transfer-learning-steps.png?w=921&ssl=1\" alt=\"neural_network\" style=\"width: 700px;\" align=\"center\"/>\n",
        "<img src=\"https://i0.wp.com/neptune.ai/wp-content/uploads/Transfer-learning-steps-2.png?w=850&ssl=1\" alt=\"neural_network\" style=\"width: 700px;\" align=\"center\"/>\n",
        "\n",
        "Se restringe el modelo que ya tenemos, y se reentrena con nuestra data\n",
        "[resumen k encontre en google](https://stanford.edu/~shervine/teaching/cs-230/cheatsheet-deep-learning-tips-and-tricks)\n",
        "\n",
        "Reentrenamos solo la ultima capa, incluso se cambian las posibles salidas.\n",
        "\n",
        "## Ejemplo de Transfer Learning\n",
        "\n",
        "En el siguiente tutorial, trataremos de clasificar imágenes de *abejas* y *hormigas*. Utilizaremos la data de 120\n",
        "imágenes por cada clase para entrenar el modelo, y luego validaremos los resultados con 75 imágenes de *abejas* y\n",
        "*hormigas*. El concepto de este tutorial fue adquirido de acá: [Link](https://pytorch.org/tutorials/beginner/transfer_learning_tutorial.html)\n",
        "\n",
        "### Descargando la data\n",
        "\n",
        "Lo primero que tendremos que hacer es descargar la data necesaria:"
      ],
      "id": "5206f4e6-fa41-4a23-b9b6-7172cd4d0b60"
    },
    {
      "cell_type": "code",
      "metadata": {
        "id": "c5011a4d-3715-4f96-ad37-72a5c01e71ee"
      },
      "source": [
        "from __future__ import print_function, division\n",
        "\n",
        "import torch\n",
        "import torch.nn as nn\n",
        "import torch.optim as optim\n",
        "from torch.optim import lr_scheduler\n",
        "import numpy as np\n",
        "import torchvision\n",
        "from torchvision import datasets, models, transforms\n",
        "import matplotlib.pyplot as plt\n",
        "import time\n",
        "import os\n",
        "import copy\n",
        "from pathlib import Path"
      ],
      "id": "c5011a4d-3715-4f96-ad37-72a5c01e71ee",
      "execution_count": 1,
      "outputs": []
    },
    {
      "cell_type": "code",
      "metadata": {
        "id": "010caf41-5376-4123-80d3-b772dcfcb407",
        "colab": {
          "base_uri": "https://localhost:8080/"
        },
        "outputId": "710b7d58-2bd4-4395-b804-3f345bf1b0a3"
      },
      "source": [
        "# Data para transfer learning\n",
        "!wget https://download.pytorch.org/tutorial/hymenoptera_data.zip .\n",
        "    \n",
        "# Creando directorio donde se bajará la data:\n",
        "transfer_learning_directorio = Path(\".\").joinpath(\"transfer_learning_data\").resolve()\n",
        "transfer_learning_directorio.mkdir(exist_ok=True, parents=True)\n",
        "# extract it in the current folder\n",
        "!unzip hymenoptera_data.zip -d ./transfer_learning_data"
      ],
      "id": "010caf41-5376-4123-80d3-b772dcfcb407",
      "execution_count": 2,
      "outputs": [
        {
          "output_type": "stream",
          "text": [
            "--2021-07-02 23:11:53--  https://download.pytorch.org/tutorial/hymenoptera_data.zip\n",
            "Resolving download.pytorch.org (download.pytorch.org)... 99.84.206.26, 99.84.206.82, 99.84.206.63, ...\n",
            "Connecting to download.pytorch.org (download.pytorch.org)|99.84.206.26|:443... connected.\n",
            "HTTP request sent, awaiting response... 200 OK\n",
            "Length: 47286322 (45M) [application/zip]\n",
            "Saving to: ‘hymenoptera_data.zip’\n",
            "\n",
            "hymenoptera_data.zi 100%[===================>]  45.10M   220MB/s    in 0.2s    \n",
            "\n",
            "2021-07-02 23:11:53 (220 MB/s) - ‘hymenoptera_data.zip’ saved [47286322/47286322]\n",
            "\n",
            "--2021-07-02 23:11:53--  http://./\n",
            "Resolving . (.)... failed: No address associated with hostname.\n",
            "wget: unable to resolve host address ‘.’\n",
            "FINISHED --2021-07-02 23:11:53--\n",
            "Total wall clock time: 0.3s\n",
            "Downloaded: 1 files, 45M in 0.2s (220 MB/s)\n",
            "Archive:  hymenoptera_data.zip\n",
            "   creating: ./transfer_learning_data/hymenoptera_data/\n",
            "   creating: ./transfer_learning_data/hymenoptera_data/train/\n",
            "   creating: ./transfer_learning_data/hymenoptera_data/train/ants/\n",
            "  inflating: ./transfer_learning_data/hymenoptera_data/train/ants/0013035.jpg  \n",
            "  inflating: ./transfer_learning_data/hymenoptera_data/train/ants/1030023514_aad5c608f9.jpg  \n",
            "  inflating: ./transfer_learning_data/hymenoptera_data/train/ants/1095476100_3906d8afde.jpg  \n",
            "  inflating: ./transfer_learning_data/hymenoptera_data/train/ants/1099452230_d1949d3250.jpg  \n",
            "  inflating: ./transfer_learning_data/hymenoptera_data/train/ants/116570827_e9c126745d.jpg  \n",
            "  inflating: ./transfer_learning_data/hymenoptera_data/train/ants/1225872729_6f0856588f.jpg  \n",
            "  inflating: ./transfer_learning_data/hymenoptera_data/train/ants/1262877379_64fcada201.jpg  \n",
            "  inflating: ./transfer_learning_data/hymenoptera_data/train/ants/1269756697_0bce92cdab.jpg  \n",
            "  inflating: ./transfer_learning_data/hymenoptera_data/train/ants/1286984635_5119e80de1.jpg  \n",
            "  inflating: ./transfer_learning_data/hymenoptera_data/train/ants/132478121_2a430adea2.jpg  \n",
            "  inflating: ./transfer_learning_data/hymenoptera_data/train/ants/1360291657_dc248c5eea.jpg  \n",
            "  inflating: ./transfer_learning_data/hymenoptera_data/train/ants/1368913450_e146e2fb6d.jpg  \n",
            "  inflating: ./transfer_learning_data/hymenoptera_data/train/ants/1473187633_63ccaacea6.jpg  \n",
            "  inflating: ./transfer_learning_data/hymenoptera_data/train/ants/148715752_302c84f5a4.jpg  \n",
            "  inflating: ./transfer_learning_data/hymenoptera_data/train/ants/1489674356_09d48dde0a.jpg  \n",
            "  inflating: ./transfer_learning_data/hymenoptera_data/train/ants/149244013_c529578289.jpg  \n",
            "  inflating: ./transfer_learning_data/hymenoptera_data/train/ants/150801003_3390b73135.jpg  \n",
            "  inflating: ./transfer_learning_data/hymenoptera_data/train/ants/150801171_cd86f17ed8.jpg  \n",
            "  inflating: ./transfer_learning_data/hymenoptera_data/train/ants/154124431_65460430f2.jpg  \n",
            "  inflating: ./transfer_learning_data/hymenoptera_data/train/ants/162603798_40b51f1654.jpg  \n",
            "  inflating: ./transfer_learning_data/hymenoptera_data/train/ants/1660097129_384bf54490.jpg  \n",
            "  inflating: ./transfer_learning_data/hymenoptera_data/train/ants/167890289_dd5ba923f3.jpg  \n",
            "  inflating: ./transfer_learning_data/hymenoptera_data/train/ants/1693954099_46d4c20605.jpg  \n",
            "  inflating: ./transfer_learning_data/hymenoptera_data/train/ants/175998972.jpg  \n",
            "  inflating: ./transfer_learning_data/hymenoptera_data/train/ants/178538489_bec7649292.jpg  \n",
            "  inflating: ./transfer_learning_data/hymenoptera_data/train/ants/1804095607_0341701e1c.jpg  \n",
            "  inflating: ./transfer_learning_data/hymenoptera_data/train/ants/1808777855_2a895621d7.jpg  \n",
            "  inflating: ./transfer_learning_data/hymenoptera_data/train/ants/188552436_605cc9b36b.jpg  \n",
            "  inflating: ./transfer_learning_data/hymenoptera_data/train/ants/1917341202_d00a7f9af5.jpg  \n",
            "  inflating: ./transfer_learning_data/hymenoptera_data/train/ants/1924473702_daa9aacdbe.jpg  \n",
            "  inflating: ./transfer_learning_data/hymenoptera_data/train/ants/196057951_63bf063b92.jpg  \n",
            "  inflating: ./transfer_learning_data/hymenoptera_data/train/ants/196757565_326437f5fe.jpg  \n",
            "  inflating: ./transfer_learning_data/hymenoptera_data/train/ants/201558278_fe4caecc76.jpg  \n",
            "  inflating: ./transfer_learning_data/hymenoptera_data/train/ants/201790779_527f4c0168.jpg  \n",
            "  inflating: ./transfer_learning_data/hymenoptera_data/train/ants/2019439677_2db655d361.jpg  \n",
            "  inflating: ./transfer_learning_data/hymenoptera_data/train/ants/207947948_3ab29d7207.jpg  \n",
            "  inflating: ./transfer_learning_data/hymenoptera_data/train/ants/20935278_9190345f6b.jpg  \n",
            "  inflating: ./transfer_learning_data/hymenoptera_data/train/ants/224655713_3956f7d39a.jpg  \n",
            "  inflating: ./transfer_learning_data/hymenoptera_data/train/ants/2265824718_2c96f485da.jpg  \n",
            "  inflating: ./transfer_learning_data/hymenoptera_data/train/ants/2265825502_fff99cfd2d.jpg  \n",
            "  inflating: ./transfer_learning_data/hymenoptera_data/train/ants/226951206_d6bf946504.jpg  \n",
            "  inflating: ./transfer_learning_data/hymenoptera_data/train/ants/2278278459_6b99605e50.jpg  \n",
            "  inflating: ./transfer_learning_data/hymenoptera_data/train/ants/2288450226_a6e96e8fdf.jpg  \n",
            "  inflating: ./transfer_learning_data/hymenoptera_data/train/ants/2288481644_83ff7e4572.jpg  \n",
            "  inflating: ./transfer_learning_data/hymenoptera_data/train/ants/2292213964_ca51ce4bef.jpg  \n",
            "  inflating: ./transfer_learning_data/hymenoptera_data/train/ants/24335309_c5ea483bb8.jpg  \n",
            "  inflating: ./transfer_learning_data/hymenoptera_data/train/ants/245647475_9523dfd13e.jpg  \n",
            "  inflating: ./transfer_learning_data/hymenoptera_data/train/ants/255434217_1b2b3fe0a4.jpg  \n",
            "  inflating: ./transfer_learning_data/hymenoptera_data/train/ants/258217966_d9d90d18d3.jpg  \n",
            "  inflating: ./transfer_learning_data/hymenoptera_data/train/ants/275429470_b2d7d9290b.jpg  \n",
            "  inflating: ./transfer_learning_data/hymenoptera_data/train/ants/28847243_e79fe052cd.jpg  \n",
            "  inflating: ./transfer_learning_data/hymenoptera_data/train/ants/318052216_84dff3f98a.jpg  \n",
            "  inflating: ./transfer_learning_data/hymenoptera_data/train/ants/334167043_cbd1adaeb9.jpg  \n",
            "  inflating: ./transfer_learning_data/hymenoptera_data/train/ants/339670531_94b75ae47a.jpg  \n",
            "  inflating: ./transfer_learning_data/hymenoptera_data/train/ants/342438950_a3da61deab.jpg  \n",
            "  inflating: ./transfer_learning_data/hymenoptera_data/train/ants/36439863_0bec9f554f.jpg  \n",
            "  inflating: ./transfer_learning_data/hymenoptera_data/train/ants/374435068_7eee412ec4.jpg  \n",
            "  inflating: ./transfer_learning_data/hymenoptera_data/train/ants/382971067_0bfd33afe0.jpg  \n",
            "  inflating: ./transfer_learning_data/hymenoptera_data/train/ants/384191229_5779cf591b.jpg  \n",
            "  inflating: ./transfer_learning_data/hymenoptera_data/train/ants/386190770_672743c9a7.jpg  \n",
            "  inflating: ./transfer_learning_data/hymenoptera_data/train/ants/392382602_1b7bed32fa.jpg  \n",
            "  inflating: ./transfer_learning_data/hymenoptera_data/train/ants/403746349_71384f5b58.jpg  \n",
            "  inflating: ./transfer_learning_data/hymenoptera_data/train/ants/408393566_b5b694119b.jpg  \n",
            "  inflating: ./transfer_learning_data/hymenoptera_data/train/ants/424119020_6d57481dab.jpg  \n",
            "  inflating: ./transfer_learning_data/hymenoptera_data/train/ants/424873399_47658a91fb.jpg  \n",
            "  inflating: ./transfer_learning_data/hymenoptera_data/train/ants/450057712_771b3bfc91.jpg  \n",
            "  inflating: ./transfer_learning_data/hymenoptera_data/train/ants/45472593_bfd624f8dc.jpg  \n",
            "  inflating: ./transfer_learning_data/hymenoptera_data/train/ants/459694881_ac657d3187.jpg  \n",
            "  inflating: ./transfer_learning_data/hymenoptera_data/train/ants/460372577_f2f6a8c9fc.jpg  \n",
            "  inflating: ./transfer_learning_data/hymenoptera_data/train/ants/460874319_0a45ab4d05.jpg  \n",
            "  inflating: ./transfer_learning_data/hymenoptera_data/train/ants/466430434_4000737de9.jpg  \n",
            "  inflating: ./transfer_learning_data/hymenoptera_data/train/ants/470127037_513711fd21.jpg  \n",
            "  inflating: ./transfer_learning_data/hymenoptera_data/train/ants/474806473_ca6caab245.jpg  \n",
            "  inflating: ./transfer_learning_data/hymenoptera_data/train/ants/475961153_b8c13fd405.jpg  \n",
            "  inflating: ./transfer_learning_data/hymenoptera_data/train/ants/484293231_e53cfc0c89.jpg  \n",
            "  inflating: ./transfer_learning_data/hymenoptera_data/train/ants/49375974_e28ba6f17e.jpg  \n",
            "  inflating: ./transfer_learning_data/hymenoptera_data/train/ants/506249802_207cd979b4.jpg  \n",
            "  inflating: ./transfer_learning_data/hymenoptera_data/train/ants/506249836_717b73f540.jpg  \n",
            "  inflating: ./transfer_learning_data/hymenoptera_data/train/ants/512164029_c0a66b8498.jpg  \n",
            "  inflating: ./transfer_learning_data/hymenoptera_data/train/ants/512863248_43c8ce579b.jpg  \n",
            "  inflating: ./transfer_learning_data/hymenoptera_data/train/ants/518773929_734dbc5ff4.jpg  \n",
            "  inflating: ./transfer_learning_data/hymenoptera_data/train/ants/522163566_fec115ca66.jpg  \n",
            "  inflating: ./transfer_learning_data/hymenoptera_data/train/ants/522415432_2218f34bf8.jpg  \n",
            "  inflating: ./transfer_learning_data/hymenoptera_data/train/ants/531979952_bde12b3bc0.jpg  \n",
            "  inflating: ./transfer_learning_data/hymenoptera_data/train/ants/533848102_70a85ad6dd.jpg  \n",
            "  inflating: ./transfer_learning_data/hymenoptera_data/train/ants/535522953_308353a07c.jpg  \n",
            "  inflating: ./transfer_learning_data/hymenoptera_data/train/ants/540889389_48bb588b21.jpg  \n",
            "  inflating: ./transfer_learning_data/hymenoptera_data/train/ants/541630764_dbd285d63c.jpg  \n",
            "  inflating: ./transfer_learning_data/hymenoptera_data/train/ants/543417860_b14237f569.jpg  \n",
            "  inflating: ./transfer_learning_data/hymenoptera_data/train/ants/560966032_988f4d7bc4.jpg  \n",
            "  inflating: ./transfer_learning_data/hymenoptera_data/train/ants/5650366_e22b7e1065.jpg  \n",
            "  inflating: ./transfer_learning_data/hymenoptera_data/train/ants/6240329_72c01e663e.jpg  \n",
            "  inflating: ./transfer_learning_data/hymenoptera_data/train/ants/6240338_93729615ec.jpg  \n",
            "  inflating: ./transfer_learning_data/hymenoptera_data/train/ants/649026570_e58656104b.jpg  \n",
            "  inflating: ./transfer_learning_data/hymenoptera_data/train/ants/662541407_ff8db781e7.jpg  \n",
            "  inflating: ./transfer_learning_data/hymenoptera_data/train/ants/67270775_e9fdf77e9d.jpg  \n",
            "  inflating: ./transfer_learning_data/hymenoptera_data/train/ants/6743948_2b8c096dda.jpg  \n",
            "  inflating: ./transfer_learning_data/hymenoptera_data/train/ants/684133190_35b62c0c1d.jpg  \n",
            "  inflating: ./transfer_learning_data/hymenoptera_data/train/ants/69639610_95e0de17aa.jpg  \n",
            "  inflating: ./transfer_learning_data/hymenoptera_data/train/ants/707895295_009cf23188.jpg  \n",
            "  inflating: ./transfer_learning_data/hymenoptera_data/train/ants/7759525_1363d24e88.jpg  \n",
            "  inflating: ./transfer_learning_data/hymenoptera_data/train/ants/795000156_a9900a4a71.jpg  \n",
            "  inflating: ./transfer_learning_data/hymenoptera_data/train/ants/822537660_caf4ba5514.jpg  \n",
            "  inflating: ./transfer_learning_data/hymenoptera_data/train/ants/82852639_52b7f7f5e3.jpg  \n",
            "  inflating: ./transfer_learning_data/hymenoptera_data/train/ants/841049277_b28e58ad05.jpg  \n",
            "  inflating: ./transfer_learning_data/hymenoptera_data/train/ants/886401651_f878e888cd.jpg  \n",
            "  inflating: ./transfer_learning_data/hymenoptera_data/train/ants/892108839_f1aad4ca46.jpg  \n",
            "  inflating: ./transfer_learning_data/hymenoptera_data/train/ants/938946700_ca1c669085.jpg  \n",
            "  inflating: ./transfer_learning_data/hymenoptera_data/train/ants/957233405_25c1d1187b.jpg  \n",
            "  inflating: ./transfer_learning_data/hymenoptera_data/train/ants/9715481_b3cb4114ff.jpg  \n",
            "  inflating: ./transfer_learning_data/hymenoptera_data/train/ants/998118368_6ac1d91f81.jpg  \n",
            "  inflating: ./transfer_learning_data/hymenoptera_data/train/ants/ant photos.jpg  \n",
            "  inflating: ./transfer_learning_data/hymenoptera_data/train/ants/Ant_1.jpg  \n",
            "  inflating: ./transfer_learning_data/hymenoptera_data/train/ants/army-ants-red-picture.jpg  \n",
            "  inflating: ./transfer_learning_data/hymenoptera_data/train/ants/formica.jpeg  \n",
            "  inflating: ./transfer_learning_data/hymenoptera_data/train/ants/hormiga_co_por.jpg  \n",
            "  inflating: ./transfer_learning_data/hymenoptera_data/train/ants/imageNotFound.gif  \n",
            "  inflating: ./transfer_learning_data/hymenoptera_data/train/ants/kurokusa.jpg  \n",
            "  inflating: ./transfer_learning_data/hymenoptera_data/train/ants/MehdiabadiAnt2_600.jpg  \n",
            "  inflating: ./transfer_learning_data/hymenoptera_data/train/ants/Nepenthes_rafflesiana_ant.jpg  \n",
            "  inflating: ./transfer_learning_data/hymenoptera_data/train/ants/swiss-army-ant.jpg  \n",
            "  inflating: ./transfer_learning_data/hymenoptera_data/train/ants/termite-vs-ant.jpg  \n",
            "  inflating: ./transfer_learning_data/hymenoptera_data/train/ants/trap-jaw-ant-insect-bg.jpg  \n",
            "  inflating: ./transfer_learning_data/hymenoptera_data/train/ants/VietnameseAntMimicSpider.jpg  \n",
            "   creating: ./transfer_learning_data/hymenoptera_data/train/bees/\n",
            "  inflating: ./transfer_learning_data/hymenoptera_data/train/bees/1092977343_cb42b38d62.jpg  \n",
            "  inflating: ./transfer_learning_data/hymenoptera_data/train/bees/1093831624_fb5fbe2308.jpg  \n",
            "  inflating: ./transfer_learning_data/hymenoptera_data/train/bees/1097045929_1753d1c765.jpg  \n",
            "  inflating: ./transfer_learning_data/hymenoptera_data/train/bees/1232245714_f862fbe385.jpg  \n",
            "  inflating: ./transfer_learning_data/hymenoptera_data/train/bees/129236073_0985e91c7d.jpg  \n",
            "  inflating: ./transfer_learning_data/hymenoptera_data/train/bees/1295655112_7813f37d21.jpg  \n",
            "  inflating: ./transfer_learning_data/hymenoptera_data/train/bees/132511197_0b86ad0fff.jpg  \n",
            "  inflating: ./transfer_learning_data/hymenoptera_data/train/bees/132826773_dbbcb117b9.jpg  \n",
            "  inflating: ./transfer_learning_data/hymenoptera_data/train/bees/150013791_969d9a968b.jpg  \n",
            "  inflating: ./transfer_learning_data/hymenoptera_data/train/bees/1508176360_2972117c9d.jpg  \n",
            "  inflating: ./transfer_learning_data/hymenoptera_data/train/bees/154600396_53e1252e52.jpg  \n",
            "  inflating: ./transfer_learning_data/hymenoptera_data/train/bees/16838648_415acd9e3f.jpg  \n",
            "  inflating: ./transfer_learning_data/hymenoptera_data/train/bees/1691282715_0addfdf5e8.jpg  \n",
            "  inflating: ./transfer_learning_data/hymenoptera_data/train/bees/17209602_fe5a5a746f.jpg  \n",
            "  inflating: ./transfer_learning_data/hymenoptera_data/train/bees/174142798_e5ad6d76e0.jpg  \n",
            "  inflating: ./transfer_learning_data/hymenoptera_data/train/bees/1799726602_8580867f71.jpg  \n",
            "  inflating: ./transfer_learning_data/hymenoptera_data/train/bees/1807583459_4fe92b3133.jpg  \n",
            "  inflating: ./transfer_learning_data/hymenoptera_data/train/bees/196430254_46bd129ae7.jpg  \n",
            "  inflating: ./transfer_learning_data/hymenoptera_data/train/bees/196658222_3fffd79c67.jpg  \n",
            "  inflating: ./transfer_learning_data/hymenoptera_data/train/bees/198508668_97d818b6c4.jpg  \n",
            "  inflating: ./transfer_learning_data/hymenoptera_data/train/bees/2031225713_50ed499635.jpg  \n",
            "  inflating: ./transfer_learning_data/hymenoptera_data/train/bees/2037437624_2d7bce461f.jpg  \n",
            "  inflating: ./transfer_learning_data/hymenoptera_data/train/bees/2053200300_8911ef438a.jpg  \n",
            "  inflating: ./transfer_learning_data/hymenoptera_data/train/bees/205835650_e6f2614bee.jpg  \n",
            "  inflating: ./transfer_learning_data/hymenoptera_data/train/bees/208702903_42fb4d9748.jpg  \n",
            "  inflating: ./transfer_learning_data/hymenoptera_data/train/bees/21399619_3e61e5bb6f.jpg  \n",
            "  inflating: ./transfer_learning_data/hymenoptera_data/train/bees/2227611847_ec72d40403.jpg  \n",
            "  inflating: ./transfer_learning_data/hymenoptera_data/train/bees/2321139806_d73d899e66.jpg  \n",
            "  inflating: ./transfer_learning_data/hymenoptera_data/train/bees/2330918208_8074770c20.jpg  \n",
            "  inflating: ./transfer_learning_data/hymenoptera_data/train/bees/2345177635_caf07159b3.jpg  \n",
            "  inflating: ./transfer_learning_data/hymenoptera_data/train/bees/2358061370_9daabbd9ac.jpg  \n",
            "  inflating: ./transfer_learning_data/hymenoptera_data/train/bees/2364597044_3c3e3fc391.jpg  \n",
            "  inflating: ./transfer_learning_data/hymenoptera_data/train/bees/2384149906_2cd8b0b699.jpg  \n",
            "  inflating: ./transfer_learning_data/hymenoptera_data/train/bees/2397446847_04ef3cd3e1.jpg  \n",
            "  inflating: ./transfer_learning_data/hymenoptera_data/train/bees/2405441001_b06c36fa72.jpg  \n",
            "  inflating: ./transfer_learning_data/hymenoptera_data/train/bees/2445215254_51698ff797.jpg  \n",
            "  inflating: ./transfer_learning_data/hymenoptera_data/train/bees/2452236943_255bfd9e58.jpg  \n",
            "  inflating: ./transfer_learning_data/hymenoptera_data/train/bees/2467959963_a7831e9ff0.jpg  \n",
            "  inflating: ./transfer_learning_data/hymenoptera_data/train/bees/2470492904_837e97800d.jpg  \n",
            "  inflating: ./transfer_learning_data/hymenoptera_data/train/bees/2477324698_3d4b1b1cab.jpg  \n",
            "  inflating: ./transfer_learning_data/hymenoptera_data/train/bees/2477349551_e75c97cf4d.jpg  \n",
            "  inflating: ./transfer_learning_data/hymenoptera_data/train/bees/2486729079_62df0920be.jpg  \n",
            "  inflating: ./transfer_learning_data/hymenoptera_data/train/bees/2486746709_c43cec0e42.jpg  \n",
            "  inflating: ./transfer_learning_data/hymenoptera_data/train/bees/2493379287_4100e1dacc.jpg  \n",
            "  inflating: ./transfer_learning_data/hymenoptera_data/train/bees/2495722465_879acf9d85.jpg  \n",
            "  inflating: ./transfer_learning_data/hymenoptera_data/train/bees/2528444139_fa728b0f5b.jpg  \n",
            "  inflating: ./transfer_learning_data/hymenoptera_data/train/bees/2538361678_9da84b77e3.jpg  \n",
            "  inflating: ./transfer_learning_data/hymenoptera_data/train/bees/2551813042_8a070aeb2b.jpg  \n",
            "  inflating: ./transfer_learning_data/hymenoptera_data/train/bees/2580598377_a4caecdb54.jpg  \n",
            "  inflating: ./transfer_learning_data/hymenoptera_data/train/bees/2601176055_8464e6aa71.jpg  \n",
            "  inflating: ./transfer_learning_data/hymenoptera_data/train/bees/2610833167_79bf0bcae5.jpg  \n",
            "  inflating: ./transfer_learning_data/hymenoptera_data/train/bees/2610838525_fe8e3cae47.jpg  \n",
            "  inflating: ./transfer_learning_data/hymenoptera_data/train/bees/2617161745_fa3ebe85b4.jpg  \n",
            "  inflating: ./transfer_learning_data/hymenoptera_data/train/bees/2625499656_e3415e374d.jpg  \n",
            "  inflating: ./transfer_learning_data/hymenoptera_data/train/bees/2634617358_f32fd16bea.jpg  \n",
            "  inflating: ./transfer_learning_data/hymenoptera_data/train/bees/2638074627_6b3ae746a0.jpg  \n",
            "  inflating: ./transfer_learning_data/hymenoptera_data/train/bees/2645107662_b73a8595cc.jpg  \n",
            "  inflating: ./transfer_learning_data/hymenoptera_data/train/bees/2651621464_a2fa8722eb.jpg  \n",
            "  inflating: ./transfer_learning_data/hymenoptera_data/train/bees/2652877533_a564830cbf.jpg  \n",
            "  inflating: ./transfer_learning_data/hymenoptera_data/train/bees/266644509_d30bb16a1b.jpg  \n",
            "  inflating: ./transfer_learning_data/hymenoptera_data/train/bees/2683605182_9d2a0c66cf.jpg  \n",
            "  inflating: ./transfer_learning_data/hymenoptera_data/train/bees/2704348794_eb5d5178c2.jpg  \n",
            "  inflating: ./transfer_learning_data/hymenoptera_data/train/bees/2707440199_cd170bd512.jpg  \n",
            "  inflating: ./transfer_learning_data/hymenoptera_data/train/bees/2710368626_cb42882dc8.jpg  \n",
            "  inflating: ./transfer_learning_data/hymenoptera_data/train/bees/2722592222_258d473e17.jpg  \n",
            "  inflating: ./transfer_learning_data/hymenoptera_data/train/bees/2728759455_ce9bb8cd7a.jpg  \n",
            "  inflating: ./transfer_learning_data/hymenoptera_data/train/bees/2756397428_1d82a08807.jpg  \n",
            "  inflating: ./transfer_learning_data/hymenoptera_data/train/bees/2765347790_da6cf6cb40.jpg  \n",
            "  inflating: ./transfer_learning_data/hymenoptera_data/train/bees/2781170484_5d61835d63.jpg  \n",
            "  inflating: ./transfer_learning_data/hymenoptera_data/train/bees/279113587_b4843db199.jpg  \n",
            "  inflating: ./transfer_learning_data/hymenoptera_data/train/bees/2792000093_e8ae0718cf.jpg  \n",
            "  inflating: ./transfer_learning_data/hymenoptera_data/train/bees/2801728106_833798c909.jpg  \n",
            "  inflating: ./transfer_learning_data/hymenoptera_data/train/bees/2822388965_f6dca2a275.jpg  \n",
            "  inflating: ./transfer_learning_data/hymenoptera_data/train/bees/2861002136_52c7c6f708.jpg  \n",
            "  inflating: ./transfer_learning_data/hymenoptera_data/train/bees/2908916142_a7ac8b57a8.jpg  \n",
            "  inflating: ./transfer_learning_data/hymenoptera_data/train/bees/29494643_e3410f0d37.jpg  \n",
            "  inflating: ./transfer_learning_data/hymenoptera_data/train/bees/2959730355_416a18c63c.jpg  \n",
            "  inflating: ./transfer_learning_data/hymenoptera_data/train/bees/2962405283_22718d9617.jpg  \n",
            "  inflating: ./transfer_learning_data/hymenoptera_data/train/bees/3006264892_30e9cced70.jpg  \n",
            "  inflating: ./transfer_learning_data/hymenoptera_data/train/bees/3030189811_01d095b793.jpg  \n",
            "  inflating: ./transfer_learning_data/hymenoptera_data/train/bees/3030772428_8578335616.jpg  \n",
            "  inflating: ./transfer_learning_data/hymenoptera_data/train/bees/3044402684_3853071a87.jpg  \n",
            "  inflating: ./transfer_learning_data/hymenoptera_data/train/bees/3074585407_9854eb3153.jpg  \n",
            "  inflating: ./transfer_learning_data/hymenoptera_data/train/bees/3079610310_ac2d0ae7bc.jpg  \n",
            "  inflating: ./transfer_learning_data/hymenoptera_data/train/bees/3090975720_71f12e6de4.jpg  \n",
            "  inflating: ./transfer_learning_data/hymenoptera_data/train/bees/3100226504_c0d4f1e3f1.jpg  \n",
            "  inflating: ./transfer_learning_data/hymenoptera_data/train/bees/342758693_c56b89b6b6.jpg  \n",
            "  inflating: ./transfer_learning_data/hymenoptera_data/train/bees/354167719_22dca13752.jpg  \n",
            "  inflating: ./transfer_learning_data/hymenoptera_data/train/bees/359928878_b3b418c728.jpg  \n",
            "  inflating: ./transfer_learning_data/hymenoptera_data/train/bees/365759866_b15700c59b.jpg  \n",
            "  inflating: ./transfer_learning_data/hymenoptera_data/train/bees/36900412_92b81831ad.jpg  \n",
            "  inflating: ./transfer_learning_data/hymenoptera_data/train/bees/39672681_1302d204d1.jpg  \n",
            "  inflating: ./transfer_learning_data/hymenoptera_data/train/bees/39747887_42df2855ee.jpg  \n",
            "  inflating: ./transfer_learning_data/hymenoptera_data/train/bees/421515404_e87569fd8b.jpg  \n",
            "  inflating: ./transfer_learning_data/hymenoptera_data/train/bees/444532809_9e931e2279.jpg  \n",
            "  inflating: ./transfer_learning_data/hymenoptera_data/train/bees/446296270_d9e8b93ecf.jpg  \n",
            "  inflating: ./transfer_learning_data/hymenoptera_data/train/bees/452462677_7be43af8ff.jpg  \n",
            "  inflating: ./transfer_learning_data/hymenoptera_data/train/bees/452462695_40a4e5b559.jpg  \n",
            "  inflating: ./transfer_learning_data/hymenoptera_data/train/bees/457457145_5f86eb7e9c.jpg  \n",
            "  inflating: ./transfer_learning_data/hymenoptera_data/train/bees/465133211_80e0c27f60.jpg  \n",
            "  inflating: ./transfer_learning_data/hymenoptera_data/train/bees/469333327_358ba8fe8a.jpg  \n",
            "  inflating: ./transfer_learning_data/hymenoptera_data/train/bees/472288710_2abee16fa0.jpg  \n",
            "  inflating: ./transfer_learning_data/hymenoptera_data/train/bees/473618094_8ffdcab215.jpg  \n",
            "  inflating: ./transfer_learning_data/hymenoptera_data/train/bees/476347960_52edd72b06.jpg  \n",
            "  inflating: ./transfer_learning_data/hymenoptera_data/train/bees/478701318_bbd5e557b8.jpg  \n",
            "  inflating: ./transfer_learning_data/hymenoptera_data/train/bees/507288830_f46e8d4cb2.jpg  \n",
            "  inflating: ./transfer_learning_data/hymenoptera_data/train/bees/509247772_2db2d01374.jpg  \n",
            "  inflating: ./transfer_learning_data/hymenoptera_data/train/bees/513545352_fd3e7c7c5d.jpg  \n",
            "  inflating: ./transfer_learning_data/hymenoptera_data/train/bees/522104315_5d3cb2758e.jpg  \n",
            "  inflating: ./transfer_learning_data/hymenoptera_data/train/bees/537309131_532bfa59ea.jpg  \n",
            "  inflating: ./transfer_learning_data/hymenoptera_data/train/bees/586041248_3032e277a9.jpg  \n",
            "  inflating: ./transfer_learning_data/hymenoptera_data/train/bees/760526046_547e8b381f.jpg  \n",
            "  inflating: ./transfer_learning_data/hymenoptera_data/train/bees/760568592_45a52c847f.jpg  \n",
            "  inflating: ./transfer_learning_data/hymenoptera_data/train/bees/774440991_63a4aa0cbe.jpg  \n",
            "  inflating: ./transfer_learning_data/hymenoptera_data/train/bees/85112639_6e860b0469.jpg  \n",
            "  inflating: ./transfer_learning_data/hymenoptera_data/train/bees/873076652_eb098dab2d.jpg  \n",
            "  inflating: ./transfer_learning_data/hymenoptera_data/train/bees/90179376_abc234e5f4.jpg  \n",
            "  inflating: ./transfer_learning_data/hymenoptera_data/train/bees/92663402_37f379e57a.jpg  \n",
            "  inflating: ./transfer_learning_data/hymenoptera_data/train/bees/95238259_98470c5b10.jpg  \n",
            "  inflating: ./transfer_learning_data/hymenoptera_data/train/bees/969455125_58c797ef17.jpg  \n",
            "  inflating: ./transfer_learning_data/hymenoptera_data/train/bees/98391118_bdb1e80cce.jpg  \n",
            "   creating: ./transfer_learning_data/hymenoptera_data/val/\n",
            "   creating: ./transfer_learning_data/hymenoptera_data/val/ants/\n",
            "  inflating: ./transfer_learning_data/hymenoptera_data/val/ants/10308379_1b6c72e180.jpg  \n",
            "  inflating: ./transfer_learning_data/hymenoptera_data/val/ants/1053149811_f62a3410d3.jpg  \n",
            "  inflating: ./transfer_learning_data/hymenoptera_data/val/ants/1073564163_225a64f170.jpg  \n",
            "  inflating: ./transfer_learning_data/hymenoptera_data/val/ants/1119630822_cd325ea21a.jpg  \n",
            "  inflating: ./transfer_learning_data/hymenoptera_data/val/ants/1124525276_816a07c17f.jpg  \n",
            "  inflating: ./transfer_learning_data/hymenoptera_data/val/ants/11381045_b352a47d8c.jpg  \n",
            "  inflating: ./transfer_learning_data/hymenoptera_data/val/ants/119785936_dd428e40c3.jpg  \n",
            "  inflating: ./transfer_learning_data/hymenoptera_data/val/ants/1247887232_edcb61246c.jpg  \n",
            "  inflating: ./transfer_learning_data/hymenoptera_data/val/ants/1262751255_c56c042b7b.jpg  \n",
            "  inflating: ./transfer_learning_data/hymenoptera_data/val/ants/1337725712_2eb53cd742.jpg  \n",
            "  inflating: ./transfer_learning_data/hymenoptera_data/val/ants/1358854066_5ad8015f7f.jpg  \n",
            "  inflating: ./transfer_learning_data/hymenoptera_data/val/ants/1440002809_b268d9a66a.jpg  \n",
            "  inflating: ./transfer_learning_data/hymenoptera_data/val/ants/147542264_79506478c2.jpg  \n",
            "  inflating: ./transfer_learning_data/hymenoptera_data/val/ants/152286280_411648ec27.jpg  \n",
            "  inflating: ./transfer_learning_data/hymenoptera_data/val/ants/153320619_2aeb5fa0ee.jpg  \n",
            "  inflating: ./transfer_learning_data/hymenoptera_data/val/ants/153783656_85f9c3ac70.jpg  \n",
            "  inflating: ./transfer_learning_data/hymenoptera_data/val/ants/157401988_d0564a9d02.jpg  \n",
            "  inflating: ./transfer_learning_data/hymenoptera_data/val/ants/159515240_d5981e20d1.jpg  \n",
            "  inflating: ./transfer_learning_data/hymenoptera_data/val/ants/161076144_124db762d6.jpg  \n",
            "  inflating: ./transfer_learning_data/hymenoptera_data/val/ants/161292361_c16e0bf57a.jpg  \n",
            "  inflating: ./transfer_learning_data/hymenoptera_data/val/ants/170652283_ecdaff5d1a.jpg  \n",
            "  inflating: ./transfer_learning_data/hymenoptera_data/val/ants/17081114_79b9a27724.jpg  \n",
            "  inflating: ./transfer_learning_data/hymenoptera_data/val/ants/172772109_d0a8e15fb0.jpg  \n",
            "  inflating: ./transfer_learning_data/hymenoptera_data/val/ants/1743840368_b5ccda82b7.jpg  \n",
            "  inflating: ./transfer_learning_data/hymenoptera_data/val/ants/181942028_961261ef48.jpg  \n",
            "  inflating: ./transfer_learning_data/hymenoptera_data/val/ants/183260961_64ab754c97.jpg  \n",
            "  inflating: ./transfer_learning_data/hymenoptera_data/val/ants/2039585088_c6f47c592e.jpg  \n",
            "  inflating: ./transfer_learning_data/hymenoptera_data/val/ants/205398178_c395c5e460.jpg  \n",
            "  inflating: ./transfer_learning_data/hymenoptera_data/val/ants/208072188_f293096296.jpg  \n",
            "  inflating: ./transfer_learning_data/hymenoptera_data/val/ants/209615353_eeb38ba204.jpg  \n",
            "  inflating: ./transfer_learning_data/hymenoptera_data/val/ants/2104709400_8831b4fc6f.jpg  \n",
            "  inflating: ./transfer_learning_data/hymenoptera_data/val/ants/212100470_b485e7b7b9.jpg  \n",
            "  inflating: ./transfer_learning_data/hymenoptera_data/val/ants/2127908701_d49dc83c97.jpg  \n",
            "  inflating: ./transfer_learning_data/hymenoptera_data/val/ants/2191997003_379df31291.jpg  \n",
            "  inflating: ./transfer_learning_data/hymenoptera_data/val/ants/2211974567_ee4606b493.jpg  \n",
            "  inflating: ./transfer_learning_data/hymenoptera_data/val/ants/2219621907_47bc7cc6b0.jpg  \n",
            "  inflating: ./transfer_learning_data/hymenoptera_data/val/ants/2238242353_52c82441df.jpg  \n",
            "  inflating: ./transfer_learning_data/hymenoptera_data/val/ants/2255445811_dabcdf7258.jpg  \n",
            "  inflating: ./transfer_learning_data/hymenoptera_data/val/ants/239161491_86ac23b0a3.jpg  \n",
            "  inflating: ./transfer_learning_data/hymenoptera_data/val/ants/263615709_cfb28f6b8e.jpg  \n",
            "  inflating: ./transfer_learning_data/hymenoptera_data/val/ants/308196310_1db5ffa01b.jpg  \n",
            "  inflating: ./transfer_learning_data/hymenoptera_data/val/ants/319494379_648fb5a1c6.jpg  \n",
            "  inflating: ./transfer_learning_data/hymenoptera_data/val/ants/35558229_1fa4608a7a.jpg  \n",
            "  inflating: ./transfer_learning_data/hymenoptera_data/val/ants/412436937_4c2378efc2.jpg  \n",
            "  inflating: ./transfer_learning_data/hymenoptera_data/val/ants/436944325_d4925a38c7.jpg  \n",
            "  inflating: ./transfer_learning_data/hymenoptera_data/val/ants/445356866_6cb3289067.jpg  \n",
            "  inflating: ./transfer_learning_data/hymenoptera_data/val/ants/459442412_412fecf3fe.jpg  \n",
            "  inflating: ./transfer_learning_data/hymenoptera_data/val/ants/470127071_8b8ee2bd74.jpg  \n",
            "  inflating: ./transfer_learning_data/hymenoptera_data/val/ants/477437164_bc3e6e594a.jpg  \n",
            "  inflating: ./transfer_learning_data/hymenoptera_data/val/ants/488272201_c5aa281348.jpg  \n",
            "  inflating: ./transfer_learning_data/hymenoptera_data/val/ants/502717153_3e4865621a.jpg  \n",
            "  inflating: ./transfer_learning_data/hymenoptera_data/val/ants/518746016_bcc28f8b5b.jpg  \n",
            "  inflating: ./transfer_learning_data/hymenoptera_data/val/ants/540543309_ddbb193ee5.jpg  \n",
            "  inflating: ./transfer_learning_data/hymenoptera_data/val/ants/562589509_7e55469b97.jpg  \n",
            "  inflating: ./transfer_learning_data/hymenoptera_data/val/ants/57264437_a19006872f.jpg  \n",
            "  inflating: ./transfer_learning_data/hymenoptera_data/val/ants/573151833_ebbc274b77.jpg  \n",
            "  inflating: ./transfer_learning_data/hymenoptera_data/val/ants/649407494_9b6bc4949f.jpg  \n",
            "  inflating: ./transfer_learning_data/hymenoptera_data/val/ants/751649788_78dd7d16ce.jpg  \n",
            "  inflating: ./transfer_learning_data/hymenoptera_data/val/ants/768870506_8f115d3d37.jpg  \n",
            "  inflating: ./transfer_learning_data/hymenoptera_data/val/ants/800px-Meat_eater_ant_qeen_excavating_hole.jpg  \n",
            "  inflating: ./transfer_learning_data/hymenoptera_data/val/ants/8124241_36b290d372.jpg  \n",
            "  inflating: ./transfer_learning_data/hymenoptera_data/val/ants/8398478_50ef10c47a.jpg  \n",
            "  inflating: ./transfer_learning_data/hymenoptera_data/val/ants/854534770_31f6156383.jpg  \n",
            "  inflating: ./transfer_learning_data/hymenoptera_data/val/ants/892676922_4ab37dce07.jpg  \n",
            "  inflating: ./transfer_learning_data/hymenoptera_data/val/ants/94999827_36895faade.jpg  \n",
            "  inflating: ./transfer_learning_data/hymenoptera_data/val/ants/Ant-1818.jpg  \n",
            "  inflating: ./transfer_learning_data/hymenoptera_data/val/ants/ants-devouring-remains-of-large-dead-insect-on-red-tile-in-Stellenbosch-South-Africa-closeup-1-DHD.jpg  \n",
            "  inflating: ./transfer_learning_data/hymenoptera_data/val/ants/desert_ant.jpg  \n",
            "  inflating: ./transfer_learning_data/hymenoptera_data/val/ants/F.pergan.28(f).jpg  \n",
            "  inflating: ./transfer_learning_data/hymenoptera_data/val/ants/Hormiga.jpg  \n",
            "   creating: ./transfer_learning_data/hymenoptera_data/val/bees/\n",
            "  inflating: ./transfer_learning_data/hymenoptera_data/val/bees/1032546534_06907fe3b3.jpg  \n",
            "  inflating: ./transfer_learning_data/hymenoptera_data/val/bees/10870992_eebeeb3a12.jpg  \n",
            "  inflating: ./transfer_learning_data/hymenoptera_data/val/bees/1181173278_23c36fac71.jpg  \n",
            "  inflating: ./transfer_learning_data/hymenoptera_data/val/bees/1297972485_33266a18d9.jpg  \n",
            "  inflating: ./transfer_learning_data/hymenoptera_data/val/bees/1328423762_f7a88a8451.jpg  \n",
            "  inflating: ./transfer_learning_data/hymenoptera_data/val/bees/1355974687_1341c1face.jpg  \n",
            "  inflating: ./transfer_learning_data/hymenoptera_data/val/bees/144098310_a4176fd54d.jpg  \n",
            "  inflating: ./transfer_learning_data/hymenoptera_data/val/bees/1486120850_490388f84b.jpg  \n",
            "  inflating: ./transfer_learning_data/hymenoptera_data/val/bees/149973093_da3c446268.jpg  \n",
            "  inflating: ./transfer_learning_data/hymenoptera_data/val/bees/151594775_ee7dc17b60.jpg  \n",
            "  inflating: ./transfer_learning_data/hymenoptera_data/val/bees/151603988_2c6f7d14c7.jpg  \n",
            "  inflating: ./transfer_learning_data/hymenoptera_data/val/bees/1519368889_4270261ee3.jpg  \n",
            "  inflating: ./transfer_learning_data/hymenoptera_data/val/bees/152789693_220b003452.jpg  \n",
            "  inflating: ./transfer_learning_data/hymenoptera_data/val/bees/177677657_a38c97e572.jpg  \n",
            "  inflating: ./transfer_learning_data/hymenoptera_data/val/bees/1799729694_0c40101071.jpg  \n",
            "  inflating: ./transfer_learning_data/hymenoptera_data/val/bees/181171681_c5a1a82ded.jpg  \n",
            "  inflating: ./transfer_learning_data/hymenoptera_data/val/bees/187130242_4593a4c610.jpg  \n",
            "  inflating: ./transfer_learning_data/hymenoptera_data/val/bees/203868383_0fcbb48278.jpg  \n",
            "  inflating: ./transfer_learning_data/hymenoptera_data/val/bees/2060668999_e11edb10d0.jpg  \n",
            "  inflating: ./transfer_learning_data/hymenoptera_data/val/bees/2086294791_6f3789d8a6.jpg  \n",
            "  inflating: ./transfer_learning_data/hymenoptera_data/val/bees/2103637821_8d26ee6b90.jpg  \n",
            "  inflating: ./transfer_learning_data/hymenoptera_data/val/bees/2104135106_a65eede1de.jpg  \n",
            "  inflating: ./transfer_learning_data/hymenoptera_data/val/bees/215512424_687e1e0821.jpg  \n",
            "  inflating: ./transfer_learning_data/hymenoptera_data/val/bees/2173503984_9c6aaaa7e2.jpg  \n",
            "  inflating: ./transfer_learning_data/hymenoptera_data/val/bees/220376539_20567395d8.jpg  \n",
            "  inflating: ./transfer_learning_data/hymenoptera_data/val/bees/224841383_d050f5f510.jpg  \n",
            "  inflating: ./transfer_learning_data/hymenoptera_data/val/bees/2321144482_f3785ba7b2.jpg  \n",
            "  inflating: ./transfer_learning_data/hymenoptera_data/val/bees/238161922_55fa9a76ae.jpg  \n",
            "  inflating: ./transfer_learning_data/hymenoptera_data/val/bees/2407809945_fb525ef54d.jpg  \n",
            "  inflating: ./transfer_learning_data/hymenoptera_data/val/bees/2415414155_1916f03b42.jpg  \n",
            "  inflating: ./transfer_learning_data/hymenoptera_data/val/bees/2438480600_40a1249879.jpg  \n",
            "  inflating: ./transfer_learning_data/hymenoptera_data/val/bees/2444778727_4b781ac424.jpg  \n",
            "  inflating: ./transfer_learning_data/hymenoptera_data/val/bees/2457841282_7867f16639.jpg  \n",
            "  inflating: ./transfer_learning_data/hymenoptera_data/val/bees/2470492902_3572c90f75.jpg  \n",
            "  inflating: ./transfer_learning_data/hymenoptera_data/val/bees/2478216347_535c8fe6d7.jpg  \n",
            "  inflating: ./transfer_learning_data/hymenoptera_data/val/bees/2501530886_e20952b97d.jpg  \n",
            "  inflating: ./transfer_learning_data/hymenoptera_data/val/bees/2506114833_90a41c5267.jpg  \n",
            "  inflating: ./transfer_learning_data/hymenoptera_data/val/bees/2509402554_31821cb0b6.jpg  \n",
            "  inflating: ./transfer_learning_data/hymenoptera_data/val/bees/2525379273_dcb26a516d.jpg  \n",
            "  inflating: ./transfer_learning_data/hymenoptera_data/val/bees/26589803_5ba7000313.jpg  \n",
            "  inflating: ./transfer_learning_data/hymenoptera_data/val/bees/2668391343_45e272cd07.jpg  \n",
            "  inflating: ./transfer_learning_data/hymenoptera_data/val/bees/2670536155_c170f49cd0.jpg  \n",
            "  inflating: ./transfer_learning_data/hymenoptera_data/val/bees/2685605303_9eed79d59d.jpg  \n",
            "  inflating: ./transfer_learning_data/hymenoptera_data/val/bees/2702408468_d9ed795f4f.jpg  \n",
            "  inflating: ./transfer_learning_data/hymenoptera_data/val/bees/2709775832_85b4b50a57.jpg  \n",
            "  inflating: ./transfer_learning_data/hymenoptera_data/val/bees/2717418782_bd83307d9f.jpg  \n",
            "  inflating: ./transfer_learning_data/hymenoptera_data/val/bees/272986700_d4d4bf8c4b.jpg  \n",
            "  inflating: ./transfer_learning_data/hymenoptera_data/val/bees/2741763055_9a7bb00802.jpg  \n",
            "  inflating: ./transfer_learning_data/hymenoptera_data/val/bees/2745389517_250a397f31.jpg  \n",
            "  inflating: ./transfer_learning_data/hymenoptera_data/val/bees/2751836205_6f7b5eff30.jpg  \n",
            "  inflating: ./transfer_learning_data/hymenoptera_data/val/bees/2782079948_8d4e94a826.jpg  \n",
            "  inflating: ./transfer_learning_data/hymenoptera_data/val/bees/2809496124_5f25b5946a.jpg  \n",
            "  inflating: ./transfer_learning_data/hymenoptera_data/val/bees/2815838190_0a9889d995.jpg  \n",
            "  inflating: ./transfer_learning_data/hymenoptera_data/val/bees/2841437312_789699c740.jpg  \n",
            "  inflating: ./transfer_learning_data/hymenoptera_data/val/bees/2883093452_7e3a1eb53f.jpg  \n",
            "  inflating: ./transfer_learning_data/hymenoptera_data/val/bees/290082189_f66cb80bfc.jpg  \n",
            "  inflating: ./transfer_learning_data/hymenoptera_data/val/bees/296565463_d07a7bed96.jpg  \n",
            "  inflating: ./transfer_learning_data/hymenoptera_data/val/bees/3077452620_548c79fda0.jpg  \n",
            "  inflating: ./transfer_learning_data/hymenoptera_data/val/bees/348291597_ee836fbb1a.jpg  \n",
            "  inflating: ./transfer_learning_data/hymenoptera_data/val/bees/350436573_41f4ecb6c8.jpg  \n",
            "  inflating: ./transfer_learning_data/hymenoptera_data/val/bees/353266603_d3eac7e9a0.jpg  \n",
            "  inflating: ./transfer_learning_data/hymenoptera_data/val/bees/372228424_16da1f8884.jpg  \n",
            "  inflating: ./transfer_learning_data/hymenoptera_data/val/bees/400262091_701c00031c.jpg  \n",
            "  inflating: ./transfer_learning_data/hymenoptera_data/val/bees/416144384_961c326481.jpg  \n",
            "  inflating: ./transfer_learning_data/hymenoptera_data/val/bees/44105569_16720a960c.jpg  \n",
            "  inflating: ./transfer_learning_data/hymenoptera_data/val/bees/456097971_860949c4fc.jpg  \n",
            "  inflating: ./transfer_learning_data/hymenoptera_data/val/bees/464594019_1b24a28bb1.jpg  \n",
            "  inflating: ./transfer_learning_data/hymenoptera_data/val/bees/485743562_d8cc6b8f73.jpg  \n",
            "  inflating: ./transfer_learning_data/hymenoptera_data/val/bees/540976476_844950623f.jpg  \n",
            "  inflating: ./transfer_learning_data/hymenoptera_data/val/bees/54736755_c057723f64.jpg  \n",
            "  inflating: ./transfer_learning_data/hymenoptera_data/val/bees/57459255_752774f1b2.jpg  \n",
            "  inflating: ./transfer_learning_data/hymenoptera_data/val/bees/576452297_897023f002.jpg  \n",
            "  inflating: ./transfer_learning_data/hymenoptera_data/val/bees/586474709_ae436da045.jpg  \n",
            "  inflating: ./transfer_learning_data/hymenoptera_data/val/bees/590318879_68cf112861.jpg  \n",
            "  inflating: ./transfer_learning_data/hymenoptera_data/val/bees/59798110_2b6a3c8031.jpg  \n",
            "  inflating: ./transfer_learning_data/hymenoptera_data/val/bees/603709866_a97c7cfc72.jpg  \n",
            "  inflating: ./transfer_learning_data/hymenoptera_data/val/bees/603711658_4c8cd2201e.jpg  \n",
            "  inflating: ./transfer_learning_data/hymenoptera_data/val/bees/65038344_52a45d090d.jpg  \n",
            "  inflating: ./transfer_learning_data/hymenoptera_data/val/bees/6a00d8341c630a53ef00e553d0beb18834-800wi.jpg  \n",
            "  inflating: ./transfer_learning_data/hymenoptera_data/val/bees/72100438_73de9f17af.jpg  \n",
            "  inflating: ./transfer_learning_data/hymenoptera_data/val/bees/759745145_e8bc776ec8.jpg  \n",
            "  inflating: ./transfer_learning_data/hymenoptera_data/val/bees/936182217_c4caa5222d.jpg  \n",
            "  inflating: ./transfer_learning_data/hymenoptera_data/val/bees/abeja.jpg  \n"
          ],
          "name": "stdout"
        }
      ]
    },
    {
      "cell_type": "markdown",
      "metadata": {
        "id": "b77a60d8-7302-41d5-9435-86feba2fac78"
      },
      "source": [
        "### Normalización y transformación de la data\n",
        "\n",
        "El siguiente paso es preparar la data para que se pueda usar en el modelo pre-entrenado:"
      ],
      "id": "b77a60d8-7302-41d5-9435-86feba2fac78"
    },
    {
      "cell_type": "code",
      "metadata": {
        "id": "5f3f2d72-04c1-4d67-bb4e-623d9f0afff3"
      },
      "source": [
        "# Augmentación de data:\n",
        "# Un metodo para entrenar modelos de Deep Learning con imágenes es modificar la \"apariencia\" de\n",
        "# las imágenes que se utilizan para el entrenamiento. Por ejemplo, se acostumbra a\n",
        "# rotar las imágenes, normalizar los datos de la imágenes, etc. para que el modelo pueda\n",
        "# aprender más \"razgos\" de las imágenes y por ende desarrollar un mejor modelo.\n",
        "# \n",
        "# \n",
        "# Para las imágenes de validación, solamente normalizamos las imágenes.\n",
        "data_transforms = {\n",
        "    'train': transforms.Compose([\n",
        "        transforms.RandomResizedCrop(224),  #Cortamos aleatoriamente la imagen\n",
        "        transforms.RandomHorizontalFlip(),\n",
        "        transforms.ToTensor(),\n",
        "        transforms.Normalize([0.485, 0.456, 0.406], [0.229, 0.224, 0.225])\n",
        "    ]),\n",
        "    'val': transforms.Compose([\n",
        "        transforms.Resize(256),\n",
        "        transforms.CenterCrop(224),\n",
        "        transforms.ToTensor(),\n",
        "        transforms.Normalize([0.485, 0.456, 0.406], [0.229, 0.224, 0.225])\n",
        "    ]),\n",
        "}"
      ],
      "id": "5f3f2d72-04c1-4d67-bb4e-623d9f0afff3",
      "execution_count": 3,
      "outputs": []
    },
    {
      "cell_type": "markdown",
      "metadata": {
        "id": "0db4851f-ce00-4334-8860-31a890e4a933"
      },
      "source": [
        "Estas transformaciónes son solamente para que las imágenes de entrenamiento\n",
        "y validación tengan las dimensiones correctas para el modelo.\n",
        "\n",
        "### Definición de los datasets\n",
        "\n",
        "El siguiente paso es la definición de los datasets:"
      ],
      "id": "0db4851f-ce00-4334-8860-31a890e4a933"
    },
    {
      "cell_type": "code",
      "metadata": {
        "id": "bd2e7a89-7d2c-4635-af48-bf21d83b246d",
        "colab": {
          "base_uri": "https://localhost:8080/"
        },
        "outputId": "4537959d-0d77-43f1-8ff2-350c30bd0173"
      },
      "source": [
        "# Folder en el cuál se encuentran los archivos\n",
        "data_dir = 'transfer_learning_data/hymenoptera_data'\n",
        "\n",
        "# Creamos un diccionario para el \"training\" y \"validation\" tiene las direcciones de losdirectorios\n",
        "image_datasets = {x: datasets.ImageFolder(os.path.join(data_dir, x),\n",
        "                                          data_transforms[x])\n",
        "                  for x in ['train', 'val']}\n",
        "\n",
        "# Creamos un \"DataLoader\", el cual nos dará las imágenes cada vez que las pidamos\n",
        "dataloaders = {x: torch.utils.data.DataLoader(image_datasets[x], batch_size=4,\n",
        "                                             shuffle=True, num_workers=4)\n",
        "              for x in ['train', 'val']}\n",
        "\n",
        "# Extraemos los tamaños de los datasets\n",
        "dataset_sizes = {x: len(image_datasets[x]) for x in ['train', 'val']}\n",
        "\n",
        "# Los nombres de las diferentes clases\n",
        "class_names = image_datasets['train'].classes\n",
        "\n",
        "# Por último, definimos el dispositivo sobre el cuál se ejecutará el entrenamiento\n",
        "device = torch.device(\"cuda:0\" if torch.cuda.is_available() else \"cpu\")"
      ],
      "id": "bd2e7a89-7d2c-4635-af48-bf21d83b246d",
      "execution_count": 4,
      "outputs": [
        {
          "output_type": "stream",
          "text": [
            "/usr/local/lib/python3.7/dist-packages/torch/utils/data/dataloader.py:481: UserWarning: This DataLoader will create 4 worker processes in total. Our suggested max number of worker in current system is 2, which is smaller than what this DataLoader is going to create. Please be aware that excessive worker creation might get DataLoader running slow or even freeze, lower the worker number to avoid potential slowness/freeze if necessary.\n",
            "  cpuset_checked))\n"
          ],
          "name": "stderr"
        }
      ]
    },
    {
      "cell_type": "code",
      "metadata": {
        "id": "6TN4BzzUtszq",
        "colab": {
          "base_uri": "https://localhost:8080/"
        },
        "outputId": "910a8bbf-377f-4d10-d21b-bcc7ad238493"
      },
      "source": [
        "len(dataloaders['train'])"
      ],
      "id": "6TN4BzzUtszq",
      "execution_count": 5,
      "outputs": [
        {
          "output_type": "execute_result",
          "data": {
            "text/plain": [
              "61"
            ]
          },
          "metadata": {
            "tags": []
          },
          "execution_count": 5
        }
      ]
    },
    {
      "cell_type": "code",
      "metadata": {
        "id": "5kyJzmxltyTk",
        "colab": {
          "base_uri": "https://localhost:8080/"
        },
        "outputId": "b7f03a35-ab3b-4a1e-8873-e4c7402a5036"
      },
      "source": [
        "dataset_sizes"
      ],
      "id": "5kyJzmxltyTk",
      "execution_count": 6,
      "outputs": [
        {
          "output_type": "execute_result",
          "data": {
            "text/plain": [
              "{'train': 244, 'val': 153}"
            ]
          },
          "metadata": {
            "tags": []
          },
          "execution_count": 6
        }
      ]
    },
    {
      "cell_type": "code",
      "metadata": {
        "id": "FK_-m0VJt2QI",
        "colab": {
          "base_uri": "https://localhost:8080/"
        },
        "outputId": "f321f934-c3f0-4177-e52d-4c3b103bbbc4"
      },
      "source": [
        "class_names"
      ],
      "id": "FK_-m0VJt2QI",
      "execution_count": 7,
      "outputs": [
        {
          "output_type": "execute_result",
          "data": {
            "text/plain": [
              "['ants', 'bees']"
            ]
          },
          "metadata": {
            "tags": []
          },
          "execution_count": 7
        }
      ]
    },
    {
      "cell_type": "code",
      "metadata": {
        "id": "sl28KjChukcc"
      },
      "source": [
        "from multiprocessing import cpu_count"
      ],
      "id": "sl28KjChukcc",
      "execution_count": 8,
      "outputs": []
    },
    {
      "cell_type": "code",
      "metadata": {
        "id": "LUG8_QFuunbe",
        "colab": {
          "base_uri": "https://localhost:8080/"
        },
        "outputId": "ab995ed8-5ec0-482b-9ded-7e8005ecb37c"
      },
      "source": [
        "cpu_count() #Retorna el numero de cpus k se tienen"
      ],
      "id": "LUG8_QFuunbe",
      "execution_count": 9,
      "outputs": [
        {
          "output_type": "execute_result",
          "data": {
            "text/plain": [
              "2"
            ]
          },
          "metadata": {
            "tags": []
          },
          "execution_count": 9
        }
      ]
    },
    {
      "cell_type": "markdown",
      "metadata": {
        "id": "0a211819-9d6e-4fa5-8764-742546d81526"
      },
      "source": [
        "### Examinando la data\n",
        "\n",
        "Ya que hemos definido los diferentes datasets para el **entrenamiento** y la **validación**,\n",
        "podemos visualizar algunas de las imágnes como parte de nuestro EDA:"
      ],
      "id": "0a211819-9d6e-4fa5-8764-742546d81526"
    },
    {
      "cell_type": "code",
      "metadata": {
        "id": "00a12803-4a6d-473d-af05-cfecaef5d53c",
        "outputId": "58a8e2a7-6014-409a-e20f-177da9f62cf6",
        "colab": {
          "base_uri": "https://localhost:8080/",
          "height": 205
        }
      },
      "source": [
        "def imshow(inp, title=None):\n",
        "    \"\"\"\n",
        "    Función para visualizar las imágenes\n",
        "    \"\"\"\n",
        "    inp = inp.numpy().transpose((1, 2, 0))\n",
        "    mean = np.array([0.485, 0.456, 0.406])\n",
        "    std = np.array([0.229, 0.224, 0.225])\n",
        "    inp = std * inp + mean\n",
        "    inp = np.clip(inp, 0, 1)\n",
        "    plt.imshow(inp)\n",
        "    if title is not None:\n",
        "        plt.title(title)\n",
        "    plt.pause(0.001)  # pause a bit so that plots are updated\n",
        "\n",
        "\n",
        "# Agarramos un cierto número de datos y extraemos\n",
        "# las imágenes y sus respectivos etiquetas (\"labels\").\n",
        "# Esta es parte de la data de \"entrenamiento\"\n",
        "inputs, classes = next(iter(dataloaders['train']))\n",
        "\n",
        "# Creamos una figura con varias imágenes y las visualizamos\n",
        "out = torchvision.utils.make_grid(inputs)\n",
        "\n",
        "imshow(out, title=[class_names[x] for x in classes])"
      ],
      "id": "00a12803-4a6d-473d-af05-cfecaef5d53c",
      "execution_count": 13,
      "outputs": [
        {
          "output_type": "stream",
          "text": [
            "/usr/local/lib/python3.7/dist-packages/torch/utils/data/dataloader.py:481: UserWarning: This DataLoader will create 4 worker processes in total. Our suggested max number of worker in current system is 2, which is smaller than what this DataLoader is going to create. Please be aware that excessive worker creation might get DataLoader running slow or even freeze, lower the worker number to avoid potential slowness/freeze if necessary.\n",
            "  cpuset_checked))\n"
          ],
          "name": "stderr"
        },
        {
          "output_type": "display_data",
          "data": {
            "image/png": "[encoded data removed]",
            "text/plain": [
              "<Figure size 432x288 with 1 Axes>"
            ]
          },
          "metadata": {
            "tags": [],
            "needs_background": "light"
          }
        }
      ]
    },
    {
      "cell_type": "markdown",
      "metadata": {
        "id": "98cf52e4-6e6a-45ef-98b0-ca4133170bd1"
      },
      "source": [
        "### Entrenamiento del modelo\n",
        "\n",
        "La siguiente parte vamos a entrenar el modelo con las imágenes que tenemos.\n",
        "Primero definiremos ciertas funciones que se usarán a lo largo del tutorial:\n",
        "\n",
        "#### Función de entrenamiento\n",
        "Esta función es la función principal para entrenar un modelo:"
      ],
      "id": "98cf52e4-6e6a-45ef-98b0-ca4133170bd1"
    },
    {
      "cell_type": "code",
      "metadata": {
        "id": "2428595b-d130-4adc-a8cf-a3cdf181f23f"
      },
      "source": [
        "def train_model(model, criterion, optimizer, scheduler, num_epochs=25):\n",
        "    \"\"\"\n",
        "    Función para entrenar un modelo.\n",
        "    \n",
        "    Parámetros\n",
        "    -------------\n",
        "    model :\n",
        "        Modelo que se utiliza y se está entrenando.\n",
        "    \n",
        "    criterion :\n",
        "        Criterio que se utiliza como el \"loss function\".\n",
        "    \n",
        "    optimizer :\n",
        "        Optimizador para modificar las pesas del modelo.\n",
        "    \n",
        "    scheduler :\n",
        "        Objeto que modifica la \"velocidad de aprendizaje\"\n",
        "        luego de un cierto número de épocas.\n",
        "    \n",
        "    num_epochs : int\n",
        "        Número total de épocas a utilizar para entrenar\n",
        "        el modelo.\n",
        "    \"\"\"\n",
        "    # Empieza el entrenamiento\n",
        "    since = time.time()\n",
        "    \n",
        "    # Copiando las pesas actuales del modelo\n",
        "    best_model_wts = copy.deepcopy(model.state_dict())\n",
        "    \n",
        "    # Inicializando el valor de la \"precisión\" (accuracy)\n",
        "    best_acc = 0.0\n",
        "\n",
        "    # Es en este \"loop\" en donde empezamos a entrenar el modelo\n",
        "    # y el modelo empieza a aprender de la data dada.\n",
        "    for epoch in range(num_epochs):\n",
        "        print('Epoch {}/{}'.format(epoch, num_epochs - 1))\n",
        "        print('-' * 10)\n",
        "\n",
        "        # Cada época tiene 2 fases: entrenamiento y validación\n",
        "        for phase in ['train', 'val']:\n",
        "            if phase == 'train':\n",
        "                model.train()  # Hace que el modelo entre en modo de \"entrenamiento\"\n",
        "            else:\n",
        "                model.eval()   # Hace que el modelo entre en modo de \"validación\"\n",
        "\n",
        "            running_loss = 0.0\n",
        "            running_corrects = 0\n",
        "\n",
        "            # Iterate over data.   \n",
        "            for inputs, labels in dataloaders[phase]:\n",
        "                inputs = inputs.to(device)\n",
        "                labels = labels.to(device)\n",
        "\n",
        "                # zero the parameter gradients\n",
        "                optimizer.zero_grad()\n",
        "\n",
        "                # forward\n",
        "                # track history if only in train\n",
        "                with torch.set_grad_enabled(phase == 'train'):\n",
        "                    outputs = model(inputs)\n",
        "                    _, preds = torch.max(outputs, 1)\n",
        "                    loss = criterion(outputs, labels)\n",
        "\n",
        "                    # Es en esta parte donde se aplica el\n",
        "                    # \"backpropagation\" y optimización de las pesas\n",
        "                    # NOTA: Esto solamente sucede durante el **entrenamiento**\n",
        "                    if phase == 'train':\n",
        "                        loss.backward()\n",
        "                        optimizer.step()    #Cada cierta cantidad de epocas disminuye la velocidad de aprendizaje\n",
        "\n",
        "                # Recolectamos ciertas estadísticas del modelo\n",
        "                running_loss += loss.item() * inputs.size(0)\n",
        "                running_corrects += torch.sum(preds == labels.data)\n",
        "            if phase == 'train':\n",
        "                scheduler.step()\n",
        "\n",
        "            epoch_loss = running_loss / dataset_sizes[phase]\n",
        "            epoch_acc = running_corrects.double() / dataset_sizes[phase]\n",
        "\n",
        "            print('{} Loss: {:.4f} Acc: {:.4f}'.format(\n",
        "                phase, epoch_loss, epoch_acc))\n",
        "\n",
        "            # Copiamos el modelo y lo preparamos para iniciar de nuevo\n",
        "            if phase == 'val' and epoch_acc > best_acc: #Comparamos el modelo anterior con el nuevo\n",
        "                best_acc = epoch_acc\n",
        "                best_model_wts = copy.deepcopy(model.state_dict())\n",
        "\n",
        "        print()\n",
        "\n",
        "    time_elapsed = time.time() - since\n",
        "    print('Training complete in {:.0f}m {:.0f}s'.format(\n",
        "        time_elapsed // 60, time_elapsed % 60))\n",
        "    print('Best val Acc: {:4f}'.format(best_acc))\n",
        "\n",
        "    # Descargamos las pesas más óptimas del modelo\n",
        "    model.load_state_dict(best_model_wts)\n",
        "    return model"
      ],
      "id": "2428595b-d130-4adc-a8cf-a3cdf181f23f",
      "execution_count": 14,
      "outputs": []
    },
    {
      "cell_type": "markdown",
      "metadata": {
        "id": "nYn8Td0Ag3Rf"
      },
      "source": [
        "En cada epoca se itera sobre la data."
      ],
      "id": "nYn8Td0Ag3Rf"
    },
    {
      "cell_type": "markdown",
      "metadata": {
        "id": "d4b894c7-5e3e-4214-a51b-727451f9d7a7"
      },
      "source": [
        "La siguiente función es para visualizar los resultados del modelo:"
      ],
      "id": "d4b894c7-5e3e-4214-a51b-727451f9d7a7"
    },
    {
      "cell_type": "code",
      "metadata": {
        "id": "17dc63a9-20ae-4d44-84bc-2817cdcc49e8"
      },
      "source": [
        "def visualize_model(model, num_images=6):\n",
        "    was_training = model.training\n",
        "    model.eval()    #Cambiamos a modo de evaluacion ( no cambian las pesas)\n",
        "    images_so_far = 0\n",
        "    fig = plt.figure()\n",
        "\n",
        "    with torch.no_grad():   #Evita que se cambien las pesas\n",
        "        for i, (inputs, labels) in enumerate(dataloaders['val']):\n",
        "            # Este paso manda estos objectos al \"dispositivo\", i.e. \"cpu\" o \"gpu\".\n",
        "            inputs = inputs.to(device)\n",
        "            labels = labels.to(device)\n",
        "            \n",
        "            # En este paso el modelo crea predicciones\n",
        "            outputs = model(inputs)\n",
        "            _, preds = torch.max(outputs, 1)\n",
        "\n",
        "            for j in range(inputs.size()[0]):\n",
        "                images_so_far += 1\n",
        "                ax = plt.subplot(num_images//2, 2, images_so_far)\n",
        "                ax.axis('off')\n",
        "                ax.set_title('predicted: {}'.format(class_names[preds[j]]))\n",
        "                imshow(inputs.cpu().data[j])\n",
        "\n",
        "                if images_so_far == num_images:\n",
        "                    model.train(mode=was_training)\n",
        "                    return\n",
        "        model.train(mode=was_training)"
      ],
      "id": "17dc63a9-20ae-4d44-84bc-2817cdcc49e8",
      "execution_count": 17,
      "outputs": []
    },
    {
      "cell_type": "markdown",
      "metadata": {
        "id": "54f9fc07-691f-4ca6-a8b5-e49e10cc1113"
      },
      "source": [
        "### Mejorando el modelo pre-entrenado\n",
        "\n",
        "Es ahora en esta fase donde podemos utilizar un modelo que ya haya sido completamente\n",
        "entrenado con data similar a la que tenemos.\n",
        "\n",
        "#### foto arqui resnet18\n",
        "\n",
        "<img src = 'https://i.imgur.com/XwcnU5x.png'/>\n",
        "\n",
        "Sobre las redes de convoluciones [link](https://towardsdatascience.com/intuitively-understanding-convolutions-for-deep-learning-1f6f42faee1)\n",
        "\n",
        "Para este ejemplo, utilizaremos el modelo **ResNet18** y utilizaremos sus pesas al principio:"
      ],
      "id": "54f9fc07-691f-4ca6-a8b5-e49e10cc1113"
    },
    {
      "cell_type": "code",
      "metadata": {
        "id": "pHjo4otXjbYi",
        "outputId": "e65c3da8-52ff-44ae-ffc6-00d039534831",
        "colab": {
          "base_uri": "https://localhost:8080/",
          "height": 85,
          "referenced_widgets": [
            "6f390a67f581468087c93a6a1fd49770",
            "a94a81e4096549f79524b88a20dcfdba",
            "5e403cad0ea64b0f81481d51401b5b0a",
            "778044eb314c4023868558e2daafdcac",
            "d787789ae51d4713be7de7455d7b9b8f",
            "4e65d63ea3a042e999db1c15d9394eb6",
            "30d651efe1d847c5af3c5bdaff4c67d8",
            "ae585e96ae5240c6a146b0f55c82bbdc"
          ]
        }
      },
      "source": [
        "model_ft = models.resnet18(pretrained=True)"
      ],
      "id": "pHjo4otXjbYi",
      "execution_count": 18,
      "outputs": [
        {
          "output_type": "stream",
          "text": [
            "Downloading: \"https://download.pytorch.org/models/resnet18-f37072fd.pth\" to /root/.cache/torch/hub/checkpoints/resnet18-f37072fd.pth\n"
          ],
          "name": "stderr"
        },
        {
          "output_type": "display_data",
          "data": {
            "application/vnd.jupyter.widget-view+json": {
              "model_id": "6f390a67f581468087c93a6a1fd49770",
              "version_minor": 0,
              "version_major": 2
            },
            "text/plain": [
              "HBox(children=(FloatProgress(value=0.0, max=46830571.0), HTML(value='')))"
            ]
          },
          "metadata": {
            "tags": []
          }
        },
        {
          "output_type": "stream",
          "text": [
            "\n"
          ],
          "name": "stdout"
        }
      ]
    },
    {
      "cell_type": "code",
      "metadata": {
        "id": "2VdFIh5Uj7QX",
        "outputId": "542f5c07-d724-4903-d8bb-4f6702e316ea",
        "colab": {
          "base_uri": "https://localhost:8080/"
        }
      },
      "source": [
        "model_ft.fc.in_features #Este es el numero de redes de esta arqui, la salida de la red es de 512 features"
      ],
      "id": "2VdFIh5Uj7QX",
      "execution_count": 20,
      "outputs": [
        {
          "output_type": "execute_result",
          "data": {
            "text/plain": [
              "512"
            ]
          },
          "metadata": {
            "tags": []
          },
          "execution_count": 20
        }
      ]
    },
    {
      "cell_type": "code",
      "metadata": {
        "id": "-M_EfDEpmUq_",
        "outputId": "b57c861b-7280-4e71-e059-f15551272a20",
        "colab": {
          "base_uri": "https://localhost:8080/"
        }
      },
      "source": [
        "class_names"
      ],
      "id": "-M_EfDEpmUq_",
      "execution_count": 21,
      "outputs": [
        {
          "output_type": "execute_result",
          "data": {
            "text/plain": [
              "['ants', 'bees']"
            ]
          },
          "metadata": {
            "tags": []
          },
          "execution_count": 21
        }
      ]
    },
    {
      "cell_type": "code",
      "metadata": {
        "id": "1cff5193-e2cf-4b71-91ef-9dd054e58031"
      },
      "source": [
        "# Inicializamos el modelo y extraemos el número total de \"features\"\n",
        "model_ft = models.resnet18(pretrained=True) #Esto baja el modelo ya entrenado (con False tenemos el modelo no entrenado)\n",
        "num_ftrs = model_ft.fc.in_features\n",
        "\n",
        "# En esta parte se define el \"fully-connected\" (fc) layer, la cual se utilizará\n",
        "# para definir el número total de clases que queremos. En este caso,\n",
        "# estamos interesaos en ``2`` clases, y por ellos definimos **2** con parte\n",
        "# de la arquitectura del modelo.\n",
        "# \n",
        "# Esto se puede generalizar a ``nn.Linear(num_ftrs, len(class_names))``,\n",
        "# dependiendo del número total de clasificaciones que queremos.\n",
        "model_ft.fc = nn.Linear(num_ftrs, 2)\n",
        "# Mandamos el objecto al dispositivo\n",
        "model_ft = model_ft.to(device)\n",
        "\n",
        "# En este caso decidimos el criterio / \"loss function\" de nuestro modelo.\n",
        "# Utilizaremos el ``CrossEntropyLoss`` que se utiliza frequentemente para\n",
        "# modelos de clasificación.\n",
        "criterion = nn.CrossEntropyLoss()       #Funcion de perdida\n",
        "\n",
        "# Definimos el \"optimizador\" y miramos que todos los parámetros del modelo\n",
        "# sean optimizados.\n",
        "optimizer_ft = optim.SGD(model_ft.parameters(), lr=0.001, momentum=0.9)     #momentum ,empuje al optimizador\n",
        "\n",
        "# Finalmente podemos decidir un factor, por el cuál la \"velocidad de entrenamiento\"\n",
        "# se reducirá después de cierto número de épocas.\n",
        "exp_lr_scheduler = lr_scheduler.StepLR(optimizer_ft, step_size=7, gamma=0.1)    #Como variamos la velocidad del entrenamiento"
      ],
      "id": "1cff5193-e2cf-4b71-91ef-9dd054e58031",
      "execution_count": 22,
      "outputs": []
    },
    {
      "cell_type": "markdown",
      "metadata": {
        "id": "NB2iYg0Mmp71"
      },
      "source": [
        "[CrossEntropyLoss()](https://pytorch.org/docs/stable/generated/torch.nn.CrossEntropyLoss.html)"
      ],
      "id": "NB2iYg0Mmp71"
    },
    {
      "cell_type": "markdown",
      "metadata": {
        "id": "12af9723-7933-46fe-b3d7-1c5d2030e7ec"
      },
      "source": [
        "#### Entrenando y evaluando los modelos\n",
        "\n",
        "La última fase de entrenamiendo es ... entrenar el modelo. Uno puede definir si quiere entrenar\n",
        "este modelo en un **CPU** o un **GPU**:"
      ],
      "id": "12af9723-7933-46fe-b3d7-1c5d2030e7ec"
    },
    {
      "cell_type": "code",
      "metadata": {
        "id": "44aa8180-c306-4056-9c02-4907b14c9aa7",
        "outputId": "81d16d44-8de1-4c49-b74b-69c7d83910e5",
        "colab": {
          "base_uri": "https://localhost:8080/"
        }
      },
      "source": [
        "model_ft = train_model(model_ft, criterion, optimizer_ft, exp_lr_scheduler,\n",
        "                       num_epochs=25)"
      ],
      "id": "44aa8180-c306-4056-9c02-4907b14c9aa7",
      "execution_count": 23,
      "outputs": [
        {
          "output_type": "stream",
          "text": [
            "Epoch 0/24\n",
            "----------\n"
          ],
          "name": "stdout"
        },
        {
          "output_type": "stream",
          "text": [
            "/usr/local/lib/python3.7/dist-packages/torch/utils/data/dataloader.py:481: UserWarning: This DataLoader will create 4 worker processes in total. Our suggested max number of worker in current system is 2, which is smaller than what this DataLoader is going to create. Please be aware that excessive worker creation might get DataLoader running slow or even freeze, lower the worker number to avoid potential slowness/freeze if necessary.\n",
            "  cpuset_checked))\n",
            "/usr/local/lib/python3.7/dist-packages/torch/nn/functional.py:718: UserWarning: Named tensors and all their associated APIs are an experimental feature and subject to change. Please do not use them for anything important until they are released as stable. (Triggered internally at  /pytorch/c10/core/TensorImpl.h:1156.)\n",
            "  return torch.max_pool2d(input, kernel_size, stride, padding, dilation, ceil_mode)\n"
          ],
          "name": "stderr"
        },
        {
          "output_type": "stream",
          "text": [
            "train Loss: 0.8061 Acc: 0.6762\n",
            "val Loss: 0.4865 Acc: 0.8889\n",
            "\n",
            "Epoch 1/24\n",
            "----------\n",
            "train Loss: 0.6954 Acc: 0.7623\n",
            "val Loss: 0.4164 Acc: 0.8235\n",
            "\n",
            "Epoch 2/24\n",
            "----------\n",
            "train Loss: 0.7328 Acc: 0.7336\n",
            "val Loss: 0.3121 Acc: 0.9150\n",
            "\n",
            "Epoch 3/24\n",
            "----------\n",
            "train Loss: 0.5579 Acc: 0.8033\n",
            "val Loss: 0.2250 Acc: 0.9150\n",
            "\n",
            "Epoch 4/24\n",
            "----------\n",
            "train Loss: 0.2999 Acc: 0.8852\n",
            "val Loss: 0.2856 Acc: 0.9085\n",
            "\n",
            "Epoch 5/24\n",
            "----------\n",
            "train Loss: 0.5809 Acc: 0.7910\n",
            "val Loss: 0.2119 Acc: 0.9216\n",
            "\n",
            "Epoch 6/24\n",
            "----------\n",
            "train Loss: 0.4957 Acc: 0.7910\n",
            "val Loss: 0.2588 Acc: 0.9150\n",
            "\n",
            "Epoch 7/24\n",
            "----------\n",
            "train Loss: 0.2785 Acc: 0.8770\n",
            "val Loss: 0.2890 Acc: 0.9085\n",
            "\n",
            "Epoch 8/24\n",
            "----------\n",
            "train Loss: 0.3011 Acc: 0.8689\n",
            "val Loss: 0.2654 Acc: 0.9150\n",
            "\n",
            "Epoch 9/24\n",
            "----------\n",
            "train Loss: 0.2452 Acc: 0.8975\n",
            "val Loss: 0.3015 Acc: 0.9020\n",
            "\n",
            "Epoch 10/24\n",
            "----------\n",
            "train Loss: 0.2782 Acc: 0.8852\n",
            "val Loss: 0.2729 Acc: 0.9020\n",
            "\n",
            "Epoch 11/24\n",
            "----------\n",
            "train Loss: 0.2669 Acc: 0.9016\n",
            "val Loss: 0.2736 Acc: 0.9216\n",
            "\n",
            "Epoch 12/24\n",
            "----------\n",
            "train Loss: 0.2769 Acc: 0.8893\n",
            "val Loss: 0.2391 Acc: 0.9281\n",
            "\n",
            "Epoch 13/24\n",
            "----------\n",
            "train Loss: 0.2691 Acc: 0.8893\n",
            "val Loss: 0.2690 Acc: 0.9150\n",
            "\n",
            "Epoch 14/24\n",
            "----------\n",
            "train Loss: 0.3145 Acc: 0.8811\n",
            "val Loss: 0.2573 Acc: 0.9216\n",
            "\n",
            "Epoch 15/24\n",
            "----------\n",
            "train Loss: 0.2107 Acc: 0.9139\n",
            "val Loss: 0.2410 Acc: 0.9281\n",
            "\n",
            "Epoch 16/24\n",
            "----------\n",
            "train Loss: 0.2723 Acc: 0.8689\n",
            "val Loss: 0.2428 Acc: 0.9150\n",
            "\n",
            "Epoch 17/24\n",
            "----------\n",
            "train Loss: 0.2033 Acc: 0.8975\n",
            "val Loss: 0.2464 Acc: 0.9150\n",
            "\n",
            "Epoch 18/24\n",
            "----------\n",
            "train Loss: 0.2619 Acc: 0.9016\n",
            "val Loss: 0.2699 Acc: 0.9085\n",
            "\n",
            "Epoch 19/24\n",
            "----------\n",
            "train Loss: 0.3220 Acc: 0.8730\n",
            "val Loss: 0.2455 Acc: 0.9150\n",
            "\n",
            "Epoch 20/24\n",
            "----------\n",
            "train Loss: 0.2661 Acc: 0.8893\n",
            "val Loss: 0.2325 Acc: 0.9216\n",
            "\n",
            "Epoch 21/24\n",
            "----------\n",
            "train Loss: 0.3205 Acc: 0.8730\n",
            "val Loss: 0.2352 Acc: 0.9346\n",
            "\n",
            "Epoch 22/24\n",
            "----------\n",
            "train Loss: 0.2464 Acc: 0.8975\n",
            "val Loss: 0.2567 Acc: 0.9216\n",
            "\n",
            "Epoch 23/24\n",
            "----------\n",
            "train Loss: 0.2704 Acc: 0.8852\n",
            "val Loss: 0.2337 Acc: 0.9150\n",
            "\n",
            "Epoch 24/24\n",
            "----------\n",
            "train Loss: 0.2459 Acc: 0.8934\n",
            "val Loss: 0.2484 Acc: 0.9150\n",
            "\n",
            "Training complete in 1m 29s\n",
            "Best val Acc: 0.934641\n"
          ],
          "name": "stdout"
        }
      ]
    },
    {
      "cell_type": "markdown",
      "metadata": {
        "id": "8501fb79-a446-4af0-ad9b-6c330821331b"
      },
      "source": [
        "Ahora podemos visualizar algunas de las predicciones del modelo:"
      ],
      "id": "8501fb79-a446-4af0-ad9b-6c330821331b"
    },
    {
      "cell_type": "code",
      "metadata": {
        "id": "9445cd45-9878-4afb-b9d7-76b36979ddb4",
        "outputId": "738d4782-1eab-422a-c823-d699ecbc3d5a",
        "colab": {
          "base_uri": "https://localhost:8080/",
          "height": 637
        }
      },
      "source": [
        "visualize_model(model_ft)"
      ],
      "id": "9445cd45-9878-4afb-b9d7-76b36979ddb4",
      "execution_count": 30,
      "outputs": [
        {
          "output_type": "stream",
          "text": [
            "/usr/local/lib/python3.7/dist-packages/torch/utils/data/dataloader.py:481: UserWarning: This DataLoader will create 4 worker processes in total. Our suggested max number of worker in current system is 2, which is smaller than what this DataLoader is going to create. Please be aware that excessive worker creation might get DataLoader running slow or even freeze, lower the worker number to avoid potential slowness/freeze if necessary.\n",
            "  cpuset_checked))\n"
          ],
          "name": "stderr"
        },
        {
          "output_type": "display_data",
          "data": {
            "image/png": "[encoded data removed]",
            "text/plain": [
              "<Figure size 432x288 with 1 Axes>"
            ]
          },
          "metadata": {
            "tags": [],
            "needs_background": "light"
          }
        },
        {
          "output_type": "display_data",
          "data": {
            "image/png": "[encoded data removed]",
            "text/plain": [
              "<Figure size 432x288 with 1 Axes>"
            ]
          },
          "metadata": {
            "tags": [],
            "needs_background": "light"
          }
        },
        {
          "output_type": "display_data",
          "data": {
            "image/png": "[encoded data removed]",
            "text/plain": [
              "<Figure size 432x288 with 1 Axes>"
            ]
          },
          "metadata": {
            "tags": [],
            "needs_background": "light"
          }
        },
        {
          "output_type": "display_data",
          "data": {
            "image/png": "[encoded data removed]",
            "text/plain": [
              "<Figure size 432x288 with 1 Axes>"
            ]
          },
          "metadata": {
            "tags": [],
            "needs_background": "light"
          }
        },
        {
          "output_type": "display_data",
          "data": {
            "image/png": "[encoded data removed]",
            "text/plain": [
              "<Figure size 432x288 with 1 Axes>"
            ]
          },
          "metadata": {
            "tags": [],
            "needs_background": "light"
          }
        },
        {
          "output_type": "display_data",
          "data": {
            "image/png": "[encoded data removed]",
            "text/plain": [
              "<Figure size 432x288 with 1 Axes>"
            ]
          },
          "metadata": {
            "tags": [],
            "needs_background": "light"
          }
        }
      ]
    },
    {
      "cell_type": "markdown",
      "metadata": {
        "id": "76fd5f33-9024-45ca-9bce-cc497cd101af"
      },
      "source": [
        "#### Entranando de nuevo el modelo, pero con nuestra data.\n",
        "\n",
        "Ahora que ya hemos entrenado nuestro modelo con un modelo pre-entrenado, ahora podemos\n",
        "cambiar de estrategia y utilizar \"transfer learning\" para entrenar otro modelo con nuestros datos:"
      ],
      "id": "76fd5f33-9024-45ca-9bce-cc497cd101af"
    },
    {
      "cell_type": "code",
      "metadata": {
        "id": "6bc9f646-6a23-4d9c-bf28-124d0dbee457"
      },
      "source": [
        "# Ahora vamos a utilizar las pesas de este modelo y entrenarlo con nuestra data.\n",
        "model_conv = torchvision.models.resnet18(pretrained=True)\n",
        "for param in model_conv.parameters():   #Revizamos los paramentros optilizados del modelo\n",
        "    param.requires_grad = False     #decimos k no calcule las derivadas\n",
        "\n",
        "# Volvemos a definir la forma del \"fully-connected\" layer para que tengo una salida\n",
        "# de *2* clases.\n",
        "num_ftrs = model_conv.fc.in_features\n",
        "model_conv.fc = nn.Linear(num_ftrs, 2)\n",
        "\n",
        "# Mandamos el objeto al \"CPU\" o \"GPU\"\n",
        "model_conv = model_conv.to(device)\n",
        "\n",
        "# Loss function / Criterio\n",
        "criterion = nn.CrossEntropyLoss()\n",
        "\n",
        "# En este caso los parámetros de la \"última capa\" son optimizados.\n",
        "# En el ejemplo anterior, esto no fue así.\n",
        "optimizer_conv = optim.SGD(model_conv.fc.parameters(), lr=0.001, momentum=0.9)\n",
        "\n",
        "# Finalmente podemos decidir un factor, por el cuál la \"velocidad de entrenamiento\"\n",
        "# se reducirá después de cierto número de épocas.\n",
        "exp_lr_scheduler = lr_scheduler.StepLR(optimizer_conv, step_size=7, gamma=0.1)"
      ],
      "id": "6bc9f646-6a23-4d9c-bf28-124d0dbee457",
      "execution_count": 26,
      "outputs": []
    },
    {
      "cell_type": "markdown",
      "metadata": {
        "id": "0d674637-dbf6-4456-98b5-7087c6e6e576"
      },
      "source": [
        "Una vez más entrenamos el modelo:"
      ],
      "id": "0d674637-dbf6-4456-98b5-7087c6e6e576"
    },
    {
      "cell_type": "code",
      "metadata": {
        "id": "890e4318-c70f-4bf9-ad81-621622de55d3",
        "outputId": "37101ab7-ad00-4e69-c1dc-6bdcef801329",
        "colab": {
          "base_uri": "https://localhost:8080/"
        }
      },
      "source": [
        "model_conv = train_model(model_conv, criterion, optimizer_conv,\n",
        "                         exp_lr_scheduler, num_epochs=25)"
      ],
      "id": "890e4318-c70f-4bf9-ad81-621622de55d3",
      "execution_count": 27,
      "outputs": [
        {
          "output_type": "stream",
          "text": [
            "Epoch 0/24\n",
            "----------\n"
          ],
          "name": "stdout"
        },
        {
          "output_type": "stream",
          "text": [
            "/usr/local/lib/python3.7/dist-packages/torch/utils/data/dataloader.py:481: UserWarning: This DataLoader will create 4 worker processes in total. Our suggested max number of worker in current system is 2, which is smaller than what this DataLoader is going to create. Please be aware that excessive worker creation might get DataLoader running slow or even freeze, lower the worker number to avoid potential slowness/freeze if necessary.\n",
            "  cpuset_checked))\n"
          ],
          "name": "stderr"
        },
        {
          "output_type": "stream",
          "text": [
            "train Loss: 0.6187 Acc: 0.6639\n",
            "val Loss: 0.5311 Acc: 0.7647\n",
            "\n",
            "Epoch 1/24\n",
            "----------\n",
            "train Loss: 0.6075 Acc: 0.7295\n",
            "val Loss: 0.2115 Acc: 0.9542\n",
            "\n",
            "Epoch 2/24\n",
            "----------\n",
            "train Loss: 0.4152 Acc: 0.8033\n",
            "val Loss: 0.2118 Acc: 0.9216\n",
            "\n",
            "Epoch 3/24\n",
            "----------\n",
            "train Loss: 0.4204 Acc: 0.8074\n",
            "val Loss: 0.3062 Acc: 0.8758\n",
            "\n",
            "Epoch 4/24\n",
            "----------\n",
            "train Loss: 0.3974 Acc: 0.8197\n",
            "val Loss: 0.1999 Acc: 0.9542\n",
            "\n",
            "Epoch 5/24\n",
            "----------\n",
            "train Loss: 0.4685 Acc: 0.8074\n",
            "val Loss: 0.1936 Acc: 0.9542\n",
            "\n",
            "Epoch 6/24\n",
            "----------\n",
            "train Loss: 0.5083 Acc: 0.7951\n",
            "val Loss: 0.2148 Acc: 0.9281\n",
            "\n",
            "Epoch 7/24\n",
            "----------\n",
            "train Loss: 0.3455 Acc: 0.8484\n",
            "val Loss: 0.1870 Acc: 0.9477\n",
            "\n",
            "Epoch 8/24\n",
            "----------\n",
            "train Loss: 0.2929 Acc: 0.8730\n",
            "val Loss: 0.2322 Acc: 0.9216\n",
            "\n",
            "Epoch 9/24\n",
            "----------\n",
            "train Loss: 0.3992 Acc: 0.8197\n",
            "val Loss: 0.1976 Acc: 0.9412\n",
            "\n",
            "Epoch 10/24\n",
            "----------\n",
            "train Loss: 0.3226 Acc: 0.8361\n",
            "val Loss: 0.1819 Acc: 0.9412\n",
            "\n",
            "Epoch 11/24\n",
            "----------\n",
            "train Loss: 0.3416 Acc: 0.8648\n",
            "val Loss: 0.1867 Acc: 0.9477\n",
            "\n",
            "Epoch 12/24\n",
            "----------\n",
            "train Loss: 0.3861 Acc: 0.8320\n",
            "val Loss: 0.1942 Acc: 0.9477\n",
            "\n",
            "Epoch 13/24\n",
            "----------\n",
            "train Loss: 0.3257 Acc: 0.8607\n",
            "val Loss: 0.2083 Acc: 0.9281\n",
            "\n",
            "Epoch 14/24\n",
            "----------\n",
            "train Loss: 0.3750 Acc: 0.8361\n",
            "val Loss: 0.1819 Acc: 0.9477\n",
            "\n",
            "Epoch 15/24\n",
            "----------\n",
            "train Loss: 0.3973 Acc: 0.8238\n",
            "val Loss: 0.2018 Acc: 0.9412\n",
            "\n",
            "Epoch 16/24\n",
            "----------\n",
            "train Loss: 0.2793 Acc: 0.8770\n",
            "val Loss: 0.1804 Acc: 0.9477\n",
            "\n",
            "Epoch 17/24\n",
            "----------\n",
            "train Loss: 0.2549 Acc: 0.8811\n",
            "val Loss: 0.2149 Acc: 0.9216\n",
            "\n",
            "Epoch 18/24\n",
            "----------\n",
            "train Loss: 0.3601 Acc: 0.8320\n",
            "val Loss: 0.1868 Acc: 0.9477\n",
            "\n",
            "Epoch 19/24\n",
            "----------\n",
            "train Loss: 0.2607 Acc: 0.8975\n",
            "val Loss: 0.2257 Acc: 0.9281\n",
            "\n",
            "Epoch 20/24\n",
            "----------\n",
            "train Loss: 0.3195 Acc: 0.8443\n",
            "val Loss: 0.2057 Acc: 0.9477\n",
            "\n",
            "Epoch 21/24\n",
            "----------\n",
            "train Loss: 0.3902 Acc: 0.8197\n",
            "val Loss: 0.2113 Acc: 0.9281\n",
            "\n",
            "Epoch 22/24\n",
            "----------\n",
            "train Loss: 0.3439 Acc: 0.8443\n",
            "val Loss: 0.1879 Acc: 0.9542\n",
            "\n",
            "Epoch 23/24\n",
            "----------\n",
            "train Loss: 0.3303 Acc: 0.8566\n",
            "val Loss: 0.2042 Acc: 0.9412\n",
            "\n",
            "Epoch 24/24\n",
            "----------\n",
            "train Loss: 0.2424 Acc: 0.8934\n",
            "val Loss: 0.1821 Acc: 0.9477\n",
            "\n",
            "Training complete in 1m 20s\n",
            "Best val Acc: 0.954248\n"
          ],
          "name": "stdout"
        }
      ]
    },
    {
      "cell_type": "markdown",
      "metadata": {
        "id": "5db70c46-3539-411c-8d64-9d6891c56fcb"
      },
      "source": [
        "Y visualizamos los resultados:"
      ],
      "id": "5db70c46-3539-411c-8d64-9d6891c56fcb"
    },
    {
      "cell_type": "code",
      "metadata": {
        "id": "fea0d5b0-056d-45c8-bb7e-0540d9344834",
        "outputId": "72bcc594-939f-46d3-806d-319f6db9c626",
        "colab": {
          "base_uri": "https://localhost:8080/",
          "height": 637
        }
      },
      "source": [
        "visualize_model(model_conv)\n",
        "\n",
        "plt.ioff()\n",
        "plt.show()"
      ],
      "id": "fea0d5b0-056d-45c8-bb7e-0540d9344834",
      "execution_count": 29,
      "outputs": [
        {
          "output_type": "stream",
          "text": [
            "/usr/local/lib/python3.7/dist-packages/torch/utils/data/dataloader.py:481: UserWarning: This DataLoader will create 4 worker processes in total. Our suggested max number of worker in current system is 2, which is smaller than what this DataLoader is going to create. Please be aware that excessive worker creation might get DataLoader running slow or even freeze, lower the worker number to avoid potential slowness/freeze if necessary.\n",
            "  cpuset_checked))\n"
          ],
          "name": "stderr"
        },
        {
          "output_type": "display_data",
          "data": {
            "image/png": "[encoded data removed]",
            "text/plain": [
              "<Figure size 432x288 with 1 Axes>"
            ]
          },
          "metadata": {
            "tags": [],
            "needs_background": "light"
          }
        },
        {
          "output_type": "display_data",
          "data": {
            "image/png": "[encoded data removed]",
            "text/plain": [
              "<Figure size 432x288 with 1 Axes>"
            ]
          },
          "metadata": {
            "tags": [],
            "needs_background": "light"
          }
        },
        {
          "output_type": "display_data",
          "data": {
            "image/png": "[encoded data removed]",
            "text/plain": [
              "<Figure size 432x288 with 1 Axes>"
            ]
          },
          "metadata": {
            "tags": [],
            "needs_background": "light"
          }
        },
        {
          "output_type": "display_data",
          "data": {
            "image/png": "[encoded data removed]",
            "text/plain": [
              "<Figure size 432x288 with 1 Axes>"
            ]
          },
          "metadata": {
            "tags": [],
            "needs_background": "light"
          }
        },
        {
          "output_type": "display_data",
          "data": {
            "image/png": "[encoded data removed]",
            "text/plain": [
              "<Figure size 432x288 with 1 Axes>"
            ]
          },
          "metadata": {
            "tags": [],
            "needs_background": "light"
          }
        },
        {
          "output_type": "display_data",
          "data": {
            "image/png": "[encoded data removed]",
            "text/plain": [
              "<Figure size 432x288 with 1 Axes>"
            ]
          },
          "metadata": {
            "tags": [],
            "needs_background": "light"
          }
        }
      ]
    },
    {
      "cell_type": "code",
      "metadata": {
        "id": "ff0554ed-ae0e-45bd-b0e4-cc68f1a8116e"
      },
      "source": [
        ""
      ],
      "id": "ff0554ed-ae0e-45bd-b0e4-cc68f1a8116e",
      "execution_count": null,
      "outputs": []
    }
  ]
}