{
  "nbformat": 4,
  "nbformat_minor": 5,
  "metadata": {
    "kernelspec": {
      "display_name": "Python 3",
      "language": "python",
      "name": "python3"
    },
    "language_info": {
      "codemirror_mode": {
        "name": "ipython",
        "version": 3
      },
      "file_extension": ".py",
      "mimetype": "text/x-python",
      "name": "python",
      "nbconvert_exporter": "python",
      "pygments_lexer": "ipython3",
      "version": "3.7.9"
    },
    "colab": {
      "name": "000-Introduction-to-Pytorch.ipynb",
      "provenance": []
    }
  },
  "cells": [
    {
      "cell_type": "markdown",
      "metadata": {
        "id": "3d9bd2ad-003f-43af-aed9-4d33793c8bb5"
      },
      "source": [
        "# Introducción a Pytorch\n",
        "\n",
        "**Fecha** : 2021-06-28\n",
        "\n",
        "## Outline\n",
        "\n",
        "- ¿Qué es Pytorch?\n",
        "    - Tensores (vectores, matrices, etc.)\n",
        "        - Son como las listas de numpy, y se utilizan para las entradas y salidas de los modelos.\n",
        "        - Los modelos tienen muchas capas, se aplica softmax, que es la prob de que una figura sea un garo o un pajaro, etc.\n",
        "    - Tipos de elements\n",
        "\n",
        "Lo desarrollo fb y ayuda a hacer todo lo que es el modelaje de forma mas simple\n",
        "\n",
        "Es mas utilizado en industria. Para academia se utiliza mas tensorflow."
      ],
      "id": "3d9bd2ad-003f-43af-aed9-4d33793c8bb5"
    },
    {
      "cell_type": "markdown",
      "metadata": {
        "id": "9d7152d2-97c2-4800-90f6-f279a1e7bcd6"
      },
      "source": [
        "### 1 - Tensores\n",
        "\n",
        "Los tensores son los elementos que se usan como entradas y salidas de un modelo, al igual que que se\n",
        "pueden usar como los parámetros del modelo.\n",
        "\n",
        "Los tensores se parecen mucho a los `numpy arrays`. Una de las diferencias es que los tensores\n",
        "se pueden usar en hardware como un GPU para acelerar el procesamiento de modelos de Deep Learning.\n",
        "Los tensores también son objectos que se pueden optimizar, lo cual ayudará mucho para cuando se \n",
        "esté entrenando un modelo.\n",
        "\n",
        "#### 1.1 Iniciando un tensor\n",
        "\n",
        "Para empezar a utilizar los tensores de Pytorch, uno tiene primero que importar el módulo a la\n",
        "sesión actual:"
      ],
      "id": "9d7152d2-97c2-4800-90f6-f279a1e7bcd6"
    },
    {
      "cell_type": "code",
      "metadata": {
        "id": "77345454-d06d-4f51-bad7-961387abdd3e",
        "outputId": "0f1379f6-acfc-493e-abf3-b32042aadbf8",
        "colab": {
          "base_uri": "https://localhost:8080/",
          "height": 576
        }
      },
      "source": [
        "%load_ext lab_black\n",
        "    \n",
        "# Importando módulos\n",
        "import torch\n",
        "import numpy as np"
      ],
      "id": "77345454-d06d-4f51-bad7-961387abdd3e",
      "execution_count": 1,
      "outputs": [
        {
          "output_type": "error",
          "ename": "ModuleNotFoundError",
          "evalue": "ignored",
          "traceback": [
            "\u001b[0;31m---------------------------------------------------------------------------\u001b[0m",
            "\u001b[0;31mModuleNotFoundError\u001b[0m                       Traceback (most recent call last)",
            "\u001b[0;32m<ipython-input-1-185f09f81288>\u001b[0m in \u001b[0;36m<module>\u001b[0;34m()\u001b[0m\n\u001b[0;32m----> 1\u001b[0;31m \u001b[0mget_ipython\u001b[0m\u001b[0;34m(\u001b[0m\u001b[0;34m)\u001b[0m\u001b[0;34m.\u001b[0m\u001b[0mmagic\u001b[0m\u001b[0;34m(\u001b[0m\u001b[0;34m'load_ext lab_black'\u001b[0m\u001b[0;34m)\u001b[0m\u001b[0;34m\u001b[0m\u001b[0;34m\u001b[0m\u001b[0m\n\u001b[0m\u001b[1;32m      2\u001b[0m \u001b[0;34m\u001b[0m\u001b[0m\n\u001b[1;32m      3\u001b[0m \u001b[0;31m# Importando módulos\u001b[0m\u001b[0;34m\u001b[0m\u001b[0;34m\u001b[0m\u001b[0;34m\u001b[0m\u001b[0m\n\u001b[1;32m      4\u001b[0m \u001b[0;32mimport\u001b[0m \u001b[0mtorch\u001b[0m\u001b[0;34m\u001b[0m\u001b[0;34m\u001b[0m\u001b[0m\n\u001b[1;32m      5\u001b[0m \u001b[0;32mimport\u001b[0m \u001b[0mnumpy\u001b[0m \u001b[0;32mas\u001b[0m \u001b[0mnp\u001b[0m\u001b[0;34m\u001b[0m\u001b[0;34m\u001b[0m\u001b[0m\n",
            "\u001b[0;32m/usr/local/lib/python3.7/dist-packages/IPython/core/interactiveshell.py\u001b[0m in \u001b[0;36mmagic\u001b[0;34m(self, arg_s)\u001b[0m\n\u001b[1;32m   2158\u001b[0m         \u001b[0mmagic_name\u001b[0m\u001b[0;34m,\u001b[0m \u001b[0m_\u001b[0m\u001b[0;34m,\u001b[0m \u001b[0mmagic_arg_s\u001b[0m \u001b[0;34m=\u001b[0m \u001b[0marg_s\u001b[0m\u001b[0;34m.\u001b[0m\u001b[0mpartition\u001b[0m\u001b[0;34m(\u001b[0m\u001b[0;34m' '\u001b[0m\u001b[0;34m)\u001b[0m\u001b[0;34m\u001b[0m\u001b[0;34m\u001b[0m\u001b[0m\n\u001b[1;32m   2159\u001b[0m         \u001b[0mmagic_name\u001b[0m \u001b[0;34m=\u001b[0m \u001b[0mmagic_name\u001b[0m\u001b[0;34m.\u001b[0m\u001b[0mlstrip\u001b[0m\u001b[0;34m(\u001b[0m\u001b[0mprefilter\u001b[0m\u001b[0;34m.\u001b[0m\u001b[0mESC_MAGIC\u001b[0m\u001b[0;34m)\u001b[0m\u001b[0;34m\u001b[0m\u001b[0;34m\u001b[0m\u001b[0m\n\u001b[0;32m-> 2160\u001b[0;31m         \u001b[0;32mreturn\u001b[0m \u001b[0mself\u001b[0m\u001b[0;34m.\u001b[0m\u001b[0mrun_line_magic\u001b[0m\u001b[0;34m(\u001b[0m\u001b[0mmagic_name\u001b[0m\u001b[0;34m,\u001b[0m \u001b[0mmagic_arg_s\u001b[0m\u001b[0;34m)\u001b[0m\u001b[0;34m\u001b[0m\u001b[0;34m\u001b[0m\u001b[0m\n\u001b[0m\u001b[1;32m   2161\u001b[0m \u001b[0;34m\u001b[0m\u001b[0m\n\u001b[1;32m   2162\u001b[0m     \u001b[0;31m#-------------------------------------------------------------------------\u001b[0m\u001b[0;34m\u001b[0m\u001b[0;34m\u001b[0m\u001b[0;34m\u001b[0m\u001b[0m\n",
            "\u001b[0;32m/usr/local/lib/python3.7/dist-packages/IPython/core/interactiveshell.py\u001b[0m in \u001b[0;36mrun_line_magic\u001b[0;34m(self, magic_name, line)\u001b[0m\n\u001b[1;32m   2079\u001b[0m                 \u001b[0mkwargs\u001b[0m\u001b[0;34m[\u001b[0m\u001b[0;34m'local_ns'\u001b[0m\u001b[0;34m]\u001b[0m \u001b[0;34m=\u001b[0m \u001b[0msys\u001b[0m\u001b[0;34m.\u001b[0m\u001b[0m_getframe\u001b[0m\u001b[0;34m(\u001b[0m\u001b[0mstack_depth\u001b[0m\u001b[0;34m)\u001b[0m\u001b[0;34m.\u001b[0m\u001b[0mf_locals\u001b[0m\u001b[0;34m\u001b[0m\u001b[0;34m\u001b[0m\u001b[0m\n\u001b[1;32m   2080\u001b[0m             \u001b[0;32mwith\u001b[0m \u001b[0mself\u001b[0m\u001b[0;34m.\u001b[0m\u001b[0mbuiltin_trap\u001b[0m\u001b[0;34m:\u001b[0m\u001b[0;34m\u001b[0m\u001b[0;34m\u001b[0m\u001b[0m\n\u001b[0;32m-> 2081\u001b[0;31m                 \u001b[0mresult\u001b[0m \u001b[0;34m=\u001b[0m \u001b[0mfn\u001b[0m\u001b[0;34m(\u001b[0m\u001b[0;34m*\u001b[0m\u001b[0margs\u001b[0m\u001b[0;34m,\u001b[0m\u001b[0;34m**\u001b[0m\u001b[0mkwargs\u001b[0m\u001b[0;34m)\u001b[0m\u001b[0;34m\u001b[0m\u001b[0;34m\u001b[0m\u001b[0m\n\u001b[0m\u001b[1;32m   2082\u001b[0m             \u001b[0;32mreturn\u001b[0m \u001b[0mresult\u001b[0m\u001b[0;34m\u001b[0m\u001b[0;34m\u001b[0m\u001b[0m\n\u001b[1;32m   2083\u001b[0m \u001b[0;34m\u001b[0m\u001b[0m\n",
            "\u001b[0;32m<decorator-gen-56>\u001b[0m in \u001b[0;36mload_ext\u001b[0;34m(self, module_str)\u001b[0m\n",
            "\u001b[0;32m/usr/local/lib/python3.7/dist-packages/IPython/core/magic.py\u001b[0m in \u001b[0;36m<lambda>\u001b[0;34m(f, *a, **k)\u001b[0m\n\u001b[1;32m    186\u001b[0m     \u001b[0;31m# but it's overkill for just that one bit of state.\u001b[0m\u001b[0;34m\u001b[0m\u001b[0;34m\u001b[0m\u001b[0;34m\u001b[0m\u001b[0m\n\u001b[1;32m    187\u001b[0m     \u001b[0;32mdef\u001b[0m \u001b[0mmagic_deco\u001b[0m\u001b[0;34m(\u001b[0m\u001b[0marg\u001b[0m\u001b[0;34m)\u001b[0m\u001b[0;34m:\u001b[0m\u001b[0;34m\u001b[0m\u001b[0;34m\u001b[0m\u001b[0m\n\u001b[0;32m--> 188\u001b[0;31m         \u001b[0mcall\u001b[0m \u001b[0;34m=\u001b[0m \u001b[0;32mlambda\u001b[0m \u001b[0mf\u001b[0m\u001b[0;34m,\u001b[0m \u001b[0;34m*\u001b[0m\u001b[0ma\u001b[0m\u001b[0;34m,\u001b[0m \u001b[0;34m**\u001b[0m\u001b[0mk\u001b[0m\u001b[0;34m:\u001b[0m \u001b[0mf\u001b[0m\u001b[0;34m(\u001b[0m\u001b[0;34m*\u001b[0m\u001b[0ma\u001b[0m\u001b[0;34m,\u001b[0m \u001b[0;34m**\u001b[0m\u001b[0mk\u001b[0m\u001b[0;34m)\u001b[0m\u001b[0;34m\u001b[0m\u001b[0;34m\u001b[0m\u001b[0m\n\u001b[0m\u001b[1;32m    189\u001b[0m \u001b[0;34m\u001b[0m\u001b[0m\n\u001b[1;32m    190\u001b[0m         \u001b[0;32mif\u001b[0m \u001b[0mcallable\u001b[0m\u001b[0;34m(\u001b[0m\u001b[0marg\u001b[0m\u001b[0;34m)\u001b[0m\u001b[0;34m:\u001b[0m\u001b[0;34m\u001b[0m\u001b[0;34m\u001b[0m\u001b[0m\n",
            "\u001b[0;32m/usr/local/lib/python3.7/dist-packages/IPython/core/magics/extension.py\u001b[0m in \u001b[0;36mload_ext\u001b[0;34m(self, module_str)\u001b[0m\n\u001b[1;32m     35\u001b[0m         \u001b[0;32mif\u001b[0m \u001b[0;32mnot\u001b[0m \u001b[0mmodule_str\u001b[0m\u001b[0;34m:\u001b[0m\u001b[0;34m\u001b[0m\u001b[0;34m\u001b[0m\u001b[0m\n\u001b[1;32m     36\u001b[0m             \u001b[0;32mraise\u001b[0m \u001b[0mUsageError\u001b[0m\u001b[0;34m(\u001b[0m\u001b[0;34m'Missing module name.'\u001b[0m\u001b[0;34m)\u001b[0m\u001b[0;34m\u001b[0m\u001b[0;34m\u001b[0m\u001b[0m\n\u001b[0;32m---> 37\u001b[0;31m         \u001b[0mres\u001b[0m \u001b[0;34m=\u001b[0m \u001b[0mself\u001b[0m\u001b[0;34m.\u001b[0m\u001b[0mshell\u001b[0m\u001b[0;34m.\u001b[0m\u001b[0mextension_manager\u001b[0m\u001b[0;34m.\u001b[0m\u001b[0mload_extension\u001b[0m\u001b[0;34m(\u001b[0m\u001b[0mmodule_str\u001b[0m\u001b[0;34m)\u001b[0m\u001b[0;34m\u001b[0m\u001b[0;34m\u001b[0m\u001b[0m\n\u001b[0m\u001b[1;32m     38\u001b[0m \u001b[0;34m\u001b[0m\u001b[0m\n\u001b[1;32m     39\u001b[0m         \u001b[0;32mif\u001b[0m \u001b[0mres\u001b[0m \u001b[0;34m==\u001b[0m \u001b[0;34m'already loaded'\u001b[0m\u001b[0;34m:\u001b[0m\u001b[0;34m\u001b[0m\u001b[0;34m\u001b[0m\u001b[0m\n",
            "\u001b[0;32m/usr/local/lib/python3.7/dist-packages/IPython/core/extensions.py\u001b[0m in \u001b[0;36mload_extension\u001b[0;34m(self, module_str)\u001b[0m\n\u001b[1;32m     81\u001b[0m             \u001b[0;32mif\u001b[0m \u001b[0mmodule_str\u001b[0m \u001b[0;32mnot\u001b[0m \u001b[0;32min\u001b[0m \u001b[0msys\u001b[0m\u001b[0;34m.\u001b[0m\u001b[0mmodules\u001b[0m\u001b[0;34m:\u001b[0m\u001b[0;34m\u001b[0m\u001b[0;34m\u001b[0m\u001b[0m\n\u001b[1;32m     82\u001b[0m                 \u001b[0;32mwith\u001b[0m \u001b[0mprepended_to_syspath\u001b[0m\u001b[0;34m(\u001b[0m\u001b[0mself\u001b[0m\u001b[0;34m.\u001b[0m\u001b[0mipython_extension_dir\u001b[0m\u001b[0;34m)\u001b[0m\u001b[0;34m:\u001b[0m\u001b[0;34m\u001b[0m\u001b[0;34m\u001b[0m\u001b[0m\n\u001b[0;32m---> 83\u001b[0;31m                     \u001b[0m__import__\u001b[0m\u001b[0;34m(\u001b[0m\u001b[0mmodule_str\u001b[0m\u001b[0;34m)\u001b[0m\u001b[0;34m\u001b[0m\u001b[0;34m\u001b[0m\u001b[0m\n\u001b[0m\u001b[1;32m     84\u001b[0m             \u001b[0mmod\u001b[0m \u001b[0;34m=\u001b[0m \u001b[0msys\u001b[0m\u001b[0;34m.\u001b[0m\u001b[0mmodules\u001b[0m\u001b[0;34m[\u001b[0m\u001b[0mmodule_str\u001b[0m\u001b[0;34m]\u001b[0m\u001b[0;34m\u001b[0m\u001b[0;34m\u001b[0m\u001b[0m\n\u001b[1;32m     85\u001b[0m             \u001b[0;32mif\u001b[0m \u001b[0mself\u001b[0m\u001b[0;34m.\u001b[0m\u001b[0m_call_load_ipython_extension\u001b[0m\u001b[0;34m(\u001b[0m\u001b[0mmod\u001b[0m\u001b[0;34m)\u001b[0m\u001b[0;34m:\u001b[0m\u001b[0;34m\u001b[0m\u001b[0;34m\u001b[0m\u001b[0m\n",
            "\u001b[0;31mModuleNotFoundError\u001b[0m: No module named 'lab_black'",
            "",
            "\u001b[0;31m---------------------------------------------------------------------------\u001b[0;32m\nNOTE: If your import is failing due to a missing package, you can\nmanually install dependencies using either !pip or !apt.\n\nTo view examples of installing some common dependencies, click the\n\"Open Examples\" button below.\n\u001b[0;31m---------------------------------------------------------------------------\u001b[0m\n"
          ]
        }
      ]
    },
    {
      "cell_type": "markdown",
      "metadata": {
        "id": "27fcac2b-56bc-41d7-91a3-c0404d4bbb4b"
      },
      "source": [
        "Uno puede definir un tensor simplemente con: "
      ],
      "id": "27fcac2b-56bc-41d7-91a3-c0404d4bbb4b"
    },
    {
      "cell_type": "code",
      "metadata": {
        "id": "5990913f-e222-4764-9334-3f413760f891"
      },
      "source": [
        "x = torch.empty(1)\n",
        "print(x)"
      ],
      "id": "5990913f-e222-4764-9334-3f413760f891",
      "execution_count": null,
      "outputs": []
    },
    {
      "cell_type": "markdown",
      "metadata": {
        "id": "4b4650ae-7cab-4024-b66a-4ec1b99b70e0"
      },
      "source": [
        "Este tensor en un valor escalar, y por lo tanto se puede extraer su valor con:"
      ],
      "id": "4b4650ae-7cab-4024-b66a-4ec1b99b70e0"
    },
    {
      "cell_type": "code",
      "metadata": {
        "id": "44c5c5fe-fd10-4963-982b-891210f8eafe"
      },
      "source": [
        "x.item()"
      ],
      "id": "44c5c5fe-fd10-4963-982b-891210f8eafe",
      "execution_count": null,
      "outputs": []
    },
    {
      "cell_type": "markdown",
      "metadata": {
        "id": "c01235f9-74bd-4016-8fff-732cddc52888"
      },
      "source": [
        "Similarmente, uno puede definir un tensor de varios elementos:"
      ],
      "id": "c01235f9-74bd-4016-8fff-732cddc52888"
    },
    {
      "cell_type": "code",
      "metadata": {
        "id": "f6055040-3600-4b77-8601-1ea2adb7e77d"
      },
      "source": [
        "# Vector de 3 elements y 1 eje\n",
        "x = torch.empty(3)\n",
        "print(x)"
      ],
      "id": "f6055040-3600-4b77-8601-1ea2adb7e77d",
      "execution_count": null,
      "outputs": []
    },
    {
      "cell_type": "markdown",
      "metadata": {
        "id": "67dd9869-1bbe-418f-9ee2-266637cea714"
      },
      "source": [
        "Ya cuando los modelos son más complejos y requieren de más dimensiones, Pytorch lo deja a uno\n",
        "definir tensores de varias dimensiones. Esto es conveniente cuando se tienen modelos con varias\n",
        "capas ocultas de varias dimensiones:"
      ],
      "id": "67dd9869-1bbe-418f-9ee2-266637cea714"
    },
    {
      "cell_type": "code",
      "metadata": {
        "id": "5a3c1496-dfd1-4ab3-825f-8eaaf01ef2f3"
      },
      "source": [
        "x = torch.empty(2, 3)\n",
        "print(x)"
      ],
      "id": "5a3c1496-dfd1-4ab3-825f-8eaaf01ef2f3",
      "execution_count": null,
      "outputs": []
    },
    {
      "cell_type": "code",
      "metadata": {
        "id": "97178d30-e586-41a4-b463-d3cf2f88aa73"
      },
      "source": [
        "x = torch.empty(2, 2, 2, 3)\n",
        "print(x)"
      ],
      "id": "97178d30-e586-41a4-b463-d3cf2f88aa73",
      "execution_count": null,
      "outputs": []
    },
    {
      "cell_type": "code",
      "metadata": {
        "id": "04d8410f-4cdd-4699-b8cb-43a82106949a"
      },
      "source": [
        "# Ver el tamaño del tensor\n",
        "print(x.size())"
      ],
      "id": "04d8410f-4cdd-4699-b8cb-43a82106949a",
      "execution_count": null,
      "outputs": []
    },
    {
      "cell_type": "markdown",
      "metadata": {
        "id": "5c4e3530-2b08-4151-8864-bc8ea6d52d4e"
      },
      "source": [
        "O también se puede ver el número total de elementos en el tensor:"
      ],
      "id": "5c4e3530-2b08-4151-8864-bc8ea6d52d4e"
    },
    {
      "cell_type": "code",
      "metadata": {
        "id": "f989c07b-0769-40f0-88a4-01a3c2120ebf"
      },
      "source": [
        "print(x.numel())"
      ],
      "id": "f989c07b-0769-40f0-88a4-01a3c2120ebf",
      "execution_count": null,
      "outputs": []
    },
    {
      "cell_type": "markdown",
      "metadata": {
        "id": "5d730339-7921-4852-a139-a63d3e3995c9"
      },
      "source": [
        "#### 1.2 - Trabajando con Numpy y Tensores"
      ],
      "id": "5d730339-7921-4852-a139-a63d3e3995c9"
    },
    {
      "cell_type": "markdown",
      "metadata": {
        "id": "fe265913-a2d7-48d9-98df-c4019ff2411d"
      },
      "source": [
        "Cuando uno está trabajando con `Numpy` y `Pytorch`, es conveniente convertir elementos\n",
        "entre Numpy a Pytorch, y vice versa.\n",
        "\n",
        "Por ejemplo, si definimos un *array* en Numpy, i.e.: `data`"
      ],
      "id": "fe265913-a2d7-48d9-98df-c4019ff2411d"
    },
    {
      "cell_type": "code",
      "metadata": {
        "id": "7a41548d-dd28-4131-8f36-998f4ee2e197"
      },
      "source": [
        "data = np.arange(10)\n",
        "print(data)"
      ],
      "id": "7a41548d-dd28-4131-8f36-998f4ee2e197",
      "execution_count": null,
      "outputs": []
    },
    {
      "cell_type": "code",
      "metadata": {
        "id": "5f625181-431f-42a4-aa6a-318b8cae1fe0"
      },
      "source": [
        "type(data)"
      ],
      "id": "5f625181-431f-42a4-aa6a-318b8cae1fe0",
      "execution_count": null,
      "outputs": []
    },
    {
      "cell_type": "markdown",
      "metadata": {
        "id": "caa9c644-d2d7-4634-b212-bf083ce8358f"
      },
      "source": [
        "Fácilmente lo podemos convertir a un tensor con la función `torch.from_numpy`:"
      ],
      "id": "caa9c644-d2d7-4634-b212-bf083ce8358f"
    },
    {
      "cell_type": "code",
      "metadata": {
        "id": "129ad5f2-4086-44e8-b6b9-4f55c547456f"
      },
      "source": [
        "data_tensor = torch.from_numpy(data)\n",
        "print(data_tensor)"
      ],
      "id": "129ad5f2-4086-44e8-b6b9-4f55c547456f",
      "execution_count": null,
      "outputs": []
    },
    {
      "cell_type": "markdown",
      "metadata": {
        "id": "2ff45078-adda-4fb8-be3a-3a1a9712b1f0"
      },
      "source": [
        "Y el tipo de `data_tensor` es:"
      ],
      "id": "2ff45078-adda-4fb8-be3a-3a1a9712b1f0"
    },
    {
      "cell_type": "code",
      "metadata": {
        "id": "9b06a0fb-a517-4be7-9549-5e0b956a54f5"
      },
      "source": [
        "type(data_tensor)"
      ],
      "id": "9b06a0fb-a517-4be7-9549-5e0b956a54f5",
      "execution_count": null,
      "outputs": []
    },
    {
      "cell_type": "markdown",
      "metadata": {
        "id": "29860e33-1da0-45e8-a6c6-b755ccf2c18e"
      },
      "source": [
        "Similarmente, se puede hacer lo inveso y convertir un tensor a un *array* en Numpy:"
      ],
      "id": "29860e33-1da0-45e8-a6c6-b755ccf2c18e"
    },
    {
      "cell_type": "code",
      "metadata": {
        "id": "86bc0f24-083e-493d-b874-f74c47c4d7e8"
      },
      "source": [
        "data_to_numpy = data_tensor.numpy()\n",
        "print(data_to_numpy)"
      ],
      "id": "86bc0f24-083e-493d-b874-f74c47c4d7e8",
      "execution_count": null,
      "outputs": []
    },
    {
      "cell_type": "code",
      "metadata": {
        "id": "b41b424f-f88e-4815-87ed-487c831ed6ae"
      },
      "source": [
        "type(data_to_numpy)"
      ],
      "id": "b41b424f-f88e-4815-87ed-487c831ed6ae",
      "execution_count": null,
      "outputs": []
    },
    {
      "cell_type": "markdown",
      "metadata": {
        "id": "e25a1299-eece-45ca-867f-e14cdbf784d9"
      },
      "source": [
        "Una de las tares que uno realiza mayormente cuando trabaja con Pytorch es cambiando\n",
        "las dimensiones de los tensores. Similarlmente a `Numpy`, Pytorch te deja modificar las\n",
        "dimensiones de un tensor. Esto resulta muy conveniente cuando las parámetros de entrada\n",
        "y salida de un modelo tienen diferentes dimensiones:"
      ],
      "id": "e25a1299-eece-45ca-867f-e14cdbf784d9"
    },
    {
      "cell_type": "code",
      "metadata": {
        "id": "de9ce940-7c19-44b3-a47b-d1b440656991"
      },
      "source": [
        "t = torch.ones(1, 24)\n",
        "print(t)"
      ],
      "id": "de9ce940-7c19-44b3-a47b-d1b440656991",
      "execution_count": null,
      "outputs": []
    },
    {
      "cell_type": "markdown",
      "metadata": {
        "id": "f8b77dda-f894-4a01-92fa-f4c38f6da88d"
      },
      "source": [
        "Ahora podemos modificar las dimensiones del tensor:"
      ],
      "id": "f8b77dda-f894-4a01-92fa-f4c38f6da88d"
    },
    {
      "cell_type": "code",
      "metadata": {
        "id": "a139134c-f1ef-40df-9a1f-40c33d41a5fe"
      },
      "source": [
        "t_modificado = t.reshape((3, 8))\n",
        "print(t_modificado)"
      ],
      "id": "a139134c-f1ef-40df-9a1f-40c33d41a5fe",
      "execution_count": null,
      "outputs": []
    },
    {
      "cell_type": "code",
      "metadata": {
        "id": "44151183-e414-48df-8fb2-a952c7e46e72"
      },
      "source": [
        "print(\n",
        "    \"Ahora las dimensiones del tensor son: `{}` filas y `{}` columnas ...\".format(\n",
        "        *t_modificado.shape\n",
        "    )\n",
        ")"
      ],
      "id": "44151183-e414-48df-8fb2-a952c7e46e72",
      "execution_count": null,
      "outputs": []
    },
    {
      "cell_type": "markdown",
      "metadata": {
        "id": "95a117ac-0886-4fd0-85df-122e007e714f"
      },
      "source": [
        "Similarmente, uno puede cambiar las dimensiones del tensor sin tener que declarar una nueva\n",
        "variable.\n",
        "\n",
        "**Nota** : Cuando se utiliza funciones que terminan con `_` (e.g. `<tensor>.random_(10)`), el objeto\n",
        "en sí se modifica en **su lugar**."
      ],
      "id": "95a117ac-0886-4fd0-85df-122e007e714f"
    },
    {
      "cell_type": "code",
      "metadata": {
        "id": "37509721-e9bb-4576-aa1f-e3db728857e0"
      },
      "source": [
        "t_modificado.resize(4, 6)"
      ],
      "id": "37509721-e9bb-4576-aa1f-e3db728857e0",
      "execution_count": null,
      "outputs": []
    },
    {
      "cell_type": "markdown",
      "metadata": {
        "id": "1a853d16-efe0-4b77-9083-52c0727fe48d"
      },
      "source": [
        "Existe una función muy útil, la cuál transforma el tensor sin tener que saber bien las dimensiones del\n",
        "nuevo tensor, i.e. `<tensor>.view(filas, columnas)`."
      ],
      "id": "1a853d16-efe0-4b77-9083-52c0727fe48d"
    },
    {
      "cell_type": "code",
      "metadata": {
        "id": "eaa14d4a-8fb9-4aed-8576-ade8015fc084"
      },
      "source": [
        "t_modificado.view(-1, 4)"
      ],
      "id": "eaa14d4a-8fb9-4aed-8576-ade8015fc084",
      "execution_count": null,
      "outputs": []
    },
    {
      "cell_type": "code",
      "metadata": {
        "id": "2ae28b13-4847-406a-baa1-6dbc3d9f21a0"
      },
      "source": [
        "t_modificado.view(-1, 2)"
      ],
      "id": "2ae28b13-4847-406a-baa1-6dbc3d9f21a0",
      "execution_count": null,
      "outputs": []
    },
    {
      "cell_type": "markdown",
      "metadata": {
        "id": "0a870da8-3569-4baf-ac4c-e56de831f9af"
      },
      "source": [
        "Al poner un `-1` como argumento de `.view`, Pytorch calcula automaticamente cuáles serían las dimensiones necesarias\n",
        "para el nuevo tensor."
      ],
      "id": "0a870da8-3569-4baf-ac4c-e56de831f9af"
    },
    {
      "cell_type": "markdown",
      "metadata": {
        "id": "3612d8fb-5dca-4010-b92e-ac0edf3136e8"
      },
      "source": [
        "#### Funciones a tensores\n",
        "\n",
        "Similar a `Numpy` arrays, los tensores de Pytorch se pueden utilizar como arrays, y también aplicarles funciones para\n",
        "modificarlos y demás."
      ],
      "id": "3612d8fb-5dca-4010-b92e-ac0edf3136e8"
    },
    {
      "cell_type": "code",
      "metadata": {
        "id": "a45740da-f47e-48bc-a39a-47e6af5cf187"
      },
      "source": [
        "# Creamos un tensor de números del 1 al 4\n",
        "v = torch.Tensor([1, 2, 3, 4])\n",
        "\n",
        "# Creamos otro tensor de números del 10 al 20\n",
        "w = torch.Tensor([10, 11, 15, 14])"
      ],
      "id": "a45740da-f47e-48bc-a39a-47e6af5cf187",
      "execution_count": null,
      "outputs": []
    },
    {
      "cell_type": "code",
      "metadata": {
        "id": "199c27fa-bbfd-45a7-81d1-cef295bce707"
      },
      "source": [
        "v"
      ],
      "id": "199c27fa-bbfd-45a7-81d1-cef295bce707",
      "execution_count": null,
      "outputs": []
    },
    {
      "cell_type": "code",
      "metadata": {
        "id": "cf99a7f1-7f59-4f4f-a496-cc0a9ed696c1"
      },
      "source": [
        "w"
      ],
      "id": "cf99a7f1-7f59-4f4f-a496-cc0a9ed696c1",
      "execution_count": null,
      "outputs": []
    },
    {
      "cell_type": "markdown",
      "metadata": {
        "id": "e5f7071e-55fd-48d4-8179-12f10d4f5047"
      },
      "source": [
        "Ahora podemos utilizar funciones como multiplicación, adición, etc."
      ],
      "id": "e5f7071e-55fd-48d4-8179-12f10d4f5047"
    },
    {
      "cell_type": "code",
      "metadata": {
        "id": "3bba1e75-3d75-4b5d-936a-8517306634e0"
      },
      "source": [
        "# La suma de los dos tensores\n",
        "v + w"
      ],
      "id": "3bba1e75-3d75-4b5d-936a-8517306634e0",
      "execution_count": null,
      "outputs": []
    },
    {
      "cell_type": "code",
      "metadata": {
        "id": "20ba9f98-5cba-43ad-a4e5-bc3b78c925d1"
      },
      "source": [
        "v * w"
      ],
      "id": "20ba9f98-5cba-43ad-a4e5-bc3b78c925d1",
      "execution_count": null,
      "outputs": []
    },
    {
      "cell_type": "code",
      "metadata": {
        "id": "f7944aee-8ed3-41b5-9175-f2be6bbe3ece"
      },
      "source": [
        "v / w"
      ],
      "id": "f7944aee-8ed3-41b5-9175-f2be6bbe3ece",
      "execution_count": null,
      "outputs": []
    },
    {
      "cell_type": "markdown",
      "metadata": {
        "id": "b099901e-3b9a-4965-896d-924d3cffaa64"
      },
      "source": [
        "Similarmente, Pytorch tiene estas funciones dentro de su módulo:"
      ],
      "id": "b099901e-3b9a-4965-896d-924d3cffaa64"
    },
    {
      "cell_type": "code",
      "metadata": {
        "id": "b387aadb-e0a0-463e-b3f4-b24b59ca735d"
      },
      "source": [
        "torch.mul(v, w)"
      ],
      "id": "b387aadb-e0a0-463e-b3f4-b24b59ca735d",
      "execution_count": null,
      "outputs": []
    },
    {
      "cell_type": "code",
      "metadata": {
        "id": "72b60282-0e4e-4d90-999c-0c3dd1c63554"
      },
      "source": [
        "torch.add(w, v)"
      ],
      "id": "72b60282-0e4e-4d90-999c-0c3dd1c63554",
      "execution_count": null,
      "outputs": []
    },
    {
      "cell_type": "markdown",
      "metadata": {
        "id": "7e41395e-1648-4eb7-98b5-fd9e7b91dd0e"
      },
      "source": [
        "Inclusive podemos utilizar los tensores junto con exponentes, similar a\n",
        "\n",
        "$$\\frac{v^2 + w^3}{v + w}$$"
      ],
      "id": "7e41395e-1648-4eb7-98b5-fd9e7b91dd0e"
    },
    {
      "cell_type": "code",
      "metadata": {
        "id": "a73885fe-0452-4330-9fad-25c66525700f"
      },
      "source": [
        "(v ** 2 + w ** 3) / (v + w)"
      ],
      "id": "a73885fe-0452-4330-9fad-25c66525700f",
      "execution_count": null,
      "outputs": []
    },
    {
      "cell_type": "markdown",
      "metadata": {
        "id": "2df6000c-6725-4264-999f-55ae54315462"
      },
      "source": [
        "#### 1.3 - Funciones que se puede usar en Pytorch\n",
        "\n",
        "Pytorch comparte mucho de su API con Numpy. Es por esto que muchas funciones de uso cotidiano en Numpy\n",
        "son fáciles de adaptar en Pytorch.\n",
        "\n",
        "Por ejemplo:"
      ],
      "id": "2df6000c-6725-4264-999f-55ae54315462"
    },
    {
      "cell_type": "code",
      "metadata": {
        "id": "8925c7b2-5b59-4212-a37c-ae735b4d330d"
      },
      "source": [
        "# En numpy\n",
        "np.arange(4, 15)"
      ],
      "id": "8925c7b2-5b59-4212-a37c-ae735b4d330d",
      "execution_count": null,
      "outputs": []
    },
    {
      "cell_type": "code",
      "metadata": {
        "id": "47684dde-f2f8-4a65-b1c3-ee8f31435549"
      },
      "source": [
        "# En Pytorch\n",
        "torch.arange(4, 15)"
      ],
      "id": "47684dde-f2f8-4a65-b1c3-ee8f31435549",
      "execution_count": null,
      "outputs": []
    },
    {
      "cell_type": "markdown",
      "metadata": {
        "id": "ad206771-8b86-4c31-bef0-837685cf95f4"
      },
      "source": [
        "**Creando lista de ceros**:"
      ],
      "id": "ad206771-8b86-4c31-bef0-837685cf95f4"
    },
    {
      "cell_type": "code",
      "metadata": {
        "id": "667b9250-b161-468d-bf9d-6e2996add98a"
      },
      "source": [
        "np.zeros(10)"
      ],
      "id": "667b9250-b161-468d-bf9d-6e2996add98a",
      "execution_count": null,
      "outputs": []
    },
    {
      "cell_type": "code",
      "metadata": {
        "id": "08618f06-14a5-434b-9f75-3f7d3bc1eb6c"
      },
      "source": [
        "torch.zeros(10)"
      ],
      "id": "08618f06-14a5-434b-9f75-3f7d3bc1eb6c",
      "execution_count": null,
      "outputs": []
    },
    {
      "cell_type": "markdown",
      "metadata": {
        "id": "89f1f943-f29d-432a-aae0-90abede6427c"
      },
      "source": [
        "**Números aleatorios**"
      ],
      "id": "89f1f943-f29d-432a-aae0-90abede6427c"
    },
    {
      "cell_type": "code",
      "metadata": {
        "id": "35df658b-f7df-4b26-ae55-178d25481249"
      },
      "source": [
        "np.random.rand(20)"
      ],
      "id": "35df658b-f7df-4b26-ae55-178d25481249",
      "execution_count": null,
      "outputs": []
    },
    {
      "cell_type": "code",
      "metadata": {
        "id": "aa4bf5c6-acc7-4b3d-b71a-bfab343825ed"
      },
      "source": [
        "torch.rand(20)"
      ],
      "id": "aa4bf5c6-acc7-4b3d-b71a-bfab343825ed",
      "execution_count": null,
      "outputs": []
    },
    {
      "cell_type": "markdown",
      "metadata": {
        "id": "0f78867a-71dd-4590-919a-32e23f286256"
      },
      "source": [
        "**Matriz de identidad**\n",
        "\n",
        "Pytorch inclusive include la famosa función: `eye`, la cual crea una matriz\n",
        "con ceros en toda la matriz excepto a lo largo de la diagonal:"
      ],
      "id": "0f78867a-71dd-4590-919a-32e23f286256"
    },
    {
      "cell_type": "code",
      "metadata": {
        "id": "a4d1f798-2d68-4d15-97bf-6a7e14e18cfb"
      },
      "source": [
        "np.eye(10)"
      ],
      "id": "a4d1f798-2d68-4d15-97bf-6a7e14e18cfb",
      "execution_count": null,
      "outputs": []
    },
    {
      "cell_type": "code",
      "metadata": {
        "id": "4335d76a-a4fa-490b-890b-d848e21d0311"
      },
      "source": [
        "torch.eye(10)"
      ],
      "id": "4335d76a-a4fa-490b-890b-d848e21d0311",
      "execution_count": null,
      "outputs": []
    },
    {
      "cell_type": "markdown",
      "metadata": {
        "id": "0f888863-add9-406a-8bdc-c9b732e3ce1f"
      },
      "source": [
        "**Concatenar varios tensores**\n",
        "\n",
        "Pytorch inclusive incluye una función para concatenar 2 tensores:"
      ],
      "id": "0f888863-add9-406a-8bdc-c9b732e3ce1f"
    },
    {
      "cell_type": "code",
      "metadata": {
        "id": "e12932b3-8041-40c6-8612-4ce36d5e637b"
      },
      "source": [
        "# En numpy\n",
        "a = np.arange(10)\n",
        "b = np.ones(5)\n",
        "\n",
        "np.concatenate((a, b))"
      ],
      "id": "e12932b3-8041-40c6-8612-4ce36d5e637b",
      "execution_count": null,
      "outputs": []
    },
    {
      "cell_type": "code",
      "metadata": {
        "id": "399bffc9-20a3-450d-acb1-62b7e59bc005"
      },
      "source": [
        "# En Pytorch\n",
        "a_tensor = torch.arange(10)\n",
        "b_tensor = torch.ones(10)\n",
        "\n",
        "torch.cat(\n",
        "    (a_tensor, b_tensor),\n",
        ")"
      ],
      "id": "399bffc9-20a3-450d-acb1-62b7e59bc005",
      "execution_count": null,
      "outputs": []
    },
    {
      "cell_type": "markdown",
      "metadata": {
        "id": "5bdd4199-32f5-475b-8b30-ba1d14e7c06d"
      },
      "source": [
        "#### 1.4 - Utilizando `requires_grad`\n",
        "\n",
        "Una de las grandes diferencias entre `Numpy` y `Pytorch` es que Pytorch incluye varias\n",
        "herramientas que hacen la interacción con modelos muy fácil.\n",
        "\n",
        "Por ejemplo, los tensores de Pytorch incluyen métodos / atributos para calcular el \"gradient\"\n",
        "de una variable reference a o otra variable:"
      ],
      "id": "5bdd4199-32f5-475b-8b30-ba1d14e7c06d"
    },
    {
      "cell_type": "code",
      "metadata": {
        "id": "14e82dff-4717-4feb-8e70-dcc89817297d"
      },
      "source": [
        "x = torch.tensor([5.5, 3], requires_grad=True)\n",
        "x"
      ],
      "id": "14e82dff-4717-4feb-8e70-dcc89817297d",
      "execution_count": null,
      "outputs": []
    },
    {
      "cell_type": "markdown",
      "metadata": {
        "id": "057a5467-8264-41fe-9915-16e9408f6d06"
      },
      "source": [
        "Al haber agregado el argumento `requires_grad = True`, Pytorch lo reconoce y empezará a calcular los cambios\n",
        "de esta variable a lo largo del código.\n",
        "\n",
        "Por ejemplo, si tenemos 2 tensores y ejecutamos ciertas funciones sobre ellas, miraremos lo siguiente:"
      ],
      "id": "057a5467-8264-41fe-9915-16e9408f6d06"
    },
    {
      "cell_type": "code",
      "metadata": {
        "id": "6a796b45-4115-43e0-b804-f3e985082ad8"
      },
      "source": [
        "v = torch.tensor([1, 2], requires_grad=False)\n",
        "\n",
        "# Multiplicamos `x * v`\n",
        "z = x * v\n",
        "z"
      ],
      "id": "6a796b45-4115-43e0-b804-f3e985082ad8",
      "execution_count": null,
      "outputs": []
    },
    {
      "cell_type": "markdown",
      "metadata": {
        "id": "da398b83-ad9e-4ca8-b425-319038734a2d"
      },
      "source": [
        "Este nuevo tensor `z` ahora tiene un atributo `grad_fn` reference a la multiplicación de `x * v`."
      ],
      "id": "da398b83-ad9e-4ca8-b425-319038734a2d"
    },
    {
      "cell_type": "code",
      "metadata": {
        "id": "e2ef6a39-7276-4514-95a2-66257d66d9a4"
      },
      "source": [
        "z.grad_fn"
      ],
      "id": "e2ef6a39-7276-4514-95a2-66257d66d9a4",
      "execution_count": null,
      "outputs": []
    },
    {
      "cell_type": "code",
      "metadata": {
        "id": "c7b58865-8091-42ec-8a42-a8c2a20b7d72"
      },
      "source": [
        ""
      ],
      "id": "c7b58865-8091-42ec-8a42-a8c2a20b7d72",
      "execution_count": null,
      "outputs": []
    }
  ]
}