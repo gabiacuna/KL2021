{
  "nbformat": 4,
  "nbformat_minor": 5,
  "metadata": {
    "kernelspec": {
      "display_name": "Python 3",
      "language": "python",
      "name": "python3"
    },
    "language_info": {
      "codemirror_mode": {
        "name": "ipython",
        "version": 3
      },
      "file_extension": ".py",
      "mimetype": "text/x-python",
      "name": "python",
      "nbconvert_exporter": "python",
      "pygments_lexer": "ipython3",
      "version": "3.7.9"
    },
    "colab": {
      "name": "003-Entrenando-Modelos.ipynb",
      "provenance": [],
      "include_colab_link": true
    }
  },
  "cells": [
    {
      "cell_type": "markdown",
      "metadata": {
        "id": "view-in-github",
        "colab_type": "text"
      },
      "source": [
        "<a href=\"https://colab.research.google.com/github/gabiacuna/KL2021/blob/main/Analisis%20de%20Imagenes%20con%20DL/003-Entrenando-Modelos.ipynb\" target=\"_parent\"><img src=\"https://colab.research.google.com/assets/colab-badge.svg\" alt=\"Open In Colab\"/></a>"
      ]
    },
    {
      "cell_type": "markdown",
      "metadata": {
        "id": "31451c85-bba9-4190-a888-0bbaab71fd4f"
      },
      "source": [
        "# Construyendo una red neural en Pytorch\n",
        "\n",
        "Pytorch es una excelente herramienta para crear y entrenar modelos con diferentes arquitecturas.\n",
        "Por lo mismo, antes de que se desarrollara Pytorch, un podía construir redes neurales con simplemente\n",
        "paquetes básicos como `Numpy` y `math`.\n",
        "\n",
        "En la siguiente sección, veremos como desarrollar una red neural simple con los simples paquetes de Python.\n",
        "\n",
        "## Ejemplo de red neural con simplemente usando `Numpy` y Pytorch\n",
        "\n",
        "Podemos entrenar un modelo simple con la función:\n",
        "\n",
        "$$y = a + bx$$\n",
        "\n",
        "Esta función consta de 3 inputs, y nosotros queremos utilizar `Numpy` para encontrar la relación entre\n",
        "`x` e `y` utilizando la función de arriba.\n",
        "\n",
        "Para empezar, importamos nuestros módulos y creamos data aleatorea con cierto ruido:"
      ],
      "id": "31451c85-bba9-4190-a888-0bbaab71fd4f"
    },
    {
      "cell_type": "code",
      "metadata": {
        "id": "92446ebc-462f-4725-a2ce-72cb1c672c75"
      },
      "source": [
        "# Módulos\n",
        "%matplotlib inline\n",
        "import numpy as np\n",
        "import math\n",
        "from sklearn import datasets\n",
        "import matplotlib.pyplot as plt\n",
        "import torch\n",
        "import torch.nn as nn\n",
        "\n",
        "random_state = 20   #Se inicializa un estado aleatorio"
      ],
      "id": "92446ebc-462f-4725-a2ce-72cb1c672c75",
      "execution_count": 1,
      "outputs": []
    },
    {
      "cell_type": "markdown",
      "metadata": {
        "id": "63bf3217-b4a2-4e23-929f-7b37129ea14c"
      },
      "source": [
        "Y antes de cualquier cosa, inicializamos la semilla aleatorea:"
      ],
      "id": "63bf3217-b4a2-4e23-929f-7b37129ea14c"
    },
    {
      "cell_type": "code",
      "metadata": {
        "id": "b1e55a60-675d-4ddf-b7b8-598d53efd0da"
      },
      "source": [
        "np.random.seed(random_state)"
      ],
      "id": "b1e55a60-675d-4ddf-b7b8-598d53efd0da",
      "execution_count": 2,
      "outputs": []
    },
    {
      "cell_type": "markdown",
      "metadata": {
        "id": "18175c04-b658-4090-b5e5-7f44710e25ba"
      },
      "source": [
        "Y ahora creamos una data aleatoria para el *input* y *output* del modelo:"
      ],
      "id": "18175c04-b658-4090-b5e5-7f44710e25ba"
    },
    {
      "cell_type": "code",
      "metadata": {
        "id": "9a501236-e288-4caf-8ef1-6a03560a0311"
      },
      "source": [
        "# Definimos los parámetros\n",
        "a_original = 10\n",
        "b_original = 0.5\n",
        "\n",
        "# Y luego creamos la data\n",
        "X_numpy = np.linspace(-10, 10, 2000)    #Observaciones verdaderas que tenemos.\n",
        "y_numpy = a_original + b_original * X_numpy"
      ],
      "id": "9a501236-e288-4caf-8ef1-6a03560a0311",
      "execution_count": 3,
      "outputs": []
    },
    {
      "cell_type": "code",
      "metadata": {
        "id": "8dc4d511-bc60-4a10-9927-63d92ad3fd3e"
      },
      "source": [
        "#X_numpy, y_numpy, coef = datasets.make_regression(n_samples=1000, n_features=1, noise=5, random_state=random_state, coef=True)"
      ],
      "id": "8dc4d511-bc60-4a10-9927-63d92ad3fd3e",
      "execution_count": null,
      "outputs": []
    },
    {
      "cell_type": "markdown",
      "metadata": {
        "id": "37ed7941-f0f6-433a-ab1c-249346f14507"
      },
      "source": [
        "Y podemos ver esta data:"
      ],
      "id": "37ed7941-f0f6-433a-ab1c-249346f14507"
    },
    {
      "cell_type": "code",
      "metadata": {
        "colab": {
          "base_uri": "https://localhost:8080/",
          "height": 303
        },
        "id": "07eb84cc-2b09-4f9f-85c2-f0639566a696",
        "outputId": "b2023703-45b7-4656-c9dc-5d40ee4cceb8"
      },
      "source": [
        "fig = plt.figure(figsize=(8,8), facecolor=\"white\")\n",
        "ax = fig.add_subplot(111)\n",
        "ax.scatter(X_numpy, y_numpy, c=\"blue\")\n",
        "ax.set_aspect('equal')\n",
        "ax.set_xlabel(\"X\")\n",
        "ax.set_ylabel(\"Y\")"
      ],
      "id": "07eb84cc-2b09-4f9f-85c2-f0639566a696",
      "execution_count": 4,
      "outputs": [
        {
          "output_type": "execute_result",
          "data": {
            "text/plain": [
              "Text(0, 0.5, 'Y')"
            ]
          },
          "metadata": {
            "tags": []
          },
          "execution_count": 4
        },
        {
          "output_type": "display_data",
          "data": {
            "image/png": "[encoded data removed]",
            "text/plain": [
              "<Figure size 576x576 with 1 Axes>"
            ]
          },
          "metadata": {
            "tags": []
          }
        }
      ]
    },
    {
      "cell_type": "markdown",
      "metadata": {
        "id": "f8a7de5e-6729-4f40-bfeb-7babaf326a74"
      },
      "source": [
        "Lo que queremos lograr es que nuestro modelo pueda aprender la relación de la data y ver que tan bién puede\n",
        "representar la función lineal de esta data. Los pasos a seguir son los siguientes:\n",
        "\n",
        "1. Inicializar la pesas aleatoreamente\n",
        "2. Especificar parámetros como la *velocidad de aprendizaje* (learning rate) del modelo, el número de épocas, etc.\n",
        "3. Calcular la predicción del modelo\n",
        "4. Comparar con la verdad y calcular la función de pérdida\n",
        "5. Empezar con el \"backpropagation\", i.e. calculando las derivadas de la función de perdida con respecto a los coeficientes de la función.\n",
        "6. Modificar las pesas y empezar de nuevo"
      ],
      "id": "f8a7de5e-6729-4f40-bfeb-7babaf326a74"
    },
    {
      "cell_type": "code",
      "metadata": {
        "colab": {
          "base_uri": "https://localhost:8080/"
        },
        "id": "5db04fd4-b0f3-4f89-aba9-77c4be4d2f4e",
        "outputId": "29f64a7e-c084-49bb-8281-a75f78ded62f"
      },
      "source": [
        "# Inicializando pesas aleatoreas\n",
        "a_weight = np.random.randn()\n",
        "b_weight = np.random.randn()\n",
        "\n",
        "print(f\">>> a: `{a_weight}` | b: `{b_weight}`\")"
      ],
      "id": "5db04fd4-b0f3-4f89-aba9-77c4be4d2f4e",
      "execution_count": 73,
      "outputs": [
        {
          "output_type": "stream",
          "text": [
            ">>> a: `-0.885493154616703` | b: `-1.1045794834534277`\n"
          ],
          "name": "stdout"
        }
      ]
    },
    {
      "cell_type": "markdown",
      "metadata": {
        "id": "51f3a801-dfcd-4aa9-ac94-329e152555bb"
      },
      "source": [
        "Luego el valor de la velocidad de aprendizaje (learning rate) y el número de épocas:"
      ],
      "id": "51f3a801-dfcd-4aa9-ac94-329e152555bb"
    },
    {
      "cell_type": "markdown",
      "metadata": {
        "id": "LDXFv8y7Pv3j"
      },
      "source": [
        "Learning rate nos dice que tan grande o pequeño es el salto entre un punto y otro. Mientras mas pequeño, mas va a tardar, pero será más preciso. \n",
        "\n",
        "Una epoca es una pasada del principio al final de la red. Y modificamos la cantidad de epocas. "
      ],
      "id": "LDXFv8y7Pv3j"
    },
    {
      "cell_type": "code",
      "metadata": {
        "id": "02f7536a-66d1-4ce7-bb3e-1c974f11f749"
      },
      "source": [
        "# Learning rate\n",
        "learning_rate = 1e-6\n",
        "\n",
        "# Número de épocas:\n",
        "n_epoch = 100000"
      ],
      "id": "02f7536a-66d1-4ce7-bb3e-1c974f11f749",
      "execution_count": 72,
      "outputs": []
    },
    {
      "cell_type": "markdown",
      "metadata": {
        "id": "15f704ef-309e-40f1-a13d-696069bb78b8"
      },
      "source": [
        "Y ahora estamos listos para empezar con el entrenamiento del modelo:"
      ],
      "id": "15f704ef-309e-40f1-a13d-696069bb78b8"
    },
    {
      "cell_type": "code",
      "metadata": {
        "id": "3V5G5gFuQ5OI"
      },
      "source": [
        "# epoch_ii = 0\n",
        "# a_weight + b_weight * X_numpy"
      ],
      "id": "3V5G5gFuQ5OI",
      "execution_count": 20,
      "outputs": []
    },
    {
      "cell_type": "code",
      "metadata": {
        "colab": {
          "base_uri": "https://localhost:8080/"
        },
        "id": "J12pzvZfQ93i",
        "outputId": "c3ea6d00-e5c5-4cf1-8eb9-6cd3be372698"
      },
      "source": [
        "y_numpy"
      ],
      "id": "J12pzvZfQ93i",
      "execution_count": 45,
      "outputs": [
        {
          "output_type": "execute_result",
          "data": {
            "text/plain": [
              "array([ 5.       ,  5.0050025,  5.010005 , ..., 14.989995 , 14.9949975,\n",
              "       15.       ])"
            ]
          },
          "metadata": {
            "tags": []
          },
          "execution_count": 45
        }
      ]
    },
    {
      "cell_type": "markdown",
      "metadata": {
        "id": "01IAX941RA1J"
      },
      "source": [
        "En la primera pasada los resultados son muy diferentes, ya que los pesos parten randoms"
      ],
      "id": "01IAX941RA1J"
    },
    {
      "cell_type": "code",
      "metadata": {
        "colab": {
          "base_uri": "https://localhost:8080/"
        },
        "id": "9417f9a6-e2fc-45f9-9699-7aab20ea5a1b",
        "outputId": "432b54c8-16e4-47c1-8d84-636bfc96a5f2"
      },
      "source": [
        "# Iterando sobre cada época\n",
        "for epoch_ii in range(n_epoch):\n",
        "    # Iniciamos con el \"forward pass\" para predecir `y_pred`\n",
        "    y_pred = a_weight + b_weight * X_numpy\n",
        "    \n",
        "    # Luego calculamos la función de pérdida\n",
        "    # En este caso, la definimos como SUM[(y_pred - y_true)^2]\n",
        "    # Esta función es la que se tratará de minimizar en cada iteración\n",
        "    loss_val = np.sum(np.square(y_pred - y_numpy))\n",
        "    #\n",
        "    if epoch_ii % 10000 == 0:\n",
        "        print(\"Epoch: {0} | Loss: {1}\".format(epoch_ii, loss_val))\n",
        "    \n",
        "    # Y ahora podemos ajustar las pesas con respecto a la función de pérdida\n",
        "    # Esto es lo mismo que:\n",
        "    #     d(loss)/d(y_pred) = d((y_pred - y_true)^2) = 2 * (y_pred - y)\n",
        "    grad_y_pred = 2 * (y_pred - y_numpy)    #Derivadaaa :3\n",
        "    # Y ahora calculamos la derivada de las variables referente a la función de pérdida\n",
        "    grad_a = grad_y_pred.sum()\n",
        "    grad_b = (grad_y_pred * X_numpy).sum()\n",
        "    \n",
        "    # Y por último podemos ahora actualizar las pesas y empezar de nuevo\n",
        "    a_weight -= learning_rate * grad_a\n",
        "    b_weight -= learning_rate * grad_b"
      ],
      "id": "9417f9a6-e2fc-45f9-9699-7aab20ea5a1b",
      "execution_count": 76,
      "outputs": [
        {
          "output_type": "stream",
          "text": [
            "Epoch: 0 | Loss: 9.70477882295412e-23\n",
            "Epoch: 10000 | Loss: 9.70477882295412e-23\n",
            "Epoch: 20000 | Loss: 9.70477882295412e-23\n",
            "Epoch: 30000 | Loss: 9.70477882295412e-23\n",
            "Epoch: 40000 | Loss: 9.70477882295412e-23\n",
            "Epoch: 50000 | Loss: 9.70477882295412e-23\n",
            "Epoch: 60000 | Loss: 9.70477882295412e-23\n",
            "Epoch: 70000 | Loss: 9.70477882295412e-23\n",
            "Epoch: 80000 | Loss: 9.70477882295412e-23\n",
            "Epoch: 90000 | Loss: 9.70477882295412e-23\n"
          ],
          "name": "stdout"
        }
      ]
    },
    {
      "cell_type": "markdown",
      "metadata": {
        "id": "WNgxyO7KV7A2"
      },
      "source": [
        "Se puede definir un numero fijo de epocas. O se pude correr hasta que la loss function llegue a un tope."
      ],
      "id": "WNgxyO7KV7A2"
    },
    {
      "cell_type": "markdown",
      "metadata": {
        "id": "d2cf6ea5-e4e8-42e0-aebf-4a844ae32bc7"
      },
      "source": [
        "Y ahora podemos visualizar la comparar los valores que obtuvimos con los que\n",
        "son en realidad los valores correctos:"
      ],
      "id": "d2cf6ea5-e4e8-42e0-aebf-4a844ae32bc7"
    },
    {
      "cell_type": "code",
      "metadata": {
        "colab": {
          "base_uri": "https://localhost:8080/"
        },
        "id": "7be689b0-e325-433d-a266-b0f1ba43e37b",
        "outputId": "4d82df4e-c241-43f7-f0c1-2f6a134c4f35"
      },
      "source": [
        "# Ya que ha terminado de aprender este \"modelo\", podemos verificar los\n",
        "# resultados:\n",
        "\n",
        "print(f\">>> Predicción: y = {a_weight} + {b_weight} x\")\n",
        "print(f\">>> Realidad  : y = {a_original} + {b_original} x\")"
      ],
      "id": "7be689b0-e325-433d-a266-b0f1ba43e37b",
      "execution_count": 77,
      "outputs": [
        {
          "output_type": "stream",
          "text": [
            ">>> Predicción: y = 9.99999999999978 + 0.4999999999999999 x\n",
            ">>> Realidad  : y = 10 + 0.5 x\n"
          ],
          "name": "stdout"
        }
      ]
    },
    {
      "cell_type": "markdown",
      "metadata": {
        "id": "e25b84e8-0f82-4a56-bb60-1fb14e523ec6"
      },
      "source": [
        "Esto muestra que uno puede utilizar estos simples métodos para encontrar los coeficientes\n",
        "de una función, que en este caso es linear.\n",
        "\n",
        "### Mismo modelo pero en Pytorch\n",
        "\n",
        "Ahora podemos hacer el mismo procedimiento, pero utilizando Pytorch para esto:"
      ],
      "id": "e25b84e8-0f82-4a56-bb60-1fb14e523ec6"
    },
    {
      "cell_type": "code",
      "metadata": {
        "id": "Qn1MMae5XMff"
      },
      "source": [
        ""
      ],
      "id": "Qn1MMae5XMff",
      "execution_count": null,
      "outputs": []
    },
    {
      "cell_type": "code",
      "metadata": {
        "id": "34203408-a8a6-495c-95cf-6d859ee7b953"
      },
      "source": [
        "# Inicializamos los tensores de entrada y salida\n",
        "X_tensor = torch.from_numpy(X_numpy.astype(np.float32))\n",
        "y_tensor = torch.from_numpy(y_numpy.astype(np.float32))\n",
        "\n",
        "# Y modificamos la forma de `y_tensor`\n",
        "X_tensor = X_tensor.view(y_tensor.shape[0], 1)\n",
        "y_tensor = y_tensor.view(y_tensor.shape[0], 1)"
      ],
      "id": "34203408-a8a6-495c-95cf-6d859ee7b953",
      "execution_count": 78,
      "outputs": []
    },
    {
      "cell_type": "code",
      "metadata": {
        "colab": {
          "base_uri": "https://localhost:8080/"
        },
        "id": "ec8800e9-c9fa-4de0-8eaa-5be897296991",
        "outputId": "c97917fe-5e9a-4633-e123-6eeaac3b44c4"
      },
      "source": [
        "print(X_tensor)"
      ],
      "id": "ec8800e9-c9fa-4de0-8eaa-5be897296991",
      "execution_count": 79,
      "outputs": [
        {
          "output_type": "stream",
          "text": [
            "tensor([[-10.0000],\n",
            "        [ -9.9900],\n",
            "        [ -9.9800],\n",
            "        ...,\n",
            "        [  9.9800],\n",
            "        [  9.9900],\n",
            "        [ 10.0000]])\n"
          ],
          "name": "stdout"
        }
      ]
    },
    {
      "cell_type": "code",
      "metadata": {
        "colab": {
          "base_uri": "https://localhost:8080/"
        },
        "id": "c6e3c703-51df-47eb-8a08-ccdfe3ad0feb",
        "outputId": "cf18cbc9-69f9-4c12-98fe-b267f41bd869"
      },
      "source": [
        "print(y_tensor)"
      ],
      "id": "c6e3c703-51df-47eb-8a08-ccdfe3ad0feb",
      "execution_count": 80,
      "outputs": [
        {
          "output_type": "stream",
          "text": [
            "tensor([[ 5.0000],\n",
            "        [ 5.0050],\n",
            "        [ 5.0100],\n",
            "        ...,\n",
            "        [14.9900],\n",
            "        [14.9950],\n",
            "        [15.0000]])\n"
          ],
          "name": "stdout"
        }
      ]
    },
    {
      "cell_type": "markdown",
      "metadata": {
        "id": "fcaa3f4a-1058-4e99-95da-a8ee7de29a7f"
      },
      "source": [
        "Ahora podemos definir las variables de elementos y de \"features\":"
      ],
      "id": "fcaa3f4a-1058-4e99-95da-a8ee7de29a7f"
    },
    {
      "cell_type": "code",
      "metadata": {
        "colab": {
          "base_uri": "https://localhost:8080/"
        },
        "id": "261c618a-2a30-4931-a15e-8e34b0aa0b80",
        "outputId": "f9ce686c-a257-4fa5-9f97-bf979f26e0b8"
      },
      "source": [
        "n_samples, n_features = X_tensor.shape\n",
        "\n",
        "print(f\"Número of elementos: {n_samples} | Número de features: {n_features}\")"
      ],
      "id": "261c618a-2a30-4931-a15e-8e34b0aa0b80",
      "execution_count": 81,
      "outputs": [
        {
          "output_type": "stream",
          "text": [
            "Número of elementos: 2000 | Número de features: 1\n"
          ],
          "name": "stdout"
        }
      ]
    },
    {
      "cell_type": "markdown",
      "metadata": {
        "id": "e05a4398-cb31-461e-b965-eea2660d76cd"
      },
      "source": [
        "Lo siguientes pasos son para:\n",
        "\n",
        "1. Crear el modelo lineal\n",
        "2. Definir los parámetros y criterios\n",
        "3. Utilizar un optimizador\n",
        "4. Y por último, entrenar el modelo por un cierto número de épocas"
      ],
      "id": "e05a4398-cb31-461e-b965-eea2660d76cd"
    },
    {
      "cell_type": "markdown",
      "metadata": {
        "id": "aYCuUrVZXnMH"
      },
      "source": [
        "pytorch hace la loss func, y la inicializacion de las pesas. Tambien el back propagation."
      ],
      "id": "aYCuUrVZXnMH"
    },
    {
      "cell_type": "markdown",
      "metadata": {
        "id": "ecdcabee-37a9-4909-b1ad-c94a86631007"
      },
      "source": [
        "#### Modelo\n",
        "\n",
        "El modelo es un modelo lineal:"
      ],
      "id": "ecdcabee-37a9-4909-b1ad-c94a86631007"
    },
    {
      "cell_type": "code",
      "metadata": {
        "id": "30ca45aa-6ddd-43fc-9f2a-cf615f1cff0f"
      },
      "source": [
        "# Modelo linear: f = wx + b\n",
        "input_size = n_features\n",
        "output_size = 1\n",
        "\n",
        "# Definimos el modelo acá\n",
        "model = nn.Linear(input_size, output_size)  #Se pueden definir otro tipo de modelos"
      ],
      "id": "30ca45aa-6ddd-43fc-9f2a-cf615f1cff0f",
      "execution_count": 83,
      "outputs": []
    },
    {
      "cell_type": "markdown",
      "metadata": {
        "id": "34bc2def-7f9a-4ad1-8ced-5ccec2fbd74c"
      },
      "source": [
        "#### Parámetros del modelo\n",
        "\n",
        "En esta parte, decidimos cuáles son los valores de los hyper-parámetros del modelo:"
      ],
      "id": "34bc2def-7f9a-4ad1-8ced-5ccec2fbd74c"
    },
    {
      "cell_type": "code",
      "metadata": {
        "id": "23b812a0-9246-4874-a1d7-19c8f3b0e067"
      },
      "source": [
        "# Velocidad de aprendizaje\n",
        "learning_rate = 0.01\n",
        "\n",
        "# Función de pérdida\n",
        "criterion = nn.MSELoss()    #Este es el Mean square error\n",
        "\n",
        "# Optimizador\n",
        "optimizer = torch.optim.SGD(model.parameters(), lr=learning_rate)   #Decimos que queremos optimizar los paramnetros del modelo"
      ],
      "id": "23b812a0-9246-4874-a1d7-19c8f3b0e067",
      "execution_count": 92,
      "outputs": []
    },
    {
      "cell_type": "markdown",
      "metadata": {
        "id": "C777gmDNYmX5"
      },
      "source": [
        "[MSEloss](https://pytorch.org/docs/stable/generated/torch.nn.MSELoss.html)"
      ],
      "id": "C777gmDNYmX5"
    },
    {
      "cell_type": "markdown",
      "metadata": {
        "id": "b021fb7f-0ccd-4a5f-a180-05595afd71f5"
      },
      "source": [
        "#### Entrenar el modelo\n",
        "\n",
        "Ya por último, vamos a entrenar el modelo:"
      ],
      "id": "b021fb7f-0ccd-4a5f-a180-05595afd71f5"
    },
    {
      "cell_type": "code",
      "metadata": {
        "id": "bbVdQnS9ceFQ"
      },
      "source": [
        ""
      ],
      "id": "bbVdQnS9ceFQ",
      "execution_count": null,
      "outputs": []
    },
    {
      "cell_type": "code",
      "metadata": {
        "id": "95f83188-1625-4289-8838-1cf91ab2a299"
      },
      "source": [
        "def entrenar_modelo(lr=0.1, num_epochs=100):\n",
        "    # Función de pérdida\n",
        "    criterion = nn.MSELoss()    #Este es el Mean square error\n",
        "\n",
        "    # Optimizador\n",
        "    optimizer = torch.optim.SGD(model.parameters(), lr=lr)   #Decimos que queremos optimizar los paramnetros del modelo\n",
        "    \n",
        "    predictions_arr = []\n",
        "    for epoch in range(num_epochs):\n",
        "        # Forward pass and loss\n",
        "        y_predicted = model(X_tensor)\n",
        "        loss = criterion(y_predicted, y_tensor)\n",
        "        \n",
        "        # Backward pass and update\n",
        "        loss.backward()\n",
        "        optimizer.step()\n",
        "\n",
        "        # zero grad before new step\n",
        "        optimizer.zero_grad()\n",
        "\n",
        "        if (epoch+1) % 15 == 0:\n",
        "            print(f'epoch: {epoch+1}, loss = {loss.item():.4f}')\n",
        "            predicted = model(X_tensor).detach().numpy()\n",
        "\n",
        "            predictions_arr.append((X_tensor.numpy(), predicted))\n",
        "    return predictions_arr"
      ],
      "id": "95f83188-1625-4289-8838-1cf91ab2a299",
      "execution_count": 102,
      "outputs": []
    },
    {
      "cell_type": "code",
      "metadata": {
        "id": "ra4DRZGfbbJM",
        "outputId": "daee6001-7fc2-4ac2-cf7f-ad884ee93299",
        "colab": {
          "base_uri": "https://localhost:8080/"
        }
      },
      "source": [
        "y_test = entrenar_modelo(lr=0.1, num_epochs=100)"
      ],
      "id": "ra4DRZGfbbJM",
      "execution_count": 103,
      "outputs": [
        {
          "output_type": "stream",
          "text": [
            "epoch: 15, loss = 0.0000\n",
            "epoch: 30, loss = 0.0000\n",
            "epoch: 45, loss = 0.0000\n",
            "epoch: 60, loss = 0.0000\n",
            "epoch: 75, loss = 0.0000\n",
            "epoch: 90, loss = 0.0000\n"
          ],
          "name": "stdout"
        }
      ]
    },
    {
      "cell_type": "markdown",
      "metadata": {
        "id": "ed78b0f7-1c03-4233-b231-a075b662c19a"
      },
      "source": [
        "#### Verificación de los datos\n",
        "\n",
        "Es en esta parte donde podemos ver que tan bién se ejecutó el entrenamiento del modelo:"
      ],
      "id": "ed78b0f7-1c03-4233-b231-a075b662c19a"
    },
    {
      "cell_type": "code",
      "metadata": {
        "colab": {
          "base_uri": "https://localhost:8080/"
        },
        "id": "JGrrKwouZ5TW",
        "outputId": "68379968-1d41-454b-ab6b-7dae00517b6b"
      },
      "source": [
        "y_tensor"
      ],
      "id": "JGrrKwouZ5TW",
      "execution_count": 87,
      "outputs": [
        {
          "output_type": "execute_result",
          "data": {
            "text/plain": [
              "tensor([[ 5.0000],\n",
              "        [ 5.0050],\n",
              "        [ 5.0100],\n",
              "        ...,\n",
              "        [14.9900],\n",
              "        [14.9950],\n",
              "        [15.0000]])"
            ]
          },
          "metadata": {
            "tags": []
          },
          "execution_count": 87
        }
      ]
    },
    {
      "cell_type": "code",
      "metadata": {
        "colab": {
          "base_uri": "https://localhost:8080/"
        },
        "id": "6xUnLN4cZ2eS",
        "outputId": "22c696f0-f26f-4a4e-b19c-d1a41474d444"
      },
      "source": [
        "model(X_tensor).detach()"
      ],
      "id": "6xUnLN4cZ2eS",
      "execution_count": 104,
      "outputs": [
        {
          "output_type": "execute_result",
          "data": {
            "text/plain": [
              "tensor([[ 5.0000],\n",
              "        [ 5.0050],\n",
              "        [ 5.0100],\n",
              "        ...,\n",
              "        [14.9900],\n",
              "        [14.9950],\n",
              "        [15.0000]])"
            ]
          },
          "metadata": {
            "tags": []
          },
          "execution_count": 104
        }
      ]
    },
    {
      "cell_type": "code",
      "metadata": {
        "colab": {
          "base_uri": "https://localhost:8080/"
        },
        "id": "5e79d848-1772-489b-afbf-10674a4006bb",
        "outputId": "8a00cc72-c8cd-498c-d812-68676db3282b"
      },
      "source": [
        "# Plot\n",
        "predicted = model(X_tensor).detach().numpy()\n",
        "\n",
        "predicted"
      ],
      "id": "5e79d848-1772-489b-afbf-10674a4006bb",
      "execution_count": 95,
      "outputs": [
        {
          "output_type": "execute_result",
          "data": {
            "text/plain": [
              "array([[ 4.980981 ],\n",
              "       [ 4.9859834],\n",
              "       [ 4.990986 ],\n",
              "       ...,\n",
              "       [14.970976 ],\n",
              "       [14.975979 ],\n",
              "       [14.980981 ]], dtype=float32)"
            ]
          },
          "metadata": {
            "tags": []
          },
          "execution_count": 95
        }
      ]
    },
    {
      "cell_type": "code",
      "metadata": {
        "colab": {
          "base_uri": "https://localhost:8080/",
          "height": 265
        },
        "id": "ab04f9c6-204d-4d6a-957e-f148f13159bc",
        "outputId": "8928f5f6-09be-4615-f48f-8bc7a774400f"
      },
      "source": [
        "plt.plot(X_numpy, y_numpy, 'ro')\n",
        "plt.plot(X_numpy, predicted, 'b')\n",
        "plt.show()"
      ],
      "id": "ab04f9c6-204d-4d6a-957e-f148f13159bc",
      "execution_count": 96,
      "outputs": [
        {
          "output_type": "display_data",
          "data": {
            "image/png": "[encoded data removed]",
            "text/plain": [
              "<Figure size 432x288 with 1 Axes>"
            ]
          },
          "metadata": {
            "tags": [],
            "needs_background": "light"
          }
        }
      ]
    },
    {
      "cell_type": "code",
      "metadata": {
        "id": "c1f4b18a-6769-4234-bc60-e94407934751"
      },
      "source": [
        ""
      ],
      "id": "c1f4b18a-6769-4234-bc60-e94407934751",
      "execution_count": null,
      "outputs": []
    }
  ]
}