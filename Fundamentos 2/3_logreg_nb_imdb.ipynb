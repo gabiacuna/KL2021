{
  "nbformat": 4,
  "nbformat_minor": 0,
  "metadata": {
    "colab": {
      "name": "3-logreg-nb-imdb.ipynb",
      "provenance": [],
      "toc_visible": true,
      "include_colab_link": true
    },
    "kernelspec": {
      "display_name": "Python 3",
      "language": "python",
      "name": "python3"
    },
    "language_info": {
      "codemirror_mode": {
        "name": "ipython",
        "version": 3
      },
      "file_extension": ".py",
      "mimetype": "text/x-python",
      "name": "python",
      "nbconvert_exporter": "python",
      "pygments_lexer": "ipython3",
      "version": "3.7.3"
    }
  },
  "cells": [
    {
      "cell_type": "markdown",
      "metadata": {
        "id": "view-in-github",
        "colab_type": "text"
      },
      "source": [
        "<a href=\"https://colab.research.google.com/github/gabiacuna/KL2021/blob/main/Fundamentos%202/3_logreg_nb_imdb.ipynb\" target=\"_parent\"><img src=\"https://colab.research.google.com/assets/colab-badge.svg\" alt=\"Open In Colab\"/></a>"
      ]
    },
    {
      "cell_type": "markdown",
      "metadata": {
        "id": "-6p1vCHAbikm"
      },
      "source": [
        "## NLP (Procesamiento del lenguaje)\n",
        "\n",
        "Etiquetado de partes del discutrso y clasificando sentimientos.\n",
        "\n",
        "### Google natural lenguage api\n",
        "\n",
        "[link](https://cloud.google.com/natural-language?hl=es)\n",
        "\n",
        "cursito introductorio ai : https://www.fast.ai/2019/07/08/fastai-nlp/\n",
        "\n",
        "### Analisis de Sentimientos\n",
        "\n",
        "Como expresamos nuestros sentimientos a travez del lenguaje. \n",
        "\n",
        "Pueden ser positivos, negativos y neutros.\n",
        "\n",
        "Basado en el analisis de sentimientos, se crean compañias que revisan el comportamiento y recepciones de marcas en redes sociales. [ej](https://netbasequid.com/)\n",
        "\n",
        "[Estudio de Tweets en elecciones presidenciales](https://repositorio.unal.edu.co/handle/unal/56482)\n",
        "\n",
        "-> [crawling twitter medium](https://medium.com/analytics-vidhya/crawling-twitter-data-without-authentication-8269d1c5b261)\n",
        "\n"
      ]
    },
    {
      "cell_type": "markdown",
      "metadata": {
        "id": "_WZ7kyM5PdT-"
      },
      "source": [
        "# Clasificación de Sentimientos de Críticas de Películas (utilizando Naive Bayes, Logistic Regression y n-gramas)"
      ]
    },
    {
      "cell_type": "markdown",
      "metadata": {
        "id": "ox_Ed43UPdUC"
      },
      "source": [
        "Este notebook es una adaptación del existente en el curso de Fast.ai de procesamiento del lenguaje natural https://github.com/fastai/course-nlp/blob/master/3-logreg-nb-imdb.ipynb\n",
        "\n",
        "Se mostratán las siguientes técnicas de clasificación de sentimientos:\n",
        "\n",
        "- Naive Bayes\n",
        "- Logistic Regression\n",
        "- ngrams\n",
        "\n",
        "Se emplearán las siguientes librerías (no requieren instalación en colab): \n",
        "\n",
        "- *fastai* [the fastai library](https://docs.fast.ai) : Para instalarla utilizar `pip install -U scikit-learn`\n",
        "- *sklearn* [the scikit-learn library](https://scikit-learn.org/stable/user_guide.html):  Para instalarla se aconseja utilizar: `conda install -c pytorch -c fastai fastai=1.0` ó \n",
        "`pip install fastai==1.0`\n"
      ]
    },
    {
      "cell_type": "markdown",
      "metadata": {
        "id": "9Iv4xT_pPdUN"
      },
      "source": [
        "## IMDB dataset"
      ]
    },
    {
      "cell_type": "markdown",
      "metadata": {
        "id": "khLfEDGoPdUO"
      },
      "source": [
        "Este dataset ([large movie review dataset](http://ai.stanford.edu/~amaas/data/sentiment/))  contiene una colección de 50.000 críticas de IMDB y Fast.ai aloja estos dataset en AWS [fast.ai datasets](https://course.fast.ai/datasets.html). \n",
        "\n",
        "En la versión de fastai, consideraron críticas que tienen una alta polarización:\n",
        "\n",
        "- Una crítica negativa, es aquel que contiene un score ≤ 4/10\n",
        "- Una crítica positiva es aquella que tiene un puntaje ≥ 7/10\n",
        "- No se incluyeron críticas neutrales.\n",
        "\n",
        "\n",
        "Usualmente el dataset - y en este caso se aplica -, está dividido en dos colecciones. \n",
        "- Una de entrenamiento *training* \n",
        "- Otra de pruebas *testing*\n",
        "\n",
        "La tarea de **clasificación de sentimientos** consiste en predecir la polaridad (que tan positivo o que tan negativo es un texto dado).\n"
      ]
    },
    {
      "cell_type": "markdown",
      "metadata": {
        "id": "7BQ_3GW4PdUR"
      },
      "source": [
        "### Imports\n",
        "\n",
        "En esta parte se importarán las librerías a emplear en este notebook:"
      ]
    },
    {
      "cell_type": "code",
      "metadata": {
        "id": "_LrjaCNjPdUT",
        "scrolled": true
      },
      "source": [
        "%reload_ext autoreload\n",
        "%autoreload 2\n",
        "%matplotlib inline"
      ],
      "execution_count": 4,
      "outputs": []
    },
    {
      "cell_type": "code",
      "metadata": {
        "id": "ip31Hr8wPdUe"
      },
      "source": [
        "from fastai import *\n",
        "from fastai.text import *"
      ],
      "execution_count": 5,
      "outputs": []
    },
    {
      "cell_type": "code",
      "metadata": {
        "id": "ayDJLWWiPdUj"
      },
      "source": [
        "import sklearn.feature_extraction.text as sklearn_text"
      ],
      "execution_count": 6,
      "outputs": []
    },
    {
      "cell_type": "markdown",
      "metadata": {
        "id": "t0NLBsXdPdUq"
      },
      "source": [
        "### Tokenización y creación de la matriz de Documento-término"
      ]
    },
    {
      "cell_type": "markdown",
      "metadata": {
        "id": "iPoexLjRPdUq"
      },
      "source": [
        "fast.ai tiene una colección de datasets [datasets hosted via AWS Open Datasets](https://course.fast.ai/datasets.html) para descarga rápida usando URLs. \n"
      ]
    },
    {
      "cell_type": "code",
      "metadata": {
        "id": "3MGv8XDePdUs"
      },
      "source": [
        "#?? URLs"
      ],
      "execution_count": 7,
      "outputs": []
    },
    {
      "cell_type": "markdown",
      "metadata": {
        "id": "lIDkEvaxPdUv"
      },
      "source": [
        "Es una buena idea empezar con un dataset de ejemplo antes de utilizar el dataset completo para realizar cómputos rápidos y hacer que el modelo funcione. Así se puede obtener un dataset de ejemplo:"
      ]
    },
    {
      "cell_type": "code",
      "metadata": {
        "colab": {
          "base_uri": "https://localhost:8080/",
          "height": 54
        },
        "id": "cASkpjx7PdUx",
        "outputId": "0516af18-fc8f-421c-e853-fad3363d1725"
      },
      "source": [
        "path = untar_data(URLs.IMDB_SAMPLE)\n",
        "path"
      ],
      "execution_count": 8,
      "outputs": [
        {
          "output_type": "stream",
          "text": [
            "Downloading http://files.fast.ai/data/examples/imdb_sample.tgz\n"
          ],
          "name": "stdout"
        },
        {
          "output_type": "display_data",
          "data": {
            "text/html": [
              ""
            ],
            "text/plain": [
              "<IPython.core.display.HTML object>"
            ]
          },
          "metadata": {
            "tags": []
          }
        },
        {
          "output_type": "execute_result",
          "data": {
            "text/plain": [
              "PosixPath('/root/.fastai/data/imdb_sample')"
            ]
          },
          "metadata": {
            "tags": []
          },
          "execution_count": 8
        }
      ]
    },
    {
      "cell_type": "markdown",
      "metadata": {
        "id": "JL-JKU0ePdU3"
      },
      "source": [
        "Es posible apreciar el contenido del dataframe usando pandas:"
      ]
    },
    {
      "cell_type": "code",
      "metadata": {
        "colab": {
          "base_uri": "https://localhost:8080/",
          "height": 198
        },
        "id": "klwWwRBAPdU4",
        "scrolled": true,
        "outputId": "ad908bfd-6e00-46a0-b0b7-b6a75b5c08c2"
      },
      "source": [
        "df = pd.read_csv(path/'texts.csv')\n",
        "df.head()"
      ],
      "execution_count": 9,
      "outputs": [
        {
          "output_type": "execute_result",
          "data": {
            "text/html": [
              "<div>\n",
              "<style scoped>\n",
              "    .dataframe tbody tr th:only-of-type {\n",
              "        vertical-align: middle;\n",
              "    }\n",
              "\n",
              "    .dataframe tbody tr th {\n",
              "        vertical-align: top;\n",
              "    }\n",
              "\n",
              "    .dataframe thead th {\n",
              "        text-align: right;\n",
              "    }\n",
              "</style>\n",
              "<table border=\"1\" class=\"dataframe\">\n",
              "  <thead>\n",
              "    <tr style=\"text-align: right;\">\n",
              "      <th></th>\n",
              "      <th>label</th>\n",
              "      <th>text</th>\n",
              "      <th>is_valid</th>\n",
              "    </tr>\n",
              "  </thead>\n",
              "  <tbody>\n",
              "    <tr>\n",
              "      <th>0</th>\n",
              "      <td>negative</td>\n",
              "      <td>Un-bleeping-believable! Meg Ryan doesn't even ...</td>\n",
              "      <td>False</td>\n",
              "    </tr>\n",
              "    <tr>\n",
              "      <th>1</th>\n",
              "      <td>positive</td>\n",
              "      <td>This is a extremely well-made film. The acting...</td>\n",
              "      <td>False</td>\n",
              "    </tr>\n",
              "    <tr>\n",
              "      <th>2</th>\n",
              "      <td>negative</td>\n",
              "      <td>Every once in a long while a movie will come a...</td>\n",
              "      <td>False</td>\n",
              "    </tr>\n",
              "    <tr>\n",
              "      <th>3</th>\n",
              "      <td>positive</td>\n",
              "      <td>Name just says it all. I watched this movie wi...</td>\n",
              "      <td>False</td>\n",
              "    </tr>\n",
              "    <tr>\n",
              "      <th>4</th>\n",
              "      <td>negative</td>\n",
              "      <td>This movie succeeds at being one of the most u...</td>\n",
              "      <td>False</td>\n",
              "    </tr>\n",
              "  </tbody>\n",
              "</table>\n",
              "</div>"
            ],
            "text/plain": [
              "      label                                               text  is_valid\n",
              "0  negative  Un-bleeping-believable! Meg Ryan doesn't even ...     False\n",
              "1  positive  This is a extremely well-made film. The acting...     False\n",
              "2  negative  Every once in a long while a movie will come a...     False\n",
              "3  positive  Name just says it all. I watched this movie wi...     False\n",
              "4  negative  This movie succeeds at being one of the most u...     False"
            ]
          },
          "metadata": {
            "tags": []
          },
          "execution_count": 9
        }
      ]
    },
    {
      "cell_type": "markdown",
      "metadata": {
        "id": "s0co2Z9MPdU9"
      },
      "source": [
        "En este notebook se utilizará [TextList](https://docs.fast.ai/text.data.html#TextList) que se incluye en la librería fastai:"
      ]
    },
    {
      "cell_type": "code",
      "metadata": {
        "colab": {
          "base_uri": "https://localhost:8080/",
          "height": 74
        },
        "id": "VJm-6VgSPdU-",
        "outputId": "2161bc6c-c2c0-4902-895a-9d43b6a211da"
      },
      "source": [
        "movie_reviews = (TextList.from_csv(path, 'texts.csv', cols='text')\n",
        "                         .split_from_df(col=2)\n",
        "                         .label_from_df(cols=0))"
      ],
      "execution_count": 11,
      "outputs": [
        {
          "output_type": "display_data",
          "data": {
            "text/html": [
              ""
            ],
            "text/plain": [
              "<IPython.core.display.HTML object>"
            ]
          },
          "metadata": {
            "tags": []
          }
        },
        {
          "output_type": "stream",
          "text": [
            "/usr/local/lib/python3.7/dist-packages/fastai/core.py:302: VisibleDeprecationWarning: Creating an ndarray from ragged nested sequences (which is a list-or-tuple of lists-or-tuples-or ndarrays with different lengths or shapes) is deprecated. If you meant to do this, you must specify 'dtype=object' when creating the ndarray\n",
            "  return np.array(a, dtype=dtype, **kwargs)\n"
          ],
          "name": "stderr"
        },
        {
          "output_type": "display_data",
          "data": {
            "text/html": [
              ""
            ],
            "text/plain": [
              "<IPython.core.display.HTML object>"
            ]
          },
          "metadata": {
            "tags": []
          }
        }
      ]
    },
    {
      "cell_type": "markdown",
      "metadata": {
        "id": "vpBC_XTrPdVC"
      },
      "source": [
        "### Exploración de los datos"
      ]
    },
    {
      "cell_type": "markdown",
      "metadata": {
        "id": "6ion6tYIPdVF"
      },
      "source": [
        "Un punto de inicio para cualquier problema que involucre datos es explorarlos y ver como lucen. En este caso vamos a análizar críticas de películas que han sido **etiquetadas** como **positivas** o **negativas.** \n"
      ]
    },
    {
      "cell_type": "code",
      "metadata": {
        "colab": {
          "base_uri": "https://localhost:8080/"
        },
        "id": "h_nf6KlyPdVF",
        "outputId": "0c588eb7-ee0a-4aa2-d01d-03e8bf26ed09"
      },
      "source": [
        "movie_reviews.valid.x[0], movie_reviews.valid.y[0] "
      ],
      "execution_count": 14,
      "outputs": [
        {
          "output_type": "execute_result",
          "data": {
            "text/plain": [
              "(Text [ 2  5 21 71 ... 15  5  0 52], Category 1)"
            ]
          },
          "metadata": {
            "tags": []
          },
          "execution_count": 14
        }
      ]
    },
    {
      "cell_type": "markdown",
      "metadata": {
        "id": "Nh4tr0KYoMF8"
      },
      "source": [
        "Se genera el mapeo de token a entero"
      ]
    },
    {
      "cell_type": "markdown",
      "metadata": {
        "id": "4yHEiqhzPdVJ"
      },
      "source": [
        "En NLP, un **token** es la unidad básica de procesamiento (el concepto de token depende de la aplicación y de lo que se quiera realizar). En esta parte, un token hace referencia a palabras o a signos de puntuación y también tendremos algunos tokens especiales que corresponden a palabras desconocidas, mayúsculas, etc.  Los tokens que empiezan con \"xx\" son especiales y son generados por fast.ai. En la ([documentación de fast.ai](https://fastai1.fast.ai/text.transform.html#Tokenizer)) se puede apreciar una lista de tokens y sus significados: \n",
        "\n",
        "![](https://raw.githubusercontent.com/arleserp/CCE2021/main/images/tokens.png)\n"
      ]
    },
    {
      "cell_type": "markdown",
      "metadata": {
        "id": "j69Hyfn6PdVJ"
      },
      "source": [
        "Podemos apreciar que el resultado del procesamiento en fast.ai de el dataset de ejemplo genera dos dataset uno de entrenamiento con 800 registros y otro de validación con 200:"
      ]
    },
    {
      "cell_type": "code",
      "metadata": {
        "colab": {
          "base_uri": "https://localhost:8080/"
        },
        "id": "WvNn65JXPdVK",
        "outputId": "cdacb10e-32b0-4791-f7a6-2fcf46599e08"
      },
      "source": [
        "len(movie_reviews.train.x), len(movie_reviews.valid.x)"
      ],
      "execution_count": 16,
      "outputs": [
        {
          "output_type": "execute_result",
          "data": {
            "text/plain": [
              "(800, 200)"
            ]
          },
          "metadata": {
            "tags": []
          },
          "execution_count": 16
        }
      ]
    },
    {
      "cell_type": "markdown",
      "metadata": {
        "id": "UoFT_1MKKN_c"
      },
      "source": [
        "Adicionalmente se generan una lista y un diccionario. La lista incluye un mapeo de enteros a tokens `(movie_reviews.vocab.itos)` y el diccionario mapea de tokens a enteros (`movie_reviews.vocab.stoi`). ¿Por qué cree que son de diferentes tamaños?: "
      ]
    },
    {
      "cell_type": "code",
      "metadata": {
        "colab": {
          "base_uri": "https://localhost:8080/"
        },
        "id": "QJHDH61xPdVQ",
        "outputId": "c5a92dfc-7cbe-4bd0-fd38-9e2bba7676e2"
      },
      "source": [
        "print(type(movie_reviews.vocab.itos), type(movie_reviews.vocab.stoi))\n",
        "len(movie_reviews.vocab.itos), len(movie_reviews.vocab.stoi)"
      ],
      "execution_count": 17,
      "outputs": [
        {
          "output_type": "stream",
          "text": [
            "<class 'list'> <class 'collections.defaultdict'>\n"
          ],
          "name": "stdout"
        },
        {
          "output_type": "execute_result",
          "data": {
            "text/plain": [
              "(6008, 19159)"
            ]
          },
          "metadata": {
            "tags": []
          },
          "execution_count": 17
        }
      ]
    },
    {
      "cell_type": "markdown",
      "metadata": {
        "id": "nJMyNhT_o-rB"
      },
      "source": [
        "Se mapean las palabras a token (a cada palabra se le asigna un numero). Si llega una palabra nueva se usa el mismo token.\n",
        "\n",
        "En int to string se guarda {token : palabra}\n",
        "\n",
        "Y en string to int se guarda {palabra : token}"
      ]
    },
    {
      "cell_type": "markdown",
      "metadata": {
        "id": "VWe3g_xTPdVO"
      },
      "source": [
        "Si miramos que número de token tiene la palabra language:"
      ]
    },
    {
      "cell_type": "code",
      "metadata": {
        "colab": {
          "base_uri": "https://localhost:8080/"
        },
        "id": "O4vJaiSjPdVU",
        "outputId": "3a9fc4de-d8c9-4e99-9717-cfbdf5cb960f"
      },
      "source": [
        "movie_reviews.vocab.stoi['language'] "
      ],
      "execution_count": 28,
      "outputs": [
        {
          "output_type": "execute_result",
          "data": {
            "text/plain": [
              "917"
            ]
          },
          "metadata": {
            "tags": []
          },
          "execution_count": 28
        }
      ]
    },
    {
      "cell_type": "markdown",
      "metadata": {
        "id": "Ukt-7XtlKN_d"
      },
      "source": [
        "Si miramos la palabra a la que corresponde el token 917:"
      ]
    },
    {
      "cell_type": "code",
      "metadata": {
        "colab": {
          "base_uri": "https://localhost:8080/",
          "height": 35
        },
        "id": "78E5NQA-PdVa",
        "outputId": "a52c73d3-fbc7-4cb8-9c06-b6a08e01b3d3"
      },
      "source": [
        "movie_reviews.vocab.itos[917]"
      ],
      "execution_count": 29,
      "outputs": [
        {
          "output_type": "execute_result",
          "data": {
            "application/vnd.google.colaboratory.intrinsic+json": {
              "type": "string"
            },
            "text/plain": [
              "'language'"
            ]
          },
          "metadata": {
            "tags": []
          },
          "execution_count": 29
        }
      ]
    },
    {
      "cell_type": "markdown",
      "metadata": {
        "id": "kdUHBI8vKN_e"
      },
      "source": [
        "Las palabras de la 20 a la 29 son:"
      ]
    },
    {
      "cell_type": "code",
      "metadata": {
        "colab": {
          "base_uri": "https://localhost:8080/"
        },
        "id": "O4KRzDSgPdVc",
        "scrolled": true,
        "outputId": "491c065d-3396-4578-b0b9-175732919ad8"
      },
      "source": [
        "movie_reviews.vocab.itos[20:30]"
      ],
      "execution_count": 30,
      "outputs": [
        {
          "output_type": "execute_result",
          "data": {
            "text/plain": [
              "['that', 'this', '\"', \"'s\", '\\n \\n ', '-', 'was', 'as', 'for', 'movie']"
            ]
          },
          "metadata": {
            "tags": []
          },
          "execution_count": 30
        }
      ]
    },
    {
      "cell_type": "markdown",
      "metadata": {
        "id": "O349IVKCKN_f"
      },
      "source": [
        "La palabra 6007 es:"
      ]
    },
    {
      "cell_type": "code",
      "metadata": {
        "colab": {
          "base_uri": "https://localhost:8080/",
          "height": 35
        },
        "id": "yrFVDj9APdVg",
        "outputId": "de8cab14-b4d8-4abe-ba99-9629f047b126"
      },
      "source": [
        "movie_reviews.vocab.itos[6007]"
      ],
      "execution_count": 31,
      "outputs": [
        {
          "output_type": "execute_result",
          "data": {
            "application/vnd.google.colaboratory.intrinsic+json": {
              "type": "string"
            },
            "text/plain": [
              "'sollett'"
            ]
          },
          "metadata": {
            "tags": []
          },
          "execution_count": 31
        }
      ]
    },
    {
      "cell_type": "code",
      "metadata": {
        "colab": {
          "base_uri": "https://localhost:8080/"
        },
        "id": "vqQhpYolPdVj",
        "outputId": "43ccc068-e882-46b3-aee9-c92c54811b13"
      },
      "source": [
        "movie_reviews.vocab.itos[:20] #primeras 20 palabras"
      ],
      "execution_count": 32,
      "outputs": [
        {
          "output_type": "execute_result",
          "data": {
            "text/plain": [
              "['xxunk',\n",
              " 'xxpad',\n",
              " 'xxbos',\n",
              " 'xxeos',\n",
              " 'xxfld',\n",
              " 'xxmaj',\n",
              " 'xxup',\n",
              " 'xxrep',\n",
              " 'xxwrep',\n",
              " 'the',\n",
              " '.',\n",
              " ',',\n",
              " 'and',\n",
              " 'a',\n",
              " 'of',\n",
              " 'to',\n",
              " 'is',\n",
              " 'it',\n",
              " 'in',\n",
              " 'i']"
            ]
          },
          "metadata": {
            "tags": []
          },
          "execution_count": 32
        }
      ]
    },
    {
      "cell_type": "code",
      "metadata": {
        "colab": {
          "base_uri": "https://localhost:8080/"
        },
        "id": "Dgzhyjd8PdVn",
        "scrolled": true,
        "outputId": "8914118a-f100-4172-ee44-319af39c72e8"
      },
      "source": [
        "movie_reviews.vocab.stoi"
      ],
      "execution_count": 33,
      "outputs": [
        {
          "output_type": "execute_result",
          "data": {
            "text/plain": [
              "defaultdict(int,\n",
              "            {'xxunk': 0,\n",
              "             'xxpad': 1,\n",
              "             'xxbos': 2,\n",
              "             'xxeos': 3,\n",
              "             'xxfld': 4,\n",
              "             'xxmaj': 5,\n",
              "             'xxup': 6,\n",
              "             'xxrep': 7,\n",
              "             'xxwrep': 8,\n",
              "             'the': 9,\n",
              "             '.': 10,\n",
              "             ',': 11,\n",
              "             'and': 12,\n",
              "             'a': 13,\n",
              "             'of': 14,\n",
              "             'to': 15,\n",
              "             'is': 16,\n",
              "             'it': 17,\n",
              "             'in': 18,\n",
              "             'i': 19,\n",
              "             'that': 20,\n",
              "             'this': 21,\n",
              "             '\"': 22,\n",
              "             \"'s\": 23,\n",
              "             '\\n \\n ': 24,\n",
              "             '-': 25,\n",
              "             'was': 26,\n",
              "             'as': 27,\n",
              "             'for': 28,\n",
              "             'movie': 29,\n",
              "             'with': 30,\n",
              "             'but': 31,\n",
              "             'film': 32,\n",
              "             'you': 33,\n",
              "             ')': 34,\n",
              "             'on': 35,\n",
              "             '(': 36,\n",
              "             \"n't\": 37,\n",
              "             'are': 38,\n",
              "             'he': 39,\n",
              "             'his': 40,\n",
              "             'not': 41,\n",
              "             'have': 42,\n",
              "             'be': 43,\n",
              "             'one': 44,\n",
              "             'they': 45,\n",
              "             'all': 46,\n",
              "             'at': 47,\n",
              "             'by': 48,\n",
              "             'an': 49,\n",
              "             'from': 50,\n",
              "             'like': 51,\n",
              "             '!': 52,\n",
              "             'so': 53,\n",
              "             'who': 54,\n",
              "             'there': 55,\n",
              "             'about': 56,\n",
              "             'just': 57,\n",
              "             'out': 58,\n",
              "             'if': 59,\n",
              "             'or': 60,\n",
              "             'do': 61,\n",
              "             \"'\": 62,\n",
              "             'what': 63,\n",
              "             'her': 64,\n",
              "             'has': 65,\n",
              "             'some': 66,\n",
              "             'more': 67,\n",
              "             'good': 68,\n",
              "             'when': 69,\n",
              "             'up': 70,\n",
              "             'very': 71,\n",
              "             '?': 72,\n",
              "             'she': 73,\n",
              "             'would': 74,\n",
              "             'no': 75,\n",
              "             'really': 76,\n",
              "             'were': 77,\n",
              "             'their': 78,\n",
              "             'my': 79,\n",
              "             'had': 80,\n",
              "             'time': 81,\n",
              "             'can': 82,\n",
              "             'only': 83,\n",
              "             'which': 84,\n",
              "             'even': 85,\n",
              "             'see': 86,\n",
              "             'story': 87,\n",
              "             'me': 88,\n",
              "             'into': 89,\n",
              "             'did': 90,\n",
              "             ':': 91,\n",
              "             'well': 92,\n",
              "             'we': 93,\n",
              "             'will': 94,\n",
              "             'does': 95,\n",
              "             'than': 96,\n",
              "             'also': 97,\n",
              "             'get': 98,\n",
              "             '...': 99,\n",
              "             'people': 100,\n",
              "             'other': 101,\n",
              "             'bad': 102,\n",
              "             'been': 103,\n",
              "             'could': 104,\n",
              "             'first': 105,\n",
              "             'much': 106,\n",
              "             'how': 107,\n",
              "             'most': 108,\n",
              "             'any': 109,\n",
              "             'because': 110,\n",
              "             'two': 111,\n",
              "             'then': 112,\n",
              "             'great': 113,\n",
              "             'him': 114,\n",
              "             'its': 115,\n",
              "             'too': 116,\n",
              "             'made': 117,\n",
              "             'them': 118,\n",
              "             'after': 119,\n",
              "             'movies': 120,\n",
              "             'make': 121,\n",
              "             '/': 122,\n",
              "             'way': 123,\n",
              "             'think': 124,\n",
              "             'never': 125,\n",
              "             'watch': 126,\n",
              "             'acting': 127,\n",
              "             'seen': 128,\n",
              "             ';': 129,\n",
              "             'films': 130,\n",
              "             'plot': 131,\n",
              "             'being': 132,\n",
              "             'many': 133,\n",
              "             'over': 134,\n",
              "             'where': 135,\n",
              "             'character': 136,\n",
              "             'man': 137,\n",
              "             'little': 138,\n",
              "             'better': 139,\n",
              "             'life': 140,\n",
              "             'characters': 141,\n",
              "             'love': 142,\n",
              "             'your': 143,\n",
              "             'here': 144,\n",
              "             'know': 145,\n",
              "             'scenes': 146,\n",
              "             'best': 147,\n",
              "             'end': 148,\n",
              "             'show': 149,\n",
              "             'while': 150,\n",
              "             'through': 151,\n",
              "             'should': 152,\n",
              "             'off': 153,\n",
              "             'ever': 154,\n",
              "             'these': 155,\n",
              "             'go': 156,\n",
              "             'such': 157,\n",
              "             'say': 158,\n",
              "             '--': 159,\n",
              "             'something': 160,\n",
              "             'scene': 161,\n",
              "             'still': 162,\n",
              "             'before': 163,\n",
              "             'though': 164,\n",
              "             'watching': 165,\n",
              "             'between': 166,\n",
              "             'actually': 167,\n",
              "             'old': 168,\n",
              "             '10': 169,\n",
              "             'find': 170,\n",
              "             'back': 171,\n",
              "             'now': 172,\n",
              "             'why': 173,\n",
              "             'years': 174,\n",
              "             \"'ve\": 175,\n",
              "             'actors': 176,\n",
              "             'fact': 177,\n",
              "             'those': 178,\n",
              "             \"'m\": 179,\n",
              "             'thing': 180,\n",
              "             'pretty': 181,\n",
              "             'quite': 182,\n",
              "             'part': 183,\n",
              "             'going': 184,\n",
              "             'same': 185,\n",
              "             'real': 186,\n",
              "             'another': 187,\n",
              "             'down': 188,\n",
              "             '*': 189,\n",
              "             'funny': 190,\n",
              "             'nothing': 191,\n",
              "             'look': 192,\n",
              "             'makes': 193,\n",
              "             'new': 194,\n",
              "             'want': 195,\n",
              "             'action': 196,\n",
              "             '&': 197,\n",
              "             'director': 198,\n",
              "             'work': 199,\n",
              "             'few': 200,\n",
              "             \"'re\": 201,\n",
              "             'seems': 202,\n",
              "             'around': 203,\n",
              "             'world': 204,\n",
              "             'point': 205,\n",
              "             'without': 206,\n",
              "             'cast': 207,\n",
              "             'again': 208,\n",
              "             'own': 209,\n",
              "             'both': 210,\n",
              "             'lot': 211,\n",
              "             'enough': 212,\n",
              "             'every': 213,\n",
              "             'family': 214,\n",
              "             'got': 215,\n",
              "             'ca': 216,\n",
              "             \"'ll\": 217,\n",
              "             'probably': 218,\n",
              "             'big': 219,\n",
              "             'bit': 220,\n",
              "             'might': 221,\n",
              "             'things': 222,\n",
              "             'horror': 223,\n",
              "             'us': 224,\n",
              "             'almost': 225,\n",
              "             'may': 226,\n",
              "             'right': 227,\n",
              "             'must': 228,\n",
              "             'away': 229,\n",
              "             'thought': 230,\n",
              "             'interesting': 231,\n",
              "             'least': 232,\n",
              "             'whole': 233,\n",
              "             'series': 234,\n",
              "             'gets': 235,\n",
              "             'each': 236,\n",
              "             'give': 237,\n",
              "             'young': 238,\n",
              "             'however': 239,\n",
              "             'making': 240,\n",
              "             'day': 241,\n",
              "             'fun': 242,\n",
              "             'anything': 243,\n",
              "             'minutes': 244,\n",
              "             'kind': 245,\n",
              "             'come': 246,\n",
              "             'girl': 247,\n",
              "             'saw': 248,\n",
              "             'script': 249,\n",
              "             'take': 250,\n",
              "             'long': 251,\n",
              "             'times': 252,\n",
              "             'someone': 253,\n",
              "             'found': 254,\n",
              "             'done': 255,\n",
              "             'feel': 256,\n",
              "             'far': 257,\n",
              "             'since': 258,\n",
              "             'role': 259,\n",
              "             'original': 260,\n",
              "             'course': 261,\n",
              "             'goes': 262,\n",
              "             'last': 263,\n",
              "             'true': 264,\n",
              "             'simply': 265,\n",
              "             'always': 266,\n",
              "             \"'d\": 267,\n",
              "             'tv': 268,\n",
              "             'hard': 269,\n",
              "             'place': 270,\n",
              "             'set': 271,\n",
              "             'trying': 272,\n",
              "             'believe': 273,\n",
              "             'shot': 274,\n",
              "             'comes': 275,\n",
              "             'actor': 276,\n",
              "             'yet': 277,\n",
              "             '4': 278,\n",
              "             'having': 279,\n",
              "             'book': 280,\n",
              "             'looks': 281,\n",
              "             'guy': 282,\n",
              "             'screen': 283,\n",
              "             'later': 284,\n",
              "             'shows': 285,\n",
              "             'performance': 286,\n",
              "             'worth': 287,\n",
              "             'comedy': 288,\n",
              "             'sure': 289,\n",
              "             'looking': 290,\n",
              "             'sense': 291,\n",
              "             'star': 292,\n",
              "             'effects': 293,\n",
              "             'read': 294,\n",
              "             'takes': 295,\n",
              "             'although': 296,\n",
              "             'audience': 297,\n",
              "             'ending': 298,\n",
              "             'john': 299,\n",
              "             'anyone': 300,\n",
              "             'worst': 301,\n",
              "             'american': 302,\n",
              "             'year': 303,\n",
              "             'especially': 304,\n",
              "             'women': 305,\n",
              "             'together': 306,\n",
              "             'dvd': 307,\n",
              "             'instead': 308,\n",
              "             'different': 309,\n",
              "             'am': 310,\n",
              "             'woman': 311,\n",
              "             'men': 312,\n",
              "             '2': 313,\n",
              "             'our': 314,\n",
              "             'played': 315,\n",
              "             'music': 316,\n",
              "             'special': 317,\n",
              "             'three': 318,\n",
              "             'rest': 319,\n",
              "             'put': 320,\n",
              "             'maybe': 321,\n",
              "             'wife': 322,\n",
              "             'kids': 323,\n",
              "             'war': 324,\n",
              "             'left': 325,\n",
              "             'black': 326,\n",
              "             'once': 327,\n",
              "             'second': 328,\n",
              "             'watched': 329,\n",
              "             'next': 330,\n",
              "             'friends': 331,\n",
              "             'rather': 332,\n",
              "             'let': 333,\n",
              "             '\\x96': 334,\n",
              "             'job': 335,\n",
              "             'start': 336,\n",
              "             'others': 337,\n",
              "             'budget': 338,\n",
              "             'need': 339,\n",
              "             'mind': 340,\n",
              "             'said': 341,\n",
              "             'main': 342,\n",
              "             'else': 343,\n",
              "             'wrong': 344,\n",
              "             'beautiful': 345,\n",
              "             'half': 346,\n",
              "             'high': 347,\n",
              "             'idea': 348,\n",
              "             'death': 349,\n",
              "             'tell': 350,\n",
              "             'help': 351,\n",
              "             'nice': 352,\n",
              "             'seem': 353,\n",
              "             'perhaps': 354,\n",
              "             'hollywood': 355,\n",
              "             'everyone': 356,\n",
              "             'play': 357,\n",
              "             'case': 358,\n",
              "             'production': 359,\n",
              "             'piece': 360,\n",
              "             'episode': 361,\n",
              "             'camera': 362,\n",
              "             'low': 363,\n",
              "             'already': 364,\n",
              "             'top': 365,\n",
              "             'poor': 366,\n",
              "             'during': 367,\n",
              "             '3': 368,\n",
              "             'stars': 369,\n",
              "             'house': 370,\n",
              "             '..': 371,\n",
              "             'couple': 372,\n",
              "             'boring': 373,\n",
              "             'reason': 374,\n",
              "             'try': 375,\n",
              "             'along': 376,\n",
              "             'name': 377,\n",
              "             'small': 378,\n",
              "             'plays': 379,\n",
              "             'father': 380,\n",
              "             'everything': 381,\n",
              "             'used': 382,\n",
              "             'video': 383,\n",
              "             'getting': 384,\n",
              "             'money': 385,\n",
              "             'full': 386,\n",
              "             'less': 387,\n",
              "             'performances': 388,\n",
              "             'often': 389,\n",
              "             'liked': 390,\n",
              "             'came': 391,\n",
              "             '1': 392,\n",
              "             'robert': 393,\n",
              "             'either': 394,\n",
              "             'fan': 395,\n",
              "             'given': 396,\n",
              "             'hand': 397,\n",
              "             'kill': 398,\n",
              "             'felt': 399,\n",
              "             'yes': 400,\n",
              "             'completely': 401,\n",
              "             'night': 402,\n",
              "             'children': 403,\n",
              "             'himself': 404,\n",
              "             'girls': 405,\n",
              "             'early': 406,\n",
              "             'awful': 407,\n",
              "             'oh': 408,\n",
              "             'live': 409,\n",
              "             'picture': 410,\n",
              "             'parts': 411,\n",
              "             'throughout': 412,\n",
              "             'until': 413,\n",
              "             'become': 414,\n",
              "             'town': 415,\n",
              "             'written': 416,\n",
              "             'terrible': 417,\n",
              "             'turn': 418,\n",
              "             'child': 419,\n",
              "             'despite': 420,\n",
              "             'moments': 421,\n",
              "             'boy': 422,\n",
              "             'problem': 423,\n",
              "             'head': 424,\n",
              "             'stupid': 425,\n",
              "             'beginning': 426,\n",
              "             'home': 427,\n",
              "             'version': 428,\n",
              "             'able': 429,\n",
              "             'excellent': 430,\n",
              "             'sometimes': 431,\n",
              "             'overall': 432,\n",
              "             'recommend': 433,\n",
              "             'sex': 434,\n",
              "             'keep': 435,\n",
              "             'human': 436,\n",
              "             'drama': 437,\n",
              "             'hero': 438,\n",
              "             'supposed': 439,\n",
              "             'seemed': 440,\n",
              "             'use': 441,\n",
              "             'writing': 442,\n",
              "             'wo': 443,\n",
              "             'remember': 444,\n",
              "             'went': 445,\n",
              "             'enjoy': 446,\n",
              "             'classic': 447,\n",
              "             'person': 448,\n",
              "             'killer': 449,\n",
              "             'lost': 450,\n",
              "             'late': 451,\n",
              "             '5': 452,\n",
              "             'title': 453,\n",
              "             'king': 454,\n",
              "             'entire': 455,\n",
              "             'history': 456,\n",
              "             'son': 457,\n",
              "             'school': 458,\n",
              "             'lead': 459,\n",
              "             'english': 460,\n",
              "             'sound': 461,\n",
              "             'cinema': 462,\n",
              "             'seeing': 463,\n",
              "             'unfortunately': 464,\n",
              "             'genre': 465,\n",
              "             'sort': 466,\n",
              "             'mean': 467,\n",
              "             'friend': 468,\n",
              "             'fans': 469,\n",
              "             'close': 470,\n",
              "             'quality': 471,\n",
              "             'definitely': 472,\n",
              "             'james': 473,\n",
              "             'worse': 474,\n",
              "             'says': 475,\n",
              "             'except': 476,\n",
              "             'doing': 477,\n",
              "             'itself': 478,\n",
              "             'past': 479,\n",
              "             'certainly': 480,\n",
              "             'days': 481,\n",
              "             'five': 482,\n",
              "             'dialogue': 483,\n",
              "             'line': 484,\n",
              "             'anyway': 485,\n",
              "             'under': 486,\n",
              "             'tries': 487,\n",
              "             'called': 488,\n",
              "             'fine': 489,\n",
              "             'guys': 490,\n",
              "             'care': 491,\n",
              "             'style': 492,\n",
              "             'hope': 493,\n",
              "             'short': 494,\n",
              "             'lines': 495,\n",
              "             'told': 496,\n",
              "             'car': 497,\n",
              "             'decent': 498,\n",
              "             'brother': 499,\n",
              "             'killed': 500,\n",
              "             'wanted': 501,\n",
              "             'entertaining': 502,\n",
              "             'based': 503,\n",
              "             'absolutely': 504,\n",
              "             'feeling': 505,\n",
              "             'truly': 506,\n",
              "             'etc': 507,\n",
              "             'heard': 508,\n",
              "             'serious': 509,\n",
              "             'run': 510,\n",
              "             'wonderful': 511,\n",
              "             'lives': 512,\n",
              "             'gives': 513,\n",
              "             'moment': 514,\n",
              "             'game': 515,\n",
              "             'documentary': 516,\n",
              "             'self': 517,\n",
              "             'several': 518,\n",
              "             'waste': 519,\n",
              "             'dead': 520,\n",
              "             'blood': 521,\n",
              "             'matter': 522,\n",
              "             'wonder': 523,\n",
              "             'humor': 524,\n",
              "             'thinking': 525,\n",
              "             'against': 526,\n",
              "             'white': 527,\n",
              "             'side': 528,\n",
              "             'works': 529,\n",
              "             'mother': 530,\n",
              "             'flick': 531,\n",
              "             'stuff': 532,\n",
              "             'turns': 533,\n",
              "             'finally': 534,\n",
              "             'loved': 535,\n",
              "             'group': 536,\n",
              "             'wants': 537,\n",
              "             'face': 538,\n",
              "             'guess': 539,\n",
              "             'dark': 540,\n",
              "             'city': 541,\n",
              "             'events': 542,\n",
              "             'starts': 543,\n",
              "             'hour': 544,\n",
              "             'took': 545,\n",
              "             'george': 546,\n",
              "             'themselves': 547,\n",
              "             'red': 548,\n",
              "             'behind': 549,\n",
              "             'talking': 550,\n",
              "             'hit': 551,\n",
              "             'eyes': 552,\n",
              "             'attempt': 553,\n",
              "             'direction': 554,\n",
              "             'novel': 555,\n",
              "             'saying': 556,\n",
              "             'word': 557,\n",
              "             'dull': 558,\n",
              "             'light': 559,\n",
              "             'view': 560,\n",
              "             'playing': 561,\n",
              "             'opinion': 562,\n",
              "             'expect': 563,\n",
              "             'evil': 564,\n",
              "             'ten': 565,\n",
              "             'violence': 566,\n",
              "             'local': 567,\n",
              "             'final': 568,\n",
              "             'gave': 569,\n",
              "             'leave': 570,\n",
              "             'paul': 571,\n",
              "             'crap': 572,\n",
              "             'happens': 573,\n",
              "             'knows': 574,\n",
              "             'problems': 575,\n",
              "             'example': 576,\n",
              "             'relationship': 577,\n",
              "             'non': 578,\n",
              "             'michael': 579,\n",
              "             'victor': 580,\n",
              "             'ridiculous': 581,\n",
              "             'god': 582,\n",
              "             'similar': 583,\n",
              "             'general': 584,\n",
              "             'major': 585,\n",
              "             'bunch': 586,\n",
              "             'sister': 587,\n",
              "             'oscar': 588,\n",
              "             'turned': 589,\n",
              "             'brilliant': 590,\n",
              "             'highly': 591,\n",
              "             'nearly': 592,\n",
              "             'de': 593,\n",
              "             'please': 594,\n",
              "             'romance': 595,\n",
              "             'body': 596,\n",
              "             'extremely': 597,\n",
              "             'mr.': 598,\n",
              "             'soon': 599,\n",
              "             'yourself': 600,\n",
              "             'known': 601,\n",
              "             'lack': 602,\n",
              "             'age': 603,\n",
              "             'interest': 604,\n",
              "             'ago': 605,\n",
              "             'stories': 606,\n",
              "             'exactly': 607,\n",
              "             'finds': 608,\n",
              "             'modern': 609,\n",
              "             'voice': 610,\n",
              "             'perfect': 611,\n",
              "             'heart': 612,\n",
              "             'alone': 613,\n",
              "             'tells': 614,\n",
              "             'daughter': 615,\n",
              "             'directed': 616,\n",
              "             'needs': 617,\n",
              "             'kid': 618,\n",
              "             'lady': 619,\n",
              "             'sad': 620,\n",
              "             'fight': 621,\n",
              "             'happened': 622,\n",
              "             'eye': 623,\n",
              "             'favorite': 624,\n",
              "             'using': 625,\n",
              "             'upon': 626,\n",
              "             'ben': 627,\n",
              "             'none': 628,\n",
              "             'beyond': 629,\n",
              "             'nature': 630,\n",
              "             'change': 631,\n",
              "             'save': 632,\n",
              "             'shots': 633,\n",
              "             'country': 634,\n",
              "             'number': 635,\n",
              "             'shown': 636,\n",
              "             'surprised': 637,\n",
              "             'romantic': 638,\n",
              "             'huge': 639,\n",
              "             'murder': 640,\n",
              "             'steve': 641,\n",
              "             'slow': 642,\n",
              "             'myself': 643,\n",
              "             'woods': 644,\n",
              "             'apparently': 645,\n",
              "             'lake': 646,\n",
              "             'cheap': 647,\n",
              "             'involved': 648,\n",
              "             'roles': 649,\n",
              "             '6': 650,\n",
              "             'gore': 651,\n",
              "             'obviously': 652,\n",
              "             'knew': 653,\n",
              "             'level': 654,\n",
              "             '8': 655,\n",
              "             'experience': 656,\n",
              "             'became': 657,\n",
              "             'gone': 658,\n",
              "             'cover': 659,\n",
              "             'amazing': 660,\n",
              "             'create': 661,\n",
              "             'living': 662,\n",
              "             'usually': 663,\n",
              "             'order': 664,\n",
              "             'monster': 665,\n",
              "             'happen': 666,\n",
              "             'list': 667,\n",
              "             'clearly': 668,\n",
              "             'power': 669,\n",
              "             'features': 670,\n",
              "             're': 671,\n",
              "             'subject': 672,\n",
              "             'across': 673,\n",
              "             'parents': 674,\n",
              "             'seriously': 675,\n",
              "             'ways': 676,\n",
              "             'room': 677,\n",
              "             'filmed': 678,\n",
              "             'cheesy': 679,\n",
              "             'disappointed': 680,\n",
              "             'important': 681,\n",
              "             'plenty': 682,\n",
              "             '7': 683,\n",
              "             'particular': 684,\n",
              "             'started': 685,\n",
              "             'today': 686,\n",
              "             'enjoyed': 687,\n",
              "             'cinematography': 688,\n",
              "             'annoying': 689,\n",
              "             'looked': 690,\n",
              "             'supporting': 691,\n",
              "             'mostly': 692,\n",
              "             'message': 693,\n",
              "             'somewhat': 694,\n",
              "             'viewer': 695,\n",
              "             'type': 696,\n",
              "             'certain': 697,\n",
              "             'release': 698,\n",
              "             'effort': 699,\n",
              "             'possible': 700,\n",
              "             'add': 701,\n",
              "             'figure': 702,\n",
              "             'named': 703,\n",
              "             'wish': 704,\n",
              "             'difficult': 705,\n",
              "             'falls': 706,\n",
              "             'four': 707,\n",
              "             'husband': 708,\n",
              "             'score': 709,\n",
              "             'leads': 710,\n",
              "             'form': 711,\n",
              "             'working': 712,\n",
              "             'writer': 713,\n",
              "             'sets': 714,\n",
              "             'including': 715,\n",
              "             'enjoyable': 716,\n",
              "             'ok': 717,\n",
              "             'note': 718,\n",
              "             'spent': 719,\n",
              "             'review': 720,\n",
              "             'art': 721,\n",
              "             'police': 722,\n",
              "             'sit': 723,\n",
              "             'horrible': 724,\n",
              "             'actress': 725,\n",
              "             'ones': 726,\n",
              "             'bring': 727,\n",
              "             'greatest': 728,\n",
              "             'dance': 729,\n",
              "             'earth': 730,\n",
              "             'becomes': 731,\n",
              "             'happy': 732,\n",
              "             'cut': 733,\n",
              "             'straight': 734,\n",
              "             'soundtrack': 735,\n",
              "             'leading': 736,\n",
              "             'laugh': 737,\n",
              "             'strange': 738,\n",
              "             'space': 739,\n",
              "             'b': 740,\n",
              "             'tale': 741,\n",
              "             'comic': 742,\n",
              "             'near': 743,\n",
              "             'due': 744,\n",
              "             'weak': 745,\n",
              "             'earlier': 746,\n",
              "             'follow': 747,\n",
              "             'british': 748,\n",
              "             'ends': 749,\n",
              "             'typical': 750,\n",
              "             'attention': 751,\n",
              "             'points': 752,\n",
              "             'talent': 753,\n",
              "             'tom': 754,\n",
              "             'female': 755,\n",
              "             'future': 756,\n",
              "             'fall': 757,\n",
              "             'laughs': 758,\n",
              "             'stop': 759,\n",
              "             'easy': 760,\n",
              "             'moving': 761,\n",
              "             'apart': 762,\n",
              "             'chance': 763,\n",
              "             'running': 764,\n",
              "             'york': 765,\n",
              "             'particularly': 766,\n",
              "             'luke': 767,\n",
              "             'bill': 768,\n",
              "             'forced': 769,\n",
              "             'theme': 770,\n",
              "             'rating': 771,\n",
              "             'coming': 772,\n",
              "             'davis': 773,\n",
              "             'totally': 774,\n",
              "             'realistic': 775,\n",
              "             'simple': 776,\n",
              "             'hours': 777,\n",
              "             'taken': 778,\n",
              "             'indeed': 779,\n",
              "             'released': 780,\n",
              "             'sexual': 781,\n",
              "             'feels': 782,\n",
              "             'french': 783,\n",
              "             'screenplay': 784,\n",
              "             'la': 785,\n",
              "             'jokes': 786,\n",
              "             'sequences': 787,\n",
              "             'chase': 788,\n",
              "             'portrayed': 789,\n",
              "             'dramatic': 790,\n",
              "             'mention': 791,\n",
              "             'talk': 792,\n",
              "             'gun': 793,\n",
              "             'thriller': 794,\n",
              "             'jimmy': 795,\n",
              "             'career': 796,\n",
              "             'reality': 797,\n",
              "             'incredibly': 798,\n",
              "             'whether': 799,\n",
              "             'towards': 800,\n",
              "             'easily': 801,\n",
              "             'entertainment': 802,\n",
              "             'feature': 803,\n",
              "             'western': 804,\n",
              "             'dialog': 805,\n",
              "             'business': 806,\n",
              "             'suspense': 807,\n",
              "             'focus': 808,\n",
              "             'doubt': 809,\n",
              "             'possibly': 810,\n",
              "             'water': 811,\n",
              "             'gay': 812,\n",
              "             'blob': 813,\n",
              "             'comments': 814,\n",
              "             'brothers': 815,\n",
              "             'clear': 816,\n",
              "             'agree': 817,\n",
              "             'allen': 818,\n",
              "             'door': 819,\n",
              "             'editing': 820,\n",
              "             'third': 821,\n",
              "             'deserves': 822,\n",
              "             'silly': 823,\n",
              "             'fantastic': 824,\n",
              "             'convincing': 825,\n",
              "             'hardly': 826,\n",
              "             'lame': 827,\n",
              "             'act': 828,\n",
              "             'former': 829,\n",
              "             'material': 830,\n",
              "             'appears': 831,\n",
              "             'understand': 832,\n",
              "             'twist': 833,\n",
              "             'episodes': 834,\n",
              "             'buy': 835,\n",
              "             'secret': 836,\n",
              "             'richard': 837,\n",
              "             'south': 838,\n",
              "             'bourne': 839,\n",
              "             'deal': 840,\n",
              "             'musical': 841,\n",
              "             'words': 842,\n",
              "             'unique': 843,\n",
              "             'mess': 844,\n",
              "             'opening': 845,\n",
              "             'society': 846,\n",
              "             'avoid': 847,\n",
              "             'footage': 848,\n",
              "             'joe': 849,\n",
              "             'free': 850,\n",
              "             'forget': 851,\n",
              "             'herself': 852,\n",
              "             'appear': 853,\n",
              "             'obvious': 854,\n",
              "             'box': 855,\n",
              "             'single': 856,\n",
              "             'average': 857,\n",
              "             'indian': 858,\n",
              "             'rent': 859,\n",
              "             'okay': 860,\n",
              "             'scary': 861,\n",
              "             'within': 862,\n",
              "             'office': 863,\n",
              "             'crime': 864,\n",
              "             'science': 865,\n",
              "             '80': 866,\n",
              "             'believable': 867,\n",
              "             'period': 868,\n",
              "             'showing': 869,\n",
              "             'call': 870,\n",
              "             'return': 871,\n",
              "             'keeps': 872,\n",
              "             'lee': 873,\n",
              "             'expected': 874,\n",
              "             'stay': 875,\n",
              "             'middle': 876,\n",
              "             'jack': 877,\n",
              "             'hands': 878,\n",
              "             'david': 879,\n",
              "             'attempts': 880,\n",
              "             'strong': 881,\n",
              "             'tension': 882,\n",
              "             'crew': 883,\n",
              "             'hilarious': 884,\n",
              "             'grade': 885,\n",
              "             'outside': 886,\n",
              "             'means': 887,\n",
              "             'viewing': 888,\n",
              "             'sadly': 889,\n",
              "             'hell': 890,\n",
              "             'whatever': 891,\n",
              "             'sorry': 892,\n",
              "             'recently': 893,\n",
              "             'stage': 894,\n",
              "             'decides': 895,\n",
              "             'hear': 896,\n",
              "             'team': 897,\n",
              "             'learn': 898,\n",
              "             'nor': 899,\n",
              "             'open': 900,\n",
              "             'break': 901,\n",
              "             'question': 902,\n",
              "             'remake': 903,\n",
              "             'porn': 904,\n",
              "             'pain': 905,\n",
              "             'imagine': 906,\n",
              "             'deep': 907,\n",
              "             'zombie': 908,\n",
              "             'basically': 909,\n",
              "             'killing': 910,\n",
              "             'company': 911,\n",
              "             'poorly': 912,\n",
              "             'dr.': 913,\n",
              "             'predictable': 914,\n",
              "             'taking': 915,\n",
              "             'large': 916,\n",
              "             'language': 917,\n",
              "             'giving': 918,\n",
              "             'public': 919,\n",
              "             'audiences': 920,\n",
              "             'ask': 921,\n",
              "             'cool': 922,\n",
              "             'america': 923,\n",
              "             'slasher': 924,\n",
              "             'west': 925,\n",
              "             'mentioned': 926,\n",
              "             'die': 927,\n",
              "             'christmas': 928,\n",
              "             'complete': 929,\n",
              "             'needed': 930,\n",
              "             'martin': 931,\n",
              "             'cgi': 932,\n",
              "             'boys': 933,\n",
              "             'vargas': 934,\n",
              "             'usual': 935,\n",
              "             'begin': 936,\n",
              "             'dad': 937,\n",
              "             'total': 938,\n",
              "             'somehow': 939,\n",
              "             'stick': 940,\n",
              "             'shame': 941,\n",
              "             'successful': 942,\n",
              "             'sitting': 943,\n",
              "             'fred': 944,\n",
              "             'meets': 945,\n",
              "             'unless': 946,\n",
              "             'dancing': 947,\n",
              "             'sounds': 948,\n",
              "             'above': 949,\n",
              "             'elements': 950,\n",
              "             'whose': 951,\n",
              "             'german': 952,\n",
              "             'considering': 953,\n",
              "             'caught': 954,\n",
              "             'credit': 955,\n",
              "             'interested': 956,\n",
              "             'move': 957,\n",
              "             'filming': 958,\n",
              "             'truth': 959,\n",
              "             'eventually': 960,\n",
              "             'share': 961,\n",
              "             'ability': 962,\n",
              "             'meaning': 963,\n",
              "             'agent': 964,\n",
              "             'fast': 965,\n",
              "             'stand': 966,\n",
              "             'onto': 967,\n",
              "             'plain': 968,\n",
              "             'comment': 969,\n",
              "             'kept': 970,\n",
              "             'situation': 971,\n",
              "             'setting': 972,\n",
              "             'value': 973,\n",
              "             'willing': 974,\n",
              "             'realize': 975,\n",
              "             'acted': 976,\n",
              "             'weird': 977,\n",
              "             'alive': 978,\n",
              "             'fairly': 979,\n",
              "             'dream': 980,\n",
              "             'building': 981,\n",
              "             'hair': 982,\n",
              "             'bored': 983,\n",
              "             'minute': 984,\n",
              "             'emotional': 985,\n",
              "             'directing': 986,\n",
              "             'theatrical': 987,\n",
              "             'famous': 988,\n",
              "             'begins': 989,\n",
              "             'front': 990,\n",
              "             'catch': 991,\n",
              "             'sequence': 992,\n",
              "             'runs': 993,\n",
              "             'follows': 994,\n",
              "             'song': 995,\n",
              "             'government': 996,\n",
              "             'miss': 997,\n",
              "             'actual': 998,\n",
              "             'makers': 999,\n",
              "             ...})"
            ]
          },
          "metadata": {
            "tags": []
          },
          "execution_count": 33
        }
      ]
    },
    {
      "cell_type": "markdown",
      "metadata": {
        "id": "FyoeuqoDPdVs"
      },
      "source": [
        "Let's test that a non-word maps to xxunk:"
      ]
    },
    {
      "cell_type": "code",
      "metadata": {
        "colab": {
          "base_uri": "https://localhost:8080/",
          "height": 35
        },
        "id": "D3_afX_rPdVt",
        "outputId": "5d434213-40be-4858-d064-99e5fdf75f81"
      },
      "source": [
        "movie_reviews.vocab.itos[movie_reviews.vocab.stoi['rrachell']]"
      ],
      "execution_count": 34,
      "outputs": [
        {
          "output_type": "execute_result",
          "data": {
            "application/vnd.google.colaboratory.intrinsic+json": {
              "type": "string"
            },
            "text/plain": [
              "'xxunk'"
            ]
          },
          "metadata": {
            "tags": []
          },
          "execution_count": 34
        }
      ]
    },
    {
      "cell_type": "code",
      "metadata": {
        "colab": {
          "base_uri": "https://localhost:8080/",
          "height": 35
        },
        "id": "gG_9Eu9ZPdVw",
        "outputId": "2f8ac434-0869-469a-e213-657c65cdee07"
      },
      "source": [
        "movie_reviews.vocab.itos[movie_reviews.vocab.stoi['language']]"
      ],
      "execution_count": 35,
      "outputs": [
        {
          "output_type": "execute_result",
          "data": {
            "application/vnd.google.colaboratory.intrinsic+json": {
              "type": "string"
            },
            "text/plain": [
              "'language'"
            ]
          },
          "metadata": {
            "tags": []
          },
          "execution_count": 35
        }
      ]
    },
    {
      "cell_type": "code",
      "metadata": {
        "id": "L0ndoJhBPdVz"
      },
      "source": [
        "t = movie_reviews.train[0][0]"
      ],
      "execution_count": 36,
      "outputs": []
    },
    {
      "cell_type": "code",
      "metadata": {
        "colab": {
          "base_uri": "https://localhost:8080/"
        },
        "id": "4dz-fhY4PdV2",
        "outputId": "5ffda367-7ef7-49b0-d403-5c3f5c1d43e2"
      },
      "source": [
        "t.data[:30]"
      ],
      "execution_count": 37,
      "outputs": [
        {
          "output_type": "execute_result",
          "data": {
            "text/plain": [
              "array([   2,    5, 4619,   25,    0,   25,  867,   52,    5, 3776,    5, 1800,   95,   37,   85,  192,   64,  935,\n",
              "          0, 2738,  517,   18,   21,   11,   84, 2417,  193,   88, 3777,   64])"
            ]
          },
          "metadata": {
            "tags": []
          },
          "execution_count": 37
        }
      ]
    },
    {
      "cell_type": "markdown",
      "metadata": {
        "id": "p-Z4cbk9PdV5"
      },
      "source": [
        "## Creación manual de nuestra matriz de término-documento"
      ]
    },
    {
      "cell_type": "markdown",
      "metadata": {
        "id": "4dmxxiSHPdV5"
      },
      "source": [
        "Esta matriz representa una bolsa de palabras. No se mantiene un registro de como las palabras están ordenadas, solamente cuales palabras ocurren y que tan a menudo."
      ]
    },
    {
      "cell_type": "markdown",
      "metadata": {
        "id": "drEjFeGJPdV7"
      },
      "source": [
        "Es posible utilizar [sklearn's CountVectorizer](https://github.com/scikit-learn/scikit-learn/blob/55bf5d9/sklearn/feature_extraction/text.py#L940). En este notebook se creará de forma manual para:\n",
        "- entender lo que sklearn está haciendo por debajo\n",
        "- crear algo que se integre con TextList de fastai\n"
      ]
    },
    {
      "cell_type": "markdown",
      "metadata": {
        "id": "qaGh7nmVPdV9"
      },
      "source": [
        "Para crear esta matriz es necesario entender un poco como funcionan los **Counter** de python y las matrices **dispersas**.\n"
      ]
    },
    {
      "cell_type": "markdown",
      "metadata": {
        "id": "atjaHtxAPdV-"
      },
      "source": [
        "### Counters"
      ]
    },
    {
      "cell_type": "markdown",
      "metadata": {
        "id": "2rzy2VvcPdV_"
      },
      "source": [
        "Un counter permite contar la cantidad de ocurrencias de una lista."
      ]
    },
    {
      "cell_type": "code",
      "metadata": {
        "id": "ucS_GIbQPdWB"
      },
      "source": [
        "c = Counter([4,2,8,8,4,8]) "
      ],
      "execution_count": 42,
      "outputs": []
    },
    {
      "cell_type": "code",
      "metadata": {
        "colab": {
          "base_uri": "https://localhost:8080/"
        },
        "id": "F-DJparGPdWF",
        "outputId": "350a691e-38f7-4102-8270-6bd847f4c7ed"
      },
      "source": [
        "c"
      ],
      "execution_count": 43,
      "outputs": [
        {
          "output_type": "execute_result",
          "data": {
            "text/plain": [
              "Counter({2: 1, 4: 2, 8: 3})"
            ]
          },
          "metadata": {
            "tags": []
          },
          "execution_count": 43
        }
      ]
    },
    {
      "cell_type": "code",
      "metadata": {
        "colab": {
          "base_uri": "https://localhost:8080/"
        },
        "id": "Rskt-gJGPdWI",
        "outputId": "5be016d0-36d9-4f58-f484-ea88e7926373"
      },
      "source": [
        "c.values()"
      ],
      "execution_count": 44,
      "outputs": [
        {
          "output_type": "execute_result",
          "data": {
            "text/plain": [
              "dict_values([2, 1, 3])"
            ]
          },
          "metadata": {
            "tags": []
          },
          "execution_count": 44
        }
      ]
    },
    {
      "cell_type": "code",
      "metadata": {
        "colab": {
          "base_uri": "https://localhost:8080/"
        },
        "id": "Sfi14BQIPdWL",
        "outputId": "539ba8de-bc07-4013-fc25-70632ae588d5"
      },
      "source": [
        "c.keys()"
      ],
      "execution_count": 45,
      "outputs": [
        {
          "output_type": "execute_result",
          "data": {
            "text/plain": [
              "dict_keys([4, 2, 8])"
            ]
          },
          "metadata": {
            "tags": []
          },
          "execution_count": 45
        }
      ]
    },
    {
      "cell_type": "markdown",
      "metadata": {
        "id": "2k2qITNhPdWN"
      },
      "source": [
        "Counter pertenece al modulo de collections de python (como OrderedDict, defaultdict, deque, and namedtuple)."
      ]
    },
    {
      "cell_type": "markdown",
      "metadata": {
        "id": "pKcoO5DsPdWO"
      },
      "source": [
        "### Matrices disperas en Scipy (in Scipy)"
      ]
    },
    {
      "cell_type": "markdown",
      "metadata": {
        "id": "SIuF4NxCPdWO"
      },
      "source": [
        "Aunque se han reducido de 19.000 palabras a 6000. La mayoría de los token no aparecen en la mayoría de críticas. Esto nos permite tomar ventaja y almacenar los datos en una **matriz dispersa**.\n",
        "\n",
        "- Una matriz con muchos ceros es dispersa (**sparse**)\n",
        "- Lo opuesto a una matriz dispersa es una matriz densa (**dense**)\n",
        "- Para optimizar memoria es posible guardar únicamente los datos que no son cero\n",
        "\n",
        "Para ahorrar memoria se utilizan las matrices dispersas."
      ]
    },
    {
      "cell_type": "markdown",
      "metadata": {
        "id": "IZtkxhCBPdWP"
      },
      "source": [
        "\n",
        "<img src=\"https://dziganto.github.io/assets/images/sparse_matrix.png?raw=true\" alt=\"floating point\" style=\"width: 30%\"/>\n",
        "\n",
        "Otro ejemplo de una matriz dispersa grande:\n",
        "\n",
        "<img src=\"https://upload.wikimedia.org/wikipedia/commons/8/8a/Finite_element_sparse_matrix.png\" tyle=\"width: 20%\"/>\n",
        "\n",
        "[Source](https://commons.wikimedia.org/w/index.php?curid=2245335)"
      ]
    },
    {
      "cell_type": "markdown",
      "metadata": {
        "id": "RroLAY0qPdWQ"
      },
      "source": [
        "Los formatos más comunes de almacenamiento de matrices dispersas son:\n",
        "- coordinate-wise (scipy calls COO)\n",
        "- compressed sparse row (CSR) *\n",
        "- compressed sparse column (CSC)\n",
        "\n",
        "-> fornmatos en los que se almacena la matriz para ahorrar memoria\n",
        "\n",
        "[Aquí algumnos ejemplos](http://www.mathcs.emory.edu/~cheung/Courses/561/Syllabus/3-C/sparse.html)\n",
        "\n",
        "[Aquí muchos otros formatos](http://www.cs.colostate.edu/~mcrob/toolbox/c++/sparseMatrix/sparse_matrix_compression.html)"
      ]
    },
    {
      "cell_type": "markdown",
      "metadata": {
        "id": "Tl_siBqDPdWR"
      },
      "source": [
        "### Nuestro CountVectorizer"
      ]
    },
    {
      "cell_type": "code",
      "metadata": {
        "colab": {
          "base_uri": "https://localhost:8080/"
        },
        "id": "Ti51CNKePdWT",
        "outputId": "b4a204cc-61cd-45bd-caeb-d84597852286"
      },
      "source": [
        "Counter((movie_reviews.valid.x)[0].data)"
      ],
      "execution_count": 46,
      "outputs": [
        {
          "output_type": "execute_result",
          "data": {
            "text/plain": [
              "Counter({0: 32,\n",
              "         2: 1,\n",
              "         5: 32,\n",
              "         6: 1,\n",
              "         9: 10,\n",
              "         10: 7,\n",
              "         11: 10,\n",
              "         12: 1,\n",
              "         13: 4,\n",
              "         14: 6,\n",
              "         15: 6,\n",
              "         16: 4,\n",
              "         18: 2,\n",
              "         20: 1,\n",
              "         21: 3,\n",
              "         23: 1,\n",
              "         24: 3,\n",
              "         25: 2,\n",
              "         26: 1,\n",
              "         27: 3,\n",
              "         30: 1,\n",
              "         44: 1,\n",
              "         45: 1,\n",
              "         49: 1,\n",
              "         50: 3,\n",
              "         52: 1,\n",
              "         54: 2,\n",
              "         58: 1,\n",
              "         59: 1,\n",
              "         63: 2,\n",
              "         71: 1,\n",
              "         74: 1,\n",
              "         77: 1,\n",
              "         84: 1,\n",
              "         109: 1,\n",
              "         115: 1,\n",
              "         149: 1,\n",
              "         190: 1,\n",
              "         194: 1,\n",
              "         197: 2,\n",
              "         204: 1,\n",
              "         207: 1,\n",
              "         221: 1,\n",
              "         239: 1,\n",
              "         251: 1,\n",
              "         258: 1,\n",
              "         285: 1,\n",
              "         288: 1,\n",
              "         319: 1,\n",
              "         324: 1,\n",
              "         337: 1,\n",
              "         358: 1,\n",
              "         378: 1,\n",
              "         404: 1,\n",
              "         409: 1,\n",
              "         430: 1,\n",
              "         456: 1,\n",
              "         478: 1,\n",
              "         541: 1,\n",
              "         571: 1,\n",
              "         579: 1,\n",
              "         594: 1,\n",
              "         605: 1,\n",
              "         608: 1,\n",
              "         666: 2,\n",
              "         710: 1,\n",
              "         736: 1,\n",
              "         748: 1,\n",
              "         850: 1,\n",
              "         966: 1,\n",
              "         1058: 1,\n",
              "         1107: 1,\n",
              "         1331: 1,\n",
              "         1335: 1,\n",
              "         1346: 1,\n",
              "         1833: 1,\n",
              "         1843: 1,\n",
              "         1902: 1,\n",
              "         2110: 1,\n",
              "         2420: 1,\n",
              "         2595: 1,\n",
              "         2601: 1,\n",
              "         2705: 1,\n",
              "         2743: 1,\n",
              "         2764: 1,\n",
              "         2817: 1,\n",
              "         2875: 1,\n",
              "         3429: 1,\n",
              "         3480: 1,\n",
              "         3963: 1,\n",
              "         4051: 1,\n",
              "         4126: 1,\n",
              "         4736: 1,\n",
              "         5035: 1,\n",
              "         5821: 1})"
            ]
          },
          "metadata": {
            "tags": []
          },
          "execution_count": 46
        }
      ]
    },
    {
      "cell_type": "code",
      "metadata": {
        "colab": {
          "base_uri": "https://localhost:8080/",
          "height": 35
        },
        "id": "lHbhR6n6PdWU",
        "outputId": "bd8f18c7-d789-4d6b-e48d-f666e0855f7a"
      },
      "source": [
        "movie_reviews.vocab.itos[71]"
      ],
      "execution_count": 52,
      "outputs": [
        {
          "output_type": "execute_result",
          "data": {
            "application/vnd.google.colaboratory.intrinsic+json": {
              "type": "string"
            },
            "text/plain": [
              "'very'"
            ]
          },
          "metadata": {
            "tags": []
          },
          "execution_count": 52
        }
      ]
    },
    {
      "cell_type": "code",
      "metadata": {
        "colab": {
          "base_uri": "https://localhost:8080/"
        },
        "id": "xi-XRV3sPdWX",
        "outputId": "a8cbfdd1-fd7b-4954-ecd4-35bfa6994350"
      },
      "source": [
        "(movie_reviews.valid.x)[0]"
      ],
      "execution_count": 53,
      "outputs": [
        {
          "output_type": "execute_result",
          "data": {
            "text/plain": [
              "Text [ 2  5 21 71 ... 15  5  0 52]"
            ]
          },
          "metadata": {
            "tags": []
          },
          "execution_count": 53
        }
      ]
    },
    {
      "cell_type": "code",
      "metadata": {
        "id": "jxMpL2KHKN_n"
      },
      "source": [
        ""
      ],
      "execution_count": 53,
      "outputs": []
    },
    {
      "cell_type": "code",
      "metadata": {
        "id": "3kRS3uIXPdWd"
      },
      "source": [
        "def get_term_doc_matrix(label_list, vocab_len):\n",
        "    j_indices = []\n",
        "    indptr = []\n",
        "    values = []\n",
        "    indptr.append(0)\n",
        "\n",
        "    for i, doc in enumerate(label_list):\n",
        "        feature_counter = Counter(doc.data)\n",
        "        j_indices.extend(feature_counter.keys())\n",
        "        values.extend(feature_counter.values())\n",
        "        indptr.append(len(j_indices))\n",
        "        \n",
        "#     return (values, j_indices, indptr)\n",
        "\n",
        "    return scipy.sparse.csr_matrix((values, j_indices, indptr),\n",
        "                                   shape=(len(indptr) - 1, vocab_len),\n",
        "                                   dtype=int)"
      ],
      "execution_count": 54,
      "outputs": []
    },
    {
      "cell_type": "code",
      "metadata": {
        "colab": {
          "base_uri": "https://localhost:8080/"
        },
        "id": "hfMHz-5_PdWf",
        "outputId": "bdc28651-7766-45af-cce6-20251f289b18"
      },
      "source": [
        "%%time\n",
        "val_term_doc = get_term_doc_matrix(movie_reviews.valid.x, len(movie_reviews.vocab.itos))"
      ],
      "execution_count": 55,
      "outputs": [
        {
          "output_type": "stream",
          "text": [
            "CPU times: user 57.3 ms, sys: 551 µs, total: 57.9 ms\n",
            "Wall time: 59.2 ms\n"
          ],
          "name": "stdout"
        }
      ]
    },
    {
      "cell_type": "code",
      "metadata": {
        "colab": {
          "base_uri": "https://localhost:8080/"
        },
        "id": "7UuQEZZ7PdWg",
        "scrolled": true,
        "outputId": "b8d5d0d4-0a2d-4d51-deb3-19e0413c617b"
      },
      "source": [
        "%%time\n",
        "trn_term_doc = get_term_doc_matrix(movie_reviews.train.x, len(movie_reviews.vocab.itos))"
      ],
      "execution_count": 56,
      "outputs": [
        {
          "output_type": "stream",
          "text": [
            "CPU times: user 179 ms, sys: 3.44 ms, total: 183 ms\n",
            "Wall time: 184 ms\n"
          ],
          "name": "stdout"
        }
      ]
    },
    {
      "cell_type": "code",
      "metadata": {
        "colab": {
          "base_uri": "https://localhost:8080/"
        },
        "id": "p6sZQtbnPdWk",
        "outputId": "f93dab3b-57e7-4523-f379-2500de9aece3"
      },
      "source": [
        "trn_term_doc.shape"
      ],
      "execution_count": 57,
      "outputs": [
        {
          "output_type": "execute_result",
          "data": {
            "text/plain": [
              "(800, 6008)"
            ]
          },
          "metadata": {
            "tags": []
          },
          "execution_count": 57
        }
      ]
    },
    {
      "cell_type": "code",
      "metadata": {
        "colab": {
          "base_uri": "https://localhost:8080/"
        },
        "id": "oEj3BOevPdWm",
        "outputId": "b077c4bf-531b-47a4-80a2-c03bf6e0a2ce"
      },
      "source": [
        "trn_term_doc[:,-10:]"
      ],
      "execution_count": 58,
      "outputs": [
        {
          "output_type": "execute_result",
          "data": {
            "text/plain": [
              "<800x10 sparse matrix of type '<class 'numpy.int64'>'\n",
              "\twith 10 stored elements in Compressed Sparse Row format>"
            ]
          },
          "metadata": {
            "tags": []
          },
          "execution_count": 58
        }
      ]
    },
    {
      "cell_type": "code",
      "metadata": {
        "colab": {
          "base_uri": "https://localhost:8080/"
        },
        "id": "Yx3wzqS4PdWo",
        "outputId": "3e0ff5ea-48e4-44d1-f0de-fc7113bf93d5"
      },
      "source": [
        "val_term_doc.shape"
      ],
      "execution_count": 59,
      "outputs": [
        {
          "output_type": "execute_result",
          "data": {
            "text/plain": [
              "(200, 6008)"
            ]
          },
          "metadata": {
            "tags": []
          },
          "execution_count": 59
        }
      ]
    },
    {
      "cell_type": "markdown",
      "metadata": {
        "id": "E4hu_0UxPdWt"
      },
      "source": [
        "### Exploración adicional de datos:"
      ]
    },
    {
      "cell_type": "markdown",
      "metadata": {
        "id": "6AyeNWdQPdWv"
      },
      "source": [
        "Podemos convertir nuestra matriz de una representación dispersa a una representación fila columna."
      ]
    },
    {
      "cell_type": "code",
      "metadata": {
        "colab": {
          "base_uri": "https://localhost:8080/"
        },
        "id": "wkedZ-HAPdWw",
        "outputId": "c70092e7-ca90-4c40-851b-ee382cfacfe7"
      },
      "source": [
        "movie_reviews.vocab.itos[-1:] #ultima palabra de la lista itos"
      ],
      "execution_count": 60,
      "outputs": [
        {
          "output_type": "execute_result",
          "data": {
            "text/plain": [
              "['sollett']"
            ]
          },
          "metadata": {
            "tags": []
          },
          "execution_count": 60
        }
      ]
    },
    {
      "cell_type": "code",
      "metadata": {
        "colab": {
          "base_uri": "https://localhost:8080/"
        },
        "id": "ujWpIU3TPdWz",
        "outputId": "8b8d6153-fb97-4029-afe1-de9f6cc978ab"
      },
      "source": [
        "val_term_doc.todense()[:10,:10]"
      ],
      "execution_count": 66,
      "outputs": [
        {
          "output_type": "execute_result",
          "data": {
            "text/plain": [
              "matrix([[32,  0,  1,  0, ...,  1,  0,  0, 10],\n",
              "        [ 9,  0,  1,  0, ...,  1,  0,  0,  7],\n",
              "        [ 6,  0,  1,  0, ...,  0,  0,  0, 12],\n",
              "        [78,  0,  1,  0, ...,  0,  0,  0, 44],\n",
              "        ...,\n",
              "        [ 8,  0,  1,  0, ...,  0,  0,  0,  8],\n",
              "        [43,  0,  1,  0, ...,  8,  1,  0, 25],\n",
              "        [ 7,  0,  1,  0, ...,  1,  0,  0,  9],\n",
              "        [19,  0,  1,  0, ...,  2,  0,  0,  5]])"
            ]
          },
          "metadata": {
            "tags": []
          },
          "execution_count": 66
        }
      ]
    },
    {
      "cell_type": "code",
      "metadata": {
        "colab": {
          "base_uri": "https://localhost:8080/",
          "height": 35
        },
        "id": "m_GqeZA3PdW0",
        "outputId": "c7cb5d30-4d1d-4634-a3d9-b85e411b6df2"
      },
      "source": [
        "movie_reviews.vocab.itos[-1]"
      ],
      "execution_count": 64,
      "outputs": [
        {
          "output_type": "execute_result",
          "data": {
            "application/vnd.google.colaboratory.intrinsic+json": {
              "type": "string"
            },
            "text/plain": [
              "'sollett'"
            ]
          },
          "metadata": {
            "tags": []
          },
          "execution_count": 64
        }
      ]
    },
    {
      "cell_type": "code",
      "metadata": {
        "colab": {
          "base_uri": "https://localhost:8080/"
        },
        "id": "KL6FlQhoPdW3",
        "outputId": "b66f0f09-6e8e-498f-e98a-2bf3165f7910"
      },
      "source": [
        "review = movie_reviews.valid.x[1]\n",
        "review"
      ],
      "execution_count": 67,
      "outputs": [
        {
          "output_type": "execute_result",
          "data": {
            "text/plain": [
              "Text [  2  19 248  21 ...   9   0  10   0]"
            ]
          },
          "metadata": {
            "tags": []
          },
          "execution_count": 67
        }
      ]
    },
    {
      "cell_type": "markdown",
      "metadata": {
        "id": "j-kBE-MOPdW6"
      },
      "source": [
        "**Ejercicio:**\n",
        "\n",
        "La palabra *late* aparece dos veces en esta crítica. Confirme que un valor de 2 es almanenado en la matriz de termino-documento.\n"
      ]
    },
    {
      "cell_type": "markdown",
      "metadata": {
        "id": "ahpfPyi9PdW7"
      },
      "source": [
        "#### Respuesta (Programe la respuesta aquí):"
      ]
    },
    {
      "cell_type": "code",
      "metadata": {
        "id": "PdvY4fudPdW8",
        "colab": {
          "base_uri": "https://localhost:8080/"
        },
        "outputId": "d0ed0a33-6f67-4f30-8063-d99ff31a537f"
      },
      "source": [
        "# Exercise: Confirm this\n",
        "\n",
        "val_term_doc.todense()[1,movie_reviews.vocab.stoi['late']]\n",
        "\n",
        "#Matriz [en la fila 1, columna de late]"
      ],
      "execution_count": 70,
      "outputs": [
        {
          "output_type": "execute_result",
          "data": {
            "text/plain": [
              "2"
            ]
          },
          "metadata": {
            "tags": []
          },
          "execution_count": 70
        }
      ]
    },
    {
      "cell_type": "code",
      "metadata": {
        "colab": {
          "base_uri": "https://localhost:8080/"
        },
        "id": "3XHVMcJXPdW9",
        "outputId": "95033624-2af9-4ca0-fdbc-e82a875b213d"
      },
      "source": [
        "val_term_doc"
      ],
      "execution_count": null,
      "outputs": [
        {
          "output_type": "execute_result",
          "data": {
            "text/plain": [
              "<200x6008 sparse matrix of type '<class 'numpy.int32'>'\n",
              "\twith 27848 stored elements in Compressed Sparse Row format>"
            ]
          },
          "metadata": {
            "tags": []
          },
          "execution_count": 39
        }
      ]
    },
    {
      "cell_type": "code",
      "metadata": {
        "colab": {
          "base_uri": "https://localhost:8080/"
        },
        "id": "7bXRT5BCPdW_",
        "outputId": "fca99277-3cff-4dbf-b279-79207518abbe"
      },
      "source": [
        "val_term_doc[1]"
      ],
      "execution_count": null,
      "outputs": [
        {
          "output_type": "execute_result",
          "data": {
            "text/plain": [
              "<1x6008 sparse matrix of type '<class 'numpy.intc'>'\n",
              "\twith 81 stored elements in Compressed Sparse Row format>"
            ]
          },
          "metadata": {
            "tags": []
          },
          "execution_count": 40
        }
      ]
    },
    {
      "cell_type": "code",
      "metadata": {
        "colab": {
          "base_uri": "https://localhost:8080/"
        },
        "id": "H8ypiAgUPdXC",
        "outputId": "e39c58f6-e8ed-4d32-8622-9644c3803602"
      },
      "source": [
        "val_term_doc[1].sum()"
      ],
      "execution_count": null,
      "outputs": [
        {
          "output_type": "execute_result",
          "data": {
            "text/plain": [
              "144"
            ]
          },
          "metadata": {
            "tags": []
          },
          "execution_count": 41
        }
      ]
    },
    {
      "cell_type": "markdown",
      "metadata": {
        "id": "wo7m6aCFPdXE"
      },
      "source": [
        "La crítica tiene en total 81 tokens distintos con 144 en total."
      ]
    },
    {
      "cell_type": "code",
      "metadata": {
        "colab": {
          "base_uri": "https://localhost:8080/"
        },
        "id": "C12FqtW2PdXF",
        "outputId": "52a013bc-fc40-44ec-8ad7-86a27aaac457"
      },
      "source": [
        "review.data"
      ],
      "execution_count": 71,
      "outputs": [
        {
          "output_type": "execute_result",
          "data": {
            "text/plain": [
              "array([  2,  19, 248,  21, ...,   9,   0,  10,   0])"
            ]
          },
          "metadata": {
            "tags": []
          },
          "execution_count": 71
        }
      ]
    },
    {
      "cell_type": "markdown",
      "metadata": {
        "id": "WsraMgJ3PdXG"
      },
      "source": [
        "**Ejercicio 2:** Como convertir review.data en texto sin usar review.text?"
      ]
    },
    {
      "cell_type": "markdown",
      "metadata": {
        "id": "XmmDz4rIPdXG"
      },
      "source": [
        "#### Respuesta"
      ]
    },
    {
      "cell_type": "code",
      "metadata": {
        "id": "6qxfqCL_PdXH",
        "colab": {
          "base_uri": "https://localhost:8080/"
        },
        "outputId": "6114b26a-4e7d-4fdb-f3fd-0f6a013b8425"
      },
      "source": [
        "# Exercise\n",
        "\n",
        "text = ''\n",
        "for i in review.data :\n",
        "    text += movie_reviews.vocab.itos[i] + ' '\n",
        "print(text)"
      ],
      "execution_count": 76,
      "outputs": [
        {
          "output_type": "stream",
          "text": [
            "xxbos i saw this movie once as a kid on the late - late show and fell in love with it . \n",
            " \n",
            "  xxmaj it took 30 + years , but i recently did find it on xxup dvd - it was n't cheap , either - in a xxunk that xxunk in war movies . xxmaj we watched it last night for the first time . xxmaj the audio was good , however it was grainy and had the trailers between xxunk . xxmaj even so , it was better than i remembered it . i was also impressed at how true it was to the play . \n",
            " \n",
            "  xxmaj the xxunk is around here xxunk . xxmaj if you 're xxunk in finding it , fire me a xxunk and i 'll see if i can get you the xxunk . xxunk \n"
          ],
          "name": "stdout"
        }
      ]
    },
    {
      "cell_type": "markdown",
      "metadata": {
        "id": "jryaSHD_PdXI"
      },
      "source": [
        "**Ejercicio 3**: Confirme que review tiene exactamente 81 tokens"
      ]
    },
    {
      "cell_type": "markdown",
      "metadata": {
        "id": "mz-iFJ1JPdXO"
      },
      "source": [
        "#### Answer"
      ]
    },
    {
      "cell_type": "code",
      "metadata": {
        "id": "_Ze1xkKZPdXW",
        "colab": {
          "base_uri": "https://localhost:8080/"
        },
        "outputId": "7a350428-fb67-4dc4-b3c8-dab9603b690a"
      },
      "source": [
        "# Escriba aquí la respuesta\n",
        "\n",
        "#sol mia\n",
        "len(np.unique(review.data))\n",
        "\n",
        "#sol profe\n",
        "len(set(review.data))"
      ],
      "execution_count": 82,
      "outputs": [
        {
          "output_type": "execute_result",
          "data": {
            "text/plain": [
              "81"
            ]
          },
          "metadata": {
            "tags": []
          },
          "execution_count": 82
        }
      ]
    },
    {
      "cell_type": "markdown",
      "metadata": {
        "id": "Yr5RliZBKN_u"
      },
      "source": [
        "## ¿Por qué stoi tiene más elementos que itos?"
      ]
    },
    {
      "cell_type": "code",
      "metadata": {
        "colab": {
          "base_uri": "https://localhost:8080/"
        },
        "id": "8ltisByjPdXZ",
        "outputId": "7cd3052b-4b31-4270-bc5e-8f5f618c945a"
      },
      "source": [
        "movie_reviews.vocab.itos[1000:1005]"
      ],
      "execution_count": 83,
      "outputs": [
        {
          "output_type": "execute_result",
          "data": {
            "text/plain": [
              "['state', 'street', 'impossible', 'clever', 'development']"
            ]
          },
          "metadata": {
            "tags": []
          },
          "execution_count": 83
        }
      ]
    },
    {
      "cell_type": "markdown",
      "metadata": {
        "id": "i8a4ZoapPdXa"
      },
      "source": [
        "`stoi` (string-to-int) is larger than `itos` (int-to-string)."
      ]
    },
    {
      "cell_type": "code",
      "metadata": {
        "colab": {
          "base_uri": "https://localhost:8080/"
        },
        "id": "vFfrXpi3PdXc",
        "outputId": "49c0afb3-bf68-414d-c6cb-75f691aae820"
      },
      "source": [
        "len(movie_reviews.vocab.stoi) - len(movie_reviews.vocab.itos)"
      ],
      "execution_count": 84,
      "outputs": [
        {
          "output_type": "execute_result",
          "data": {
            "text/plain": [
              "13152"
            ]
          },
          "metadata": {
            "tags": []
          },
          "execution_count": 84
        }
      ]
    },
    {
      "cell_type": "markdown",
      "metadata": {
        "id": "rs3IQn0SPdXd"
      },
      "source": [
        "Hay muchas palabras que mapean unknown:"
      ]
    },
    {
      "cell_type": "code",
      "metadata": {
        "id": "_RhOkiX4PdXd"
      },
      "source": [
        "unk = []\n",
        "for word, num in movie_reviews.vocab.stoi.items():\n",
        "    if num == 0:\n",
        "        unk.append(word)"
      ],
      "execution_count": 85,
      "outputs": []
    },
    {
      "cell_type": "code",
      "metadata": {
        "colab": {
          "base_uri": "https://localhost:8080/"
        },
        "id": "iSa_dgiYPdXf",
        "outputId": "ab750065-8302-403b-b4a1-30e0ef9ea4ba"
      },
      "source": [
        "len(unk)"
      ],
      "execution_count": 86,
      "outputs": [
        {
          "output_type": "execute_result",
          "data": {
            "text/plain": [
              "13153"
            ]
          },
          "metadata": {
            "tags": []
          },
          "execution_count": 86
        }
      ]
    },
    {
      "cell_type": "code",
      "metadata": {
        "colab": {
          "base_uri": "https://localhost:8080/"
        },
        "id": "OocF2t3pPdXi",
        "scrolled": true,
        "outputId": "235db76d-cf6f-49e7-8071-445cf9f3be63"
      },
      "source": [
        "unk[:6]"
      ],
      "execution_count": 90,
      "outputs": [
        {
          "output_type": "execute_result",
          "data": {
            "text/plain": [
              "['xxunk', 'bleeping', 'pert', 'ticky', 'schtick', 'whoosh']"
            ]
          },
          "metadata": {
            "tags": []
          },
          "execution_count": 90
        }
      ]
    },
    {
      "cell_type": "markdown",
      "metadata": {
        "id": "-UqSO08XPdXj"
      },
      "source": [
        "## Naive Bayes"
      ]
    },
    {
      "cell_type": "markdown",
      "metadata": {
        "id": "2HwVqXTJPdXj"
      },
      "source": [
        "Definimos la relación logarítmica **log-count ratio** $r$ para cada palabra $f$:\n",
        "\n",
        "$r = \\log \\frac{\\text{ratio of feature $f$ in positive documents}}{\\text{ratio of feature $f$ in negative documents}}$\n",
        "\n",
        "Donde $f$ es el número de veces que un documento positivo/negativo tiene una característica dividida sobre el número de documentos positivos/negativos respectivamente."
      ]
    },
    {
      "cell_type": "code",
      "metadata": {
        "colab": {
          "base_uri": "https://localhost:8080/"
        },
        "id": "CuK2mb09PdXj",
        "outputId": "05b39a6a-b2d5-4916-cd5d-4d991eb65297"
      },
      "source": [
        "movie_reviews.y.classes"
      ],
      "execution_count": 91,
      "outputs": [
        {
          "output_type": "execute_result",
          "data": {
            "text/plain": [
              "['negative', 'positive']"
            ]
          },
          "metadata": {
            "tags": []
          },
          "execution_count": 91
        }
      ]
    },
    {
      "cell_type": "code",
      "metadata": {
        "id": "tY_TfyifPdXm"
      },
      "source": [
        "x = trn_term_doc\n",
        "y = movie_reviews.train.y\n",
        "val_y = movie_reviews.valid.y"
      ],
      "execution_count": 92,
      "outputs": []
    },
    {
      "cell_type": "code",
      "metadata": {
        "id": "OFAR1q6_PdXo"
      },
      "source": [
        "positive = y.c2i['positive'] #obtiene clase a index para positivo 1\n",
        "negative = y.c2i['negative'] #obtain clase a index para negativo 0"
      ],
      "execution_count": 93,
      "outputs": []
    },
    {
      "cell_type": "code",
      "metadata": {
        "id": "nEFvD0ofKN_x"
      },
      "source": [
        "?? x[y.items==positive].sum(0)"
      ],
      "execution_count": 94,
      "outputs": []
    },
    {
      "cell_type": "markdown",
      "metadata": {
        "id": "zIVXZXtV5SVd"
      },
      "source": [
        "Para cada palabra se puede calcular un p1 y p0, que son la cantidad de veces que se repite en las reviews positivas o negarivas, una palabra esta x veces en reviews positivos (p1) o negativos (p0). Con esto podemos identificar si una palabra es positiva o negativa."
      ]
    },
    {
      "cell_type": "code",
      "metadata": {
        "id": "MozW5wbrPdX0"
      },
      "source": [
        "p1 = np.squeeze(np.asarray(x[y.items==positive].sum(0))) \n",
        "p0 = np.squeeze(np.asarray(x[y.items==negative].sum(0)))"
      ],
      "execution_count": 97,
      "outputs": []
    },
    {
      "cell_type": "code",
      "metadata": {
        "colab": {
          "base_uri": "https://localhost:8080/"
        },
        "id": "wURKFO6hPdXo",
        "outputId": "ebb9ec4c-1bf8-4d1f-de1e-d0baae4435c6"
      },
      "source": [
        "len(p1), len(p0)"
      ],
      "execution_count": 96,
      "outputs": [
        {
          "output_type": "execute_result",
          "data": {
            "text/plain": [
              "(6008, 6008)"
            ]
          },
          "metadata": {
            "tags": []
          },
          "execution_count": 96
        }
      ]
    },
    {
      "cell_type": "code",
      "metadata": {
        "colab": {
          "base_uri": "https://localhost:8080/"
        },
        "id": "iBG5z_cRPdXv",
        "outputId": "1774c75d-8f01-4f7b-b699-5dc1a338837c"
      },
      "source": [
        "np.squeeze(np.asarray(x[y.items==negative].sum(0))) #conteos de una palabra totales en críticas negativas"
      ],
      "execution_count": 98,
      "outputs": [
        {
          "output_type": "execute_result",
          "data": {
            "text/plain": [
              "array([7153,    0,  417,    0, ...,    0,    3,    3,    3], dtype=int64)"
            ]
          },
          "metadata": {
            "tags": []
          },
          "execution_count": 98
        }
      ]
    },
    {
      "cell_type": "code",
      "metadata": {
        "colab": {
          "base_uri": "https://localhost:8080/"
        },
        "id": "O9pW96n8PdXw",
        "outputId": "128fcf6e-4cb4-4754-b694-48eab580884d"
      },
      "source": [
        "np.asarray(x[y.items==positive].sum(0)) #retorna una lista de listas"
      ],
      "execution_count": 99,
      "outputs": [
        {
          "output_type": "execute_result",
          "data": {
            "text/plain": [
              "array([[6471,    0,  383,    0, ...,    3,    0,    0,    0]], dtype=int64)"
            ]
          },
          "metadata": {
            "tags": []
          },
          "execution_count": 99
        }
      ]
    },
    {
      "cell_type": "code",
      "metadata": {
        "colab": {
          "base_uri": "https://localhost:8080/"
        },
        "id": "8BnK_DFYPdXz",
        "outputId": "32095709-a46b-4733-b6fb-31e4bc043d34"
      },
      "source": [
        "np.squeeze(np.asarray(x[y.items==positive].sum(0))) #conteos de una palabra totales en críticas positivas, squeeze elimina esa dimensión adicional"
      ],
      "execution_count": 100,
      "outputs": [
        {
          "output_type": "execute_result",
          "data": {
            "text/plain": [
              "array([6471,    0,  383,    0, ...,    3,    0,    0,    0], dtype=int64)"
            ]
          },
          "metadata": {
            "tags": []
          },
          "execution_count": 100
        }
      ]
    },
    {
      "cell_type": "markdown",
      "metadata": {
        "id": "NzvUWJbDPdX0"
      },
      "source": [
        "Para cada palabra en nuestro vocabulario estamos sumando en cuantas críticas positivas y en cuantas negativas están."
      ]
    },
    {
      "cell_type": "code",
      "metadata": {
        "colab": {
          "base_uri": "https://localhost:8080/"
        },
        "id": "bJARk2qgPdX3",
        "outputId": "74aa386a-ced8-46b6-f7bd-e146b3836f70"
      },
      "source": [
        "p1[:10]"
      ],
      "execution_count": null,
      "outputs": [
        {
          "output_type": "execute_result",
          "data": {
            "text/plain": [
              "array([ 6471,     0,   383,     0,     0, 10267,   674,    57,     0,  5260], dtype=int32)"
            ]
          },
          "metadata": {
            "tags": []
          },
          "execution_count": 59
        }
      ]
    },
    {
      "cell_type": "code",
      "metadata": {
        "id": "4FIaeiG6PdX4"
      },
      "source": [
        "v = movie_reviews.vocab"
      ],
      "execution_count": 101,
      "outputs": []
    },
    {
      "cell_type": "code",
      "metadata": {
        "colab": {
          "base_uri": "https://localhost:8080/",
          "height": 35
        },
        "id": "lq2jDnR6PdXt",
        "outputId": "3c65c353-93c7-4eb8-d777-1ee15be0f98a"
      },
      "source": [
        "v.itos[0]"
      ],
      "execution_count": 102,
      "outputs": [
        {
          "output_type": "execute_result",
          "data": {
            "application/vnd.google.colaboratory.intrinsic+json": {
              "type": "string"
            },
            "text/plain": [
              "'xxunk'"
            ]
          },
          "metadata": {
            "tags": []
          },
          "execution_count": 102
        }
      ]
    },
    {
      "cell_type": "code",
      "metadata": {
        "colab": {
          "base_uri": "https://localhost:8080/",
          "height": 35
        },
        "id": "OqT-7VZGKN_z",
        "outputId": "4c86751a-656a-4592-cd5c-afae2e06eaf2"
      },
      "source": [
        "v.itos[6004]"
      ],
      "execution_count": 103,
      "outputs": [
        {
          "output_type": "execute_result",
          "data": {
            "application/vnd.google.colaboratory.intrinsic+json": {
              "type": "string"
            },
            "text/plain": [
              "'coaxes'"
            ]
          },
          "metadata": {
            "tags": []
          },
          "execution_count": 103
        }
      ]
    },
    {
      "cell_type": "markdown",
      "metadata": {
        "id": "EvsgaTQIPdX5"
      },
      "source": [
        "### Usando los ratios para explorar datos"
      ]
    },
    {
      "cell_type": "markdown",
      "metadata": {
        "id": "ODJNlC-iPdX5"
      },
      "source": [
        "Se puede utilizar p0 y p1 para saber cuantas veces aparece una palabra dada en críticas positivas vs cuantas veces aparece en críticas negativas."
      ]
    },
    {
      "cell_type": "markdown",
      "metadata": {
        "id": "P5FEkBrePdX6"
      },
      "source": [
        "**Ejercicio**: Que tan a menudo aparece **loved** en críticas positivas vs. en críticas negativas... y **hated**?"
      ]
    },
    {
      "cell_type": "markdown",
      "metadata": {
        "id": "8e2fq74PPdX6"
      },
      "source": [
        "#### Answer:"
      ]
    },
    {
      "cell_type": "code",
      "metadata": {
        "id": "3e6jrp4JPdX9",
        "colab": {
          "base_uri": "https://localhost:8080/"
        },
        "outputId": "25e08e5f-d6d1-4b2b-cde3-eeaf446c8840"
      },
      "source": [
        "# Escriba aquí la relación para loved.\n",
        "indexL = movie_reviews.vocab.stoi['loved']\n",
        "indexH = movie_reviews.vocab.stoi['hated']\n",
        "\n",
        "print('Loved\\t p0', p0[indexL], 'p1', p1[indexL])"
      ],
      "execution_count": 114,
      "outputs": [
        {
          "output_type": "stream",
          "text": [
            "Loved\t p0 12 p1 29\n"
          ],
          "name": "stdout"
        }
      ]
    },
    {
      "cell_type": "code",
      "metadata": {
        "id": "RhiAqaKePdX_",
        "colab": {
          "base_uri": "https://localhost:8080/"
        },
        "outputId": "f141c176-494a-48fb-d3c0-a72a075a2591"
      },
      "source": [
        "# Escriba aquí la relación para hated.\n",
        "print('Hated\\t p0', p0[indexH], 'p1', p1[indexH])"
      ],
      "execution_count": 113,
      "outputs": [
        {
          "output_type": "stream",
          "text": [
            "Hated\t p0 6 p1 3\n"
          ],
          "name": "stdout"
        }
      ]
    },
    {
      "cell_type": "markdown",
      "metadata": {
        "id": "jN_Jv8SEPdYA"
      },
      "source": [
        "#### Obtener reviews positivos para la palabra hated"
      ]
    },
    {
      "cell_type": "markdown",
      "metadata": {
        "id": "IgiSjN-nPdYB"
      },
      "source": [
        "Es posible hacerlo:"
      ]
    },
    {
      "cell_type": "code",
      "metadata": {
        "colab": {
          "base_uri": "https://localhost:8080/"
        },
        "id": "gV4eGqkRPdYB",
        "outputId": "3cc21f2e-f24a-4b47-ece0-3691bffe32fa"
      },
      "source": [
        "v.stoi['hated']"
      ],
      "execution_count": 115,
      "outputs": [
        {
          "output_type": "execute_result",
          "data": {
            "text/plain": [
              "1977"
            ]
          },
          "metadata": {
            "tags": []
          },
          "execution_count": 115
        }
      ]
    },
    {
      "cell_type": "code",
      "metadata": {
        "colab": {
          "base_uri": "https://localhost:8080/"
        },
        "id": "qiCGCFY5PdYD",
        "outputId": "31cd736e-dd5c-4b27-e1e6-02d89c6d654b"
      },
      "source": [
        "a = np.argwhere((x[:,1977] > 0))[:,0]\n",
        "a"
      ],
      "execution_count": 116,
      "outputs": [
        {
          "output_type": "execute_result",
          "data": {
            "text/plain": [
              "array([ 15,  49, 304, 351, 393, 612, 695, 773], dtype=int32)"
            ]
          },
          "metadata": {
            "tags": []
          },
          "execution_count": 116
        }
      ]
    },
    {
      "cell_type": "code",
      "metadata": {
        "colab": {
          "base_uri": "https://localhost:8080/"
        },
        "id": "weuZtXs3PdYF",
        "outputId": "183bbde0-ece6-4527-a5a3-3a43b87b78ad"
      },
      "source": [
        "b = np.argwhere(y.items==positive)[:,0]\n",
        "b"
      ],
      "execution_count": 117,
      "outputs": [
        {
          "output_type": "execute_result",
          "data": {
            "text/plain": [
              "array([  1,   3,  10,  11, ..., 787, 789, 790, 797])"
            ]
          },
          "metadata": {
            "tags": []
          },
          "execution_count": 117
        }
      ]
    },
    {
      "cell_type": "code",
      "metadata": {
        "colab": {
          "base_uri": "https://localhost:8080/"
        },
        "id": "mv5okXWrPdYH",
        "outputId": "f368b218-4d93-4ee3-de11-f6a2c2fc91b0"
      },
      "source": [
        "set(a).intersection(set(b))"
      ],
      "execution_count": 118,
      "outputs": [
        {
          "output_type": "execute_result",
          "data": {
            "text/plain": [
              "{393, 612, 695}"
            ]
          },
          "metadata": {
            "tags": []
          },
          "execution_count": 118
        }
      ]
    },
    {
      "cell_type": "code",
      "metadata": {
        "colab": {
          "base_uri": "https://localhost:8080/",
          "height": 108
        },
        "id": "0PWEg674PdYH",
        "outputId": "c5a18545-5e2c-46e4-dd51-c6e39632217c"
      },
      "source": [
        "review = movie_reviews.train.x[695]\n",
        "review.text"
      ],
      "execution_count": 119,
      "outputs": [
        {
          "output_type": "execute_result",
          "data": {
            "application/vnd.google.colaboratory.intrinsic+json": {
              "type": "string"
            },
            "text/plain": [
              "\"xxbos xxmaj xxunk , yeah this episode is extremely underrated . \\n \\n  xxmaj even though there is a xxup lot of bad writing and acting at parts . i think the good over wins the bad . \\n \\n  i love the xxunk parts and the big ' twist ' at the end . i absolutely love that scene when xxmaj michelle xxunk xxmaj tony . xxmaj it 's actually one of my favorite scenes of xxmaj season 1 . \\n \\n  xxmaj for some reason , people have always hated the xxmaj xxunk episodes , yet i have always liked them . xxmaj they 're not the best , in terms of writing . but the theme really does interest me , \\n \\n  i 'm gon na give it a xxup three star , but if the writing were a little more consistent i 'd give it xxup four .\""
            ]
          },
          "metadata": {
            "tags": []
          },
          "execution_count": 119
        }
      ]
    },
    {
      "cell_type": "markdown",
      "metadata": {
        "id": "56dXCq3GPdYJ"
      },
      "source": [
        "#### Obtener críticas negativas con la palabra \"loved\""
      ]
    },
    {
      "cell_type": "markdown",
      "metadata": {
        "id": "4iXpKhe9PdYK"
      },
      "source": [
        "Miremos algunas críticas negativas con la palabra loved"
      ]
    },
    {
      "cell_type": "code",
      "metadata": {
        "colab": {
          "base_uri": "https://localhost:8080/"
        },
        "id": "vfPoKG_2PdYK",
        "outputId": "8e74f713-8fb7-4027-e948-7ad83312171a"
      },
      "source": [
        "v.stoi['loved']"
      ],
      "execution_count": 120,
      "outputs": [
        {
          "output_type": "execute_result",
          "data": {
            "text/plain": [
              "535"
            ]
          },
          "metadata": {
            "tags": []
          },
          "execution_count": 120
        }
      ]
    },
    {
      "cell_type": "code",
      "metadata": {
        "colab": {
          "base_uri": "https://localhost:8080/"
        },
        "id": "aSg1O3eUPdYL",
        "outputId": "01cd2e22-c665-42a6-e1c1-6d2f7e00f52b"
      },
      "source": [
        "a = np.argwhere((x[:,535] > 0))[:,0]    #Me traigo todos los reviews con la palabra loved\n",
        "a"
      ],
      "execution_count": 121,
      "outputs": [
        {
          "output_type": "execute_result",
          "data": {
            "text/plain": [
              "array([  1,  15,  29,  69,  75,  79, 174, 185, 200, 205, 262, 296, 303, 333, 350, 351, 398, 407, 440, 489, 496, 528,\n",
              "       538, 600, 602, 605, 627, 642, 657, 660, 700, 712, 729, 735, 755, 767, 785], dtype=int32)"
            ]
          },
          "metadata": {
            "tags": []
          },
          "execution_count": 121
        }
      ]
    },
    {
      "cell_type": "code",
      "metadata": {
        "colab": {
          "base_uri": "https://localhost:8080/"
        },
        "id": "B2I-ao7xPdYR",
        "outputId": "6339e73b-18c9-4e00-f1c8-66f06eeb562b"
      },
      "source": [
        "b = np.argwhere(y.items==negative)[:,0] #Me traigo todos los reviews negativos\n",
        "b"
      ],
      "execution_count": 126,
      "outputs": [
        {
          "output_type": "execute_result",
          "data": {
            "text/plain": [
              "array([  0,   2,   4,   5, ..., 795, 796, 798, 799])"
            ]
          },
          "metadata": {
            "tags": []
          },
          "execution_count": 126
        }
      ]
    },
    {
      "cell_type": "code",
      "metadata": {
        "colab": {
          "base_uri": "https://localhost:8080/"
        },
        "id": "gv5kzkNIPdYV",
        "scrolled": true,
        "outputId": "10746434-3dd5-4c25-eb82-e01eb9c11646"
      },
      "source": [
        "set(a).intersection(set(b)) #Reviews negativos con la palabra loved"
      ],
      "execution_count": 123,
      "outputs": [
        {
          "output_type": "execute_result",
          "data": {
            "text/plain": [
              "{15, 200, 205, 303, 351, 398, 600, 605, 642, 700, 729, 767}"
            ]
          },
          "metadata": {
            "tags": []
          },
          "execution_count": 123
        }
      ]
    },
    {
      "cell_type": "code",
      "metadata": {
        "colab": {
          "base_uri": "https://localhost:8080/",
          "height": 163
        },
        "id": "H2KfcqEaPdYX",
        "outputId": "e4bfd141-6aa9-4b23-8a80-5278ef8efbcc"
      },
      "source": [
        "review = movie_reviews.train.x[200]\n",
        "review.text"
      ],
      "execution_count": 125,
      "outputs": [
        {
          "output_type": "execute_result",
          "data": {
            "application/vnd.google.colaboratory.intrinsic+json": {
              "type": "string"
            },
            "text/plain": [
              "'xxbos i loved the first \" xxmaj azumi \" movie . i \\'ve seen xxmaj ms. xxmaj ueto in a variety of her xxup tv appearances and i \\'ve seen my fair share of samurai and ninja flicks . i have to say that this movie was much weaker than i \\'d expected . \\n \\n  xxmaj given the movie \\'s cast and set up in \" xxmaj azumi \" , they should have been able to do a much better job with this movie , but instead it was slow , xxunk in parts , and xxunk with very poor , unconvincing , and wooden acting . \\n \\n  xxmaj when they bothered to reference the first movie , they did so in a manner that was pretty loose and weak . xxmaj in \" xxmaj azumi \" , the title character is the best of a group of superior killers . xxmaj in \" xxmaj azumi 2 \" she seems somehow xxunk and less - impressive . \\n \\n  xxmaj that \\'s not to say it was a total loss . xxmaj there were a few decent fight scenes and some over - the - top characters . xxmaj unfortunately , the movie suffers overall from the simple fact that xxmaj xxunk xxmaj xxunk and xxmaj xxunk xxmaj xxunk are not xxmaj xxunk xxmaj xxunk and xxmaj xxunk xxmaj xxunk . xxmaj the latter two truly captured the \" manga \" feel in their screenplay whereas the former never quite \" got it . \"'"
            ]
          },
          "metadata": {
            "tags": []
          },
          "execution_count": 125
        }
      ]
    },
    {
      "cell_type": "markdown",
      "metadata": {
        "id": "Z1FPnVvcPdYY"
      },
      "source": [
        "## Aplicando Naive Bayes"
      ]
    },
    {
      "cell_type": "code",
      "metadata": {
        "id": "_Xa-EZZmPdYY"
      },
      "source": [
        "p1 = np.squeeze(np.asarray(x[y.items==positive].sum(0)))\n",
        "p0 = np.squeeze(np.asarray(x[y.items==negative].sum(0)))"
      ],
      "execution_count": 127,
      "outputs": []
    },
    {
      "cell_type": "markdown",
      "metadata": {
        "id": "5T-jcpXC86de"
      },
      "source": [
        "Divido los p0 y p1 por la cantidad de reviews negativas y positivas  +1 ."
      ]
    },
    {
      "cell_type": "code",
      "metadata": {
        "id": "CknYHzxZPdYa"
      },
      "source": [
        "pr1 = (p1+1) / ((y.items==positive).sum() + 1)\n",
        "pr0 = (p0+1) / ((y.items==negative).sum() + 1)"
      ],
      "execution_count": 128,
      "outputs": []
    },
    {
      "cell_type": "markdown",
      "metadata": {
        "id": "Y50gLqPu9EHd"
      },
      "source": [
        "r nos dice que tan positiva o negativa es una palabra $r \\in [-1, 1]$."
      ]
    },
    {
      "cell_type": "code",
      "metadata": {
        "colab": {
          "base_uri": "https://localhost:8080/"
        },
        "id": "JvklOpzPPdYb",
        "outputId": "f143ae81-dd7f-4c8a-b12c-445d053bf756"
      },
      "source": [
        "r = np.log(pr1/pr0); r "
      ],
      "execution_count": 130,
      "outputs": [
        {
          "output_type": "execute_result",
          "data": {
            "text/plain": [
              "array([-0.015348,  0.084839,  0.      ,  0.084839, ...,  1.471133, -1.301455, -1.301455, -1.301455])"
            ]
          },
          "metadata": {
            "tags": []
          },
          "execution_count": 130
        }
      ]
    },
    {
      "cell_type": "markdown",
      "metadata": {
        "id": "bVK5SEqaPdYc"
      },
      "source": [
        "### Vocabulario asociado a críticas positivas o negativas"
      ]
    },
    {
      "cell_type": "code",
      "metadata": {
        "id": "llKPZ__XPdYc"
      },
      "source": [
        "biggest = np.argpartition(r, -10)[-10:] #obtiene los 10 valores más grandes (críticas más positivas)\n",
        "smallest = np.argpartition(r, 10)[:10]  #obtiene los valores más pequeños (críticas más negativas)"
      ],
      "execution_count": 131,
      "outputs": []
    },
    {
      "cell_type": "markdown",
      "metadata": {
        "id": "BPuYnvZFPdYe"
      },
      "source": [
        "Palabras más positivas:"
      ]
    },
    {
      "cell_type": "code",
      "metadata": {
        "colab": {
          "base_uri": "https://localhost:8080/"
        },
        "id": "e8qdYLXZPdYf",
        "outputId": "9e45da17-2ca1-4c65-ca34-865969c6f70b"
      },
      "source": [
        "[v.itos[k] for k in biggest]"
      ],
      "execution_count": 132,
      "outputs": [
        {
          "output_type": "execute_result",
          "data": {
            "text/plain": [
              "['han',\n",
              " 'jabba',\n",
              " 'gilliam',\n",
              " 'davies',\n",
              " 'noir',\n",
              " 'felix',\n",
              " 'jimmy',\n",
              " 'astaire',\n",
              " 'fanfan',\n",
              " 'biko']"
            ]
          },
          "metadata": {
            "tags": []
          },
          "execution_count": 132
        }
      ]
    },
    {
      "cell_type": "code",
      "metadata": {
        "colab": {
          "base_uri": "https://localhost:8080/"
        },
        "id": "H-JbWEITPdYg",
        "outputId": "110313a9-5dba-40e8-af4c-9ca00ea5274c"
      },
      "source": [
        "np.argmax(trn_term_doc[:,v.stoi['biko']])"
      ],
      "execution_count": 133,
      "outputs": [
        {
          "output_type": "execute_result",
          "data": {
            "text/plain": [
              "515"
            ]
          },
          "metadata": {
            "tags": []
          },
          "execution_count": 133
        }
      ]
    },
    {
      "cell_type": "code",
      "metadata": {
        "colab": {
          "base_uri": "https://localhost:8080/",
          "height": 145
        },
        "id": "ZbnnmmUKPdYh",
        "outputId": "bf81005a-e67f-42d3-83ec-c58a69ff4b18"
      },
      "source": [
        "movie_reviews.train.x[515].text"
      ],
      "execution_count": 139,
      "outputs": [
        {
          "output_type": "execute_result",
          "data": {
            "application/vnd.google.colaboratory.intrinsic+json": {
              "type": "string"
            },
            "text/plain": [
              "'xxbos \" xxmaj the xxmaj true xxmaj story xxmaj of xxmaj the xxmaj friendship xxmaj that xxmaj shook xxmaj south xxmaj africa xxmaj and xxmaj xxunk xxmaj the xxmaj world . \" \\n \\n  xxmaj richard xxmaj attenborough , who directed \" a xxmaj bridge xxmaj too xxmaj far \" and \" xxmaj gandhi \" , wanted to bring the story of xxmaj steve xxmaj biko to life , and the journey and trouble that xxunk xxmaj donald xxmaj woods went through in order to get his story told . xxmaj the films uses xxmaj wood \\'s two books for it \\'s information and basis - \" xxmaj biko \" and \" xxmaj asking for xxmaj trouble \" . \\n \\n  xxmaj the film takes place in the late 1970 \\'s , in xxmaj south xxmaj africa . xxmaj south xxmaj africa is in the grip of the terrible apartheid , which keeps the blacks separated from the whites and xxunk the whites as the superior race . xxmaj the blacks are forced to live in xxunk on the xxunk of the cities and xxunk , and they come under frequent xxunk by the police and the army . xxmaj we are shown a dawn xxunk on a xxunk , as xxunk and armed police force their way through the camp beating and even killing the inhabitants . xxmaj then we are introduced to xxmaj donald xxmaj woods ( xxmaj kevin xxmaj kline ) , who is the editor of a popular newspaper . xxmaj after xxunk a negative story about black xxunk xxmaj steve xxmaj biko ( xxmaj denzel xxmaj washington ) , xxmaj woods goes to meet with him . xxmaj the two are xxunk of each other at first , but they soon become good friends and xxmaj biko shows the horrors of the apartheid system from a black persons point of view to xxmaj woods . xxmaj this xxunk xxmaj woods to speak out against what \\'s happening around him , and makes him desperate to bring xxmaj steve xxmaj biko \\'s story out of the xxunk of the white man \\'s xxmaj south xxmaj africa and to the world . xxmaj soon , xxmaj steve xxmaj biko is arrested and is killed in prison . xxmaj now xxmaj woods and his family are daring to escape from xxmaj south xxmaj africa to xxmaj england , where xxmaj woods can xxunk his book about xxmaj steve xxmaj biko and the apartheid . \\n \\n  xxmaj when i first heard of \" xxmaj cry xxmaj freedom \" , i was under the impression that it was a movie completely dedicated to the life of xxmaj steve xxmaj biko . i had never actually heard of xxmaj steve xxmaj biko before i seen this film , as the events in this film were really before my time . xxmaj but it \\'s more about the story of xxmaj donald xxmaj woods and his journey across the border into xxmaj xxunk as he tried to xxunk the xxmaj south xxmaj african xxunk . xxmaj woods was put on a five year type house xxunk after xxmaj steve xxmaj biko was killed . xxmaj so in order to xxunk his xxunk on xxmaj steve xxmaj biko , he had to escape . xxmaj because the xxunk would be considered xxunk in xxmaj south xxmaj africa and that could have resulted in xxmaj woods meeting a fate similar to that of xxmaj biko \\'s . xxmaj the real xxmaj donald xxmaj woods and his wife acted as xxunk to this film . \\n \\n  xxmaj denzel xxmaj washington is only in the film for the first hour , and i was disappointed with that as i was expecting to see him for the entire movie . xxmaj but he was amazing as xxmaj steve xxmaj biko , and captured his personality from what i \\'ve read really well and his accent sounded perfect . xxmaj his performance earned him an xxmaj oscar nomination for xxmaj best xxmaj supporting xxmaj actor . xxmaj kevin xxmaj kline delivers a excellent and thought - xxunk performance as xxmaj donald xxmaj woods , and xxmaj penelope xxmaj xxunk is excellent as his wife xxmaj xxunk . \\n \\n  xxmaj filming took place in xxmaj xxunk , as needless to say problems xxunk when they tried to film it in xxmaj south xxmaj africa . xxmaj while in xxmaj south xxmaj africa , the xxmaj south xxmaj african xxunk followed the film crew everywhere , so they got the bad xxunk and they pulled out and went to xxunk xxmaj xxunk instead . xxmaj despite everything , and the fact that the apartheid did n\\'t end \\' xxunk seven years later , \" xxmaj cry xxmaj freedom \" was n\\'t xxunk in xxmaj south xxmaj africa . xxmaj but xxunk showing the movie received bomb threats . \\n \\n  xxmaj richard xxmaj attenborough brings the horrors of the apartheid to the screen with extreme force and determination . xxmaj he does n\\'t hold back at the end of the movie when showing what was supposed to be a xxunk xxunk by students in a xxunk , turns into a massacre when police open fire on them . xxmaj the film ends with the names of all the anti - apartheid xxunk who died in prison , and the explanations for their deaths . xxmaj many had \" xxmaj no xxmaj explanation \" . xxmaj quite a few were \" xxmaj xxunk \" , which is hard to believe , and many more either fell from the top of the xxunk or were \" xxmaj suicide from xxmaj hanging \" . xxmaj no one will ever know what really happened to them , but i think it \\'s fair to say that none of these men died at their own hands , but at the hands of others ; or to be more xxunk , at the hands of the police . \\n \\n  \" xxmaj cry xxmaj freedom \" is a must - see movie for it \\'s portrayal and story of xxmaj steve xxmaj biko . xxmaj it \\'s also a xxunk and xxunk portrayal of a beautiful land divided and in the xxunk grips of racial xxunk and violence .'"
            ]
          },
          "metadata": {
            "tags": []
          },
          "execution_count": 139
        }
      ]
    },
    {
      "cell_type": "markdown",
      "metadata": {
        "id": "ZE311M87PdYj"
      },
      "source": [
        "Most negative words:"
      ]
    },
    {
      "cell_type": "code",
      "metadata": {
        "colab": {
          "base_uri": "https://localhost:8080/"
        },
        "id": "dthW8926PdYj",
        "scrolled": true,
        "outputId": "8774860b-4f1b-4f12-f91e-6b098c4e4695"
      },
      "source": [
        "[v.itos[k] for k in smallest]"
      ],
      "execution_count": null,
      "outputs": [
        {
          "output_type": "execute_result",
          "data": {
            "text/plain": [
              "['worst',\n",
              " 'crap',\n",
              " 'crater',\n",
              " 'porn',\n",
              " 'disappointment',\n",
              " 'dog',\n",
              " 'vargas',\n",
              " 'naschy',\n",
              " 'fuqua',\n",
              " 'soderbergh']"
            ]
          },
          "metadata": {
            "tags": []
          },
          "execution_count": 82
        }
      ]
    },
    {
      "cell_type": "code",
      "metadata": {
        "colab": {
          "base_uri": "https://localhost:8080/"
        },
        "id": "841yMUH7PdYk",
        "outputId": "55f2b4a5-226b-4541-9a9d-4ca9c3938303"
      },
      "source": [
        "np.argmax(trn_term_doc[:,v.stoi['dog']])"
      ],
      "execution_count": 142,
      "outputs": [
        {
          "output_type": "execute_result",
          "data": {
            "text/plain": [
              "547"
            ]
          },
          "metadata": {
            "tags": []
          },
          "execution_count": 142
        }
      ]
    },
    {
      "cell_type": "code",
      "metadata": {
        "colab": {
          "base_uri": "https://localhost:8080/",
          "height": 126
        },
        "id": "UTFksCNNPdYk",
        "outputId": "24b6f985-6389-4a32-9eb9-758f6c9da379"
      },
      "source": [
        "movie_reviews.train.x[547].text"
      ],
      "execution_count": 143,
      "outputs": [
        {
          "output_type": "execute_result",
          "data": {
            "application/vnd.google.colaboratory.intrinsic+json": {
              "type": "string"
            },
            "text/plain": [
              "\"xxbos a dog found in a local kennel is xxunk with xxmaj satan and has a xxunk of xxunk , one of which is given to a family who has just lost their previous dog to a hit & run . xxmaj the puppy wants no time in making like xxmaj donald xxmaj xxunk and firing the xxmaj mexican xxunk , how xxunk . xxmaj only the father suspects that this xxunk is more then he appears , the rest of the family loves the demonic xxunk . xxmaj so it 's up to dad to say the day . \\n \\n  xxmaj this late 70 's made for xxup tv horror flick has little going for it except a misplaced feeling of nostalgia . xxmaj when i saw this as a kid i found it to be a tense nail - xxunk , but xxunk it as an adult i now realize that it 's merely lame , boring , and not really well - acted in the least bit . \\n \\n  xxmaj my xxmaj grade : d\""
            ]
          },
          "metadata": {
            "tags": []
          },
          "execution_count": 143
        }
      ]
    },
    {
      "cell_type": "code",
      "metadata": {
        "colab": {
          "base_uri": "https://localhost:8080/"
        },
        "id": "OHWfQNDtPdYn",
        "outputId": "9d692720-ee00-43b4-c61c-1593d852932a"
      },
      "source": [
        "trn_term_doc[:,v.stoi['dog']]"
      ],
      "execution_count": 144,
      "outputs": [
        {
          "output_type": "execute_result",
          "data": {
            "text/plain": [
              "<800x1 sparse matrix of type '<class 'numpy.int64'>'\n",
              "\twith 14 stored elements in Compressed Sparse Row format>"
            ]
          },
          "metadata": {
            "tags": []
          },
          "execution_count": 144
        }
      ]
    },
    {
      "cell_type": "code",
      "metadata": {
        "colab": {
          "base_uri": "https://localhost:8080/"
        },
        "id": "kHP0glcoPdYn",
        "scrolled": true,
        "outputId": "1b3f0582-e49d-4ffc-eed3-8f128ab6bebe"
      },
      "source": [
        "[v.itos[k] for k in smallest]"
      ],
      "execution_count": 145,
      "outputs": [
        {
          "output_type": "execute_result",
          "data": {
            "text/plain": [
              "['vargas',\n",
              " 'disappointment',\n",
              " 'crater',\n",
              " 'porn',\n",
              " 'crap',\n",
              " 'worst',\n",
              " 'dog',\n",
              " 'naschy',\n",
              " 'soderbergh',\n",
              " 'fuqua']"
            ]
          },
          "metadata": {
            "tags": []
          },
          "execution_count": 145
        }
      ]
    },
    {
      "cell_type": "markdown",
      "metadata": {
        "id": "mJ-a92S9PdYo"
      },
      "source": [
        "### Naive Bayes: continuación"
      ]
    },
    {
      "cell_type": "code",
      "metadata": {
        "colab": {
          "base_uri": "https://localhost:8080/"
        },
        "id": "SWqB4wanPdYq",
        "outputId": "3aea9ec0-fcc5-4c86-a94f-6e238d0046c4"
      },
      "source": [
        "(y.items==positive).mean(), (y.items==negative).mean()"
      ],
      "execution_count": 153,
      "outputs": [
        {
          "output_type": "execute_result",
          "data": {
            "text/plain": [
              "(0.47875, 0.52125)"
            ]
          },
          "metadata": {
            "tags": []
          },
          "execution_count": 153
        }
      ]
    },
    {
      "cell_type": "code",
      "metadata": {
        "id": "tX8CQPOGPdYq"
      },
      "source": [
        "b = np.log((y.items==positive).mean() / (y.items==negative).mean()) #normaliza para encontrar la razón logarítmica del número promedio de críticas "
      ],
      "execution_count": 154,
      "outputs": []
    },
    {
      "cell_type": "code",
      "metadata": {
        "id": "xhV7h8qiPdYr",
        "colab": {
          "base_uri": "https://localhost:8080/"
        },
        "outputId": "bb727214-1b2e-416d-a0c5-35da7a3fd6b1"
      },
      "source": [
        "preds = (val_term_doc @ r + b) > 0  #Multi los valores por el r + b de normalización, > 0 == true\n",
        "preds   #Indica si cada evaluacion es positiva o negativa"
      ],
      "execution_count": 157,
      "outputs": [
        {
          "output_type": "execute_result",
          "data": {
            "text/plain": [
              "array([ True, False, False, False, ...,  True, False, False,  True])"
            ]
          },
          "metadata": {
            "tags": []
          },
          "execution_count": 157
        }
      ]
    },
    {
      "cell_type": "code",
      "metadata": {
        "colab": {
          "base_uri": "https://localhost:8080/"
        },
        "id": "Cst7ZuJ6PdYt",
        "outputId": "b4389568-6654-45a8-d071-f028e27d542a"
      },
      "source": [
        "(preds == val_y.items).mean() #promedio-> de los que quedaron bien clasificados sobre el total"
      ],
      "execution_count": 152,
      "outputs": [
        {
          "output_type": "execute_result",
          "data": {
            "text/plain": [
              "0.645"
            ]
          },
          "metadata": {
            "tags": []
          },
          "execution_count": 152
        }
      ]
    },
    {
      "cell_type": "markdown",
      "metadata": {
        "id": "HsHXqguzPdYu"
      },
      "source": [
        "## Pasando al dataset completo "
      ]
    },
    {
      "cell_type": "markdown",
      "metadata": {
        "id": "1LZZQOHfPdYu"
      },
      "source": [
        "Dado que funcionó con el data set de ejemplo pasamos a probar el dataset completo:"
      ]
    },
    {
      "cell_type": "markdown",
      "metadata": {
        "id": "dDwqDu2KPdYv"
      },
      "source": [
        "### Download data and process"
      ]
    },
    {
      "cell_type": "code",
      "metadata": {
        "colab": {
          "base_uri": "https://localhost:8080/",
          "height": 163
        },
        "id": "i4GHDXYsPdYv",
        "outputId": "8baff4c0-4b52-4a21-83d9-00359438c74c"
      },
      "source": [
        "path = untar_data(URLs.IMDB)\n",
        "path.ls()"
      ],
      "execution_count": 158,
      "outputs": [
        {
          "output_type": "stream",
          "text": [
            "Downloading https://s3.amazonaws.com/fast-ai-nlp/imdb.tgz\n"
          ],
          "name": "stdout"
        },
        {
          "output_type": "display_data",
          "data": {
            "text/html": [
              ""
            ],
            "text/plain": [
              "<IPython.core.display.HTML object>"
            ]
          },
          "metadata": {
            "tags": []
          }
        },
        {
          "output_type": "execute_result",
          "data": {
            "text/plain": [
              "[PosixPath('/root/.fastai/data/imdb/README'),\n",
              " PosixPath('/root/.fastai/data/imdb/unsup'),\n",
              " PosixPath('/root/.fastai/data/imdb/tmp_lm'),\n",
              " PosixPath('/root/.fastai/data/imdb/train'),\n",
              " PosixPath('/root/.fastai/data/imdb/tmp_clas'),\n",
              " PosixPath('/root/.fastai/data/imdb/test'),\n",
              " PosixPath('/root/.fastai/data/imdb/imdb.vocab')]"
            ]
          },
          "metadata": {
            "tags": []
          },
          "execution_count": 158
        }
      ]
    },
    {
      "cell_type": "code",
      "metadata": {
        "colab": {
          "base_uri": "https://localhost:8080/"
        },
        "id": "vmrx6vl2PdYx",
        "outputId": "42296d54-490f-40c0-d17f-dc67b9d5eb04"
      },
      "source": [
        "(path/'train').ls()"
      ],
      "execution_count": 159,
      "outputs": [
        {
          "output_type": "execute_result",
          "data": {
            "text/plain": [
              "[PosixPath('/root/.fastai/data/imdb/train/unsupBow.feat'),\n",
              " PosixPath('/root/.fastai/data/imdb/train/pos'),\n",
              " PosixPath('/root/.fastai/data/imdb/train/labeledBow.feat'),\n",
              " PosixPath('/root/.fastai/data/imdb/train/neg')]"
            ]
          },
          "metadata": {
            "tags": []
          },
          "execution_count": 159
        }
      ]
    },
    {
      "cell_type": "code",
      "metadata": {
        "colab": {
          "base_uri": "https://localhost:8080/",
          "height": 74
        },
        "id": "BrqS-CK3PdYy",
        "outputId": "1427f79a-10e2-41cd-86bb-755e8845083b"
      },
      "source": [
        "reviews_full = (TextList.from_folder(path)\n",
        "             #grab all the text files in path\n",
        "             .split_by_folder(valid='test')\n",
        "             #split by train and valid folder (that only keeps 'train' and 'test' so no need to filter)\n",
        "             .label_from_folder(classes=['neg', 'pos']))\n",
        "             #label them all with their folders"
      ],
      "execution_count": 160,
      "outputs": [
        {
          "output_type": "display_data",
          "data": {
            "text/html": [
              ""
            ],
            "text/plain": [
              "<IPython.core.display.HTML object>"
            ]
          },
          "metadata": {
            "tags": []
          }
        },
        {
          "output_type": "stream",
          "text": [
            "/usr/local/lib/python3.7/dist-packages/fastai/core.py:302: VisibleDeprecationWarning: Creating an ndarray from ragged nested sequences (which is a list-or-tuple of lists-or-tuples-or ndarrays with different lengths or shapes) is deprecated. If you meant to do this, you must specify 'dtype=object' when creating the ndarray\n",
            "  return np.array(a, dtype=dtype, **kwargs)\n"
          ],
          "name": "stderr"
        },
        {
          "output_type": "display_data",
          "data": {
            "text/html": [
              ""
            ],
            "text/plain": [
              "<IPython.core.display.HTML object>"
            ]
          },
          "metadata": {
            "tags": []
          }
        }
      ]
    },
    {
      "cell_type": "code",
      "metadata": {
        "colab": {
          "base_uri": "https://localhost:8080/"
        },
        "id": "Io-pSJGDPdYy",
        "outputId": "a00ce036-5295-4ab3-993b-d9603f886311"
      },
      "source": [
        "len(reviews_full.train), len(reviews_full.valid)"
      ],
      "execution_count": 161,
      "outputs": [
        {
          "output_type": "execute_result",
          "data": {
            "text/plain": [
              "(25000, 25000)"
            ]
          },
          "metadata": {
            "tags": []
          },
          "execution_count": 161
        }
      ]
    },
    {
      "cell_type": "markdown",
      "metadata": {
        "id": "yTUlCp_dPdY0"
      },
      "source": [
        "We will store the vocab in a variable `v` since we will be using it frequently:"
      ]
    },
    {
      "cell_type": "code",
      "metadata": {
        "id": "62KrTSguPdY0"
      },
      "source": [
        "v = reviews_full.vocab"
      ],
      "execution_count": 162,
      "outputs": []
    },
    {
      "cell_type": "code",
      "metadata": {
        "colab": {
          "base_uri": "https://localhost:8080/"
        },
        "id": "th0kV-r_PdY2",
        "scrolled": true,
        "outputId": "d10aacfe-0053-4bf2-c7ce-4ca5d69ddb4e"
      },
      "source": [
        "v.itos[100:110]"
      ],
      "execution_count": 163,
      "outputs": [
        {
          "output_type": "execute_result",
          "data": {
            "text/plain": [
              "['people',\n",
              " 'bad',\n",
              " 'will',\n",
              " 'other',\n",
              " 'also',\n",
              " 'into',\n",
              " 'first',\n",
              " 'great',\n",
              " 'because',\n",
              " 'how']"
            ]
          },
          "metadata": {
            "tags": []
          },
          "execution_count": 163
        }
      ]
    },
    {
      "cell_type": "code",
      "metadata": {
        "colab": {
          "base_uri": "https://localhost:8080/"
        },
        "id": "LWrCsLesPdY3",
        "outputId": "2692ed4f-3e52-446c-cc1f-006a2addef7a"
      },
      "source": [
        "%%time\n",
        "val_term_doc = get_term_doc_matrix(reviews_full.valid.x, len(reviews_full.vocab.itos))"
      ],
      "execution_count": 164,
      "outputs": [
        {
          "output_type": "stream",
          "text": [
            "CPU times: user 6.03 s, sys: 365 ms, total: 6.4 s\n",
            "Wall time: 5.94 s\n"
          ],
          "name": "stdout"
        }
      ]
    },
    {
      "cell_type": "code",
      "metadata": {
        "colab": {
          "base_uri": "https://localhost:8080/"
        },
        "id": "Ak9Iwk6xPdY5",
        "scrolled": true,
        "outputId": "0f5e6082-aa4b-4fcc-b9af-91781f91e62b"
      },
      "source": [
        "%%time\n",
        "trn_term_doc = get_term_doc_matrix(reviews_full.train.x, len(reviews_full.vocab.itos))"
      ],
      "execution_count": 165,
      "outputs": [
        {
          "output_type": "stream",
          "text": [
            "CPU times: user 6.13 s, sys: 328 ms, total: 6.46 s\n",
            "Wall time: 6 s\n"
          ],
          "name": "stdout"
        }
      ]
    },
    {
      "cell_type": "markdown",
      "metadata": {
        "id": "tps38zyDPdY6"
      },
      "source": [
        "### Guardar y cargar la matriz de término-documento"
      ]
    },
    {
      "cell_type": "markdown",
      "metadata": {
        "id": "HqsjZ1TYPdY6"
      },
      "source": [
        "Como el proceso es lento es una muy buena idea guardar la matriz y después cargarla."
      ]
    },
    {
      "cell_type": "code",
      "metadata": {
        "id": "UhKipym7PdY7"
      },
      "source": [
        "scipy.sparse.save_npz(\"trn_term_doc.npz\", trn_term_doc)"
      ],
      "execution_count": 166,
      "outputs": []
    },
    {
      "cell_type": "code",
      "metadata": {
        "id": "5JPkaYcpPdY7"
      },
      "source": [
        "scipy.sparse.save_npz(\"val_term_doc.npz\", val_term_doc)"
      ],
      "execution_count": 167,
      "outputs": []
    },
    {
      "cell_type": "markdown",
      "metadata": {
        "id": "yij9yAuoPdY9"
      },
      "source": [
        "Cuando se guarde debe añadirse a git.ignore en caso de manejar git."
      ]
    },
    {
      "cell_type": "markdown",
      "metadata": {
        "id": "hs3Yq0mFPdY9"
      },
      "source": [
        "Así se cargan los datos:"
      ]
    },
    {
      "cell_type": "code",
      "metadata": {
        "id": "WoLZCeWMPdY-"
      },
      "source": [
        "trn_term_doc = scipy.sparse.load_npz(\"trn_term_doc.npz\")\n",
        "val_term_doc = scipy.sparse.load_npz(\"val_term_doc.npz\")"
      ],
      "execution_count": 168,
      "outputs": []
    },
    {
      "cell_type": "markdown",
      "metadata": {
        "id": "ZmnUD08rPdY_"
      },
      "source": [
        "### Naive Bayes on full dataset"
      ]
    },
    {
      "cell_type": "code",
      "metadata": {
        "id": "MunlK5kePdY_"
      },
      "source": [
        "x=trn_term_doc\n",
        "y=reviews_full.train.y\n",
        "\n",
        "val_y = reviews_full.valid.y.items"
      ],
      "execution_count": 169,
      "outputs": []
    },
    {
      "cell_type": "code",
      "metadata": {
        "colab": {
          "base_uri": "https://localhost:8080/"
        },
        "id": "zYIqh0SVPdZB",
        "outputId": "5549599e-6b7b-4a12-faca-b956e7ada3c3"
      },
      "source": [
        "x"
      ],
      "execution_count": 170,
      "outputs": [
        {
          "output_type": "execute_result",
          "data": {
            "text/plain": [
              "<25000x38440 sparse matrix of type '<class 'numpy.int64'>'\n",
              "\twith 3716349 stored elements in Compressed Sparse Row format>"
            ]
          },
          "metadata": {
            "tags": []
          },
          "execution_count": 170
        }
      ]
    },
    {
      "cell_type": "code",
      "metadata": {
        "id": "jzy7wuEXPdZC"
      },
      "source": [
        "positive = y.c2i['pos']\n",
        "negative = y.c2i['neg']"
      ],
      "execution_count": 171,
      "outputs": []
    },
    {
      "cell_type": "code",
      "metadata": {
        "id": "PDkxT_6tPdZD"
      },
      "source": [
        "p0 = np.squeeze(np.asarray(x[y.items==negative].sum(0)))\n",
        "p1 = np.squeeze(np.asarray(x[y.items==positive].sum(0)))"
      ],
      "execution_count": 172,
      "outputs": []
    },
    {
      "cell_type": "code",
      "metadata": {
        "colab": {
          "base_uri": "https://localhost:8080/"
        },
        "id": "AAeyHZFXPdZE",
        "outputId": "1227ac2a-f92e-4665-a5bb-801f95b98777"
      },
      "source": [
        "p1[:20]"
      ],
      "execution_count": 173,
      "outputs": [
        {
          "output_type": "execute_result",
          "data": {
            "text/plain": [
              "array([ 28357,      0,  12500,      0,      0, 342615,  20462,   1338,      7, 173123, 138129, 143772,  89570,  83404,\n",
              "        76828,  66715,  58510,  47901,  50177,  40455], dtype=int64)"
            ]
          },
          "metadata": {
            "tags": []
          },
          "execution_count": 173
        }
      ]
    },
    {
      "cell_type": "markdown",
      "metadata": {
        "id": "Szcj4ktjPdZF"
      },
      "source": [
        "### Exploración de datos: razones de una palabra en críticas positivas y negativas"
      ]
    },
    {
      "cell_type": "markdown",
      "metadata": {
        "id": "s-htKLu_PdZG"
      },
      "source": [
        "Es posible obtener la razón entre el número de veces una palabra dada aparece en críticas negativas en positivas. Razones ( > 1) significan que la palabra indica un review negativo y valores (< 1) indican un review positivo."
      ]
    },
    {
      "cell_type": "code",
      "metadata": {
        "id": "1ptNsH4KPdZG"
      },
      "source": [
        "def neg_pos_given_word(word):\n",
        "    print(p0[v.stoi[word]]/p1[v.stoi[word]])"
      ],
      "execution_count": 178,
      "outputs": []
    },
    {
      "cell_type": "code",
      "metadata": {
        "colab": {
          "base_uri": "https://localhost:8080/"
        },
        "id": "Z3l7Up3qPdZH",
        "outputId": "312eaed4-75dc-4bcb-e7cb-41777601942c"
      },
      "source": [
        "neg_pos_given_word('hated')"
      ],
      "execution_count": 179,
      "outputs": [
        {
          "output_type": "stream",
          "text": [
            "2.051546391752577\n"
          ],
          "name": "stdout"
        }
      ]
    },
    {
      "cell_type": "code",
      "metadata": {
        "colab": {
          "base_uri": "https://localhost:8080/"
        },
        "id": "WEKMZfVyPdZL",
        "outputId": "be6c01f1-35df-4c32-985e-fb8df165820c"
      },
      "source": [
        "neg_pos_given_word('liked')"
      ],
      "execution_count": 180,
      "outputs": [
        {
          "output_type": "stream",
          "text": [
            "0.6424702058504875\n"
          ],
          "name": "stdout"
        }
      ]
    },
    {
      "cell_type": "code",
      "metadata": {
        "colab": {
          "base_uri": "https://localhost:8080/"
        },
        "id": "9e03wupuPdZO",
        "outputId": "2311d508-790f-4e5d-c168-590b64945811"
      },
      "source": [
        "neg_pos_given_word('loved')"
      ],
      "execution_count": 181,
      "outputs": [
        {
          "output_type": "stream",
          "text": [
            "0.3139963167587477\n"
          ],
          "name": "stdout"
        }
      ]
    },
    {
      "cell_type": "code",
      "metadata": {
        "colab": {
          "base_uri": "https://localhost:8080/"
        },
        "id": "aGpr8HG_PdZP",
        "outputId": "bebceadd-8185-45af-b003-6076102db6ad"
      },
      "source": [
        "neg_pos_given_word('best')"
      ],
      "execution_count": 182,
      "outputs": [
        {
          "output_type": "stream",
          "text": [
            "0.48527706932529563\n"
          ],
          "name": "stdout"
        }
      ]
    },
    {
      "cell_type": "code",
      "metadata": {
        "colab": {
          "base_uri": "https://localhost:8080/"
        },
        "id": "c66OgtypPdZQ",
        "outputId": "5289a6f5-b1a0-4c2b-8301-f2e5ea140c37"
      },
      "source": [
        "neg_pos_given_word('worst')"
      ],
      "execution_count": 183,
      "outputs": [
        {
          "output_type": "stream",
          "text": [
            "9.837301587301587\n"
          ],
          "name": "stdout"
        }
      ]
    },
    {
      "cell_type": "code",
      "metadata": {
        "id": "C4_xvHyBPdZR"
      },
      "source": [
        "pr1 = (p1+1) / ((y.items==positive).sum() + 1)\n",
        "pr0 = (p0+1) / ((y.items==negative).sum() + 1)"
      ],
      "execution_count": 184,
      "outputs": []
    },
    {
      "cell_type": "code",
      "metadata": {
        "id": "9YVS4zodPdZR"
      },
      "source": [
        "r = np.log(pr1/pr0)"
      ],
      "execution_count": 185,
      "outputs": []
    },
    {
      "cell_type": "code",
      "metadata": {
        "colab": {
          "base_uri": "https://localhost:8080/"
        },
        "id": "c6y5QXQ_PdZT",
        "outputId": "91977810-eacd-4549-e1ee-453540aec0fc"
      },
      "source": [
        "r[v.stoi['hated']]"
      ],
      "execution_count": 186,
      "outputs": [
        {
          "output_type": "execute_result",
          "data": {
            "text/plain": [
              "-0.7133498878774648"
            ]
          },
          "metadata": {
            "tags": []
          },
          "execution_count": 186
        }
      ]
    },
    {
      "cell_type": "code",
      "metadata": {
        "colab": {
          "base_uri": "https://localhost:8080/"
        },
        "id": "0lM1Wfa4PdZU",
        "outputId": "9c543e14-c4f6-4d3e-985e-ab74f0817851"
      },
      "source": [
        "r[v.stoi['loved']]"
      ],
      "execution_count": 187,
      "outputs": [
        {
          "output_type": "execute_result",
          "data": {
            "text/plain": [
              "1.1563661500586044"
            ]
          },
          "metadata": {
            "tags": []
          },
          "execution_count": 187
        }
      ]
    },
    {
      "cell_type": "code",
      "metadata": {
        "colab": {
          "base_uri": "https://localhost:8080/"
        },
        "id": "2jl98L89PdZV",
        "outputId": "eb40df68-89e0-4edc-b073-c6c57c4acd40"
      },
      "source": [
        "r[v.stoi['worst']]"
      ],
      "execution_count": 188,
      "outputs": [
        {
          "output_type": "execute_result",
          "data": {
            "text/plain": [
              "-2.2826243504315076"
            ]
          },
          "metadata": {
            "tags": []
          },
          "execution_count": 188
        }
      ]
    },
    {
      "cell_type": "code",
      "metadata": {
        "colab": {
          "base_uri": "https://localhost:8080/"
        },
        "id": "ASFiPCKKPdZX",
        "outputId": "2844c206-2c6c-4361-849c-5fba9f39943a"
      },
      "source": [
        "r[v.stoi['best']]"
      ],
      "execution_count": 189,
      "outputs": [
        {
          "output_type": "execute_result",
          "data": {
            "text/plain": [
              "0.7227894355186196"
            ]
          },
          "metadata": {
            "tags": []
          },
          "execution_count": 189
        }
      ]
    },
    {
      "cell_type": "markdown",
      "metadata": {
        "id": "U-ZhX_qDPdZY"
      },
      "source": [
        "### Naive Bayes sobre el data set"
      ]
    },
    {
      "cell_type": "code",
      "metadata": {
        "id": "vyfVyM1MPdZZ"
      },
      "source": [
        "negative = y.c2i['neg']\n",
        "p0 = np.squeeze(np.asarray(x[y.items==negative].sum(0)))"
      ],
      "execution_count": 174,
      "outputs": []
    },
    {
      "cell_type": "markdown",
      "metadata": {
        "id": "xnahb3rvPdZa"
      },
      "source": [
        "Como tenemos un número igual de críticas positivas y negativas b es 0."
      ]
    },
    {
      "cell_type": "code",
      "metadata": {
        "id": "2jy1a6q0PdZa"
      },
      "source": [
        "pr1 = (p1+1) / ((y.items==positive).sum() + 1)\n",
        "pr0 = (p0+1) / ((y.items==negative).sum() + 1)"
      ],
      "execution_count": 175,
      "outputs": []
    },
    {
      "cell_type": "code",
      "metadata": {
        "colab": {
          "base_uri": "https://localhost:8080/"
        },
        "id": "YRRFyessPdZm",
        "outputId": "a48c7bde-ca5b-458a-b279-1f22ced989b7"
      },
      "source": [
        "b = np.log((y.items==positive).mean() / (y.items==negative).mean()); b"
      ],
      "execution_count": 176,
      "outputs": [
        {
          "output_type": "execute_result",
          "data": {
            "text/plain": [
              "0.0"
            ]
          },
          "metadata": {
            "tags": []
          },
          "execution_count": 176
        }
      ]
    },
    {
      "cell_type": "code",
      "metadata": {
        "id": "7vHmLqviPdZn"
      },
      "source": [
        "preds = (val_term_doc @ r + b) > 0"
      ],
      "execution_count": 191,
      "outputs": []
    },
    {
      "cell_type": "markdown",
      "metadata": {
        "id": "WL8MquxLPdZn"
      },
      "source": [
        "Nuestro accuracy es de 80% para el dataset completo:"
      ]
    },
    {
      "cell_type": "code",
      "metadata": {
        "colab": {
          "base_uri": "https://localhost:8080/"
        },
        "id": "PJEt3NvfPdZn",
        "outputId": "5ca0837d-8737-4354-f487-28add06f9c46"
      },
      "source": [
        "(preds == val_y).mean()"
      ],
      "execution_count": 192,
      "outputs": [
        {
          "output_type": "execute_result",
          "data": {
            "text/plain": [
              "0.80864"
            ]
          },
          "metadata": {
            "tags": []
          },
          "execution_count": 192
        }
      ]
    },
    {
      "cell_type": "markdown",
      "metadata": {
        "id": "ELJnSqyfPdZp"
      },
      "source": [
        "### Naive Bayes Binarizado"
      ]
    },
    {
      "cell_type": "markdown",
      "metadata": {
        "id": "Mvjc17wgPdZp"
      },
      "source": [
        "Maybe it only matters whether a word is in the review or not (not the frequency of the word):"
      ]
    },
    {
      "cell_type": "code",
      "metadata": {
        "id": "2qhyBsyRPdZp"
      },
      "source": [
        "x=trn_term_doc.sign()\n",
        "y=reviews_full.train.y"
      ],
      "execution_count": 193,
      "outputs": []
    },
    {
      "cell_type": "code",
      "metadata": {
        "colab": {
          "base_uri": "https://localhost:8080/"
        },
        "id": "9sv_K1L3PdZr",
        "outputId": "8e91eada-f4d6-434e-b18d-d70a87c8a2ed"
      },
      "source": [
        "x.todense()[:10,:10]"
      ],
      "execution_count": 194,
      "outputs": [
        {
          "output_type": "execute_result",
          "data": {
            "text/plain": [
              "matrix([[1, 0, 1, 0, ..., 1, 0, 0, 1],\n",
              "        [1, 0, 1, 0, ..., 1, 0, 0, 1],\n",
              "        [1, 0, 1, 0, ..., 0, 0, 0, 1],\n",
              "        [1, 0, 1, 0, ..., 1, 1, 0, 1],\n",
              "        ...,\n",
              "        [1, 0, 1, 0, ..., 1, 0, 0, 1],\n",
              "        [1, 0, 1, 0, ..., 0, 0, 0, 1],\n",
              "        [1, 0, 1, 0, ..., 1, 0, 0, 1],\n",
              "        [0, 0, 1, 0, ..., 0, 0, 0, 1]])"
            ]
          },
          "metadata": {
            "tags": []
          },
          "execution_count": 194
        }
      ]
    },
    {
      "cell_type": "code",
      "metadata": {
        "id": "_BCBI4QAPdZs"
      },
      "source": [
        "negative = y.c2i['neg']\n",
        "positive = y.c2i['pos']"
      ],
      "execution_count": 195,
      "outputs": []
    },
    {
      "cell_type": "code",
      "metadata": {
        "id": "ynnOadboPdZt"
      },
      "source": [
        "p1 = np.squeeze(np.asarray(x[y.items==positive].sum(0)))\n",
        "p0 = np.squeeze(np.asarray(x[y.items==negative].sum(0)))"
      ],
      "execution_count": 196,
      "outputs": []
    },
    {
      "cell_type": "code",
      "metadata": {
        "id": "j7mUU8owPdZu"
      },
      "source": [
        "pr1 = (p1+1) / ((y.items==positive).sum() + 1)\n",
        "pr0 = (p0+1) / ((y.items==negative).sum() + 1)"
      ],
      "execution_count": 197,
      "outputs": []
    },
    {
      "cell_type": "code",
      "metadata": {
        "id": "sPUgS5nePdZw"
      },
      "source": [
        "r = np.log(pr1/pr0)\n",
        "b = np.log((y.items==positive).mean() / (y.items==negative).mean())\n",
        "\n",
        "preds = (val_term_doc.sign() @ r + b) > 0"
      ],
      "execution_count": 198,
      "outputs": []
    },
    {
      "cell_type": "code",
      "metadata": {
        "colab": {
          "base_uri": "https://localhost:8080/"
        },
        "id": "G-0GtMHaPdZx",
        "outputId": "fac6f231-2c89-4aef-9560-854e090ddda4"
      },
      "source": [
        "(preds==val_y).mean()"
      ],
      "execution_count": 199,
      "outputs": [
        {
          "output_type": "execute_result",
          "data": {
            "text/plain": [
              "0.82932"
            ]
          },
          "metadata": {
            "tags": []
          },
          "execution_count": 199
        }
      ]
    },
    {
      "cell_type": "markdown",
      "metadata": {
        "id": "Wty8PKyZPdZy"
      },
      "source": [
        "## Regresión logística"
      ]
    },
    {
      "cell_type": "markdown",
      "metadata": {
        "id": "ATeIXb77PdZy"
      },
      "source": [
        "Es posible ejecutar un modelo de regresión logística cuando las características son unigramas."
      ]
    },
    {
      "cell_type": "code",
      "metadata": {
        "id": "62q7W-MkPdZy"
      },
      "source": [
        "from sklearn.linear_model import LogisticRegression"
      ],
      "execution_count": 200,
      "outputs": []
    },
    {
      "cell_type": "code",
      "metadata": {
        "colab": {
          "base_uri": "https://localhost:8080/"
        },
        "id": "3tSbJmPVPdZ1",
        "outputId": "7cf0ee1d-c586-4c8f-92b3-c5ef7039dea9"
      },
      "source": [
        "m = LogisticRegression(C=0.1, dual=True, solver='liblinear')\n",
        "m.fit(x, y.items.astype(int))   #Matriz de termino y clases\n",
        "preds = m.predict(val_term_doc)\n",
        "(preds==val_y).mean()"
      ],
      "execution_count": 201,
      "outputs": [
        {
          "output_type": "execute_result",
          "data": {
            "text/plain": [
              "0.76988"
            ]
          },
          "metadata": {
            "tags": []
          },
          "execution_count": 201
        }
      ]
    },
    {
      "cell_type": "markdown",
      "metadata": {
        "id": "2ad-UvEXDXGQ"
      },
      "source": [
        "Le gano el naive base a la regrecion logistica con frecuencia"
      ]
    },
    {
      "cell_type": "markdown",
      "metadata": {
        "id": "Ym7glJfLPdZ1"
      },
      "source": [
        "Y la versión binaria:"
      ]
    },
    {
      "cell_type": "code",
      "metadata": {
        "colab": {
          "base_uri": "https://localhost:8080/"
        },
        "id": "Xyyd1tO7PdZ2",
        "outputId": "326dd1cf-a734-44be-fbfd-d7a4707baea8"
      },
      "source": [
        "m = LogisticRegression(C=0.1, dual=True, solver=\"liblinear\")\n",
        "m.fit(trn_term_doc.sign(), y.items.astype(int))\n",
        "preds = m.predict(val_term_doc.sign())\n",
        "(preds==val_y).mean()"
      ],
      "execution_count": 202,
      "outputs": [
        {
          "output_type": "execute_result",
          "data": {
            "text/plain": [
              "0.88544"
            ]
          },
          "metadata": {
            "tags": []
          },
          "execution_count": 202
        }
      ]
    },
    {
      "cell_type": "markdown",
      "metadata": {
        "id": "1kkVTtl-PdZ3"
      },
      "source": [
        "# Trigramas con Naive Bayes "
      ]
    },
    {
      "cell_type": "markdown",
      "metadata": {
        "id": "Ez3ghvOOPdZ4"
      },
      "source": [
        "A continuación se muestra un modelo de regresión logística con Naive Bayes desarrollado [aquí](https://www.aclweb.org/anthology/P12-2018). Para cada documento computamos atributos binarizados como se describió en la parte superior pero esta vez utilizando bigramas y trigramas. Cada característica es un log-count ratio. Un modelo de regresión logística es entrenado para predecir sentimientos."
      ]
    },
    {
      "cell_type": "markdown",
      "metadata": {
        "id": "V906-ANbPdZ4"
      },
      "source": [
        "### n-gramas"
      ]
    },
    {
      "cell_type": "markdown",
      "metadata": {
        "id": "efgKz5bmPdZ5"
      },
      "source": [
        "Un n-grama es una secuencia continua de ítmes (donde un item es una letra, una sílaba o una palabra). Un 1-grama es un unigrama, un 2-gram es un bigrama y un 3-gram es un trigrama\n",
        "\n",
        "En este caso son secuencias contínuas de palabras como: \"the dog\", \"said that\" \"can't you\".\n",
        "\n",
        "Es el mismo proceso pero considera el orden de las palabras, n palabras. Considera todos los posibles casos de ordenes consecutivos."
      ]
    },
    {
      "cell_type": "code",
      "metadata": {
        "id": "P7ukEh1gPdZ5"
      },
      "source": [
        "path = untar_data(URLs.IMDB_SAMPLE)"
      ],
      "execution_count": 203,
      "outputs": []
    },
    {
      "cell_type": "code",
      "metadata": {
        "colab": {
          "base_uri": "https://localhost:8080/",
          "height": 74
        },
        "id": "UfcKN8d7PdZ5",
        "outputId": "5b1bb80d-be36-4d75-82fe-fd25a4ae9248"
      },
      "source": [
        "movie_reviews = (TextList.from_csv(path, 'texts.csv', cols='text')\n",
        "                .split_from_df(col=2)\n",
        "                .label_from_df(cols=0))"
      ],
      "execution_count": 204,
      "outputs": [
        {
          "output_type": "display_data",
          "data": {
            "text/html": [
              ""
            ],
            "text/plain": [
              "<IPython.core.display.HTML object>"
            ]
          },
          "metadata": {
            "tags": []
          }
        },
        {
          "output_type": "stream",
          "text": [
            "/usr/local/lib/python3.7/dist-packages/fastai/core.py:302: VisibleDeprecationWarning: Creating an ndarray from ragged nested sequences (which is a list-or-tuple of lists-or-tuples-or ndarrays with different lengths or shapes) is deprecated. If you meant to do this, you must specify 'dtype=object' when creating the ndarray\n",
            "  return np.array(a, dtype=dtype, **kwargs)\n"
          ],
          "name": "stderr"
        },
        {
          "output_type": "display_data",
          "data": {
            "text/html": [
              ""
            ],
            "text/plain": [
              "<IPython.core.display.HTML object>"
            ]
          },
          "metadata": {
            "tags": []
          }
        }
      ]
    },
    {
      "cell_type": "code",
      "metadata": {
        "id": "u6p0rbG9PdZ6"
      },
      "source": [
        "v = movie_reviews.vocab.itos"
      ],
      "execution_count": 205,
      "outputs": []
    },
    {
      "cell_type": "code",
      "metadata": {
        "id": "p-Z_nQrCPdZ7"
      },
      "source": [
        "vocab_len = len(v)"
      ],
      "execution_count": 206,
      "outputs": []
    },
    {
      "cell_type": "markdown",
      "metadata": {
        "id": "jxGGAJZ9PdZ8"
      },
      "source": [
        "## Nuestros datos"
      ]
    },
    {
      "cell_type": "markdown",
      "metadata": {
        "id": "yRAsoNyDPdZ8"
      },
      "source": [
        "### Creación de la matriz de entrenamiento"
      ]
    },
    {
      "cell_type": "code",
      "metadata": {
        "id": "eaVAmKA9PdZ8"
      },
      "source": [
        "min_n=1\n",
        "max_n=3\n",
        "\n",
        "j_indices = []\n",
        "indptr = []\n",
        "values = []\n",
        "indptr.append(0)\n",
        "num_tokens = vocab_len\n",
        "\n",
        "itongram = dict()\n",
        "ngramtoi = dict()"
      ],
      "execution_count": 207,
      "outputs": []
    },
    {
      "cell_type": "markdown",
      "metadata": {
        "id": "_CcvQyNlPdZ-"
      },
      "source": [
        "Iteramos sobre todas las secuencias de palabras para crear los n-gramas:"
      ]
    },
    {
      "cell_type": "code",
      "metadata": {
        "id": "bD62CvxLPdZ_"
      },
      "source": [
        "for i, doc in enumerate(movie_reviews.train.x):\n",
        "    feature_counter = Counter(doc.data)\n",
        "    j_indices.extend(feature_counter.keys())\n",
        "    values.extend(feature_counter.values())\n",
        "    this_doc_ngrams = list()\n",
        "\n",
        "    m = 0\n",
        "    for n in range(min_n, max_n + 1):\n",
        "        for k in range(vocab_len - n + 1):\n",
        "            ngram = doc.data[k: k + n]\n",
        "            if str(ngram) not in ngramtoi:\n",
        "                if len(ngram)==1:\n",
        "                    num = ngram[0]\n",
        "                    ngramtoi[str(ngram)] = num\n",
        "                    itongram[num] = ngram\n",
        "                else:\n",
        "                    ngramtoi[str(ngram)] = num_tokens\n",
        "                    itongram[num_tokens] = ngram\n",
        "                    num_tokens += 1\n",
        "            this_doc_ngrams.append(ngramtoi[str(ngram)])\n",
        "            m += 1\n",
        "\n",
        "    ngram_counter = Counter(this_doc_ngrams)\n",
        "    j_indices.extend(ngram_counter.keys())\n",
        "    values.extend(ngram_counter.values())\n",
        "    indptr.append(len(j_indices))"
      ],
      "execution_count": 208,
      "outputs": []
    },
    {
      "cell_type": "markdown",
      "metadata": {
        "id": "qcyK6NM9PdaB"
      },
      "source": [
        "Es útil emplear diccionarios para convertir entre índices y strings (en este caso n-gramas). Tenemos dos estructuras generadas del código anterios `itongram` (index to n-gram) y `ngramtoi` (n-gram to index)."
      ]
    },
    {
      "cell_type": "code",
      "metadata": {
        "id": "n5XVRpc7PdaB"
      },
      "source": [
        "train_ngram_doc_matrix = scipy.sparse.csr_matrix((values, j_indices, indptr),\n",
        "                                   shape=(len(indptr) - 1, len(ngramtoi)),\n",
        "                                   dtype=int)"
      ],
      "execution_count": 209,
      "outputs": []
    },
    {
      "cell_type": "code",
      "metadata": {
        "colab": {
          "base_uri": "https://localhost:8080/"
        },
        "id": "J_PE7PbaPdaC",
        "outputId": "5c46b7d6-0811-414e-f6ad-94c9c9d4b622"
      },
      "source": [
        "train_ngram_doc_matrix"
      ],
      "execution_count": 210,
      "outputs": [
        {
          "output_type": "execute_result",
          "data": {
            "text/plain": [
              "<800x260382 sparse matrix of type '<class 'numpy.int64'>'\n",
              "\twith 678912 stored elements in Compressed Sparse Row format>"
            ]
          },
          "metadata": {
            "tags": []
          },
          "execution_count": 210
        }
      ]
    },
    {
      "cell_type": "markdown",
      "metadata": {
        "id": "8es2mtlxPdaD"
      },
      "source": [
        "### Revisando los datos"
      ]
    },
    {
      "cell_type": "code",
      "metadata": {
        "colab": {
          "base_uri": "https://localhost:8080/"
        },
        "id": "4EByYDcVPdaD",
        "outputId": "ad81e6cd-0303-479b-bf34-96ada41c1e01"
      },
      "source": [
        "len(ngramtoi), len(itongram)    #Cant de trigramas que nos salieron"
      ],
      "execution_count": 211,
      "outputs": [
        {
          "output_type": "execute_result",
          "data": {
            "text/plain": [
              "(260382, 260382)"
            ]
          },
          "metadata": {
            "tags": []
          },
          "execution_count": 211
        }
      ]
    },
    {
      "cell_type": "code",
      "metadata": {
        "colab": {
          "base_uri": "https://localhost:8080/"
        },
        "id": "8XVidpM0PdaE",
        "outputId": "d8403929-7a76-4298-c147-b1c72c26e122"
      },
      "source": [
        "itongram[20005]"
      ],
      "execution_count": 212,
      "outputs": [
        {
          "output_type": "execute_result",
          "data": {
            "text/plain": [
              "array([ 15,   9, 710])"
            ]
          },
          "metadata": {
            "tags": []
          },
          "execution_count": 212
        }
      ]
    },
    {
      "cell_type": "code",
      "metadata": {
        "colab": {
          "base_uri": "https://localhost:8080/"
        },
        "id": "vc_kfNVpPdaF",
        "outputId": "e521f657-a9e4-402b-cd86-bdd866000caa"
      },
      "source": [
        "ngramtoi[str(np.array([15,   9,  710]))]"
      ],
      "execution_count": 213,
      "outputs": [
        {
          "output_type": "execute_result",
          "data": {
            "text/plain": [
              "20005"
            ]
          },
          "metadata": {
            "tags": []
          },
          "execution_count": 213
        }
      ]
    },
    {
      "cell_type": "code",
      "metadata": {
        "colab": {
          "base_uri": "https://localhost:8080/"
        },
        "id": "hZ073newPdaG",
        "outputId": "a45c7ceb-d22e-4374-8d07-5cdebbc08cd3"
      },
      "source": [
        "itongram[100000]"
      ],
      "execution_count": 214,
      "outputs": [
        {
          "output_type": "execute_result",
          "data": {
            "text/plain": [
              "array([  24, 2883])"
            ]
          },
          "metadata": {
            "tags": []
          },
          "execution_count": 214
        }
      ]
    },
    {
      "cell_type": "code",
      "metadata": {
        "colab": {
          "base_uri": "https://localhost:8080/"
        },
        "id": "SQSROzLQPdaH",
        "outputId": "a0929aaf-87fe-415e-b063-bf7623135b45"
      },
      "source": [
        "v[15], v[9], v[710]"
      ],
      "execution_count": 215,
      "outputs": [
        {
          "output_type": "execute_result",
          "data": {
            "text/plain": [
              "('to', 'the', 'leads')"
            ]
          },
          "metadata": {
            "tags": []
          },
          "execution_count": 215
        }
      ]
    },
    {
      "cell_type": "code",
      "metadata": {
        "colab": {
          "base_uri": "https://localhost:8080/"
        },
        "id": "RqwKH9OVPdaI",
        "outputId": "eae6e073-ea95-4aa0-9708-7fd3253dad21"
      },
      "source": [
        "itongram[100010]"
      ],
      "execution_count": 216,
      "outputs": [
        {
          "output_type": "execute_result",
          "data": {
            "text/plain": [
              "array([1450,   52])"
            ]
          },
          "metadata": {
            "tags": []
          },
          "execution_count": 216
        }
      ]
    },
    {
      "cell_type": "code",
      "metadata": {
        "colab": {
          "base_uri": "https://localhost:8080/"
        },
        "id": "GDlDxIxAPdaI",
        "outputId": "b148b404-2263-4e0a-869f-2ba5083c594e"
      },
      "source": [
        "v[5430], v[10]"
      ],
      "execution_count": 217,
      "outputs": [
        {
          "output_type": "execute_result",
          "data": {
            "text/plain": [
              "('photographer', '.')"
            ]
          },
          "metadata": {
            "tags": []
          },
          "execution_count": 217
        }
      ]
    },
    {
      "cell_type": "code",
      "metadata": {
        "colab": {
          "base_uri": "https://localhost:8080/"
        },
        "id": "IJl_DSBUPdaK",
        "outputId": "d0fb9bf0-370b-4d80-ac42-dcfd90f33062"
      },
      "source": [
        "itongram[6116]"
      ],
      "execution_count": 218,
      "outputs": [
        {
          "output_type": "execute_result",
          "data": {
            "text/plain": [
              "array([ 85, 192,  64])"
            ]
          },
          "metadata": {
            "tags": []
          },
          "execution_count": 218
        }
      ]
    },
    {
      "cell_type": "code",
      "metadata": {
        "colab": {
          "base_uri": "https://localhost:8080/"
        },
        "id": "dfrvMLRaPdaL",
        "outputId": "7ace348f-43c6-48ea-e62a-577a229df3b0"
      },
      "source": [
        "v[85], v[191], v[64]"
      ],
      "execution_count": 219,
      "outputs": [
        {
          "output_type": "execute_result",
          "data": {
            "text/plain": [
              "('even', 'nothing', 'her')"
            ]
          },
          "metadata": {
            "tags": []
          },
          "execution_count": 219
        }
      ]
    },
    {
      "cell_type": "code",
      "metadata": {
        "colab": {
          "base_uri": "https://localhost:8080/"
        },
        "id": "8MBRcIxdPdaO",
        "outputId": "4ed6bbf2-e496-491f-eaf5-61224f2f1778"
      },
      "source": [
        "itongram[80000]"
      ],
      "execution_count": 220,
      "outputs": [
        {
          "output_type": "execute_result",
          "data": {
            "text/plain": [
              "array([ 67, 177,  96])"
            ]
          },
          "metadata": {
            "tags": []
          },
          "execution_count": 220
        }
      ]
    },
    {
      "cell_type": "code",
      "metadata": {
        "colab": {
          "base_uri": "https://localhost:8080/"
        },
        "id": "3qTtnWcZPdaO",
        "outputId": "c5acdbba-aa80-4346-fc79-28cd80e40759"
      },
      "source": [
        "v[2594], v[14], v[2618]"
      ],
      "execution_count": 221,
      "outputs": [
        {
          "output_type": "execute_result",
          "data": {
            "text/plain": [
              "('loss', 'of', 'sleep')"
            ]
          },
          "metadata": {
            "tags": []
          },
          "execution_count": 221
        }
      ]
    },
    {
      "cell_type": "markdown",
      "metadata": {
        "id": "NMjzEBcJPdaP"
      },
      "source": [
        "### Cración de matriz de validación"
      ]
    },
    {
      "cell_type": "code",
      "metadata": {
        "id": "JJun23cxPdaQ"
      },
      "source": [
        "j_indices = []\n",
        "indptr = []\n",
        "values = []\n",
        "indptr.append(0)\n",
        "\n",
        "for i, doc in enumerate(movie_reviews.valid.x):\n",
        "    feature_counter = Counter(doc.data)\n",
        "    j_indices.extend(feature_counter.keys())\n",
        "    values.extend(feature_counter.values())\n",
        "    this_doc_ngrams = list()\n",
        "\n",
        "    m = 0\n",
        "    for n in range(min_n, max_n + 1):\n",
        "        for k in range(vocab_len - n + 1):\n",
        "            ngram = doc.data[k: k + n]\n",
        "            if str(ngram) in ngramtoi:\n",
        "                this_doc_ngrams.append(ngramtoi[str(ngram)])\n",
        "            m += 1\n",
        "\n",
        "    ngram_counter = Counter(this_doc_ngrams)\n",
        "    j_indices.extend(ngram_counter.keys())\n",
        "    values.extend(ngram_counter.values())\n",
        "    indptr.append(len(j_indices))"
      ],
      "execution_count": 227,
      "outputs": []
    },
    {
      "cell_type": "code",
      "metadata": {
        "id": "Z2u7IxtWPdaR"
      },
      "source": [
        "valid_ngram_doc_matrix = scipy.sparse.csr_matrix((values, j_indices, indptr),\n",
        "                                   shape=(len(indptr) - 1, len(ngramtoi)),\n",
        "                                   dtype=int)"
      ],
      "execution_count": 228,
      "outputs": []
    },
    {
      "cell_type": "code",
      "metadata": {
        "colab": {
          "base_uri": "https://localhost:8080/"
        },
        "id": "Hh8gxmBCPdaS",
        "outputId": "19d9dc42-94ef-49d9-836f-07bab557f58d"
      },
      "source": [
        "valid_ngram_doc_matrix"
      ],
      "execution_count": 229,
      "outputs": [
        {
          "output_type": "execute_result",
          "data": {
            "text/plain": [
              "<200x260382 sparse matrix of type '<class 'numpy.int64'>'\n",
              "\twith 121600 stored elements in Compressed Sparse Row format>"
            ]
          },
          "metadata": {
            "tags": []
          },
          "execution_count": 229
        }
      ]
    },
    {
      "cell_type": "code",
      "metadata": {
        "colab": {
          "base_uri": "https://localhost:8080/"
        },
        "id": "Xn3jnhvGPdaS",
        "outputId": "59d85b49-9f3f-4be7-d135-3c604b113974"
      },
      "source": [
        "train_ngram_doc_matrix"
      ],
      "execution_count": 230,
      "outputs": [
        {
          "output_type": "execute_result",
          "data": {
            "text/plain": [
              "<800x260382 sparse matrix of type '<class 'numpy.int64'>'\n",
              "\twith 678912 stored elements in Compressed Sparse Row format>"
            ]
          },
          "metadata": {
            "tags": []
          },
          "execution_count": 230
        }
      ]
    },
    {
      "cell_type": "markdown",
      "metadata": {
        "id": "_vl2rh1cPdaU"
      },
      "source": [
        "### Guardar matriz de n-gramas\n"
      ]
    },
    {
      "cell_type": "code",
      "metadata": {
        "id": "nJ9QwQ_JPdaU"
      },
      "source": [
        "scipy.sparse.save_npz(\"train_ngram_matrix.npz\", train_ngram_doc_matrix)"
      ],
      "execution_count": 231,
      "outputs": []
    },
    {
      "cell_type": "code",
      "metadata": {
        "id": "qYNGR4b7PdaV"
      },
      "source": [
        "scipy.sparse.save_npz(\"valid_ngram_matrix.npz\", valid_ngram_doc_matrix)"
      ],
      "execution_count": 232,
      "outputs": []
    },
    {
      "cell_type": "code",
      "metadata": {
        "id": "yIZHjurlPdaW"
      },
      "source": [
        "with open('itongram.pickle', 'wb') as handle:\n",
        "    pickle.dump(itongram, handle, protocol=pickle.HIGHEST_PROTOCOL)\n",
        "    \n",
        "with open('ngramtoi.pickle', 'wb') as handle:\n",
        "    pickle.dump(itongram, handle, protocol=pickle.HIGHEST_PROTOCOL)"
      ],
      "execution_count": 233,
      "outputs": []
    },
    {
      "cell_type": "markdown",
      "metadata": {
        "heading_collapsed": true,
        "id": "j3Slx602PdaW"
      },
      "source": [
        "### Cargar matriz de n-gramas"
      ]
    },
    {
      "cell_type": "code",
      "metadata": {
        "hidden": true,
        "id": "dZRLgGBLPdaX"
      },
      "source": [
        "train_ngram_doc_matrix = scipy.sparse.load_npz(\"train_ngram_matrix.npz\")\n",
        "valid_ngram_doc_matrix = scipy.sparse.load_npz(\"valid_ngram_matrix.npz\")"
      ],
      "execution_count": 234,
      "outputs": []
    },
    {
      "cell_type": "code",
      "metadata": {
        "hidden": true,
        "id": "IS3MSxyQPdaY"
      },
      "source": [
        "with open('itongram.pickle', 'rb') as handle:\n",
        "    b = pickle.load(handle)\n",
        "    \n",
        "with open('ngramtoi.pickle', 'rb') as handle:\n",
        "    b = pickle.load(handle)"
      ],
      "execution_count": 235,
      "outputs": []
    },
    {
      "cell_type": "markdown",
      "metadata": {
        "id": "2bRIR344PdaY"
      },
      "source": [
        "## Naive Bayes"
      ]
    },
    {
      "cell_type": "code",
      "metadata": {
        "id": "jfH6iz4LPdaZ"
      },
      "source": [
        "x=train_ngram_doc_matrix\n",
        "y=movie_reviews.train.y"
      ],
      "execution_count": 236,
      "outputs": []
    },
    {
      "cell_type": "code",
      "metadata": {
        "id": "AZU6EvepPdaa"
      },
      "source": [
        "positive = y.c2i['positive']\n",
        "negative = y.c2i['negative']"
      ],
      "execution_count": 237,
      "outputs": []
    },
    {
      "cell_type": "code",
      "metadata": {
        "colab": {
          "base_uri": "https://localhost:8080/"
        },
        "id": "T_x2gyWfPdab",
        "outputId": "f7740101-9bf5-4664-b1a0-6d949c6f8cf1"
      },
      "source": [
        "x"
      ],
      "execution_count": 238,
      "outputs": [
        {
          "output_type": "execute_result",
          "data": {
            "text/plain": [
              "<800x260382 sparse matrix of type '<class 'numpy.int64'>'\n",
              "\twith 678912 stored elements in Compressed Sparse Row format>"
            ]
          },
          "metadata": {
            "tags": []
          },
          "execution_count": 238
        }
      ]
    },
    {
      "cell_type": "code",
      "metadata": {
        "id": "Z1A4LF-2Pdac"
      },
      "source": [
        "k=260373"
      ],
      "execution_count": 239,
      "outputs": []
    },
    {
      "cell_type": "code",
      "metadata": {
        "id": "UZ-bMlH8Pdac"
      },
      "source": [
        "pos = (y.items == positive)[:k]\n",
        "neg = (y.items == negative)[:k]"
      ],
      "execution_count": 240,
      "outputs": []
    },
    {
      "cell_type": "code",
      "metadata": {
        "id": "PByvZzCUPdae"
      },
      "source": [
        "xx = x[:k]"
      ],
      "execution_count": 241,
      "outputs": []
    },
    {
      "cell_type": "code",
      "metadata": {
        "id": "rd3NZ-e8Pdae"
      },
      "source": [
        "valid_labels = [o == positive for o in movie_reviews.valid.y.items]"
      ],
      "execution_count": 242,
      "outputs": []
    },
    {
      "cell_type": "code",
      "metadata": {
        "id": "6fl1wgusPdaf"
      },
      "source": [
        "p0 = np.squeeze(np.array(xx[neg].sum(0)))\n",
        "p1 = np.squeeze(np.array(xx[pos].sum(0)))"
      ],
      "execution_count": 243,
      "outputs": []
    },
    {
      "cell_type": "code",
      "metadata": {
        "id": "eGyCtkRZPdah"
      },
      "source": [
        "pr1 = (p1+1) / ((y.items==positive).sum() + 1)\n",
        "pr0 = (p0+1) / ((y.items==negative).sum() + 1)"
      ],
      "execution_count": 244,
      "outputs": []
    },
    {
      "cell_type": "code",
      "metadata": {
        "id": "VUC7P8xaPdah"
      },
      "source": [
        "r = np.log(pr1/pr0)"
      ],
      "execution_count": 245,
      "outputs": []
    },
    {
      "cell_type": "code",
      "metadata": {
        "id": "B2RL-2ZhPdai"
      },
      "source": [
        "b = np.log((y.items==positive).mean() / (y.items==negative).mean())"
      ],
      "execution_count": 246,
      "outputs": []
    },
    {
      "cell_type": "code",
      "metadata": {
        "colab": {
          "base_uri": "https://localhost:8080/"
        },
        "id": "dcJ4VhqXPdak",
        "outputId": "acfc21fa-afff-477e-e4de-b3f137823778"
      },
      "source": [
        "b"
      ],
      "execution_count": 247,
      "outputs": [
        {
          "output_type": "execute_result",
          "data": {
            "text/plain": [
              "-0.08505123261815539"
            ]
          },
          "metadata": {
            "tags": []
          },
          "execution_count": 247
        }
      ]
    },
    {
      "cell_type": "code",
      "metadata": {
        "colab": {
          "base_uri": "https://localhost:8080/"
        },
        "id": "e6TqfkoQPdal",
        "outputId": "19a9cff6-8ed4-4f2c-db36-58b7c76ee52f"
      },
      "source": [
        "(y.items==positive).mean(), (y.items==negative).mean()"
      ],
      "execution_count": 248,
      "outputs": [
        {
          "output_type": "execute_result",
          "data": {
            "text/plain": [
              "(0.47875, 0.52125)"
            ]
          },
          "metadata": {
            "tags": []
          },
          "execution_count": 248
        }
      ]
    },
    {
      "cell_type": "code",
      "metadata": {
        "id": "WIJvBL8PPdam"
      },
      "source": [
        "pre_preds = valid_ngram_doc_matrix @ r.T + b"
      ],
      "execution_count": 249,
      "outputs": []
    },
    {
      "cell_type": "code",
      "metadata": {
        "colab": {
          "base_uri": "https://localhost:8080/"
        },
        "id": "HFZzvqVdPdan",
        "outputId": "b5f61146-bdc5-40a0-ce77-74cb6acf4203"
      },
      "source": [
        "pre_preds"
      ],
      "execution_count": 250,
      "outputs": [
        {
          "output_type": "execute_result",
          "data": {
            "text/plain": [
              "array([ 111.020095,   39.757212,    1.56591 ,   14.717061, ...,   81.738199,   -5.930168, -152.211735,  120.253329])"
            ]
          },
          "metadata": {
            "tags": []
          },
          "execution_count": 250
        }
      ]
    },
    {
      "cell_type": "code",
      "metadata": {
        "id": "7craIN9lPdan"
      },
      "source": [
        "preds = pre_preds.T>0"
      ],
      "execution_count": 251,
      "outputs": []
    },
    {
      "cell_type": "code",
      "metadata": {
        "colab": {
          "base_uri": "https://localhost:8080/"
        },
        "id": "62f7c-XdPdap",
        "outputId": "ba75d538-df75-4e0c-c1db-48a7535891aa"
      },
      "source": [
        "preds[:10]"
      ],
      "execution_count": 252,
      "outputs": [
        {
          "output_type": "execute_result",
          "data": {
            "text/plain": [
              "array([ True,  True,  True,  True, False,  True,  True, False,  True, False])"
            ]
          },
          "metadata": {
            "tags": []
          },
          "execution_count": 252
        }
      ]
    },
    {
      "cell_type": "code",
      "metadata": {
        "id": "ST21UscAPdap"
      },
      "source": [
        "valid_labels = [o == positive for o in movie_reviews.valid.y.items]"
      ],
      "execution_count": 253,
      "outputs": []
    },
    {
      "cell_type": "code",
      "metadata": {
        "colab": {
          "base_uri": "https://localhost:8080/"
        },
        "id": "girSkoOiPdaq",
        "outputId": "d20ad7df-98c0-4041-ea8f-12dd9a6d5f3c"
      },
      "source": [
        "(preds == valid_labels).mean()"
      ],
      "execution_count": 254,
      "outputs": [
        {
          "output_type": "execute_result",
          "data": {
            "text/plain": [
              "0.76"
            ]
          },
          "metadata": {
            "tags": []
          },
          "execution_count": 254
        }
      ]
    },
    {
      "cell_type": "markdown",
      "metadata": {
        "id": "WvjyIpL7Pdar"
      },
      "source": [
        "### Naive Bayes Binarizado"
      ]
    },
    {
      "cell_type": "code",
      "metadata": {
        "id": "DQ5f9AHzPdas"
      },
      "source": [
        "trn_x_ngram_sgn = train_ngram_doc_matrix.sign()\n",
        "val_x_ngram_sgn = valid_ngram_doc_matrix.sign()"
      ],
      "execution_count": 255,
      "outputs": []
    },
    {
      "cell_type": "code",
      "metadata": {
        "id": "Gbdz3fXWPdau"
      },
      "source": [
        "xx = trn_x_ngram_sgn[:k]"
      ],
      "execution_count": 256,
      "outputs": []
    },
    {
      "cell_type": "code",
      "metadata": {
        "id": "alBTdKC6Pdau"
      },
      "source": [
        "p0 = np.squeeze(np.array(xx[neg].sum(0)))\n",
        "p1 = np.squeeze(np.array(xx[pos].sum(0)))"
      ],
      "execution_count": 257,
      "outputs": []
    },
    {
      "cell_type": "code",
      "metadata": {
        "id": "uOM3vNwmPdav"
      },
      "source": [
        "pr1 = (p1+1) / ((y.items==positive).sum() + 1)\n",
        "pr0 = (p0+1) / ((y.items==negative).sum() + 1)"
      ],
      "execution_count": 258,
      "outputs": []
    },
    {
      "cell_type": "code",
      "metadata": {
        "id": "3IQAjs7KPdaw"
      },
      "source": [
        "r = np.log(pr1/pr0)\n",
        "b = np.log((y.items==positive).mean() / (y.items==negative).mean())\n",
        "\n",
        "pre_preds = val_x_ngram_sgn @ r.T + b\n",
        "preds = pre_preds.T>0"
      ],
      "execution_count": 259,
      "outputs": []
    },
    {
      "cell_type": "code",
      "metadata": {
        "colab": {
          "base_uri": "https://localhost:8080/"
        },
        "id": "p6UdkU_bPdax",
        "outputId": "584fff4f-849a-4bde-c6e0-31ee1ab35e7f"
      },
      "source": [
        "(preds==valid_labels).mean()"
      ],
      "execution_count": 260,
      "outputs": [
        {
          "output_type": "execute_result",
          "data": {
            "text/plain": [
              "0.735"
            ]
          },
          "metadata": {
            "tags": []
          },
          "execution_count": 260
        }
      ]
    },
    {
      "cell_type": "markdown",
      "metadata": {
        "id": "O0lpRVljPday"
      },
      "source": [
        "## Regresión Logística"
      ]
    },
    {
      "cell_type": "markdown",
      "metadata": {
        "id": "Qf-TWDloPdaz"
      },
      "source": [
        "Aquí ajustamos la regresión logística regularizada donde las características son los trigramas."
      ]
    },
    {
      "cell_type": "code",
      "metadata": {
        "id": "MJIWpTrMPdaz"
      },
      "source": [
        "from sklearn.linear_model import LogisticRegression"
      ],
      "execution_count": 261,
      "outputs": []
    },
    {
      "cell_type": "markdown",
      "metadata": {
        "id": "Xqirv_AxPdaz"
      },
      "source": [
        "### usando CountVectorizer "
      ]
    },
    {
      "cell_type": "code",
      "metadata": {
        "id": "vFcx37S8Pda0"
      },
      "source": [
        "from sklearn.feature_extraction.text import CountVectorizer"
      ],
      "execution_count": 262,
      "outputs": []
    },
    {
      "cell_type": "code",
      "metadata": {
        "id": "MAZQxwoNPda0"
      },
      "source": [
        "veczr = CountVectorizer(ngram_range=(1,3), preprocessor=noop, tokenizer=noop, max_features=800000)"
      ],
      "execution_count": 263,
      "outputs": []
    },
    {
      "cell_type": "code",
      "metadata": {
        "id": "p0m0rc_3Pda1"
      },
      "source": [
        "docs = movie_reviews.train.x"
      ],
      "execution_count": 264,
      "outputs": []
    },
    {
      "cell_type": "code",
      "metadata": {
        "id": "G7xIRGkYPda2"
      },
      "source": [
        "train_words = [[docs.vocab.itos[o] for o in doc.data] for doc in movie_reviews.train.x]"
      ],
      "execution_count": 265,
      "outputs": []
    },
    {
      "cell_type": "code",
      "metadata": {
        "id": "QcSWBK2tPda3"
      },
      "source": [
        "valid_words = [[docs.vocab.itos[o] for o in doc.data] for doc in movie_reviews.valid.x]"
      ],
      "execution_count": 266,
      "outputs": []
    },
    {
      "cell_type": "code",
      "metadata": {
        "colab": {
          "base_uri": "https://localhost:8080/"
        },
        "id": "6audznBjPda4",
        "outputId": "7b9a74de-f751-44c2-871f-b8245bbc2c57"
      },
      "source": [
        "%%time\n",
        "train_ngram_doc = veczr.fit_transform(train_words)"
      ],
      "execution_count": 267,
      "outputs": [
        {
          "output_type": "stream",
          "text": [
            "CPU times: user 1.79 s, sys: 8.32 ms, total: 1.8 s\n",
            "Wall time: 1.8 s\n"
          ],
          "name": "stdout"
        }
      ]
    },
    {
      "cell_type": "code",
      "metadata": {
        "colab": {
          "base_uri": "https://localhost:8080/"
        },
        "id": "W2BLYtJ5Pda5",
        "scrolled": true,
        "outputId": "22c56d3d-d167-453f-ec6a-7e65faf7e812"
      },
      "source": [
        "train_ngram_doc"
      ],
      "execution_count": 268,
      "outputs": [
        {
          "output_type": "execute_result",
          "data": {
            "text/plain": [
              "<800x260381 sparse matrix of type '<class 'numpy.int64'>'\n",
              "\twith 565703 stored elements in Compressed Sparse Row format>"
            ]
          },
          "metadata": {
            "tags": []
          },
          "execution_count": 268
        }
      ]
    },
    {
      "cell_type": "code",
      "metadata": {
        "colab": {
          "base_uri": "https://localhost:8080/"
        },
        "id": "cpOKcxoEPda5",
        "scrolled": true,
        "outputId": "39ffb2d2-4c99-497d-bf10-dd2fb9c634ae"
      },
      "source": [
        "veczr.vocabulary_"
      ],
      "execution_count": 269,
      "outputs": [
        {
          "output_type": "execute_result",
          "data": {
            "text/plain": [
              "{'xxbos': 235222,\n",
              " 'xxmaj': 235596,\n",
              " 'un': 217518,\n",
              " '-': 14664,\n",
              " 'xxunk': 247959,\n",
              " 'believable': 50424,\n",
              " '!': 593,\n",
              " 'meg': 134442,\n",
              " 'ryan': 171960,\n",
              " 'does': 72625,\n",
              " \"n't\": 141195,\n",
              " 'even': 78285,\n",
              " 'look': 129013,\n",
              " 'her': 101678,\n",
              " 'usual': 219408,\n",
              " 'lovable': 129866,\n",
              " 'self': 175871,\n",
              " 'in': 110060,\n",
              " 'this': 206626,\n",
              " ',': 8804,\n",
              " 'which': 228205,\n",
              " 'normally': 145186,\n",
              " 'makes': 131550,\n",
              " 'me': 133650,\n",
              " 'forgive': 88666,\n",
              " 'shallow': 177165,\n",
              " 'acting': 27686,\n",
              " '.': 16840,\n",
              " 'hard': 97859,\n",
              " 'to': 210371,\n",
              " 'believe': 50461,\n",
              " 'she': 177313,\n",
              " 'was': 222316,\n",
              " 'the': 193805,\n",
              " 'producer': 164488,\n",
              " 'on': 152324,\n",
              " 'dog': 72930,\n",
              " 'plus': 162132,\n",
              " 'kevin': 122608,\n",
              " 'kline': 123465,\n",
              " ':': 20363,\n",
              " 'what': 226862,\n",
              " 'kind': 123235,\n",
              " 'of': 147516,\n",
              " 'suicide': 188360,\n",
              " 'trip': 215815,\n",
              " 'has': 98127,\n",
              " 'his': 103530,\n",
              " 'career': 58695,\n",
              " 'been': 49238,\n",
              " '?': 20991,\n",
              " '...': 18346,\n",
              " 'finally': 85372,\n",
              " 'directed': 71216,\n",
              " 'by': 56560,\n",
              " 'guy': 96414,\n",
              " 'who': 229030,\n",
              " 'did': 70472,\n",
              " 'big': 51599,\n",
              " 'must': 140411,\n",
              " 'be': 47416,\n",
              " 'a': 21279,\n",
              " 'replay': 169616,\n",
              " 'jonestown': 121178,\n",
              " 'hollywood': 105187,\n",
              " 'style': 187611,\n",
              " 'xxbos xxmaj': 235364,\n",
              " 'xxmaj un': 246390,\n",
              " 'un -': 217519,\n",
              " '- xxunk': 16426,\n",
              " 'xxunk -': 248707,\n",
              " '- believable': 14852,\n",
              " 'believable !': 50425,\n",
              " '! xxmaj': 757,\n",
              " 'xxmaj meg': 242190,\n",
              " 'meg xxmaj': 134447,\n",
              " 'xxmaj ryan': 244145,\n",
              " 'ryan does': 171969,\n",
              " \"does n't\": 72757,\n",
              " \"n't even\": 141524,\n",
              " 'even look': 78525,\n",
              " 'look her': 129098,\n",
              " 'her usual': 102324,\n",
              " 'usual xxunk': 219440,\n",
              " 'xxunk lovable': 252448,\n",
              " 'lovable self': 129875,\n",
              " 'self in': 175896,\n",
              " 'in this': 111784,\n",
              " 'this ,': 206645,\n",
              " ', which': 13814,\n",
              " 'which normally': 228477,\n",
              " 'normally makes': 145189,\n",
              " 'makes me': 131629,\n",
              " 'me forgive': 133785,\n",
              " 'forgive her': 88667,\n",
              " 'her shallow': 102230,\n",
              " 'shallow xxunk': 177180,\n",
              " 'xxunk acting': 249129,\n",
              " 'acting xxunk': 27928,\n",
              " 'xxunk .': 248807,\n",
              " '. xxmaj': 17373,\n",
              " 'xxmaj hard': 239911,\n",
              " 'hard to': 97915,\n",
              " 'to believe': 210904,\n",
              " 'believe she': 50530,\n",
              " 'she was': 177757,\n",
              " 'was the': 223690,\n",
              " 'the producer': 199545,\n",
              " 'producer on': 164500,\n",
              " 'on this': 153096,\n",
              " 'this dog': 206965,\n",
              " 'dog .': 72931,\n",
              " 'xxmaj plus': 243520,\n",
              " 'plus xxmaj': 162152,\n",
              " 'xxmaj kevin': 241343,\n",
              " 'kevin xxmaj': 122613,\n",
              " 'xxmaj kline': 241439,\n",
              " 'kline :': 123471,\n",
              " ': what': 20593,\n",
              " 'what kind': 227115,\n",
              " 'kind of': 123258,\n",
              " 'of suicide': 149879,\n",
              " 'suicide trip': 188382,\n",
              " 'trip has': 215826,\n",
              " 'has his': 98397,\n",
              " 'his career': 103708,\n",
              " 'career been': 58711,\n",
              " 'been on': 49449,\n",
              " 'on ?': 152373,\n",
              " '? xxmaj': 21115,\n",
              " 'xxmaj xxunk': 247316,\n",
              " 'xxunk ...': 248853,\n",
              " '... xxmaj': 18630,\n",
              " 'xxunk !': 247964,\n",
              " '! !': 608,\n",
              " 'xxmaj finally': 239061,\n",
              " 'finally this': 85434,\n",
              " 'this was': 208169,\n",
              " 'was directed': 222771,\n",
              " 'directed by': 71229,\n",
              " 'by the': 56979,\n",
              " 'the guy': 197083,\n",
              " 'guy who': 96505,\n",
              " 'who did': 229227,\n",
              " 'did xxmaj': 70747,\n",
              " 'xxmaj big': 236729,\n",
              " 'big xxmaj': 51749,\n",
              " 'xxunk ?': 248977,\n",
              " 'xxmaj must': 242520,\n",
              " 'must be': 140424,\n",
              " 'be a': 47461,\n",
              " 'a replay': 24650,\n",
              " 'replay of': 169619,\n",
              " 'of xxmaj': 150914,\n",
              " 'xxmaj jonestown': 241145,\n",
              " 'jonestown -': 121179,\n",
              " '- hollywood': 15343,\n",
              " 'hollywood style': 105260,\n",
              " 'style .': 187622,\n",
              " 'xxbos xxmaj un': 235550,\n",
              " 'xxmaj un -': 246391,\n",
              " 'un - xxunk': 217522,\n",
              " '- xxunk -': 16432,\n",
              " 'xxunk - believable': 248717,\n",
              " '- believable !': 14853,\n",
              " 'believable ! xxmaj': 50426,\n",
              " '! xxmaj meg': 814,\n",
              " 'xxmaj meg xxmaj': 242193,\n",
              " 'meg xxmaj ryan': 134449,\n",
              " 'xxmaj ryan does': 244150,\n",
              " \"ryan does n't\": 171970,\n",
              " \"does n't even\": 72772,\n",
              " \"n't even look\": 141540,\n",
              " 'even look her': 78527,\n",
              " 'look her usual': 129099,\n",
              " 'her usual xxunk': 102326,\n",
              " 'usual xxunk lovable': 219443,\n",
              " 'xxunk lovable self': 252449,\n",
              " 'lovable self in': 129876,\n",
              " 'self in this': 175897,\n",
              " 'in this ,': 111786,\n",
              " 'this , which': 206671,\n",
              " ', which normally': 13846,\n",
              " 'which normally makes': 228478,\n",
              " 'normally makes me': 145190,\n",
              " 'makes me forgive': 131633,\n",
              " 'me forgive her': 133786,\n",
              " 'forgive her shallow': 88668,\n",
              " 'her shallow xxunk': 102231,\n",
              " 'shallow xxunk acting': 177181,\n",
              " 'xxunk acting xxunk': 249131,\n",
              " 'acting xxunk .': 27929,\n",
              " 'xxunk . xxmaj': 248841,\n",
              " '. xxmaj hard': 17671,\n",
              " 'xxmaj hard to': 239912,\n",
              " 'hard to believe': 97922,\n",
              " 'to believe she': 210911,\n",
              " 'believe she was': 50531,\n",
              " 'she was the': 177790,\n",
              " 'was the producer': 223732,\n",
              " 'the producer on': 199547,\n",
              " 'producer on this': 164501,\n",
              " 'on this dog': 153101,\n",
              " 'this dog .': 206966,\n",
              " 'dog . xxmaj': 72933,\n",
              " '. xxmaj plus': 17915,\n",
              " 'xxmaj plus xxmaj': 243524,\n",
              " 'plus xxmaj kevin': 162155,\n",
              " 'xxmaj kevin xxmaj': 241346,\n",
              " 'kevin xxmaj kline': 122615,\n",
              " 'xxmaj kline :': 241442,\n",
              " 'kline : what': 123472,\n",
              " ': what kind': 20594,\n",
              " 'what kind of': 227116,\n",
              " 'kind of suicide': 123307,\n",
              " 'of suicide trip': 149881,\n",
              " 'suicide trip has': 188383,\n",
              " 'trip has his': 215827,\n",
              " 'has his career': 98399,\n",
              " 'his career been': 103712,\n",
              " 'career been on': 58712,\n",
              " 'been on ?': 49450,\n",
              " 'on ? xxmaj': 152374,\n",
              " '? xxmaj xxunk': 21214,\n",
              " 'xxmaj xxunk ...': 247330,\n",
              " 'xxunk ... xxmaj': 248872,\n",
              " '... xxmaj xxunk': 18665,\n",
              " 'xxmaj xxunk !': 247317,\n",
              " 'xxunk ! !': 247966,\n",
              " '! ! !': 610,\n",
              " '! ! xxmaj': 615,\n",
              " '! xxmaj finally': 794,\n",
              " 'xxmaj finally this': 239066,\n",
              " 'finally this was': 85435,\n",
              " 'this was directed': 208177,\n",
              " 'was directed by': 222772,\n",
              " 'directed by the': 71230,\n",
              " 'by the guy': 57021,\n",
              " 'the guy who': 197088,\n",
              " 'guy who did': 96509,\n",
              " 'who did xxmaj': 229230,\n",
              " 'did xxmaj big': 70749,\n",
              " 'xxmaj big xxmaj': 236734,\n",
              " 'big xxmaj xxunk': 51756,\n",
              " 'xxmaj xxunk ?': 247344,\n",
              " 'xxunk ? xxmaj': 248988,\n",
              " '? xxmaj must': 21166,\n",
              " 'xxmaj must be': 242521,\n",
              " 'must be a': 140426,\n",
              " 'be a replay': 47506,\n",
              " 'a replay of': 24651,\n",
              " 'replay of xxmaj': 169621,\n",
              " 'of xxmaj jonestown': 151057,\n",
              " 'xxmaj jonestown -': 241146,\n",
              " 'jonestown - hollywood': 121180,\n",
              " '- hollywood style': 15344,\n",
              " 'hollywood style .': 105261,\n",
              " 'style . xxmaj': 187623,\n",
              " '. xxmaj xxunk': 18192,\n",
              " 'is': 114370,\n",
              " 'extremely': 80765,\n",
              " 'well': 225723,\n",
              " 'made': 130648,\n",
              " 'film': 83824,\n",
              " 'script': 174281,\n",
              " 'and': 33950,\n",
              " 'camera': 57725,\n",
              " 'work': 233490,\n",
              " 'are': 41016,\n",
              " 'all': 30465,\n",
              " 'first': 85894,\n",
              " 'rate': 166614,\n",
              " 'music': 140245,\n",
              " 'good': 94149,\n",
              " 'too': 214414,\n",
              " 'though': 208617,\n",
              " 'it': 117555,\n",
              " 'mostly': 137848,\n",
              " 'early': 74983,\n",
              " 'when': 227464,\n",
              " 'things': 206082,\n",
              " 'still': 185855,\n",
              " 'relatively': 168966,\n",
              " 'there': 204257,\n",
              " 'no': 144367,\n",
              " 'really': 167513,\n",
              " 'cast': 59079,\n",
              " 'several': 176866,\n",
              " 'faces': 81051,\n",
              " 'will': 230384,\n",
              " 'familiar': 81630,\n",
              " 'entire': 77481,\n",
              " 'an': 33091,\n",
              " 'excellent': 79800,\n",
              " 'job': 120751,\n",
              " 'with': 231177,\n",
              " '\\n \\n ': 0,\n",
              " 'but': 55220,\n",
              " 'watch': 224119,\n",
              " 'because': 48814,\n",
              " 'end': 76336,\n",
              " 'situation': 180245,\n",
              " 'like': 126906,\n",
              " 'one': 153402,\n",
              " 'presented': 163556,\n",
              " 'now': 146738,\n",
              " 'blame': 52349,\n",
              " 'british': 54346,\n",
              " 'for': 87094,\n",
              " 'setting': 176791,\n",
              " 'hindus': 103474,\n",
              " 'muslims': 140400,\n",
              " 'against': 29865,\n",
              " 'each': 74787,\n",
              " 'other': 156106,\n",
              " 'then': 203879,\n",
              " 'them': 203450,\n",
              " 'into': 113688,\n",
              " 'two': 216854,\n",
              " 'countries': 66010,\n",
              " 'some': 182074,\n",
              " 'merit': 134930,\n",
              " 'view': 220880,\n",
              " \"'s\": 4212,\n",
              " 'also': 31793,\n",
              " 'true': 215929,\n",
              " 'that': 191523,\n",
              " 'forced': 88468,\n",
              " 'region': 168794,\n",
              " 'as': 42802,\n",
              " 'they': 204945,\n",
              " 'around': 42444,\n",
              " 'time': 209688,\n",
              " 'partition': 158802,\n",
              " 'seems': 175466,\n",
              " 'more': 136839,\n",
              " 'likely': 127640,\n",
              " 'simply': 179658,\n",
              " 'saw': 172791,\n",
              " 'between': 51332,\n",
              " 'were': 226129,\n",
              " 'clever': 62388,\n",
              " 'enough': 77134,\n",
              " 'exploit': 80556,\n",
              " 'their': 202837,\n",
              " 'own': 157765,\n",
              " 'ends': 76694,\n",
              " 'result': 169920,\n",
              " 'much': 139721,\n",
              " 'cruelty': 67242,\n",
              " 'inhumanity': 112823,\n",
              " 'very': 220005,\n",
              " 'unpleasant': 218256,\n",
              " 'remember': 169288,\n",
              " 'see': 174821,\n",
              " 'screen': 174082,\n",
              " 'never': 143357,\n",
              " 'painted': 158229,\n",
              " 'black': 52198,\n",
              " 'white': 228944,\n",
              " 'case': 58974,\n",
              " 'both': 53379,\n",
              " 'sides': 179382,\n",
              " 'hope': 105516,\n",
              " 'change': 59922,\n",
              " 'younger': 259674,\n",
              " 'generation': 91759,\n",
              " 'redemption': 168588,\n",
              " 'sort': 183603,\n",
              " 'make': 131234,\n",
              " 'choice': 61341,\n",
              " 'man': 131950,\n",
              " 'ruined': 171649,\n",
              " 'life': 126521,\n",
              " 'truly': 216072,\n",
              " 'loved': 130086,\n",
              " 'family': 81661,\n",
              " 'later': 124772,\n",
              " 'come': 63101,\n",
              " 'looking': 129231,\n",
              " 'point': 162188,\n",
              " 'without': 232560,\n",
              " 'great': 95358,\n",
              " 'pain': 158133,\n",
              " 'carries': 58858,\n",
              " 'message': 134993,\n",
              " 'have': 98829,\n",
              " 'grave': 95324,\n",
              " 'can': 57891,\n",
              " 'caring': 58771,\n",
              " 'people': 159381,\n",
              " 'reality': 167414,\n",
              " 'wrenching': 234807,\n",
              " 'since': 179828,\n",
              " 'real': 167125,\n",
              " 'across': 27570,\n",
              " 'india': 112487,\n",
              " '/': 18689,\n",
              " 'pakistan': 158278,\n",
              " 'border': 53139,\n",
              " 'sense': 175986,\n",
              " 'similar': 179532,\n",
              " '\"': 886,\n",
              " 'mr': 139634,\n",
              " '&': 2765,\n",
              " 'we': 225009,\n",
              " 'glad': 93385,\n",
              " 'seen': 175593,\n",
              " 'resolution': 169768,\n",
              " 'if': 109095,\n",
              " 'xxup': 256428,\n",
              " 'uk': 217435,\n",
              " 'us': 218996,\n",
              " 'could': 65633,\n",
              " 'deal': 68605,\n",
              " 'racism': 166231,\n",
              " 'would': 234309,\n",
              " 'certainly': 59726,\n",
              " 'better': 51088,\n",
              " 'off': 151364,\n",
              " 'xxmaj this': 245970,\n",
              " 'this is': 207322,\n",
              " 'is a': 114458,\n",
              " 'a extremely': 22464,\n",
              " 'extremely well': 80818,\n",
              " 'well -': 225768,\n",
              " '- made': 15552,\n",
              " 'made film': 130757,\n",
              " 'film .': 83980,\n",
              " 'xxmaj the': 245403,\n",
              " 'the acting': 194054,\n",
              " 'acting ,': 27703,\n",
              " ', script': 12378,\n",
              " 'script and': 174311,\n",
              " 'and camera': 34624,\n",
              " 'camera -': 57736,\n",
              " '- work': 16328,\n",
              " 'work are': 233525,\n",
              " 'are all': 41099,\n",
              " 'all first': 30710,\n",
              " 'first -': 85916,\n",
              " '- rate': 15853,\n",
              " 'rate .': 166619,\n",
              " 'the music': 198553,\n",
              " 'music is': 140309,\n",
              " 'is good': 115455,\n",
              " 'good ,': 94168,\n",
              " ', too': 13455,\n",
              " 'too ,': 214417,\n",
              " ', though': 13368,\n",
              " 'though it': 208712,\n",
              " 'it is': 118575,\n",
              " 'is mostly': 115893,\n",
              " 'mostly early': 137875,\n",
              " 'early in': 75027,\n",
              " 'in the': 111411,\n",
              " 'the film': 196377,\n",
              " 'film ,': 83899,\n",
              " ', when': 13761,\n",
              " 'when things': 227784,\n",
              " 'things are': 206112,\n",
              " 'are still': 41994,\n",
              " 'still relatively': 186044,\n",
              " 'relatively xxunk': 168977,\n",
              " 'xxmaj there': 245862,\n",
              " 'there are': 204340,\n",
              " 'are no': 41694,\n",
              " 'no really': 144755,\n",
              " 'really xxunk': 168052,\n",
              " 'xxunk in': 251861,\n",
              " 'the cast': 194873,\n",
              " 'cast ,': 59088,\n",
              " 'though several': 208732,\n",
              " 'several faces': 176875,\n",
              " 'faces will': 81067,\n",
              " 'will be': 230419,\n",
              " 'be familiar': 47781,\n",
              " 'familiar .': 81634,\n",
              " 'the entire': 196057,\n",
              " 'entire cast': 77486,\n",
              " 'cast does': 59138,\n",
              " 'does an': 72655,\n",
              " 'an excellent': 33470,\n",
              " 'excellent job': 79845,\n",
              " 'job with': 120825,\n",
              " 'with the': 232084,\n",
              " 'the script': 200178,\n",
              " 'script .': 174303,\n",
              " '. \\n \\n ': 16841,\n",
              " '\\n \\n  xxmaj': 201,\n",
              " 'xxmaj but': 237133,\n",
              " 'but it': 55699,\n",
              " 'is hard': 115488,\n",
              " 'to watch': 213674,\n",
              " 'watch ,': 224125,\n",
              " ', because': 9679,\n",
              " 'because there': 48984,\n",
              " 'there is': 204448,\n",
              " 'is no': 116009,\n",
              " 'no good': 144555,\n",
              " 'good end': 94330,\n",
              " 'end to': 76477,\n",
              " 'to a': 210437,\n",
              " 'a situation': 25000,\n",
              " 'situation like': 180266,\n",
              " 'like the': 127326,\n",
              " 'the one': 198837,\n",
              " 'one presented': 153902,\n",
              " 'presented .': 163559,\n",
              " 'xxmaj it': 240734,\n",
              " 'is now': 116125,\n",
              " 'now xxunk': 146921,\n",
              " 'xxunk to': 254860,\n",
              " 'to blame': 210930,\n",
              " 'blame the': 52358,\n",
              " 'the xxmaj': 201954,\n",
              " 'xxmaj british': 237006,\n",
              " 'british for': 54367,\n",
              " 'for setting': 87893,\n",
              " 'setting xxmaj': 176817,\n",
              " 'xxmaj hindus': 240192,\n",
              " 'hindus and': 103475,\n",
              " 'and xxmaj': 38617,\n",
              " 'xxmaj muslims': 242515,\n",
              " 'muslims against': 140404,\n",
              " 'against each': 29878,\n",
              " 'each other': 74853,\n",
              " 'other ,': 156117,\n",
              " ', and': 9214,\n",
              " 'and then': 37930,\n",
              " 'then xxunk': 204215,\n",
              " 'xxunk xxunk': 256120,\n",
              " 'xxunk them': 254699,\n",
              " 'them into': 203608,\n",
              " 'into two': 114009,\n",
              " 'two countries': 216926,\n",
              " 'countries .': 66011,\n",
              " 'is some': 116653,\n",
              " 'some merit': 182384,\n",
              " 'merit in': 134933,\n",
              " 'this view': 208157,\n",
              " 'view ,': 220885,\n",
              " ', but': 9820,\n",
              " \"it 's\": 117592,\n",
              " \"'s also\": 4422,\n",
              " 'also true': 32187,\n",
              " 'true that': 216029,\n",
              " 'that no': 192778,\n",
              " 'no one': 144678,\n",
              " 'one forced': 153661,\n",
              " 'forced xxmaj': 88500,\n",
              " 'muslims in': 140408,\n",
              " 'the region': 199767,\n",
              " 'region to': 168799,\n",
              " 'to xxunk': 213913,\n",
              " 'xxunk each': 250843,\n",
              " 'other as': 156157,\n",
              " 'as they': 43781,\n",
              " 'they did': 205229,\n",
              " 'did around': 70509,\n",
              " 'around the': 42548,\n",
              " 'the time': 201146,\n",
              " 'time of': 209916,\n",
              " 'of partition': 149428,\n",
              " 'partition .': 158803,\n",
              " 'it seems': 119094,\n",
              " 'seems more': 175513,\n",
              " 'more likely': 137149,\n",
              " 'likely that': 127645,\n",
              " 'that the': 193163,\n",
              " 'british simply': 54375,\n",
              " 'simply saw': 179769,\n",
              " 'saw the': 172848,\n",
              " 'the xxunk': 202335,\n",
              " 'xxunk between': 250016,\n",
              " 'between the': 51409,\n",
              " 'xxunk and': 249296,\n",
              " 'and were': 38447,\n",
              " 'were clever': 226245,\n",
              " 'clever enough': 62408,\n",
              " 'enough to': 77235,\n",
              " 'to exploit': 211454,\n",
              " 'exploit them': 80559,\n",
              " 'them to': 203686,\n",
              " 'to their': 213482,\n",
              " 'their own': 203203,\n",
              " 'own ends': 157828,\n",
              " 'ends .': 76699,\n",
              " 'the result': 199843,\n",
              " 'result is': 169929,\n",
              " 'is that': 116800,\n",
              " 'that there': 193282,\n",
              " 'is much': 115904,\n",
              " 'much cruelty': 139813,\n",
              " 'cruelty and': 67245,\n",
              " 'and inhumanity': 35999,\n",
              " 'inhumanity in': 112826,\n",
              " 'the situation': 200468,\n",
              " 'situation and': 180254,\n",
              " 'and this': 38040,\n",
              " 'is very': 117141,\n",
              " 'very unpleasant': 220516,\n",
              " 'unpleasant to': 218263,\n",
              " 'to remember': 212703,\n",
              " 'remember and': 169301,\n",
              " 'and to': 38115,\n",
              " 'to see': 212861,\n",
              " 'see on': 175047,\n",
              " 'on the': 152907,\n",
              " 'the screen': 200143,\n",
              " 'screen .': 174098,\n",
              " 'is never': 115995,\n",
              " 'never painted': 143572,\n",
              " 'painted as': 158234,\n",
              " 'as a': 42827,\n",
              " 'a black': 21630,\n",
              " 'black -': 52207,\n",
              " '- and': 14764,\n",
              " 'and -': 34000,\n",
              " '- white': 16295,\n",
              " 'white case': 228959,\n",
              " 'case .': 58991,\n",
              " 'is xxunk': 117369,\n",
              " 'and xxunk': 38892,\n",
              " 'xxunk on': 253082,\n",
              " 'on both': 152522,\n",
              " 'both sides': 53506,\n",
              " 'sides ,': 179383,\n",
              " 'and also': 34252,\n",
              " 'also the': 32158,\n",
              " 'the hope': 197248,\n",
              " 'hope for': 105534,\n",
              " 'for change': 87363,\n",
              " 'change in': 59939,\n",
              " 'the younger': 202756,\n",
              " 'younger generation': 259681,\n",
              " 'generation .': 91765,\n",
              " 'is redemption': 116420,\n",
              " 'redemption of': 168595,\n",
              " 'of a': 147614,\n",
              " 'a sort': 25103,\n",
              " 'sort ,': 183604,\n",
              " ', in': 11124,\n",
              " 'the end': 195979,\n",
              " 'end ,': 76343,\n",
              " 'when xxmaj': 227808,\n",
              " 'xxunk has': 251521,\n",
              " 'has to': 98638,\n",
              " 'to make': 212196,\n",
              " 'make a': 131245,\n",
              " 'a hard': 23141,\n",
              " 'hard choice': 97885,\n",
              " 'choice between': 61349,\n",
              " 'between a': 51345,\n",
              " 'a man': 23689,\n",
              " 'man who': 132154,\n",
              " 'who has': 229332,\n",
              " 'has ruined': 98561,\n",
              " 'ruined her': 171657,\n",
              " 'her life': 102064,\n",
              " 'life ,': 126538,\n",
              " 'but also': 55302,\n",
              " 'also truly': 32189,\n",
              " 'truly loved': 216117,\n",
              " 'loved her': 130095,\n",
              " 'her ,': 101696,\n",
              " 'and her': 35716,\n",
              " 'her family': 101936,\n",
              " 'family which': 81808,\n",
              " 'which has': 228326,\n",
              " 'has xxunk': 98684,\n",
              " 'xxunk her': 251592,\n",
              " ', then': 13177,\n",
              " 'then later': 204079,\n",
              " 'later come': 124814,\n",
              " 'come looking': 63162,\n",
              " 'looking for': 129264,\n",
              " 'for her': 87500,\n",
              " 'her .': 101714,\n",
              " 'but by': 55374,\n",
              " 'by that': 56976,\n",
              " 'that point': 192900,\n",
              " 'point ,': 162191,\n",
              " ', she': 12449,\n",
              " 'she has': 177511,\n",
              " 'has no': 98486,\n",
              " 'no xxunk': 144884,\n",
              " 'xxunk that': 254379,\n",
              " 'that is': 192442,\n",
              " 'is without': 117274,\n",
              " 'without great': 232637,\n",
              " 'great pain': 95595,\n",
              " 'pain for': 158149,\n",
              " 'this film': 207032,\n",
              " 'film carries': 84147,\n",
              " 'carries the': 58862,\n",
              " 'the message': 198165,\n",
              " 'message that': 135030,\n",
              " 'that both': 191869,\n",
              " 'both xxmaj': 53542,\n",
              " 'muslims and': 140406,\n",
              " 'hindus have': 103477,\n",
              " 'have their': 99561,\n",
              " 'their grave': 203070,\n",
              " 'grave xxunk': 95339,\n",
              " 'xxunk ,': 248406,\n",
              " 'also that': 32155,\n",
              " 'both can': 53410,\n",
              " 'can be': 57942,\n",
              " 'be xxunk': 48419,\n",
              " 'and caring': 34644,\n",
              " 'caring people': 58781,\n",
              " 'people .': 159417,\n",
              " 'the reality': 199713,\n",
              " 'reality of': 167441,\n",
              " 'partition makes': 158807,\n",
              " 'makes that': 131665,\n",
              " 'that xxunk': 193705,\n",
              " 'xxunk all': 249218,\n",
              " 'all the': 30994,\n",
              " 'the more': 198270,\n",
              " 'more wrenching': 137392,\n",
              " 'wrenching ,': 234808,\n",
              " ', since': 12532,\n",
              " 'since there': 179906,\n",
              " 'there can': 204413,\n",
              " 'can never': 58112,\n",
              " 'never be': 143379,\n",
              " 'be real': 48104,\n",
              " 'real xxunk': 167326,\n",
              " 'xxunk across': 249123,\n",
              " 'across the': 27590,\n",
              " 'xxmaj india': 240597,\n",
              " 'india /': 112494,\n",
              " '/ xxmaj': 18911,\n",
              " 'xxmaj pakistan': 243189,\n",
              " 'pakistan border': 158281,\n",
              " 'border .': 53142,\n",
              " 'xxmaj in': 240540,\n",
              " 'in that': 111380,\n",
              " 'that sense': 193023,\n",
              " 'sense ,': 175992,\n",
              " ', it': 11291,\n",
              " 'is similar': 116582,\n",
              " 'similar to': 179564,\n",
              " 'to \"': 210375,\n",
              " '\" xxmaj': 2329,\n",
              " 'xxmaj mr': 242467,\n",
              " 'mr &': 139635,\n",
              " '& xxmaj': 2904,\n",
              " 'xxunk xxmaj': 255674,\n",
              " 'xxunk \"': 247980,\n",
              " '\" .': 1005,\n",
              " ', we': 13682,\n",
              " 'we were': 225336,\n",
              " 'were glad': 226344,\n",
              " 'glad to': 93398,\n",
              " 'to have': 211740,\n",
              " 'have seen': 99436,\n",
              " 'seen the': 175781,\n",
              " ', even': 10430,\n",
              " 'even though': 78671,\n",
              " 'though the': 208743,\n",
              " 'the resolution': 199827,\n",
              " 'resolution was': 169784,\n",
              " 'was xxunk': 223949,\n",
              " 'xxmaj if': 240481,\n",
              " 'if the': 109293,\n",
              " 'the xxup': 202660,\n",
              " 'xxup uk': 257604,\n",
              " 'uk and': 217442,\n",
              " 'and xxup': 39051,\n",
              " 'xxup us': 257617,\n",
              " 'us could': 219048,\n",
              " 'could deal': 65719,\n",
              " 'deal with': 68624,\n",
              " 'with their': 232219,\n",
              " 'own xxunk': 157956,\n",
              " 'xxunk of': 252895,\n",
              " 'of racism': 149557,\n",
              " 'racism with': 166251,\n",
              " 'with this': 232251,\n",
              " 'this kind': 207424,\n",
              " 'of xxunk': 151180,\n",
              " ', they': 13236,\n",
              " 'they would': 205819,\n",
              " 'would certainly': 234416,\n",
              " 'certainly be': 59731,\n",
              " 'be better': 47632,\n",
              " 'better off': 51223,\n",
              " 'off .': 151384,\n",
              " 'xxbos xxmaj this': 235545,\n",
              " 'xxmaj this is': 246010,\n",
              " 'this is a': 207326,\n",
              " 'is a extremely': 114507,\n",
              " 'a extremely well': 22465,\n",
              " 'extremely well -': 80819,\n",
              " 'well - made': 225778,\n",
              " '- made film': 15554,\n",
              " 'made film .': 130759,\n",
              " 'film . xxmaj': 83987,\n",
              " '. xxmaj the': 18073,\n",
              " 'xxmaj the acting': 245413,\n",
              " 'the acting ,': 194056,\n",
              " 'acting , script': 27724,\n",
              " ', script and': 12379,\n",
              " 'script and camera': 174313,\n",
              " 'and camera -': 34625,\n",
              " 'camera - work': 57737,\n",
              " '- work are': 16330,\n",
              " 'work are all': 233526,\n",
              " 'are all first': 41105,\n",
              " 'all first -': 30711,\n",
              " 'first - rate': 85919,\n",
              " '- rate .': 15854,\n",
              " 'rate . xxmaj': 166620,\n",
              " 'xxmaj the music': 245642,\n",
              " 'the music is': 198562,\n",
              " 'music is good': 140312,\n",
              " 'is good ,': 115458,\n",
              " 'good , too': 94185,\n",
              " ', too ,': 13457,\n",
              " 'too , though': 214428,\n",
              " ', though it': 13382,\n",
              " 'though it is': 208716,\n",
              " 'it is mostly': 118645,\n",
              " 'is mostly early': 115898,\n",
              " 'mostly early in': 137876,\n",
              " 'early in the': 75028,\n",
              " 'in the film': 111529,\n",
              " 'the film ,': 196383,\n",
              " 'film , when': 83952,\n",
              " ', when things': 13782,\n",
              " 'when things are': 227785,\n",
              " 'things are still': 206116,\n",
              " 'are still relatively': 41997,\n",
              " 'still relatively xxunk': 186045,\n",
              " 'relatively xxunk .': 168978,\n",
              " '. xxmaj there': 18076,\n",
              " 'xxmaj there are': 245867,\n",
              " 'there are no': 204374,\n",
              " 'are no really': 41705,\n",
              " 'no really xxunk': 144756,\n",
              " 'really xxunk in': 168058,\n",
              " 'xxunk in the': 251933,\n",
              " 'in the cast': 111468,\n",
              " 'the cast ,': 194874,\n",
              " 'cast , though': 59100,\n",
              " ', though several': 13387,\n",
              " 'though several faces': 208733,\n",
              " 'several faces will': 176876,\n",
              " 'faces will be': 81068,\n",
              " 'will be familiar': 230435,\n",
              " 'be familiar .': 47782,\n",
              " 'familiar . xxmaj': 81635,\n",
              " 'xxmaj the entire': 245516,\n",
              " 'the entire cast': 196060,\n",
              " 'entire cast does': 77488,\n",
              " 'cast does an': 59139,\n",
              " 'does an excellent': 72656,\n",
              " 'an excellent job': 33475,\n",
              " 'excellent job with': 79848,\n",
              " 'job with the': 120826,\n",
              " 'with the script': 232196,\n",
              " 'the script .': 200182,\n",
              " 'script . \\n \\n ': 174304,\n",
              " '. \\n \\n  xxmaj': 16875,\n",
              " '\\n \\n  xxmaj but': 256,\n",
              " 'xxmaj but it': 237165,\n",
              " 'but it is': 55716,\n",
              " 'it is hard': 118629,\n",
              " 'is hard to': 115490,\n",
              " 'hard to watch': 97940,\n",
              " 'to watch ,': 213677,\n",
              " 'watch , because': 224126,\n",
              " ', because there': 9692,\n",
              " 'because there is': 48987,\n",
              " 'there is no': 204474,\n",
              " 'is no good': 116018,\n",
              " 'no good end': 144558,\n",
              " 'good end to': 94332,\n",
              " 'end to a': 76478,\n",
              " 'to a situation': 210491,\n",
              " 'a situation like': 25002,\n",
              " 'situation like the': 180267,\n",
              " 'like the one': 127352,\n",
              " 'the one presented': 198852,\n",
              " 'one presented .': 153903,\n",
              " 'presented . xxmaj': 163560,\n",
              " '. xxmaj it': 17718,\n",
              " 'xxmaj it is': 240776,\n",
              " 'it is now': 118654,\n",
              " 'is now xxunk': 116131,\n",
              " 'now xxunk to': 146925,\n",
              " 'xxunk to blame': 254887,\n",
              " 'to blame the': 210932,\n",
              " 'blame the xxmaj': 52361,\n",
              " 'the xxmaj british': 201990,\n",
              " 'xxmaj british for': 237016,\n",
              " 'british for setting': 54368,\n",
              " 'for setting xxmaj': 87894,\n",
              " 'setting xxmaj hindus': 176818,\n",
              " 'xxmaj hindus and': 240193,\n",
              " 'hindus and xxmaj': 103476,\n",
              " 'and xxmaj muslims': 38800,\n",
              " 'xxmaj muslims against': 242517,\n",
              " 'muslims against each': 140405,\n",
              " 'against each other': 29879,\n",
              " 'each other ,': 74855,\n",
              " 'other , and': 156118,\n",
              " ', and then': 9445,\n",
              " 'and then xxunk': 37971,\n",
              " 'then xxunk xxunk': 204226,\n",
              " 'xxunk xxunk them': 256268,\n",
              " 'xxunk them into': 254705,\n",
              " 'them into two': 203611,\n",
              " 'into two countries': 114010,\n",
              " 'two countries .': 216927,\n",
              " 'countries . xxmaj': 66012,\n",
              " 'xxmaj there is': 245870,\n",
              " 'there is some': 204485,\n",
              " 'is some merit': 116657,\n",
              " 'some merit in': 182385,\n",
              " 'merit in this': 134934,\n",
              " 'in this view': 111839,\n",
              " 'this view ,': 208158,\n",
              " 'view , but': 220887,\n",
              " ', but it': 9894,\n",
              " \"but it 's\": 55700,\n",
              " \"it 's also\": 117604,\n",
              " \"'s also true\": 4430,\n",
              " 'also true that': 32188,\n",
              " 'true that no': 216030,\n",
              " 'that no one': 192783,\n",
              " 'no one forced': 144686,\n",
              " 'one forced xxmaj': 153662,\n",
              " 'forced xxmaj hindus': 88501,\n",
              " 'xxmaj muslims in': 242519,\n",
              " 'muslims in the': 140409,\n",
              " 'in the region': 111638,\n",
              " 'the region to': 199768,\n",
              " 'region to xxunk': 168800,\n",
              " 'to xxunk each': 213944,\n",
              " 'xxunk each other': 250847,\n",
              " 'each other as': 74862,\n",
              " 'other as they': 156158,\n",
              " 'as they did': 43787,\n",
              " 'they did around': 205232,\n",
              " 'did around the': 70510,\n",
              " 'around the time': 42559,\n",
              " 'the time of': 201158,\n",
              " 'time of partition': 209918,\n",
              " 'of partition .': 149429,\n",
              " 'partition . xxmaj': 158804,\n",
              " 'xxmaj it seems': 240808,\n",
              " 'it seems more': 119102,\n",
              " 'seems more likely': 175514,\n",
              " 'more likely that': 137151,\n",
              " 'likely that the': 127646,\n",
              " 'that the xxmaj': 193272,\n",
              " 'xxmaj british simply': 237020,\n",
              " 'british simply saw': 54376,\n",
              " 'simply saw the': 179770,\n",
              " 'saw the xxunk': 172857,\n",
              " 'the xxunk between': 202381,\n",
              " 'xxunk between the': 250027,\n",
              " 'between the xxunk': 51435,\n",
              " 'the xxunk and': 202365,\n",
              " 'xxunk and were': 249590,\n",
              " 'and were clever': 38448,\n",
              " 'were clever enough': 226246,\n",
              " 'clever enough to': 62409,\n",
              " 'enough to exploit': 77241,\n",
              " 'to exploit them': 211456,\n",
              " 'exploit them to': 80560,\n",
              " 'them to their': 203698,\n",
              " 'to their own': 213492,\n",
              " 'their own ends': 203210,\n",
              " 'own ends .': 157829,\n",
              " 'ends . \\n \\n ': 76700,\n",
              " '\\n \\n  xxmaj the': 500,\n",
              " 'xxmaj the result': 245710,\n",
              " 'the result is': 199844,\n",
              " 'result is that': 169933,\n",
              " 'is that there': 116831,\n",
              " 'that there is': 193285,\n",
              " 'there is much': 204470,\n",
              " 'is much cruelty': 115906,\n",
              " 'much cruelty and': 139814,\n",
              " 'cruelty and inhumanity': 67246,\n",
              " 'and inhumanity in': 36001,\n",
              " 'inhumanity in the': 112827,\n",
              " 'in the situation': 111671,\n",
              " 'the situation and': 200472,\n",
              " 'situation and this': 180255,\n",
              " 'and this is': 38049,\n",
              " 'this is very': 207397,\n",
              " 'is very unpleasant': 117176,\n",
              " 'very unpleasant to': 220517,\n",
              " 'unpleasant to remember': 218264,\n",
              " ...}"
            ]
          },
          "metadata": {
            "tags": []
          },
          "execution_count": 269
        }
      ]
    },
    {
      "cell_type": "code",
      "metadata": {
        "id": "YBOfzzQ4Pda7"
      },
      "source": [
        "val_ngram_doc = veczr.transform(valid_words)"
      ],
      "execution_count": 270,
      "outputs": []
    },
    {
      "cell_type": "code",
      "metadata": {
        "colab": {
          "base_uri": "https://localhost:8080/"
        },
        "id": "N9nVpUMiPda8",
        "outputId": "6e9a4bc9-243e-454e-acf5-204624688142"
      },
      "source": [
        "val_ngram_doc"
      ],
      "execution_count": 271,
      "outputs": [
        {
          "output_type": "execute_result",
          "data": {
            "text/plain": [
              "<200x260381 sparse matrix of type '<class 'numpy.int64'>'\n",
              "\twith 93552 stored elements in Compressed Sparse Row format>"
            ]
          },
          "metadata": {
            "tags": []
          },
          "execution_count": 271
        }
      ]
    },
    {
      "cell_type": "code",
      "metadata": {
        "id": "uqvAkjUNPdbG"
      },
      "source": [
        "vocab = veczr.get_feature_names()"
      ],
      "execution_count": 272,
      "outputs": []
    },
    {
      "cell_type": "code",
      "metadata": {
        "colab": {
          "base_uri": "https://localhost:8080/"
        },
        "id": "sbE4HwTQPdbI",
        "outputId": "9493bbb8-f409-45c5-8a99-597e0f6e7b8f"
      },
      "source": [
        "vocab[200000:200005]"
      ],
      "execution_count": 273,
      "outputs": [
        {
          "output_type": "execute_result",
          "data": {
            "text/plain": [
              "['the same can',\n",
              " 'the same car',\n",
              " 'the same castle',\n",
              " 'the same cat',\n",
              " 'the same characters']"
            ]
          },
          "metadata": {
            "tags": []
          },
          "execution_count": 273
        }
      ]
    },
    {
      "cell_type": "markdown",
      "metadata": {
        "id": "p1nOv7bgPdbI"
      },
      "source": [
        "#### Naive Bayes binarizado usando ngrams y CountVectorizer"
      ]
    },
    {
      "cell_type": "code",
      "metadata": {
        "id": "NMbXKSuJPdbJ"
      },
      "source": [
        "y=movie_reviews.train.y"
      ],
      "execution_count": 274,
      "outputs": []
    },
    {
      "cell_type": "markdown",
      "metadata": {
        "id": "mP0m8RhOPdbK"
      },
      "source": [
        "C es la inversa de la fuerza de regularización; los valores más pequeños especifican una regularización más fuerte. Regularizado:"
      ]
    },
    {
      "cell_type": "code",
      "metadata": {
        "colab": {
          "base_uri": "https://localhost:8080/"
        },
        "id": "TkKdUGp4PdbK",
        "outputId": "86932623-128c-40f3-9fb4-389f59282312"
      },
      "source": [
        "m = LogisticRegression(C=0.1, solver=\"liblinear\", dual=True)\n",
        "m.fit(train_ngram_doc.sign(), y.items);\n",
        "\n",
        "preds = m.predict(val_ngram_doc.sign())\n",
        "(preds.T==valid_labels).mean()"
      ],
      "execution_count": 275,
      "outputs": [
        {
          "output_type": "execute_result",
          "data": {
            "text/plain": [
              "0.83"
            ]
          },
          "metadata": {
            "tags": []
          },
          "execution_count": 275
        }
      ]
    },
    {
      "cell_type": "markdown",
      "metadata": {
        "id": "PAo7mbJkPdbM"
      },
      "source": [
        "No binarizado:"
      ]
    },
    {
      "cell_type": "code",
      "metadata": {
        "colab": {
          "base_uri": "https://localhost:8080/"
        },
        "id": "TAA2fzTHPdbM",
        "outputId": "dd46b93e-fdf2-4e68-fade-499ff8f8b2db"
      },
      "source": [
        "m = LogisticRegression(C=0.1, solver=\"liblinear\",dual=True)\n",
        "m.fit(train_ngram_doc, y.items);\n",
        "\n",
        "preds = m.predict(val_ngram_doc)\n",
        "(preds.T==valid_labels).mean()"
      ],
      "execution_count": 276,
      "outputs": [
        {
          "output_type": "stream",
          "text": [
            "/usr/local/lib/python3.7/dist-packages/sklearn/svm/_base.py:947: ConvergenceWarning: Liblinear failed to converge, increase the number of iterations.\n",
            "  \"the number of iterations.\", ConvergenceWarning)\n"
          ],
          "name": "stderr"
        },
        {
          "output_type": "execute_result",
          "data": {
            "text/plain": [
              "0.78"
            ]
          },
          "metadata": {
            "tags": []
          },
          "execution_count": 276
        }
      ]
    },
    {
      "cell_type": "markdown",
      "metadata": {
        "id": "yMWWkN0jPdbN"
      },
      "source": [
        "### Usando los ngrams, binarizado:"
      ]
    },
    {
      "cell_type": "code",
      "metadata": {
        "colab": {
          "base_uri": "https://localhost:8080/"
        },
        "id": "7Z7Ub0H6PdbN",
        "outputId": "241f9c8a-4a7c-4fad-84fd-b24d37d15c9b"
      },
      "source": [
        "m2 = LogisticRegression(C=0.1, solver=\"liblinear\", dual=True)\n",
        "m2.fit(trn_x_ngram_sgn, y.items)"
      ],
      "execution_count": 277,
      "outputs": [
        {
          "output_type": "execute_result",
          "data": {
            "text/plain": [
              "LogisticRegression(C=0.1, class_weight=None, dual=True, fit_intercept=True,\n",
              "                   intercept_scaling=1, l1_ratio=None, max_iter=100,\n",
              "                   multi_class='auto', n_jobs=None, penalty='l2',\n",
              "                   random_state=None, solver='liblinear', tol=0.0001, verbose=0,\n",
              "                   warm_start=False)"
            ]
          },
          "metadata": {
            "tags": []
          },
          "execution_count": 277
        }
      ]
    },
    {
      "cell_type": "code",
      "metadata": {
        "colab": {
          "base_uri": "https://localhost:8080/"
        },
        "id": "oXrKbLglPdbO",
        "outputId": "316dd50f-103e-4f73-90b2-a51b79276de1"
      },
      "source": [
        "preds = m2.predict(val_x_ngram_sgn)\n",
        "(preds.T==valid_labels).mean()"
      ],
      "execution_count": 278,
      "outputs": [
        {
          "output_type": "execute_result",
          "data": {
            "text/plain": [
              "0.83"
            ]
          },
          "metadata": {
            "tags": []
          },
          "execution_count": 278
        }
      ]
    },
    {
      "cell_type": "markdown",
      "metadata": {
        "id": "DMnX4o8dPdbc"
      },
      "source": [
        "## References"
      ]
    },
    {
      "cell_type": "markdown",
      "metadata": {
        "id": "l4hfGlH_Pdbc"
      },
      "source": [
        "* Baselines and Bigrams: Simple, Good Sentiment and Topic Classification. Sida Wang and Christopher D. Manning [pdf](https://www.aclweb.org/anthology/P12-2018)"
      ]
    }
  ]
}