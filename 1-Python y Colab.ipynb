{
  "nbformat": 4,
  "nbformat_minor": 0,
  "metadata": {
    "kernelspec": {
      "display_name": "Python 3",
      "language": "python",
      "name": "python3"
    },
    "language_info": {
      "codemirror_mode": {
        "name": "ipython",
        "version": 3
      },
      "file_extension": ".py",
      "mimetype": "text/x-python",
      "name": "python",
      "nbconvert_exporter": "python",
      "pygments_lexer": "ipython3",
      "version": "3.7.3"
    },
    "colab": {
      "name": "1-Python y Colab.ipynb",
      "provenance": [],
      "include_colab_link": true
    }
  },
  "cells": [
    {
      "cell_type": "markdown",
      "metadata": {
        "id": "view-in-github",
        "colab_type": "text"
      },
      "source": [
        "<a href=\"https://colab.research.google.com/github/gabiacuna/KL2021/blob/main/1-Python%20y%20Colab.ipynb\" target=\"_parent\"><img src=\"https://colab.research.google.com/assets/colab-badge.svg\" alt=\"Open In Colab\"/></a>"
      ]
    },
    {
      "cell_type": "markdown",
      "metadata": {
        "id": "JYxIlC9qjqu9"
      },
      "source": [
        "# Introducción a Colab, Python y Herramientas de Trabajo\n"
      ]
    },
    {
      "cell_type": "markdown",
      "metadata": {
        "id": "MNNdqVD0jqu_"
      },
      "source": [
        "Python es un lenguaje poderoso y fácil de aprender. Posee estructuras de datos de alto nivel y una enfoque simple de orientación a objetos.\n",
        "\n",
        "Python permite dividir los programas en módulos que pueden ser reutilizados por otros programas. Adicionalmente, viene con una gran colección de módulos propios para realizar tareas de entrada y salida, llamadas al sistema, sockets, interfaces gráficas, etc.\n",
        "\n",
        "Python es un lenguaje interpretado. Esto quiere decir que para ejecutar un programa en este lenguaje se requiere la instalación de un intérprete. El intérprete puede ser usado interactivamente, lo cual hace fácil experimentar con características del lenguaje.\n"
      ]
    },
    {
      "cell_type": "markdown",
      "metadata": {
        "id": "BXCvm_lKjqvA"
      },
      "source": [
        "## Colaboratory (Colab)\n",
        "\n",
        "Es una herramienta web de Google que permite ejecutar código en python:\n",
        "\n",
        "- Sin realizar configuración adicional\n",
        "- Con acceso gratis a GPU\n",
        "- Es fácil de compartir\n",
        "\n",
        "Los códigos en colab se conocen como notebooks.\n"
      ]
    },
    {
      "cell_type": "markdown",
      "metadata": {
        "id": "fxWGtz_9jqvB"
      },
      "source": [
        "Para cargar este notebook se debe:\n",
        "\n",
        "1. Ingresar a https://colab.research.google.com/notebooks/intro.ipynb#recent=true\n",
        "\n",
        "![](https://raw.githubusercontent.com/arleserp/MinTIC2022/master/images/opennotebook.png \"Open Notebook\")"
      ]
    },
    {
      "cell_type": "markdown",
      "metadata": {
        "id": "xYdx546TjqvB"
      },
      "source": [
        "2. Seleccionar github e ingresar los datos como se muestra a continuación:\n",
        "\n",
        "\n",
        "\n",
        "![](https://raw.githubusercontent.com/arleserp/CCE2021/main/images/opennotebook.png \"Open Notebook\")"
      ]
    },
    {
      "cell_type": "markdown",
      "metadata": {
        "id": "JDs_as4BjqvC"
      },
      "source": [
        "Y listo!\n",
        "\n",
        "![](https://raw.githubusercontent.com/arleserp/CCE2021/main/images/opennotebook2.png \"Open Notebook2\")"
      ]
    },
    {
      "cell_type": "markdown",
      "metadata": {
        "id": "2IHfxh1ljqvC"
      },
      "source": [
        "En colab existen dos tipos de celda Texto y Código. Esta es una celda de texto."
      ]
    },
    {
      "cell_type": "code",
      "metadata": {
        "colab": {
          "base_uri": "https://localhost:8080/"
        },
        "id": "KeOy4Jo3jqvD",
        "outputId": "8649195a-662a-4e02-ae9d-e5ff06edd402"
      },
      "source": [
        "# esta es una celda de código\n",
        "x = \"amigos\"\n",
        "print(\"hola \" + x)"
      ],
      "execution_count": 1,
      "outputs": [
        {
          "output_type": "stream",
          "text": [
            "hola amigos\n"
          ],
          "name": "stdout"
        }
      ]
    },
    {
      "cell_type": "markdown",
      "metadata": {
        "id": "9eeTOgb-jqvF"
      },
      "source": [
        "Para ejecutar una celda se puede presionar el boton de play ó con el teclado escribir:\n",
        "\n",
        "- ```Command/Ctrl+Enter```: ejecuta y se mantiene en la celda.\n",
        "- ```shift+Enter```: ejecuta y pasa a la siguiente celda."
      ]
    },
    {
      "cell_type": "markdown",
      "metadata": {
        "id": "0CCfVT6-jqvF"
      },
      "source": [
        "En los campos de texto se puede usar algo de html:\n",
        "\n",
        "<table>\n",
        "    <tr>\n",
        "    <td>Nombre Estudiante</td><td>Nota</td>\n",
        "    </tr>\n",
        "    <tr>\n",
        "    <td>Mike Myers</td><td>4.5</td>\n",
        "    </tr>\n",
        "    <tr>\n",
        "    <td>Otm Shank</td><td>2.3</td>\n",
        "    </tr>\n",
        "</table>"
      ]
    },
    {
      "cell_type": "markdown",
      "metadata": {
        "id": "8HtyD995jqvG"
      },
      "source": [
        "ó incluso código en Latex:\n",
        "\n",
        "$\\sum_{i=1}^{n}{i^2}$"
      ]
    },
    {
      "cell_type": "markdown",
      "metadata": {
        "id": "u3glW9bHjqvG"
      },
      "source": [
        "El valor de una variable definida en una celda de código se puede usar en las celdas siguientes:"
      ]
    },
    {
      "cell_type": "code",
      "metadata": {
        "id": "Yl9CnP3QjqvG",
        "outputId": "dcae3e52-cd6e-4c9d-a993-3462fca54d2a"
      },
      "source": [
        "print(\"Eso es todo \" + x)"
      ],
      "execution_count": null,
      "outputs": [
        {
          "output_type": "stream",
          "text": [
            "Eso es todo amigos\n"
          ],
          "name": "stdout"
        }
      ]
    },
    {
      "cell_type": "markdown",
      "metadata": {
        "id": "Xs4pz3GFjqvG"
      },
      "source": [
        "## Resumen de algunas cosas útiles de python"
      ]
    },
    {
      "cell_type": "markdown",
      "metadata": {
        "id": "d8O7mG7sjqvH"
      },
      "source": [
        "### Identificadores y variables en python\n",
        "\n",
        "Un *identificador* es una secuencia de símbolos que se utilizan como nombres de variables, funciones, clases y otras estructuras de los lenguajes de programación.\n",
        "\n",
        "Los identificadores se escriben como secuencias de caracteres alfanuméricos del alfabeto inglés. En python se utiliza una notación conocida como snake_case (ó palabras en minúsculas separadas por guiones) para evitar utilizar espacios como por ejemplo: conteo_animales, nombre_usuario, velocidad, etc. Se recomienda utilizar únicamente letras del alfabeto inglés a la hora de usar identificadores."
      ]
    },
    {
      "cell_type": "markdown",
      "metadata": {
        "id": "vM2TT6wjjqvH"
      },
      "source": [
        "Son ejemplos de identificadores válidos:\n",
        "\n",
        "```\n",
        "i\n",
        "x\n",
        "suma\n",
        "sumando1\n",
        "sumando2\n",
        "edad \n",
        "pais_de_nacimiento\n",
        "nombre \n",
        "area_circulo\n",
        "\n",
        "```"
      ]
    },
    {
      "cell_type": "markdown",
      "metadata": {
        "id": "apw9mCn5jqvH"
      },
      "source": [
        "## Tipos de datos escalares\n",
        "\n",
        "Los programas manipularán diferentes tipos de datos. Cada objeto tiene un tipo de datos asociado a el. Se tienen tipos de datos escalares que corresponden a: \n",
        "\n",
        "- `int` representa números enteros ejemplo: 5, -5\n",
        "- `float` representa números reales 3.27\n",
        "- `bool` representa valores booleanos `True` y `False`\n",
        "- `Nonetype` es especial y tiene un único valor `None`\n",
        "\n",
        "es posible usar type() para ver el tipo de dato de un objeto:"
      ]
    },
    {
      "cell_type": "code",
      "metadata": {
        "id": "Ukb-Ef2JjqvH",
        "outputId": "3d8214bf-2fb2-4ecc-b6de-8fb58b852192"
      },
      "source": [
        "x = 5.6e12\n",
        "type(x)"
      ],
      "execution_count": null,
      "outputs": [
        {
          "output_type": "execute_result",
          "data": {
            "text/plain": [
              "float"
            ]
          },
          "metadata": {
            "tags": []
          },
          "execution_count": 3
        }
      ]
    },
    {
      "cell_type": "code",
      "metadata": {
        "id": "7S5YBb4rjqvI",
        "outputId": "941ac8e7-250a-497b-86a8-708bb8cec302"
      },
      "source": [
        "type(5) "
      ],
      "execution_count": null,
      "outputs": [
        {
          "output_type": "execute_result",
          "data": {
            "text/plain": [
              "int"
            ]
          },
          "metadata": {
            "tags": []
          },
          "execution_count": 4
        }
      ]
    },
    {
      "cell_type": "markdown",
      "metadata": {
        "id": "5hhH7cjtjqvI"
      },
      "source": [
        "## Operaciones aritméticas y lógicas\n",
        "\n",
        "- Suma: +\n",
        "- Resta: -\n",
        "- Multiplicación: *\n",
        "- División entera: //\n",
        "- División real: /\n",
        "- Residuo: %\n",
        "- Potencia: **\n",
        "- Asignación: =\n",
        "- Asignación con suma: +=\n",
        "- Asignación con resta: -=\n",
        "\n",
        "A continuación se muestran algunos ejemplos de operaciones básicas:"
      ]
    },
    {
      "cell_type": "code",
      "metadata": {
        "id": "8AYedaG-jqvI",
        "outputId": "d22633b0-f283-4173-8175-84984b7403bf"
      },
      "source": [
        "#división que te va a dar como resultado un número real.\n",
        "y = 7/3\n",
        "print(y)\n"
      ],
      "execution_count": null,
      "outputs": [
        {
          "output_type": "stream",
          "text": [
            "2.3333333333333335\n"
          ],
          "name": "stdout"
        }
      ]
    },
    {
      "cell_type": "code",
      "metadata": {
        "id": "8Nxm-jofjqvI",
        "outputId": "8ebb80c6-bc4d-4c09-f756-0116d0bab2b3"
      },
      "source": [
        "#División que te va a dar como resultado un número entero\n",
        "c = 7//3\n",
        "print(c)"
      ],
      "execution_count": null,
      "outputs": [
        {
          "output_type": "stream",
          "text": [
            "2\n"
          ],
          "name": "stdout"
        }
      ]
    },
    {
      "cell_type": "code",
      "metadata": {
        "id": "8w_vorMVjqvJ",
        "outputId": "375640a8-2061-41bc-94cb-cdbbf7956d58"
      },
      "source": [
        "y =  4 * 6\n",
        "z = 5\n",
        "y += z\n",
        "print(y)"
      ],
      "execution_count": null,
      "outputs": [
        {
          "output_type": "stream",
          "text": [
            "29\n"
          ],
          "name": "stdout"
        }
      ]
    },
    {
      "cell_type": "markdown",
      "metadata": {
        "id": "PhCstTVSjqvJ"
      },
      "source": [
        "### Operadores lógicos y de Comparación:\n",
        "\n",
        "Python posee los siguientes operadores lógicos básicos:\n",
        "\n",
        "- ```and, or, not``` \n",
        "\n",
        "Y los siguientes operadores de comparación:\n",
        "\n",
        "- ```a == b```: retorna verdadero si los valores de a y b son iguales, falso en otro caso.\n",
        "- ```a != b ```: retorna verdadero si los valores son diferentes, falso en otro caso.\n",
        "- ```a >= b```: retorna verdadero si a es mayor o igual a b. \n",
        "- ```a > b```: retorna verdadero si a es mayor a b. \n",
        "- ```a <= b```: retorna verdadero si a es menor o igual a b.\n",
        "- ```a < b```: retorna verdadero si a es menor a b.\n",
        "\n",
        "A continuación algunos ejemplos:"
      ]
    },
    {
      "cell_type": "code",
      "metadata": {
        "id": "D4B9QqyMjqvJ",
        "outputId": "4e2874da-7434-4ce6-8b7b-4e81f08b6095"
      },
      "source": [
        "a = 3\n",
        "b = 4\n",
        "\n",
        "print(a == b)"
      ],
      "execution_count": null,
      "outputs": [
        {
          "output_type": "stream",
          "text": [
            "False\n"
          ],
          "name": "stdout"
        }
      ]
    },
    {
      "cell_type": "code",
      "metadata": {
        "id": "SbZERbC0jqvJ",
        "outputId": "de4aa931-609b-4401-eba4-8354cb3f5fe2"
      },
      "source": [
        "x = 3\n",
        "y = 5\n",
        "print(x > y)"
      ],
      "execution_count": null,
      "outputs": [
        {
          "output_type": "stream",
          "text": [
            "False\n"
          ],
          "name": "stdout"
        }
      ]
    },
    {
      "cell_type": "markdown",
      "metadata": {
        "id": "Es0tvEKsjqvK"
      },
      "source": [
        "### Funciones y estructuras de control en python\n",
        "\n",
        "La definición del método que calcula el área de un rectángulo constituye un bloque de código (en python se llama suite) que inicia con la palabra def y termina en la línea 2 con la instrucción ```return l*a```. Python utiliza la indentación para definir suites. Una forma rápida de identificar una suite en python es porque inicia con ```:```. \n",
        "\n"
      ]
    },
    {
      "cell_type": "code",
      "metadata": {
        "id": "JG2jVNyUjqvK",
        "outputId": "157bd9f6-4d0d-4950-9365-f30596d058bd"
      },
      "source": [
        "def area_rectangulo(l, a):\n",
        "  return l*a #vemos que esto está definido dentro del método\n",
        "\n",
        "area_rectangulo(3,5)"
      ],
      "execution_count": null,
      "outputs": [
        {
          "output_type": "execute_result",
          "data": {
            "text/plain": [
              "15"
            ]
          },
          "metadata": {
            "tags": []
          },
          "execution_count": 10
        }
      ]
    },
    {
      "cell_type": "markdown",
      "metadata": {
        "id": "UgZZmmjbjqvK"
      },
      "source": [
        "A parte de definir métodos, se utilizan los dos puntos ```:``` para definir las estructuras de control condicional ```if else elif``` y las estructuras de control cíclico ```for while```.\n"
      ]
    },
    {
      "cell_type": "markdown",
      "metadata": {
        "id": "-JO739N7jqvK"
      },
      "source": [
        "### Estructuras de control condicional\n",
        "\n",
        "Es posible determinar que suite de código ejecutar especificando estructuras de control condicional. Por ejemplo para determinar si un número es par podríamos decir que un número par es aquel cuyo residuo entre 2 es igual a cero, de otro modo es impar.\n"
      ]
    },
    {
      "cell_type": "code",
      "metadata": {
        "id": "Pj7X5weSjqvL",
        "outputId": "71ff44f1-09d6-4d93-b03b-6a00ce50bd43"
      },
      "source": [
        "def es_par(num):\n",
        "  if num % 2 == 0:\n",
        "    print(num, 'es par')\n",
        "  else:\n",
        "    print(num, 'es impar')\n",
        "\n",
        "num = int(input('digite un número: '))\n",
        "es_par(num)"
      ],
      "execution_count": null,
      "outputs": [
        {
          "output_type": "stream",
          "text": [
            "digite un número:  4\n"
          ],
          "name": "stdin"
        },
        {
          "output_type": "stream",
          "text": [
            "4 es par\n"
          ],
          "name": "stdout"
        }
      ]
    },
    {
      "cell_type": "markdown",
      "metadata": {
        "id": "XEbj3kd3jqvL"
      },
      "source": [
        "Es posible tener más de dos casos en una estructura de control condicional, como veremos en el siguiente ejemplo: La empresa Tqm ofrece la siguiente promocion: por compras mayores a 10000 lleva un 10% de descuento. Por compras mayores a 20000 lleva un 20% de descuento. Dado el valor de la compra halle el valor a pagar y diga de cuanto fue el descuento."
      ]
    },
    {
      "cell_type": "code",
      "metadata": {
        "id": "F5T5V2pnjqvL",
        "outputId": "7a43d34e-6009-4e6a-e4e9-7818046aa8de"
      },
      "source": [
        "def descuento(vc):\n",
        "  if vc > 10000 and vc <= 20000:\n",
        "    print(\"valor a pagar\", vc-vc*0.1, \"y ahorró:\" , vc*0.1)\n",
        "  elif vc > 20000:\n",
        "    print(\"valor a pagar\", vc-vc*0.2, \"y ahorró:\" , vc*0.2)\n",
        "  else:\n",
        "    print(\"usted compró muy poco y no tiene descuentos.\")\n",
        "  \n",
        "vc = int(input('digite el valor total de su compra:'))\n",
        "descuento(vc)"
      ],
      "execution_count": null,
      "outputs": [
        {
          "output_type": "stream",
          "text": [
            "digite el valor total de su compra: 45555\n"
          ],
          "name": "stdin"
        },
        {
          "output_type": "stream",
          "text": [
            "valor a pagar 36444.0 y ahorró: 9111.0\n"
          ],
          "name": "stdout"
        }
      ]
    },
    {
      "cell_type": "markdown",
      "metadata": {
        "id": "v0d9p5VDjqvL"
      },
      "source": [
        "### Estructuras de control cíclico y algunas estructuras de datos\n",
        "\n",
        "### El ciclo while \n",
        "\n",
        "El ciclo ```while``` permite ejecutar un bloque de instrucciones mientras que una expresión booleana dada se cumpla, es decir, mientras su evaluación dé como resultado verdadero. La expresión booleana se denomina condición de parada y siempre se evalúa antes de ejecutar el bloque de instrucciones. Si la condición no se cumple, el bloque no se ejecuta. Si la condición se cumple, el bloque se ejecuta, después de lo cual la instrucción vuelve a empezar, es decir, la condición se vuelve a evaluar.\n",
        "\n",
        "En el caso en que la condición se evalúe la primera vez como falsa, el bloque de instrucciones no será ejecutado, lo cual quiere decir que el número de repeticiones o iteraciones de este bloque será cero. Si la condición siempre evalúa a verdadero, la instrucción se ejecutará indefinidamente, es decir, un número infinito de veces.\n",
        "\n",
        "La estructura de un ciclo ```while``` se da en el siguiente fragmento de código:\n",
        "\n",
        "```\n",
        "<suite_prev>\n",
        "<inicia>\n",
        "while(<cond>):\n",
        "  <suite_while>\n",
        "  <actualiza>\n",
        "<suite_siguiente>\n",
        "\n",
        "```\n",
        "\n",
        "Donde: \n",
        "\n",
        "- El fragmento suite_prev es la suite instrucciones previas que han sido ejecutadas antes del ciclo.\n",
        "\n",
        "- El fragmento inicia es la suite de instrucciones donde se inicializan las variables que intervienen en la condición de parada.\n",
        "\n",
        "- El fragmento cond es la condición de parada que se evalúa cada vez que se inicia o se reinicia el ciclo.\n",
        "\n",
        "- El fragmento suite_while es el bloque de instrucciones principal del ciclo que se ejecuta mientras la condición se  cumpla.\n",
        "\n",
        "- El fragmento actualiza es el bloque que se utiliza para actualizar las variables que son utilizadas para evaluar la condición de parada cuando se intenta reiniciar el ciclo.\n",
        "\n",
        "- El fragmento suite_siguiente es el bloque de instrucciones que se  ejecutan después de terminar de ejecutar el ciclo.\n",
        "\n",
        "A continuación se muestra un ejemplo de funcionamiento del ciclo while. Se utilizarán métodos para introducir al lector en la programación modular.\n"
      ]
    },
    {
      "cell_type": "code",
      "metadata": {
        "id": "SnhZshMnjqvM",
        "outputId": "019d9dba-07ba-44a5-8258-3a79649fca7a"
      },
      "source": [
        "%%time \n",
        "#mide el tiempo de ejecución de una celda\n",
        "\n",
        "import time #es para usar sleep\n",
        "\n",
        "def ejemplo_while():\n",
        "  #sirve para determinar el tiempo de ejecución de un programa \n",
        "  i = 2 #inicializa a i en 2\n",
        "  j = 25 # inicializa a j en 25\n",
        "\n",
        "  while i < j: #mientras i sea menor a j\n",
        "      print(i, \",\", j) #va a imprimir los valores de i , j\n",
        "      #time.sleep(0.004) #función que interrumpe \n",
        "      i*=2 # i = i*2 como a i lo va multiplicando por 2 en cada paso se espera que supere a j en un punto\n",
        "      j+=10 # j = j + 10 se incrementa de 10 en 10\n",
        "  \n",
        "  print(\"the end.\") #esta es una instrucción que se ejecuta al terminar el ciclo while\n",
        "  print(i, \",\", j) #imprime los valores finales de i y de j\n",
        "  print(\"esto es parte de la función\")\n",
        "\n",
        "\n",
        "ejemplo_while() #aquí se llama el método\n"
      ],
      "execution_count": null,
      "outputs": [
        {
          "output_type": "stream",
          "text": [
            "2 , 25\n",
            "4 , 35\n",
            "8 , 45\n",
            "16 , 55\n",
            "32 , 65\n",
            "64 , 75\n",
            "the end.\n",
            "128 , 85\n",
            "esto es parte de la función\n",
            "Wall time: 1.98 ms\n"
          ],
          "name": "stdout"
        }
      ]
    },
    {
      "cell_type": "markdown",
      "metadata": {
        "id": "5k92Vu5njqvN"
      },
      "source": [
        "### Tuplas\n",
        "\n",
        "Una tupla es una secuencia de elementos que puede almacenar datos heterogeneos tales como: float, strings, listas y diccionarios. Como los strings, las tuplas son inmutables.\n"
      ]
    },
    {
      "cell_type": "code",
      "metadata": {
        "id": "TUojP3w1jqvN",
        "outputId": "9ddb8702-a70c-41c4-e80f-4bc3b1ce1382"
      },
      "source": [
        "tup = (1, 2, 3, 4.6, 'hola', 'a')\n",
        "print(tup)"
      ],
      "execution_count": null,
      "outputs": [
        {
          "output_type": "stream",
          "text": [
            "(1, 2, 3, 4.6, 'hola', 'a')\n"
          ],
          "name": "stdout"
        }
      ]
    },
    {
      "cell_type": "markdown",
      "metadata": {
        "id": "XHD7LN-yjqvN"
      },
      "source": [
        "Se pueden recorrer los elementos de una tupla con for:"
      ]
    },
    {
      "cell_type": "code",
      "metadata": {
        "id": "VI4PrZfrjqvO",
        "outputId": "32b57566-ddf5-4682-8107-aca9dd5b8d9c"
      },
      "source": [
        "for dato in tup:\n",
        "    print(dato, end=\" \")"
      ],
      "execution_count": null,
      "outputs": [
        {
          "output_type": "stream",
          "text": [
            "1 2 3 4.6 hola a "
          ],
          "name": "stdout"
        }
      ]
    },
    {
      "cell_type": "markdown",
      "metadata": {
        "id": "smM96GKjjqvO"
      },
      "source": [
        "Para acceder a un valor particular de una tupla se especifica su posición con corchetes ```[]```:"
      ]
    },
    {
      "cell_type": "code",
      "metadata": {
        "id": "Sm-dYgaEjqvO"
      },
      "source": [
        "avengers = (\"Ironman\", \"Spiderman\", \"Ant-man\", \"Hulk\", \"Thor\", \"The Wasp\")"
      ],
      "execution_count": null,
      "outputs": []
    },
    {
      "cell_type": "code",
      "metadata": {
        "id": "Gbk2--3ajqvO",
        "outputId": "caf85b65-cc9f-4b31-e369-ee4220306ad6"
      },
      "source": [
        "avengers[0]"
      ],
      "execution_count": null,
      "outputs": [
        {
          "output_type": "execute_result",
          "data": {
            "text/plain": [
              "'Ironman'"
            ]
          },
          "metadata": {
            "tags": []
          },
          "execution_count": 20
        }
      ]
    },
    {
      "cell_type": "code",
      "metadata": {
        "id": "Et49cGYwjqvO",
        "outputId": "4f6b5111-6fef-45bc-d16e-1d345770a995"
      },
      "source": [
        "avengers[-1]"
      ],
      "execution_count": null,
      "outputs": [
        {
          "output_type": "execute_result",
          "data": {
            "text/plain": [
              "'The Wasp'"
            ]
          },
          "metadata": {
            "tags": []
          },
          "execution_count": 21
        }
      ]
    },
    {
      "cell_type": "code",
      "metadata": {
        "id": "svNbHIJOjqvP",
        "outputId": "8198ea8e-3d2b-48b2-a1d8-674059529411"
      },
      "source": [
        "avengers[1:3]"
      ],
      "execution_count": null,
      "outputs": [
        {
          "output_type": "execute_result",
          "data": {
            "text/plain": [
              "('Spiderman', 'Ant-man')"
            ]
          },
          "metadata": {
            "tags": []
          },
          "execution_count": 22
        }
      ]
    },
    {
      "cell_type": "code",
      "metadata": {
        "id": "7JdnJ3OAjqvP",
        "outputId": "c97ab370-3a7e-49e0-d03f-bad4a2fd3cdd"
      },
      "source": [
        "avengers[::-1]"
      ],
      "execution_count": null,
      "outputs": [
        {
          "output_type": "execute_result",
          "data": {
            "text/plain": [
              "('The Wasp', 'Thor', 'Hulk', 'Ant-man', 'Spiderman', 'Ironman')"
            ]
          },
          "metadata": {
            "tags": []
          },
          "execution_count": 23
        }
      ]
    },
    {
      "cell_type": "markdown",
      "metadata": {
        "id": "nmwgucvCjqvP"
      },
      "source": [
        "### Funciones de Tuplas "
      ]
    },
    {
      "cell_type": "markdown",
      "metadata": {
        "id": "femQVLz7jqvP"
      },
      "source": [
        "Longitud de la tupla: "
      ]
    },
    {
      "cell_type": "code",
      "metadata": {
        "id": "rAqxkC8tjqvP",
        "outputId": "54e1999c-0cb3-461e-808e-e4f802cba113"
      },
      "source": [
        "tup = (1,2,3,4)\n",
        "len(tup)"
      ],
      "execution_count": null,
      "outputs": [
        {
          "output_type": "execute_result",
          "data": {
            "text/plain": [
              "4"
            ]
          },
          "metadata": {
            "tags": []
          },
          "execution_count": 24
        }
      ]
    },
    {
      "cell_type": "markdown",
      "metadata": {
        "id": "mjYQOzk1jqvQ"
      },
      "source": [
        "Máximo elemento de una tupla:"
      ]
    },
    {
      "cell_type": "code",
      "metadata": {
        "id": "nKnwF18xjqvQ",
        "outputId": "1dcf99a9-cd12-43ce-a320-53dd2dea5208"
      },
      "source": [
        "t = (4,5,-1,6,7) \n",
        "max(t)"
      ],
      "execution_count": null,
      "outputs": [
        {
          "output_type": "execute_result",
          "data": {
            "text/plain": [
              "7"
            ]
          },
          "metadata": {
            "tags": []
          },
          "execution_count": 25
        }
      ]
    },
    {
      "cell_type": "markdown",
      "metadata": {
        "id": "mguLSSAXjqvQ"
      },
      "source": [
        "Mínimo elemento de una tupla:"
      ]
    },
    {
      "cell_type": "code",
      "metadata": {
        "id": "XjdfX-NdjqvR",
        "outputId": "3c31b063-f35b-4376-a05a-51b6b03d757e"
      },
      "source": [
        "min(t)"
      ],
      "execution_count": null,
      "outputs": [
        {
          "output_type": "execute_result",
          "data": {
            "text/plain": [
              "-1"
            ]
          },
          "metadata": {
            "tags": []
          },
          "execution_count": 26
        }
      ]
    },
    {
      "cell_type": "markdown",
      "metadata": {
        "id": "Te1B-y-1jqvR"
      },
      "source": [
        "### Listas \n",
        "\n",
        "Una lista es muy similar a la noción de un arreglo. En este sentido puede entenderse como una colección indexada de objetos. A cada elemento le corresponde una posición. Una lista puede almacenar objetos de diferente tipo en la misma estructura. Es posible también añadir, remover, o cambiar objetos. Esto quiere decir que las listas son mutables."
      ]
    },
    {
      "cell_type": "code",
      "metadata": {
        "id": "-YjaEezcjqvS",
        "outputId": "f0446c02-5419-48fc-b7a7-2fdd2ab68538"
      },
      "source": [
        "dias = ['lunes', 'martes', 'miércoles', 'jueves', 'viernes', 'sábado']\n",
        "print(dias)\n",
        "\n",
        "temps = [ 32.0, 212.0, 0.0, 81.6, 100.0]\n",
        "print(temps)"
      ],
      "execution_count": null,
      "outputs": [
        {
          "output_type": "stream",
          "text": [
            "['lunes', 'martes', 'miércoles', 'jueves', 'viernes', 'sábado']\n",
            "[32.0, 212.0, 0.0, 81.6, 100.0]\n"
          ],
          "name": "stdout"
        }
      ]
    },
    {
      "cell_type": "markdown",
      "metadata": {
        "id": "1V-tZzIjjqvT"
      },
      "source": [
        "Para saber si un elemento está en una lista se puede usar el operador in:"
      ]
    },
    {
      "cell_type": "code",
      "metadata": {
        "id": "EI29eIrqjqvT",
        "outputId": "f77f9c1b-2119-4f43-e591-c22b7b4777bc"
      },
      "source": [
        "dias = ['lunes', 'martes', 'miércoles', 'jueves', 'viernes', 'sábado']\n",
        "if('lunes' in dias):\n",
        "    print('Si')"
      ],
      "execution_count": null,
      "outputs": [
        {
          "output_type": "stream",
          "text": [
            "Si\n"
          ],
          "name": "stdout"
        }
      ]
    },
    {
      "cell_type": "markdown",
      "metadata": {
        "id": "sojW9e-XjqvT"
      },
      "source": [
        "Una lista puede almacenar distintos tipos de dato:"
      ]
    },
    {
      "cell_type": "code",
      "metadata": {
        "id": "w3Ky7l-ljqvT",
        "outputId": "27b7d966-f4c0-463f-aee2-6c9ff81f64db"
      },
      "source": [
        "car_details = ['Toyota', 'RAV4', 2.2, 60807]\n",
        "\n",
        "for detail in car_details:\n",
        "    print(\"dato \" + str(detail) + \" tipo: \" + str(type(detail)))"
      ],
      "execution_count": null,
      "outputs": [
        {
          "output_type": "stream",
          "text": [
            "dato Toyota tipo: <class 'str'>\n",
            "dato RAV4 tipo: <class 'str'>\n",
            "dato 2.2 tipo: <class 'float'>\n",
            "dato 60807 tipo: <class 'int'>\n"
          ],
          "name": "stdout"
        }
      ]
    },
    {
      "cell_type": "markdown",
      "metadata": {
        "id": "jk9ZD7zejqvU"
      },
      "source": [
        "Si se desea tener la posición de un elemento y el elemento se puede usar enumerate:\n"
      ]
    },
    {
      "cell_type": "code",
      "metadata": {
        "id": "mYkrDIemjqvX",
        "outputId": "6ac4fdf1-10f6-404c-e4d3-0ea18e486258"
      },
      "source": [
        "animals = ['cat', 'dog', 'monkey']\n",
        "for idx, animal in enumerate(animals):\n",
        "    print(f\"{idx + 1}: {animal}\")\n",
        "# Prints \"#1: cat\", \"#2: dog\", \"#3: monkey\", each on its own line"
      ],
      "execution_count": null,
      "outputs": [
        {
          "output_type": "stream",
          "text": [
            "1: cat\n",
            "2: dog\n",
            "3: monkey\n"
          ],
          "name": "stdout"
        }
      ]
    },
    {
      "cell_type": "markdown",
      "metadata": {
        "id": "UFTTlo0NjqvX"
      },
      "source": [
        "Es posible tener una lista de listas:"
      ]
    },
    {
      "cell_type": "code",
      "metadata": {
        "id": "r3b_vny0jqvX",
        "outputId": "4fa45596-e136-46f7-c9f0-93b4b71fc657"
      },
      "source": [
        "mi_lista = [[1,2,3], ['a', 'b', 'c']]\n",
        "\n",
        "print(mi_lista)\n",
        "\n",
        "print(mi_lista[0])\n",
        "print(mi_lista[1])\n",
        "print(mi_lista[1][1])"
      ],
      "execution_count": null,
      "outputs": [
        {
          "output_type": "stream",
          "text": [
            "[[1, 2, 3], ['a', 'b', 'c']]\n",
            "[1, 2, 3]\n",
            "['a', 'b', 'c']\n",
            "b\n"
          ],
          "name": "stdout"
        }
      ]
    },
    {
      "cell_type": "markdown",
      "metadata": {
        "id": "-RW5hEinjqvX"
      },
      "source": [
        "Para crear la lista y añadir elementos de forma dinámica se puede hacer lo siguiente:"
      ]
    },
    {
      "cell_type": "code",
      "metadata": {
        "id": "nYxZilaZjqvY",
        "outputId": "9db1c709-4dac-4941-f064-c4e8d4028085"
      },
      "source": [
        "found=[] #se crea la lista vacía\n",
        "len(found) #este método calcula la longitud de la lista\n"
      ],
      "execution_count": null,
      "outputs": [
        {
          "output_type": "execute_result",
          "data": {
            "text/plain": [
              "0"
            ]
          },
          "metadata": {
            "tags": []
          },
          "execution_count": 32
        }
      ]
    },
    {
      "cell_type": "code",
      "metadata": {
        "id": "L4LCFTbBjqvY",
        "outputId": "da3c4437-abb0-49b9-dbdc-b29fce06dc0f"
      },
      "source": [
        "found.append('a')\n",
        "found.append('e')\n",
        "found.append('i')\n",
        "found.append('o')\n",
        "found.append('u')\n",
        "print(found, len(found))"
      ],
      "execution_count": null,
      "outputs": [
        {
          "output_type": "stream",
          "text": [
            "['a', 'e', 'i', 'o', 'u'] 5\n"
          ],
          "name": "stdout"
        }
      ]
    },
    {
      "cell_type": "markdown",
      "metadata": {
        "id": "BYt5XunrjqvY"
      },
      "source": [
        "Es posible crear una lista a partir de otra. Esto se conoce como listas por comprensión. El siguiente código:"
      ]
    },
    {
      "cell_type": "code",
      "metadata": {
        "id": "i1GrgnlZjqvY",
        "outputId": "1c2dad3b-d11b-482f-dc16-4238f2a29d6f"
      },
      "source": [
        "nums = [0, 1, 2, 3, 4]\n",
        "squares = []\n",
        "for x in nums:\n",
        "    squares.append(x ** 2)\n",
        "print(squares)   # Prints [0, 1, 4, 9, 16]"
      ],
      "execution_count": null,
      "outputs": [
        {
          "output_type": "stream",
          "text": [
            "[0, 1, 4, 9, 16]\n"
          ],
          "name": "stdout"
        }
      ]
    },
    {
      "cell_type": "markdown",
      "metadata": {
        "id": "7C3C9qsejqvY"
      },
      "source": [
        "Es equivalente a:"
      ]
    },
    {
      "cell_type": "code",
      "metadata": {
        "id": "LmDhPGv6jqvZ",
        "outputId": "ec62108e-621f-4fda-bfbe-4f691e896465"
      },
      "source": [
        "nums = [0, 1, 2, 3, 4]\n",
        "squares = [x ** 2 for x in nums]\n",
        "print(squares)   # Prints [0, 1, 4, 9, 16]"
      ],
      "execution_count": null,
      "outputs": [
        {
          "output_type": "stream",
          "text": [
            "[0, 1, 4, 9, 16]\n"
          ],
          "name": "stdout"
        }
      ]
    },
    {
      "cell_type": "markdown",
      "metadata": {
        "id": "JU652AepjqvZ"
      },
      "source": [
        "Tambien es posible remover la ocurrencia de un valor específico en la lista. Remove toma como argumento el objeto que se va a eliminar, remueve el elemento de la lista y reduce en uno su tamaño. Si el elemento no se encuentra en la lista se lanza un error."
      ]
    },
    {
      "cell_type": "code",
      "metadata": {
        "id": "82PoJzbDjqvZ",
        "outputId": "948041fd-08fe-47fe-beb3-8b5578407cdb"
      },
      "source": [
        "found.remove('i')\n",
        "print(found)\n",
        "print(len(found))"
      ],
      "execution_count": null,
      "outputs": [
        {
          "output_type": "stream",
          "text": [
            "['a', 'e', 'o', 'u']\n",
            "4\n"
          ],
          "name": "stdout"
        }
      ]
    },
    {
      "cell_type": "markdown",
      "metadata": {
        "id": "ujN9rbejjqva"
      },
      "source": [
        "En el caso en el que se requiera eliminar un elemento de una posición específica de la lista. El método pop recibe como parámetro la posición del elemento a remover. Las posiciones en las listas empiezan en cero. Si no se especifican parámetros, se remueve el último elemento de la lista."
      ]
    },
    {
      "cell_type": "code",
      "metadata": {
        "id": "DoajoUU5jqva",
        "outputId": "573fb944-bd60-4afc-e989-690e036e8cae"
      },
      "source": [
        "nombres = ['Jaime', 'Johan', 'Monica', 'María', 'Mabel']\n",
        "print(nombres)\n",
        "nombres.pop(1) #remueve a Johan\n",
        "print(nombres)\n",
        "nombre_borrado = nombres.pop() # remueve a Mabel\n",
        "print(nombre_borrado + \" ha sido eliminada de la lista.\")\n",
        "print(nombres)"
      ],
      "execution_count": null,
      "outputs": [
        {
          "output_type": "stream",
          "text": [
            "['Jaime', 'Johan', 'Monica', 'María', 'Mabel']\n",
            "['Jaime', 'Monica', 'María', 'Mabel']\n",
            "Mabel ha sido eliminada de la lista.\n",
            "['Jaime', 'Monica', 'María']\n"
          ],
          "name": "stdout"
        }
      ]
    },
    {
      "cell_type": "markdown",
      "metadata": {
        "id": "Z4ZDTjSajqva"
      },
      "source": [
        "Es posible agregar una lista al final de otra lista. Para esto se puede utilizar el método extend."
      ]
    },
    {
      "cell_type": "code",
      "metadata": {
        "id": "sSdTRiHcjqva",
        "outputId": "18d5dca6-a90d-42a2-9b55-b9de3aca6198"
      },
      "source": [
        "nombres = ['Jaime', 'Johan', 'Monica', 'María', 'Mabel']\n",
        "otros_nombres = ['Barry', 'John', 'Guttag']\n",
        "\n",
        "nombres.extend(otros_nombres)\n",
        "print(nombres)"
      ],
      "execution_count": null,
      "outputs": [
        {
          "output_type": "stream",
          "text": [
            "['Jaime', 'Johan', 'Monica', 'María', 'Mabel', 'Barry', 'John', 'Guttag']\n"
          ],
          "name": "stdout"
        }
      ]
    },
    {
      "cell_type": "markdown",
      "metadata": {
        "id": "9UBuOPTSjqva"
      },
      "source": [
        "Para agregar elementos en una posición específica de una lista se puede utilizar el método insert:"
      ]
    },
    {
      "cell_type": "code",
      "metadata": {
        "id": "uXq9DnGUjqvb",
        "outputId": "8e56686c-0d65-4cff-d6a1-99691b3bb9f1"
      },
      "source": [
        "nombres = ['Jaime', 'Johan', 'Monica', 'María', 'Mabel']\n",
        "nombres.insert(0, 'Guttag') #posición valor\n",
        "nombres.insert(2, 'Peter') #list_name.insert(posición,valor)\n",
        "nombres.insert(len(nombres)//2, 7891247812)\n",
        "print(nombres)"
      ],
      "execution_count": null,
      "outputs": [
        {
          "output_type": "stream",
          "text": [
            "['Guttag', 'Jaime', 'Peter', 7891247812, 'Johan', 'Monica', 'María', 'Mabel']\n"
          ],
          "name": "stdout"
        }
      ]
    },
    {
      "cell_type": "code",
      "metadata": {
        "id": "8jG-gsBWjqvb"
      },
      "source": [
        ""
      ],
      "execution_count": null,
      "outputs": []
    },
    {
      "cell_type": "markdown",
      "metadata": {
        "id": "5-71aFhHjqvb"
      },
      "source": [
        "Como pedir ayuda sobre un método específico:"
      ]
    },
    {
      "cell_type": "code",
      "metadata": {
        "id": "rxEFu2_6jqvb",
        "outputId": "e1d2c47f-6d78-41dd-e353-f6b955c12191"
      },
      "source": [
        "help(list.append)"
      ],
      "execution_count": null,
      "outputs": [
        {
          "output_type": "stream",
          "text": [
            "Help on method_descriptor:\n",
            "\n",
            "append(self, object, /)\n",
            "    Append object to the end of the list.\n",
            "\n"
          ],
          "name": "stdout"
        }
      ]
    },
    {
      "cell_type": "code",
      "metadata": {
        "id": "9BvMIZ8Gjqvb",
        "outputId": "3371866d-5efb-4676-af9c-ec18a833b945"
      },
      "source": [
        "??list"
      ],
      "execution_count": null,
      "outputs": [
        {
          "output_type": "display_data",
          "data": {
            "text/plain": [
              "\u001b[1;31mInit signature:\u001b[0m \u001b[0mlist\u001b[0m\u001b[1;33m(\u001b[0m\u001b[0miterable\u001b[0m\u001b[1;33m=\u001b[0m\u001b[1;33m(\u001b[0m\u001b[1;33m)\u001b[0m\u001b[1;33m,\u001b[0m \u001b[1;33m/\u001b[0m\u001b[1;33m)\u001b[0m\u001b[1;33m\u001b[0m\u001b[1;33m\u001b[0m\u001b[0m\n",
              "\u001b[1;31mDocstring:\u001b[0m     \n",
              "Built-in mutable sequence.\n",
              "\n",
              "If no argument is given, the constructor creates a new empty list.\n",
              "The argument must be an iterable if specified.\n",
              "\u001b[1;31mType:\u001b[0m           type\n",
              "\u001b[1;31mSubclasses:\u001b[0m     _HashedSeq, StackSummary, SList, _ImmutableLineList, FormattedText, NodeList, _ExplodedList, Stack, _Accumulator, _ymd, ...\n"
            ]
          },
          "metadata": {
            "tags": []
          }
        }
      ]
    },
    {
      "cell_type": "markdown",
      "metadata": {
        "id": "f3_kuu68jqvb"
      },
      "source": [
        "### Manejando Conjuntos en Python\n",
        "\n",
        "Los conjuntos en python pueden ser muy útiles para eliminar datos duplicados. Si se tiene una lista de nombres que puede estar duplicada, basta con convertirla en conjunto para eliminar los datos duplicados. Esta estructura también está optimizada para buscar datos pues las listas realizan una búsqueda secuencial. Los datos no se almacenan necesariamente en orden."
      ]
    },
    {
      "cell_type": "code",
      "metadata": {
        "id": "0Z9bUvUMjqvc",
        "outputId": "47918192-8a56-4e6e-e469-8e0c32388cbb"
      },
      "source": [
        "vocales = {'a', 'e', 'i', 'o', 'u', 'a', 'a', 'o', 'e'}\n",
        "print(vocales)"
      ],
      "execution_count": null,
      "outputs": [
        {
          "output_type": "stream",
          "text": [
            "{'o', 'e', 'a', 'i', 'u'}\n"
          ],
          "name": "stdout"
        }
      ]
    },
    {
      "cell_type": "markdown",
      "metadata": {
        "id": "uY3BTEAEjqvc"
      },
      "source": [
        "Es posible ordenar un conjunto así:"
      ]
    },
    {
      "cell_type": "code",
      "metadata": {
        "id": "q8ZxOu2Kjqvc",
        "outputId": "4b14d447-01b1-4308-82cb-03e98bb3494a"
      },
      "source": [
        "['a', 'e', 'i', 'o', 'u']"
      ],
      "execution_count": null,
      "outputs": [
        {
          "output_type": "execute_result",
          "data": {
            "text/plain": [
              "['a', 'e', 'i', 'o', 'u']"
            ]
          },
          "metadata": {
            "tags": []
          },
          "execution_count": 47
        }
      ]
    },
    {
      "cell_type": "markdown",
      "metadata": {
        "id": "uA6hSDmujqvc"
      },
      "source": [
        "Se pueden crear conjuntos a partir de listas o tuplas:"
      ]
    },
    {
      "cell_type": "code",
      "metadata": {
        "id": "zUPvRzFRjqvc",
        "outputId": "b67931a1-1d54-4cbe-af08-8c6f79038b98"
      },
      "source": [
        "l_vocals = ['a', 'e', 'i', 'o', 'u', 'i']\n",
        "vocalsl = set(l_vocals)\n",
        "print(vocalsl)"
      ],
      "execution_count": null,
      "outputs": [
        {
          "output_type": "stream",
          "text": [
            "{'o', 'e', 'a', 'i', 'u'}\n"
          ],
          "name": "stdout"
        }
      ]
    },
    {
      "cell_type": "markdown",
      "metadata": {
        "id": "pD9xn1wgjqvc"
      },
      "source": [
        "Es posible unir dos conjuntos:"
      ]
    },
    {
      "cell_type": "code",
      "metadata": {
        "id": "tSiPseBAjqvd",
        "outputId": "9263d74b-bb57-4e4a-9b21-c27ce7a70bf5"
      },
      "source": [
        "seta = set('murcielago')\n",
        "setb = set('externocleidomastoideo')\n",
        "setc = seta.union(setb)\n",
        "print(setc)"
      ],
      "execution_count": null,
      "outputs": [
        {
          "output_type": "stream",
          "text": [
            "{'o', 'a', 'i', 'l', 't', 'r', 'g', 's', 'u', 'd', 'n', 'x', 'c', 'm', 'e'}\n"
          ],
          "name": "stdout"
        }
      ]
    },
    {
      "cell_type": "markdown",
      "metadata": {
        "id": "BxlqVpW3jqvd"
      },
      "source": [
        "Se puede calcular la diferencia entre dos conjuntos. Permite examinar los datos que están en un conjunto de palabras que no están en otro:"
      ]
    },
    {
      "cell_type": "code",
      "metadata": {
        "id": "efy6CP3Ljqvd"
      },
      "source": [
        "stop_wordsA = {'el', 'un', 'la', 'los'}\n",
        "stop_wordsB = {'un', 'una', 'unos', 'el'}"
      ],
      "execution_count": null,
      "outputs": []
    },
    {
      "cell_type": "markdown",
      "metadata": {
        "id": "LErF8_tUjqvd"
      },
      "source": [
        "Para determinar los elementos que están en stop_wordsA que no están en stop_wordsB basta con:"
      ]
    },
    {
      "cell_type": "code",
      "metadata": {
        "id": "-XVpYD9ijqvd",
        "outputId": "c935a4e1-fb81-49ec-d901-ca26020820b1"
      },
      "source": [
        "stop_wordsA - stop_wordsB"
      ],
      "execution_count": null,
      "outputs": [
        {
          "output_type": "execute_result",
          "data": {
            "text/plain": [
              "{'la', 'los'}"
            ]
          },
          "metadata": {
            "tags": []
          },
          "execution_count": 51
        }
      ]
    },
    {
      "cell_type": "markdown",
      "metadata": {
        "id": "AQHqME6Wjqvd"
      },
      "source": [
        "Para determinar los elementos que tienen en común los conjuntos de stop_words (intersección):"
      ]
    },
    {
      "cell_type": "code",
      "metadata": {
        "id": "GJ6vScRujqve",
        "outputId": "e8b60dbc-5668-4e2c-deb4-8fd8e7f9d1f8"
      },
      "source": [
        "stop_wordsB & stop_wordsA"
      ],
      "execution_count": null,
      "outputs": [
        {
          "output_type": "execute_result",
          "data": {
            "text/plain": [
              "{'el', 'un'}"
            ]
          },
          "metadata": {
            "tags": []
          },
          "execution_count": 52
        }
      ]
    },
    {
      "cell_type": "markdown",
      "metadata": {
        "id": "O3V7zry5jqve"
      },
      "source": [
        "La diferencia simétrica consiste en encontrar elementos que están en la unión de dos conjuntos pero no en la intersección"
      ]
    },
    {
      "cell_type": "code",
      "metadata": {
        "id": "AmMh-dk-jqve",
        "outputId": "3101dbd6-3286-454e-fa88-fa7cb8f30e1a"
      },
      "source": [
        "stop_wordsB ^ stop_wordsA"
      ],
      "execution_count": null,
      "outputs": [
        {
          "output_type": "execute_result",
          "data": {
            "text/plain": [
              "{'la', 'los', 'una', 'unos'}"
            ]
          },
          "metadata": {
            "tags": []
          },
          "execution_count": 53
        }
      ]
    },
    {
      "cell_type": "markdown",
      "metadata": {
        "id": "JSXu7xSIjqve"
      },
      "source": [
        "### Diccionarios "
      ]
    },
    {
      "cell_type": "markdown",
      "metadata": {
        "id": "KxnwFj_Pjqve"
      },
      "source": [
        "Así como en una lista los valores están indexados por su posición, en un diccionario los valores van a estar indexados por sus llaves. La sintaxis de un diccionario es:\n",
        "\n",
        "```nombre_dict = { key1: value1, key2: value2}"
      ]
    },
    {
      "cell_type": "code",
      "metadata": {
        "id": "lkGrQLcDjqve"
      },
      "source": [
        "port = { 22: 'SSH', 23: 'Telnet', 80: 'HTTP', 3306: 'MySQL'}"
      ],
      "execution_count": null,
      "outputs": []
    },
    {
      "cell_type": "markdown",
      "metadata": {
        "id": "LO0Li3o2jqvf"
      },
      "source": [
        "Cada pareja llave valor es considerada un ítem. La llave y el valor están separados por ```:```, cada ítem está separado por comas ```,``` y los items están rodeados por llaves ```{``` ```}```. Un diccionario vacío puede crearse así: ```{}```. Las características clave de un diccionario son:\n",
        "\n",
        "- La llave de un ítem no puede ser cambiada\n",
        "- Un string, int, o float puede ser usado como llave.\n",
        "- Una tupla que no contenga listas puede ser usada como llave.\n",
        "- Las llaves son únicas.\n",
        "- Los valores pueden ser cualquier tipo de dato.\n",
        "- Los valores pueden estar repetidos.\n",
        "- Los valores pueden ser cambiados.\n",
        "- Un diccionario es una colección desordenada (el orden en el que se ingresen los datos es independiente de la forma en la que se almacenan en la estructura de datos)."
      ]
    },
    {
      "cell_type": "markdown",
      "metadata": {
        "id": "9oH85EjAjqvf"
      },
      "source": [
        "Para acceder a un valor en un diccionario es necesario tener la llave."
      ]
    },
    {
      "cell_type": "code",
      "metadata": {
        "id": "q-Ws4QOwjqvf"
      },
      "source": [
        "port = { 22: 'SSH', 23: 'Telnet', 80: 'HTTP', 3306: 'MySQL'}"
      ],
      "execution_count": null,
      "outputs": []
    },
    {
      "cell_type": "code",
      "metadata": {
        "id": "9nHIwH1ajqvf",
        "outputId": "9d9857fd-d60a-4c87-d7d2-5626b023a8ac"
      },
      "source": [
        "protocol = port[22]\n",
        "print(protocol)"
      ],
      "execution_count": null,
      "outputs": [
        {
          "output_type": "stream",
          "text": [
            "SSH\n"
          ],
          "name": "stdout"
        }
      ]
    },
    {
      "cell_type": "markdown",
      "metadata": {
        "id": "5Wt8YbUijqvf"
      },
      "source": [
        "Si la llave no está se produce un KeyError:"
      ]
    },
    {
      "cell_type": "code",
      "metadata": {
        "id": "zysLvWxqjqvf",
        "outputId": "b12800c6-6093-4dbe-b76d-967f759c84b1"
      },
      "source": [
        "port[443]"
      ],
      "execution_count": null,
      "outputs": [
        {
          "output_type": "error",
          "ename": "KeyError",
          "evalue": "443",
          "traceback": [
            "\u001b[1;31m---------------------------------------------------------------------------\u001b[0m",
            "\u001b[1;31mKeyError\u001b[0m                                  Traceback (most recent call last)",
            "\u001b[1;32m<ipython-input-92-d3e4f6e42da5>\u001b[0m in \u001b[0;36m<module>\u001b[1;34m\u001b[0m\n\u001b[1;32m----> 1\u001b[1;33m \u001b[0mport\u001b[0m\u001b[1;33m[\u001b[0m\u001b[1;36m443\u001b[0m\u001b[1;33m]\u001b[0m\u001b[1;33m\u001b[0m\u001b[1;33m\u001b[0m\u001b[0m\n\u001b[0m",
            "\u001b[1;31mKeyError\u001b[0m: 443"
          ]
        }
      ]
    },
    {
      "cell_type": "markdown",
      "metadata": {
        "id": "1GkgGog4jqvg"
      },
      "source": [
        "Con del es posible eliminar el diccionario entero o los ítems de un diccionario. Si se desea eliminar un ítem se puede utilizar la siguiente sintaxis:"
      ]
    },
    {
      "cell_type": "code",
      "metadata": {
        "id": "t1dR3MCZjqvg",
        "outputId": "8740faeb-fbea-4169-ee24-a1c7fee03af3"
      },
      "source": [
        "port = { 22: 'SSH', 23: 'Telnet', 80: 'HTTP', 3306: 'MySQL'}\n",
        "print(port)\n",
        "del port[23]\n",
        "print(port)"
      ],
      "execution_count": null,
      "outputs": [
        {
          "output_type": "stream",
          "text": [
            "{22: 'SSH', 23: 'Telnet', 80: 'HTTP', 3306: 'MySQL'}\n",
            "{22: 'SSH', 80: 'HTTP', 3306: 'MySQL'}\n"
          ],
          "name": "stdout"
        }
      ]
    },
    {
      "cell_type": "markdown",
      "metadata": {
        "id": "MubU7Qgmjqvg"
      },
      "source": [
        "Para añadir un valor se realiza la asignación:\n",
        "\n",
        "```dict[new_key] = new_val```"
      ]
    },
    {
      "cell_type": "code",
      "metadata": {
        "id": "HeEFPcHhjqvg",
        "outputId": "a8e95279-9f64-45ce-cad7-af5c788ca9bd"
      },
      "source": [
        "port = {80: \"HTTP\", 23 : \"SMTP\", 443 : \"HTTPS\"}\n",
        "print(port)\n",
        "port[110] = 'POP'\n",
        "print(port)"
      ],
      "execution_count": null,
      "outputs": [
        {
          "output_type": "stream",
          "text": [
            "{80: 'HTTP', 23: 'SMTP', 443: 'HTTPS'}\n",
            "{80: 'HTTP', 23: 'SMTP', 443: 'HTTPS', 110: 'POP'}\n"
          ],
          "name": "stdout"
        }
      ]
    },
    {
      "cell_type": "markdown",
      "metadata": {
        "id": "cWWvpMWqjqvh"
      },
      "source": [
        "Es posible convertir una lista de listas o una lista de tuplas en un diccionario usando dict."
      ]
    },
    {
      "cell_type": "code",
      "metadata": {
        "id": "P-C_ddbLjqvi",
        "outputId": "e728bc55-6589-493a-885b-0d7d4950934a"
      },
      "source": [
        "port = [[80,\"http\"],[20,\"ftp\"],[23,\"telnet\"],[443,\"https\"],[53,\"DNS\"]]\n",
        "d_port = dict(port)\n",
        "print(d_port)"
      ],
      "execution_count": null,
      "outputs": [
        {
          "output_type": "stream",
          "text": [
            "{80: 'http', 20: 'ftp', 23: 'telnet', 443: 'https', 53: 'DNS'}\n"
          ],
          "name": "stdout"
        }
      ]
    },
    {
      "cell_type": "markdown",
      "metadata": {
        "id": "XgJ5Bikojqvj"
      },
      "source": [
        "Para validar la existencia de la llave en un diccionario se puede utilizar el operador in:"
      ]
    },
    {
      "cell_type": "code",
      "metadata": {
        "id": "mB78NvZ5jqvk",
        "outputId": "4ba9a8b4-9ff1-43fc-934f-d306d3ad9c90"
      },
      "source": [
        "print(80 in d_port)\n",
        "print(222 in d_port)"
      ],
      "execution_count": null,
      "outputs": [
        {
          "output_type": "stream",
          "text": [
            "True\n",
            "False\n"
          ],
          "name": "stdout"
        }
      ]
    },
    {
      "cell_type": "markdown",
      "metadata": {
        "id": "nA3PKzxYjqvk"
      },
      "source": [
        "Para obtener una lista de las llaves se puede hacer lo siguiente:"
      ]
    },
    {
      "cell_type": "code",
      "metadata": {
        "id": "pZThK-Wyjqvk",
        "outputId": "9bf442ca-6f64-46d7-f532-9de0fe35a8ed"
      },
      "source": [
        "dict1 = {'a':1, 'b':2, 'c':3}\n",
        "print(list(dict1.keys()))"
      ],
      "execution_count": null,
      "outputs": [
        {
          "output_type": "stream",
          "text": [
            "['a', 'b', 'c']\n"
          ],
          "name": "stdout"
        }
      ]
    },
    {
      "cell_type": "markdown",
      "metadata": {
        "id": "HlNiMKqyjqvl"
      },
      "source": [
        "## Una librería muy útil: numpy\n",
        "\n",
        "Es una de las librerías más conocidas para realizar computación científica en python. Provee una libería de alto rendimiento para la manipulación de arreglos en varias dimensiones. Y ofrece herramientas para trabajar en arreglos.\n",
        "\n",
        "### Arrays en numpy\n",
        "\n",
        "Un arreglo en numpy es una retícula de valores del mismo tipo indexadas por enteros no negativos. El número de dimensiones ```rank``` y la forma ```shape``` del arreglo es una tupla de enteros que da el tamaño del arreglo para cada dimensión.\n",
        "\n",
        "Se pueden crear arreglos de numpy desde listas de python y acceder a los elementos con el operador subscript ```[]```"
      ]
    },
    {
      "cell_type": "code",
      "metadata": {
        "id": "3TRch6W-jqvl",
        "outputId": "09c24e4e-1392-4cea-aeac-0d3893f0b960"
      },
      "source": [
        "import numpy as np\n",
        "\n",
        "a = np.array(list(range(1,5)))   # Crea una lista que contiene 1 2 3 4\n",
        "\n",
        "print(type(a))            # Prints \"<class 'numpy.ndarray'>\"\n",
        "print(a)\n",
        "print(a.shape)            # Prints \"(4,)\" porque es una dimensión de tamaño 4\n",
        "print(a[0], a[1], a[2])   \n",
        "a[0] = -4                  \n",
        "print(a)                  \n",
        "\n",
        "b = np.array([[1,2,3,5,6],[4,5,6,7,8]])    # Create a rank 2 array\n",
        "print(b.shape)  \n",
        "print(b)\n",
        "b[0,0] = 1590\n",
        "print(b)\n",
        "print(b[0, 0], b[0, 1], b[1, 0])  "
      ],
      "execution_count": null,
      "outputs": [
        {
          "output_type": "stream",
          "text": [
            "<class 'numpy.ndarray'>\n",
            "[1 2 3 4]\n",
            "(4,)\n",
            "1 2 3\n",
            "[-4  2  3  4]\n",
            "(2, 5)\n",
            "[[1 2 3 5 6]\n",
            " [4 5 6 7 8]]\n",
            "[[1590    2    3    5    6]\n",
            " [   4    5    6    7    8]]\n",
            "1590 2 4\n"
          ],
          "name": "stdout"
        }
      ]
    },
    {
      "cell_type": "markdown",
      "metadata": {
        "id": "ynJWwd_Ijqvl"
      },
      "source": [
        "Es posible crear arreglos de diferente tipo de forma muy rápida:"
      ]
    },
    {
      "cell_type": "code",
      "metadata": {
        "id": "zngcTO-hjqvl",
        "outputId": "7cafb176-f07a-4566-e04b-4a91414f176c"
      },
      "source": [
        "import numpy as np\n",
        "\n",
        "a = np.zeros((2,3,4))   # Crea un arreglo de ceros de 3 dimensiones \n",
        "print(a.shape)        \n",
        "print(a)  \n",
        "print('---------')\n",
        "\n",
        "b = np.ones((2,3))    # Crea un arreglo de 1\n",
        "print(b.shape)\n",
        "print(b)\n",
        "print('---------')\n",
        "\n",
        "c = np.full((3), 7)  # Crea un arreglo de rango 1 con contenido 7\n",
        "print(c.shape)\n",
        "print(c)\n",
        "print('---------')\n",
        "        \n",
        "d = np.eye(3)         # Crea un arreglo identidad de 3 x 3\n",
        "print(d.shape)\n",
        "print(d)              \n",
        "print('---------')\n",
        "\n",
        "e = np.random.random((2,3))  # Crea un arreglo de rango 3 con valores al azar\n",
        "print(e.shape)\n",
        "print(e)  "
      ],
      "execution_count": null,
      "outputs": [
        {
          "output_type": "stream",
          "text": [
            "(2, 3, 4)\n",
            "[[[0. 0. 0. 0.]\n",
            "  [0. 0. 0. 0.]\n",
            "  [0. 0. 0. 0.]]\n",
            "\n",
            " [[0. 0. 0. 0.]\n",
            "  [0. 0. 0. 0.]\n",
            "  [0. 0. 0. 0.]]]\n",
            "---------\n",
            "(2, 3)\n",
            "[[1. 1. 1.]\n",
            " [1. 1. 1.]]\n",
            "---------\n",
            "(3,)\n",
            "[7 7 7]\n",
            "---------\n",
            "(3, 3)\n",
            "[[1. 0. 0.]\n",
            " [0. 1. 0.]\n",
            " [0. 0. 1.]]\n",
            "---------\n",
            "(2, 3)\n",
            "[[0.02028961 0.9508226  0.62258264]\n",
            " [0.9607978  0.34749103 0.29140549]]\n"
          ],
          "name": "stdout"
        }
      ]
    },
    {
      "cell_type": "markdown",
      "metadata": {
        "id": "2aDdsw1Xjqvm"
      },
      "source": [
        "El operador subscript funciona en numpy"
      ]
    },
    {
      "cell_type": "code",
      "metadata": {
        "id": "bB8xnQmvjqvm",
        "outputId": "5048df7d-3695-4fa3-e860-caac572de22c"
      },
      "source": [
        "import numpy as np\n",
        "\n",
        "# Create the following rank 2 array with shape (3, 4)\n",
        "a = np.array([[1,2,3,4], [5,6,7,8], [9,10,11,12]])\n",
        "print(a.shape)\n",
        "print(a)\n",
        "print(a[:2])\n",
        "\n",
        "b = a[:2, 1:3]\n",
        "print(\"b\", b)\n",
        "\n",
        "print('------------------------')\n",
        "\n",
        "\n",
        "# modificar una porción del array b cambia el contenido de a\n",
        "b[0, 0] = -11     # b[0, 0] is the same piece of data as a[0, 1]\n",
        "print(b)\n",
        "print(a)\n",
        "print(a[0, 1])   # Prints \"-11\""
      ],
      "execution_count": null,
      "outputs": [
        {
          "output_type": "stream",
          "text": [
            "(3, 4)\n",
            "[[ 1  2  3  4]\n",
            " [ 5  6  7  8]\n",
            " [ 9 10 11 12]]\n",
            "[[1 2 3 4]\n",
            " [5 6 7 8]]\n",
            "b [[2 3]\n",
            " [6 7]]\n",
            "------------------------\n",
            "[[-11   3]\n",
            " [  6   7]]\n",
            "[[  1 -11   3   4]\n",
            " [  5   6   7   8]\n",
            " [  9  10  11  12]]\n",
            "-11\n"
          ],
          "name": "stdout"
        }
      ]
    },
    {
      "cell_type": "markdown",
      "metadata": {
        "id": "PiVSBQ3Djqvm"
      },
      "source": [
        "Se puede mezclar indexado entero con indexado por partes. Esto retornará un arreglo de menor dimensionalidad que el arreglo original."
      ]
    },
    {
      "cell_type": "code",
      "metadata": {
        "id": "c9fBFZsqjqvm",
        "outputId": "297286c4-5848-4452-aa44-9eb6f7f2ca76"
      },
      "source": [
        "import numpy as np\n",
        "\n",
        "a = np.array([[1,2,3,4], [5,6,7,8], [9,10,11,12]])\n",
        "\n",
        "print(a)\n",
        "print(a.shape)\n",
        "print('-----------------')\n",
        "# Two ways of accessing the data in the middle row of the array.\n",
        "# Mixing integer indexing with slices yields an array of lower rank,\n",
        "# while using only slices yields an array of the same rank as the\n",
        "# original array:\n",
        "row_r1 = a[1, :]    # Rank 1 view of the second row of a\n",
        "row_r2 = a[1:2, :]  # Rank 2 view of the second row of a\n",
        "print(row_r1, row_r1.shape)  # Prints \"[5 6 7 8] (4,)\"\n",
        "print(row_r2, row_r2.shape)  # Prints \"[[5 6 7 8]] (1, 4)\"\n",
        "\n",
        "# We can make the same distinction when accessing columns of an array:\n",
        "col_r1 = a[:, 1]\n",
        "col_r2 = a[:, 1:2]\n",
        "print(col_r1, col_r1.shape)  # Prints \"[ 2  6 10] (3,)\"\n",
        "print(col_r2, col_r2.shape)  # Prints \"[[ 2]\n",
        "                             #          [ 6]\n",
        "                             #          [10]] (3, 1)\""
      ],
      "execution_count": null,
      "outputs": [
        {
          "output_type": "stream",
          "text": [
            "[[ 1  2  3  4]\n",
            " [ 5  6  7  8]\n",
            " [ 9 10 11 12]]\n",
            "(3, 4)\n",
            "-----------------\n",
            "[5 6 7 8] (4,)\n",
            "[[5 6 7 8]] (1, 4)\n",
            "[ 2  6 10] (3,)\n",
            "[[ 2]\n",
            " [ 6]\n",
            " [10]] (3, 1)\n"
          ],
          "name": "stdout"
        }
      ]
    },
    {
      "cell_type": "markdown",
      "metadata": {
        "id": "4SJsT0K-jqvm"
      },
      "source": [
        "Indexamiento booleano: Permite selecionar elementos que cumplan con una cierta condición."
      ]
    },
    {
      "cell_type": "code",
      "metadata": {
        "id": "1q-Fn5ISjqvn",
        "outputId": "c9eb3838-cab2-4999-f5c0-71406f693e6b"
      },
      "source": [
        "import numpy as np\n",
        "\n",
        "a = np.array([[1,2], [3, 4], [5, 6]])\n",
        "\n",
        "bool_idx = (a > 2)   \n",
        "print(bool_idx)      \n",
        "\n",
        "print(a[bool_idx])  #array de elementos mayores a 2\n",
        "\n",
        "#una expresión equivalente\n",
        "print(a[a > 2])"
      ],
      "execution_count": null,
      "outputs": [
        {
          "output_type": "stream",
          "text": [
            "[[False False]\n",
            " [ True  True]\n",
            " [ True  True]]\n",
            "[3 4 5 6]\n",
            "[3 4 5 6]\n"
          ],
          "name": "stdout"
        }
      ]
    },
    {
      "cell_type": "markdown",
      "metadata": {
        "id": "5SV3_Zzojqvn"
      },
      "source": [
        "Numpy como python determina el tipo de dato basado en el valor. Sin embargo dicho tipo también puede especificarse:"
      ]
    },
    {
      "cell_type": "code",
      "metadata": {
        "id": "_DO7iacjjqvn",
        "outputId": "256a4b28-93e8-4113-fcbf-838c50c53d77"
      },
      "source": [
        "import numpy as np\n",
        "\n",
        "x = np.array([5, -4])   \n",
        "print(x.dtype)         \n",
        "\n",
        "x = np.array([1.0, 2.0])   \n",
        "print(x.dtype)          \n",
        "\n",
        "x = np.array([5, -4], dtype=np.int64)   \n",
        "print(x.dtype) "
      ],
      "execution_count": null,
      "outputs": [
        {
          "output_type": "stream",
          "text": [
            "int32\n",
            "float64\n",
            "int64\n"
          ],
          "name": "stdout"
        }
      ]
    },
    {
      "cell_type": "markdown",
      "metadata": {
        "id": "MkYmIWDrjqvn"
      },
      "source": [
        "### Operaciones elementwise\n",
        "\n",
        "Son operaciones elemento a elemento:"
      ]
    },
    {
      "cell_type": "code",
      "metadata": {
        "id": "ormwDMy0jqvn",
        "outputId": "e7d8b1da-6ccd-4e10-e290-285df2f0b740"
      },
      "source": [
        "import numpy as np\n",
        "\n",
        "x = np.array([[1,2,5],[3,4,6]], dtype=np.float64)\n",
        "y = np.array([[5,6,-1],[7,8,-6]], dtype=np.float64)\n",
        "\n",
        "print('Suma:')\n",
        "print(x + y)\n",
        "print('-----')\n",
        "print(np.add(x, y))\n",
        "\n",
        "print('Resta:')\n",
        "print(x - y)\n",
        "print('-----')\n",
        "print(np.subtract(x, y))\n",
        "\n",
        "print('Multiplicación:')\n",
        "print(x * y)\n",
        "print('-----')\n",
        "print(np.multiply(x, y))\n",
        "\n",
        "print(\"División:\")\n",
        "print(x / y)\n",
        "print('-----')\n",
        "print(np.divide(x, y))\n",
        "\n",
        "print(\"raiz cuadrada:\")\n",
        "print(np.sqrt(x))"
      ],
      "execution_count": null,
      "outputs": [
        {
          "output_type": "stream",
          "text": [
            "Suma:\n",
            "[[ 6.  8.  4.]\n",
            " [10. 12.  0.]]\n",
            "-----\n",
            "[[ 6.  8.  4.]\n",
            " [10. 12.  0.]]\n",
            "Resta:\n",
            "[[-4. -4.  6.]\n",
            " [-4. -4. 12.]]\n",
            "-----\n",
            "[[-4. -4.  6.]\n",
            " [-4. -4. 12.]]\n",
            "Multiplicación:\n",
            "[[  5.  12.  -5.]\n",
            " [ 21.  32. -36.]]\n",
            "-----\n",
            "[[  5.  12.  -5.]\n",
            " [ 21.  32. -36.]]\n",
            "División:\n",
            "[[ 0.2         0.33333333 -5.        ]\n",
            " [ 0.42857143  0.5        -1.        ]]\n",
            "-----\n",
            "[[ 0.2         0.33333333 -5.        ]\n",
            " [ 0.42857143  0.5        -1.        ]]\n",
            "raiz cuadrada:\n",
            "[[1.         1.41421356 2.23606798]\n",
            " [1.73205081 2.         2.44948974]]\n"
          ],
          "name": "stdout"
        }
      ]
    },
    {
      "cell_type": "markdown",
      "metadata": {
        "id": "aZvr4p7Kjqvo"
      },
      "source": [
        "### Producto de matrices y Producto Punto\n",
        "\n",
        "Otra operaciones de interés pueden ser producto de matrices y producto punto\n",
        "\n",
        "*Producto de matrices*\n",
        "\n",
        "$$\\begin{bmatrix}\n",
        "1 & 2 & 5\\\\\n",
        "3 & 4 & 6\n",
        "\\end{bmatrix}\\begin{bmatrix}\n",
        "8\\\\\n",
        "6\\\\\n",
        "4\n",
        "\\end{bmatrix} = \\begin{bmatrix}\n",
        "8 + 12 + 20\\\\\n",
        "24 + 24 + 24\n",
        "\\end{bmatrix} = \\begin{bmatrix}\n",
        "40\\\\\n",
        "72\n",
        "\\end{bmatrix}$$\n",
        "\n",
        "![](https://raw.githubusercontent.com/arleserp/CCE2021/main/images/multimat.png \"Open Notebook\")"
      ]
    },
    {
      "cell_type": "code",
      "metadata": {
        "id": "3XfyUPPIjqvo",
        "outputId": "60150fc1-2bf5-4ee3-ddb3-46a415b09b93"
      },
      "source": [
        "x = np.array([[1,2,5],[3,4,6]])\n",
        "y = np.array([8,6,4])\n",
        "\n",
        "print(x.shape)\n",
        "print(y.shape)\n",
        "\n",
        "print('x:\\n', x)\n",
        "print('Transpose:\\n', y.T) #transpuesta de y\n",
        "\n",
        "p = x @ y.T #producto de matrices\n",
        "print('Product', p)"
      ],
      "execution_count": null,
      "outputs": [
        {
          "output_type": "stream",
          "text": [
            "(2, 3)\n",
            "(3,)\n",
            "x:\n",
            " [[1 2 5]\n",
            " [3 4 6]]\n",
            "Transpose:\n",
            " [8 6 4]\n",
            "Product [40 72]\n"
          ],
          "name": "stdout"
        }
      ]
    },
    {
      "cell_type": "code",
      "metadata": {
        "id": "pkV3b2hBloz5"
      },
      "source": [
        ""
      ],
      "execution_count": null,
      "outputs": []
    },
    {
      "cell_type": "markdown",
      "metadata": {
        "id": "_-rSn4Gljqvo"
      },
      "source": [
        "*Producto punto*\n",
        "\n",
        "- Si a y b son arreglos unidimensionales es el producto punto (inner product) de vectores. \n",
        "- Si a y b son arreglos bidimensionales, es una multiplicación de matrices pero usar matmul o a @ b se prefiere.\n",
        "- Si a o b son escalares el resultado es equivalente a una multiplicación a*b. \n",
        "\n",
        "![](https://raw.githubusercontent.com/arleserp/CCE2021/main/images/dotvector.png \"Open Notebook\")\n",
        "\n"
      ]
    },
    {
      "cell_type": "code",
      "metadata": {
        "id": "bciU8E4ljqvo",
        "outputId": "dc669b3b-7275-47d8-b471-0eb839047199"
      },
      "source": [
        "import numpy as np\n",
        "\n",
        "x = np.array([[1,2],[3,4]])\n",
        "y = np.array([[5,6],[7,8]])\n",
        "\n",
        "v = np.array([9,10])\n",
        "w = np.array([11, 12])\n",
        "\n",
        "# Inner product of vectors; both produce 219\n",
        "print('Producto punto')\n",
        "print(v.dot(w))\n",
        "print(np.dot(v, w))\n",
        "\n",
        "# Matrix / vector product; both produce the rank 1 array [29 67]\n",
        "print('producto matriz / vector')\n",
        "print(x @ v)\n",
        "print(x.dot(v))\n",
        "print(np.dot(x, v))\n",
        "\n",
        "print('producto matriz / matriz')\n",
        "# Matrix / matrix product; both produce the rank 2 array\n",
        "# [[19 22]\n",
        "#  [43 50]]\n",
        "print(x @ y)\n",
        "print(x.dot(y))\n",
        "print(np.dot(x, y))\n"
      ],
      "execution_count": null,
      "outputs": [
        {
          "output_type": "stream",
          "text": [
            "Producto punto\n",
            "219\n",
            "219\n",
            "producto matriz / vector\n",
            "[29 67]\n",
            "[29 67]\n",
            "[29 67]\n",
            "producto matriz / matriz\n",
            "[[19 22]\n",
            " [43 50]]\n",
            "[[19 22]\n",
            " [43 50]]\n",
            "[[19 22]\n",
            " [43 50]]\n"
          ],
          "name": "stdout"
        }
      ]
    },
    {
      "cell_type": "markdown",
      "metadata": {
        "id": "Igr6B8KZjqvo"
      },
      "source": [
        "#### np.linspace\n",
        "\n",
        "Retorna desde el número start hasta el número stop num datos:"
      ]
    },
    {
      "cell_type": "code",
      "metadata": {
        "id": "-L560H8Njqvo",
        "outputId": "dd1f89b9-188e-44f9-9483-e5d213ea14ae"
      },
      "source": [
        "import numpy as np\n",
        "\n",
        "np.linspace(2, 3, num = 15, endpoint = True, retstep = False, dtype = None)"
      ],
      "execution_count": null,
      "outputs": [
        {
          "output_type": "execute_result",
          "data": {
            "text/plain": [
              "array([2.        , 2.07142857, 2.14285714, 2.21428571, 2.28571429,\n",
              "       2.35714286, 2.42857143, 2.5       , 2.57142857, 2.64285714,\n",
              "       2.71428571, 2.78571429, 2.85714286, 2.92857143, 3.        ])"
            ]
          },
          "metadata": {
            "tags": []
          },
          "execution_count": 7
        }
      ]
    },
    {
      "cell_type": "markdown",
      "metadata": {
        "id": "BwXEHSxcjqvp"
      },
      "source": [
        "[video de cosas interesantes con numpy](https://www.youtube.com/watch?v=xECXZ3tyONo&t=398s)"
      ]
    },
    {
      "cell_type": "markdown",
      "metadata": {
        "id": "I3Re5zYojqvp"
      },
      "source": [
        "## Referencias\n",
        "\n",
        "\n",
        "Armendáriz, D (2019). Introducción a Jupyter Notebook. Visitado el 2 de Junio de 2020. https://www.youtube.com/watch?v=orr063XGPPE\n",
        "\n",
        "Barry, P. (2016). Head First Python: A Brain-Friendly Guide. \" O'Reilly Media, Inc.\".\n",
        "\n",
        "Guttag, John. Introduction to Computation and Programming Using Python: With Application to Understanding Data Second Edition. MIT Press, 2016. ISBN: 9780262529624.\n",
        "\n",
        "Tutorial oficial de python 3, disponible en: https://docs.python.org/3/tutorial/interpreter.html\n",
        "\n",
        "Rodríguez, A (2020). Curso de Programación en Python. https://github.com/arleserp/cursopython\n",
        "\n",
        "Johnson, J. Python Numpy Tutorial (with Jupyter and Colab) https://cs231n.github.io/python-numpy-tutorial/\n"
      ]
    }
  ]
}